{
  "nbformat": 4,
  "nbformat_minor": 0,
  "metadata": {
    "colab": {
      "provenance": [],
      "collapsed_sections": [
        "E8UCrM9WmovI"
      ]
    },
    "kernelspec": {
      "name": "python3",
      "display_name": "Python 3"
    }
  },
  "cells": [
    {
      "cell_type": "markdown",
      "metadata": {
        "id": "E8UCrM9WmovI"
      },
      "source": [
        "# ***PYTHON OOPS*** "
      ]
    },
    {
      "cell_type": "markdown",
      "metadata": {
        "id": "5hYw0GmImovU"
      },
      "source": [
        "# CLASS DEFINITION\n"
      ]
    },
    {
      "cell_type": "code",
      "metadata": {
        "id": "UbZUGTgBmovY",
        "outputId": "0dcf9a46-3a8b-422c-92d0-c580c85fcae2"
      },
      "source": [
        "# Keyword class\n",
        "\n",
        "class employee():\n",
        "    pass\n",
        "\n",
        "\n",
        "# creating object of the class\n",
        "\n",
        "e1 = employee()\n",
        "type(e1)"
      ],
      "execution_count": null,
      "outputs": [
        {
          "output_type": "execute_result",
          "data": {
            "text/plain": [
              "__main__.employee"
            ]
          },
          "metadata": {
            "tags": []
          },
          "execution_count": 30
        }
      ]
    },
    {
      "cell_type": "code",
      "metadata": {
        "id": "bgEAPfGQmov0"
      },
      "source": [
        "# A class creates a new local namespace where all its attributes are defined. Attributes may be data or \n",
        "# functions.\n",
        "\n",
        "# There are also special attributes in it that begins with double underscores __. For example, __doc__ gives \n",
        "# us the docstring of that class.\n",
        "\n",
        "# As soon as we define a class, a new class object is created with the same name. This class object allows us \n",
        "# to access the different attributes as well as to instantiate new objects of that class.\n"
      ],
      "execution_count": null,
      "outputs": []
    },
    {
      "cell_type": "code",
      "metadata": {
        "id": "aK9sGEfZmowB",
        "outputId": "a9d98efc-68e1-4413-d5b9-fbff5032dc6e"
      },
      "source": [
        "dir(employee) # special attributes of a class"
      ],
      "execution_count": null,
      "outputs": [
        {
          "output_type": "execute_result",
          "data": {
            "text/plain": [
              "['__class__',\n",
              " '__delattr__',\n",
              " '__dict__',\n",
              " '__dir__',\n",
              " '__doc__',\n",
              " '__eq__',\n",
              " '__format__',\n",
              " '__ge__',\n",
              " '__getattribute__',\n",
              " '__gt__',\n",
              " '__hash__',\n",
              " '__init__',\n",
              " '__init_subclass__',\n",
              " '__le__',\n",
              " '__lt__',\n",
              " '__module__',\n",
              " '__ne__',\n",
              " '__new__',\n",
              " '__reduce__',\n",
              " '__reduce_ex__',\n",
              " '__repr__',\n",
              " '__setattr__',\n",
              " '__sizeof__',\n",
              " '__str__',\n",
              " '__subclasshook__',\n",
              " '__weakref__']"
            ]
          },
          "metadata": {
            "tags": []
          },
          "execution_count": 31
        }
      ]
    },
    {
      "cell_type": "code",
      "metadata": {
        "id": "ysyVog27mowO"
      },
      "source": [],
      "execution_count": null,
      "outputs": []
    },
    {
      "cell_type": "markdown",
      "metadata": {
        "id": "CV_ZqQvdmowd"
      },
      "source": [
        "# CLASS OBJECTS AND INSTANCES"
      ]
    },
    {
      "cell_type": "code",
      "metadata": {
        "id": "dQuo7H5qmowf"
      },
      "source": [
        "\"\"\"\n",
        "\n",
        "In short, An object is a software bundle of related state and behavior. \n",
        "A class is a blueprint or prototype from which objects are created. \n",
        "An instance is a single and unique unit of a class.\n",
        "\n",
        "Example, we have a blueprint (class) represents student (object) with fields like name, age, course \n",
        "(class member). And we have 2 students here, Foo and Bob. So, Foo and Bob is 2 different instances of the \n",
        "class (Student class) that represent object (Student people).\n",
        "\n",
        "\"\"\"\n"
      ],
      "execution_count": null,
      "outputs": []
    },
    {
      "cell_type": "code",
      "metadata": {
        "id": "SSsZkudUmows"
      },
      "source": [
        "'''\n",
        "\n",
        "-> Class objects are created by class definitions. \n",
        "\n",
        "-> A class has a namespace implemented by a dictionary object. \n",
        "\n",
        "-> CLASS DICTIONARY\n",
        "\n",
        "    Class attribute references are translated to lookups in this Dictionary, e.g., \"C.x\" is translated to \n",
        "    \"C.__dict__[\"x\"]\". When the attribute name is not found there, the attribute search continues in the base \n",
        "    classes. The search is depth-first, left-to-right in the order of occurrence in the base class list. When \n",
        "    a class attribute reference would yield a user-defined function object, it is transformed into an unbound \n",
        "    user-defined method object (see above). The im_class attribute of this method object is the class in which\n",
        "    the function object was found, not necessarily the class for which the attribute reference was initiated.\n",
        "    \n",
        "    Class attribute assignments update the class's dictionary, never the dictionary of a base class.\n",
        "    A class object can be called to yield a class instance \n",
        "    \n",
        "    Special attributes: \n",
        "    -> __name__ is the class name; \n",
        "    -> __module__ is the module name in which the class was defined;\n",
        "    -> __dict__ is the dictionary containing the class's namespace; \n",
        "    -> __bases__ is a tuple (possibly empty or a singleton) containing the base classes, in the order of their \n",
        "       occurrence in the base class list; \n",
        "    -> __doc__ is the class's documentation string, or None if undefined.\n",
        "    \n",
        "\n",
        "\n",
        "\n",
        "'''"
      ],
      "execution_count": null,
      "outputs": []
    },
    {
      "cell_type": "code",
      "metadata": {
        "id": "pQdnO46qmow4"
      },
      "source": [
        "\n",
        "'''\n",
        "CLASS INSTANCE WORKING\n",
        "\n",
        "-> A class instance is created by calling a class object. \n",
        "\n",
        "-> A class instance has a namespace implemented as a dictionary which is the first place in which attribute \n",
        "   references are searched. When an attribute is not found there, and the instance's class has an attribute by \n",
        "   that name, the search continues with the class attributes. \n",
        "  \n",
        "-> If a class attribute is found that is a user-defined function object (and in no other case), it is \n",
        "   transformed into an unbound user-defined method object. The im_class attribute of this method object is \n",
        "   the class in which the function object was found, not necessarily the class of the instance for which the\n",
        "   attribute reference was initiated.\n",
        "\n",
        "-> If no class attribute is found,and the object's class has a __getattr__() method, that is called to satisfy \n",
        "   the lookup.\n",
        "\n",
        "-> Attribute assignments and deletions update the instance's dictionary, never a class's dictionary. If the \n",
        "   class has a __setattr__() or __delattr__() method, this is called instead of updating the instance \n",
        "   dictionary directly.\n",
        "\n",
        "'''"
      ],
      "execution_count": null,
      "outputs": []
    },
    {
      "cell_type": "code",
      "metadata": {
        "id": "M8HvKU0gmoxA"
      },
      "source": [],
      "execution_count": null,
      "outputs": []
    },
    {
      "cell_type": "code",
      "metadata": {
        "id": "NhS5cP07moxJ"
      },
      "source": [
        "class Dummy:\n",
        "  x = 1"
      ],
      "execution_count": null,
      "outputs": []
    },
    {
      "cell_type": "code",
      "metadata": {
        "id": "XAkzvsb8moxS"
      },
      "source": [
        "dummy_obj = Dummy()"
      ],
      "execution_count": null,
      "outputs": []
    },
    {
      "cell_type": "code",
      "metadata": {
        "id": "yjSQmlr6moxc",
        "outputId": "cb696979-4a3b-4a02-a12a-ff4ff7d42cc4"
      },
      "source": [
        "# as we can see that there are no values assigned in the namespace of instance dummy_obj\n",
        "dummy_obj.__dict__"
      ],
      "execution_count": null,
      "outputs": [
        {
          "output_type": "execute_result",
          "data": {
            "text/plain": [
              "{}"
            ]
          },
          "metadata": {
            "tags": []
          },
          "execution_count": 43
        }
      ]
    },
    {
      "cell_type": "code",
      "metadata": {
        "id": "FDndoRP7moxl"
      },
      "source": [
        "dummy_obj.x = 22"
      ],
      "execution_count": null,
      "outputs": []
    },
    {
      "cell_type": "code",
      "metadata": {
        "id": "WgXPFgv-moxs",
        "outputId": "81c17aac-cfff-4366-a1a7-e031264897c6"
      },
      "source": [
        "dummy_obj.__dict__"
      ],
      "execution_count": null,
      "outputs": [
        {
          "output_type": "execute_result",
          "data": {
            "text/plain": [
              "{'x': 22}"
            ]
          },
          "metadata": {
            "tags": []
          },
          "execution_count": 45
        }
      ]
    },
    {
      "cell_type": "code",
      "metadata": {
        "id": "-lI18_Tcmoxz",
        "outputId": "73a9f38b-cf47-4fa7-e5a7-0c915108dc00"
      },
      "source": [
        "# vs.\n",
        "\n",
        "Dummy.__dict__\n",
        "# here x:1"
      ],
      "execution_count": null,
      "outputs": [
        {
          "output_type": "execute_result",
          "data": {
            "text/plain": [
              "mappingproxy({'__module__': '__main__',\n",
              "              'x': 1,\n",
              "              '__dict__': <attribute '__dict__' of 'Dummy' objects>,\n",
              "              '__weakref__': <attribute '__weakref__' of 'Dummy' objects>,\n",
              "              '__doc__': None})"
            ]
          },
          "metadata": {
            "tags": []
          },
          "execution_count": 49
        }
      ]
    },
    {
      "cell_type": "code",
      "metadata": {
        "id": "b6X8RIOpmox6"
      },
      "source": [],
      "execution_count": null,
      "outputs": []
    },
    {
      "cell_type": "code",
      "metadata": {
        "id": "jXwJL98lmoyD"
      },
      "source": [
        "# class references vs class instantiation"
      ],
      "execution_count": null,
      "outputs": []
    },
    {
      "cell_type": "code",
      "metadata": {
        "id": "4HHglrTWmoyI",
        "outputId": "f1bb836d-7968-4735-f110-9ec614a980da"
      },
      "source": [
        "\n",
        "A = Dummy\n",
        "A is Dummy\n"
      ],
      "execution_count": null,
      "outputs": [
        {
          "output_type": "execute_result",
          "data": {
            "text/plain": [
              "True"
            ]
          },
          "metadata": {
            "tags": []
          },
          "execution_count": 24
        }
      ]
    },
    {
      "cell_type": "code",
      "metadata": {
        "id": "nTApgNY6moyO",
        "outputId": "3d4ca883-5b19-471c-b3a6-f7e89e1435f7"
      },
      "source": [
        "# creates an instance of `Dummy`, using `A`\n",
        "dummy_instance = A()\n",
        "dummy_instance\n"
      ],
      "execution_count": null,
      "outputs": [
        {
          "output_type": "execute_result",
          "data": {
            "text/plain": [
              "<__main__.Dummy at 0x7f4f666bf2b0>"
            ]
          },
          "metadata": {
            "tags": []
          },
          "execution_count": 25
        }
      ]
    },
    {
      "cell_type": "code",
      "metadata": {
        "id": "FGHSG7u9moyU",
        "outputId": "7b0dd3bf-b697-4fe5-ff07-4617e26678e5"
      },
      "source": [
        "isinstance(dummy_instance, A)  # equivalent to `isinstance(dummy_instance, Dummy)`\n"
      ],
      "execution_count": null,
      "outputs": [
        {
          "output_type": "execute_result",
          "data": {
            "text/plain": [
              "True"
            ]
          },
          "metadata": {
            "tags": []
          },
          "execution_count": 26
        }
      ]
    },
    {
      "cell_type": "code",
      "metadata": {
        "id": "Ja-HRP92moyZ",
        "outputId": "11b59156-af3d-4e8e-ca0d-8be05758a5dc"
      },
      "source": [
        "\n",
        "var = dummy_instance\n",
        "var is dummy_instance\n"
      ],
      "execution_count": null,
      "outputs": [
        {
          "output_type": "execute_result",
          "data": {
            "text/plain": [
              "True"
            ]
          },
          "metadata": {
            "tags": []
          },
          "execution_count": 27
        }
      ]
    },
    {
      "cell_type": "code",
      "metadata": {
        "id": "kizDtOcwmoyf",
        "outputId": "0cf7c776-5b46-405a-86e2-fdf06f772d4e"
      },
      "source": [
        "# setting a new value to `var.x` is equivalent to\n",
        "# setting that value to `dummy_instance.x`\n",
        "var.x = 22\n",
        "dummy_instance.x"
      ],
      "execution_count": null,
      "outputs": [
        {
          "output_type": "execute_result",
          "data": {
            "text/plain": [
              "22"
            ]
          },
          "metadata": {
            "tags": []
          },
          "execution_count": 28
        }
      ]
    },
    {
      "cell_type": "code",
      "metadata": {
        "id": "jDxeXdV4moyn"
      },
      "source": [],
      "execution_count": null,
      "outputs": []
    },
    {
      "cell_type": "markdown",
      "metadata": {
        "id": "lCNTTPRsmoyt"
      },
      "source": [
        "hasattr() and getattr() inbuilt methods"
      ]
    },
    {
      "cell_type": "code",
      "metadata": {
        "id": "wcIvDHImmoyv"
      },
      "source": [
        "class MyGuy:\n",
        "    x = 1 + 2\n",
        "    y = [2, 4, 6]\n",
        "    z = \"hi\"\n",
        "\n",
        "    def f():\n",
        "        return 3"
      ],
      "execution_count": null,
      "outputs": []
    },
    {
      "cell_type": "code",
      "metadata": {
        "id": "buliNjY3moy1",
        "outputId": "db28fe69-a52d-4776-cc51-5e4a099e8ed3"
      },
      "source": [
        "hasattr(MyGuy, \"x\") "
      ],
      "execution_count": null,
      "outputs": [
        {
          "output_type": "execute_result",
          "data": {
            "text/plain": [
              "True"
            ]
          },
          "metadata": {
            "tags": []
          },
          "execution_count": 51
        }
      ]
    },
    {
      "cell_type": "code",
      "metadata": {
        "id": "5DVDkp2rmoy7",
        "outputId": "6cd273af-789f-46b7-aa74-b558f843ad93"
      },
      "source": [
        "getattr(MyGuy, \"y\") "
      ],
      "execution_count": null,
      "outputs": [
        {
          "output_type": "execute_result",
          "data": {
            "text/plain": [
              "[2, 4, 6]"
            ]
          },
          "metadata": {
            "tags": []
          },
          "execution_count": 52
        }
      ]
    },
    {
      "cell_type": "code",
      "metadata": {
        "id": "u5vtgnILmozA"
      },
      "source": [],
      "execution_count": null,
      "outputs": []
    },
    {
      "cell_type": "markdown",
      "metadata": {
        "id": "bkR_GMNKmozF"
      },
      "source": [
        "setattr() method - use to set a new attribute of the class"
      ]
    },
    {
      "cell_type": "code",
      "metadata": {
        "id": "K-0i7jnLmozG",
        "outputId": "c4b41804-2ff9-4569-b52f-8830eb059b21"
      },
      "source": [
        "setattr(MyGuy, \"weight\", 80)\n",
        "MyGuy.weight"
      ],
      "execution_count": null,
      "outputs": [
        {
          "output_type": "execute_result",
          "data": {
            "text/plain": [
              "80"
            ]
          },
          "metadata": {
            "tags": []
          },
          "execution_count": 53
        }
      ]
    },
    {
      "cell_type": "code",
      "metadata": {
        "id": "wnx5hAjLmozL"
      },
      "source": [
        "# You can even assign a new attribute to a class less formally"
      ],
      "execution_count": null,
      "outputs": []
    },
    {
      "cell_type": "code",
      "metadata": {
        "id": "3F2mgV8bmozP"
      },
      "source": [
        "MyGuy.height = 20"
      ],
      "execution_count": null,
      "outputs": []
    },
    {
      "cell_type": "code",
      "metadata": {
        "id": "3IDKt1nnmozT",
        "outputId": "7d34c8d7-f3f3-4841-a047-67ca9e35e55c"
      },
      "source": [
        "guy1 = MyGuy()\n",
        "\n",
        "print(guy1.height)\n",
        "\n",
        "guy1.height = 14\n",
        "print(guy1.height)\n",
        "\n",
        "guy1.weight = 65\n",
        "print(guy1.weight)"
      ],
      "execution_count": null,
      "outputs": [
        {
          "output_type": "stream",
          "text": [
            "20\n",
            "14\n",
            "65\n"
          ],
          "name": "stdout"
        }
      ]
    },
    {
      "cell_type": "code",
      "metadata": {
        "id": "rxDdS75QmozX"
      },
      "source": [],
      "execution_count": null,
      "outputs": []
    },
    {
      "cell_type": "markdown",
      "metadata": {
        "id": "Ki8a_F8Nmozc"
      },
      "source": [
        " # CLASS VARIABLES AND INSTANCE VARIABLES"
      ]
    },
    {
      "cell_type": "markdown",
      "metadata": {
        "id": "Ksjta7Kqmozd"
      },
      "source": [
        "__INSTANCE VARIABLES__"
      ]
    },
    {
      "cell_type": "markdown",
      "metadata": {
        "id": "bcDlX2aVmoze"
      },
      "source": [
        "__ __init__ __() METHOD and **self** KEYWORD"
      ]
    },
    {
      "cell_type": "code",
      "metadata": {
        "id": "_t_Op6Pmmozf"
      },
      "source": [
        "\"\"\"\n",
        "->  Instance variables are preceded by \"self.\" \n",
        "\n",
        "->  The self keyword is used to represent an instance (object) of the given class.\n",
        "    In this case, the two Cat objects cat1 and cat2 have their own name and age \n",
        "    attributes. If there was no self argument, the same class couldn't hold the\n",
        "    information for both these objects.However, since the class is just a blueprint,\n",
        "    self allows access to the attributes and methods of each object in python. \n",
        "    This allows each object to have their own attributes and methods. Thus, even \n",
        "    long before creating these objects, we reference the objects as self while \n",
        "    defining the class.\n",
        "\"\"\""
      ],
      "execution_count": null,
      "outputs": []
    },
    {
      "cell_type": "code",
      "metadata": {
        "id": "YgKPvS06mozh",
        "outputId": "88d1ebf3-7bee-47f3-8150-8ae2cff04e9f"
      },
      "source": [
        "\n",
        "class Dog:\n",
        "    def __init__(self,name,age):\n",
        "        self.age = age\n",
        "        self.name = name\n",
        "        \n",
        "    def info(self):\n",
        "        print(\"name is {} and age is {}\".format(self.name,self.age))\n",
        "        \n",
        "\n",
        "dog1 = Dog(\"Charlie\",10)\n",
        "dog1.info()\n"
      ],
      "execution_count": null,
      "outputs": [
        {
          "output_type": "stream",
          "text": [
            "name is Charlie and age is 10\n"
          ],
          "name": "stdout"
        }
      ]
    },
    {
      "cell_type": "code",
      "metadata": {
        "id": "4LMEVJBkmozo"
      },
      "source": [],
      "execution_count": null,
      "outputs": []
    },
    {
      "cell_type": "code",
      "metadata": {
        "id": "CfYYO9sGmozt"
      },
      "source": [
        "# A very popular example of class variables is the counter program\n",
        "class C: \n",
        "\n",
        "    counter = 0\n",
        "    \n",
        "    def __init__(self): \n",
        "        type(self).counter += 1 #same as c.counter\n",
        "\n",
        "    def __del__(self):\n",
        "        type(self).counter -= 1"
      ],
      "execution_count": null,
      "outputs": []
    },
    {
      "cell_type": "code",
      "metadata": {
        "id": "lOPobPFWmozw"
      },
      "source": [],
      "execution_count": null,
      "outputs": []
    },
    {
      "cell_type": "code",
      "metadata": {
        "id": "VycAGR9Smoz0",
        "outputId": "7006ad07-097d-4875-dd86-3c7fd633b19e"
      },
      "source": [
        "\n",
        "x = C()\n",
        "print(\"Number of instances: : \" + str(C.counter))\n",
        "y = C()\n",
        "print(\"Number of instances: : \" + str(C.counter))\n",
        "del x\n",
        "print(\"Number of instances: : \" + str(C.counter))\n",
        "del y\n",
        "print(\"Number of instances: : \" + str(C.counter))\n"
      ],
      "execution_count": null,
      "outputs": [
        {
          "output_type": "stream",
          "text": [
            "<class '__main__.C'>\n",
            "Number of instances: : 1\n",
            "<class '__main__.C'>\n",
            "Number of instances: : 2\n",
            "Number of instances: : 1\n",
            "Number of instances: : 0\n"
          ],
          "name": "stdout"
        }
      ]
    },
    {
      "cell_type": "code",
      "metadata": {
        "id": "AzdUAq34moz4"
      },
      "source": [],
      "execution_count": null,
      "outputs": []
    },
    {
      "cell_type": "code",
      "metadata": {
        "id": "Gu9w1fi_moz6"
      },
      "source": [],
      "execution_count": null,
      "outputs": []
    },
    {
      "cell_type": "markdown",
      "metadata": {
        "id": "thA59e8nmoz-"
      },
      "source": [
        "__FUNCTION VS METHOD__"
      ]
    },
    {
      "cell_type": "markdown",
      "metadata": {
        "id": "XiSbK-Fmmoz_"
      },
      "source": [
        "Function is a group of statements that is not associated to any object. \n",
        "\n",
        "A method is a function which is associated with an object\n"
      ]
    },
    {
      "cell_type": "code",
      "metadata": {
        "id": "3n3Eo5tgmoz_",
        "outputId": "44dd2e32-982c-460a-856e-4df6bb24f9a6"
      },
      "source": [
        "\n",
        "\n",
        "class Point(object):\n",
        "    def __init__(self,x = 0,y = 0):\n",
        "        self.x = x\n",
        "        self.y = y\n",
        "\n",
        "    def distance(self):\n",
        "        \"\"\"Find distance from origin\"\"\"\n",
        "        return (self.x**2 + self.y**2) ** 0.5\n",
        "    \n",
        "p1 = Point(6,8)\n",
        "p1.distance()\n"
      ],
      "execution_count": null,
      "outputs": [
        {
          "output_type": "execute_result",
          "data": {
            "text/plain": [
              "10.0"
            ]
          },
          "metadata": {
            "tags": []
          },
          "execution_count": 7
        }
      ]
    },
    {
      "cell_type": "code",
      "metadata": {
        "id": "8yfzxgJ_mo0D"
      },
      "source": [
        "\"\"\"\n",
        "\n",
        "A peculiar thing about methods (in Python) is that the object itself is passed as \n",
        "the first argument to the corresponding function.\n",
        "In the case of the above example, the method call p1.distance() is actually \n",
        "equivalent to Point.distance(p1).\n",
        "\n",
        "Generally, when we call a method with some arguments, the corresponding class \n",
        "function is called by placing the method's object before the first argument.\n",
        " So, anything like obj.meth(args) becomes Class.meth(obj, args). The calling \n",
        " process is automatic while the receiving process is not (its explicit).\n",
        " \n",
        "This is the reason the first parameter of a function in class must be the object \n",
        "itself. Writing this parameter as self is merely a convention. It is not a keyword \n",
        "and has no special meaning in Python\n",
        "\"\"\"\n"
      ],
      "execution_count": null,
      "outputs": []
    },
    {
      "cell_type": "code",
      "metadata": {
        "id": "5eaYqB7jmo0G",
        "outputId": "a9dc48a3-368d-4ec2-f662-6afc961d4735"
      },
      "source": [
        "# We can see that the first one is a function and the second one is a method.  \n",
        "# Point.distance and p1.distance in the above example are different and not exactly the same.\n",
        "\n",
        "print(type(Point.distance))\n",
        "print(type(p1.distance))\n",
        "\n"
      ],
      "execution_count": null,
      "outputs": [
        {
          "output_type": "stream",
          "text": [
            "<class 'function'>\n",
            "<class 'method'>\n"
          ],
          "name": "stdout"
        }
      ]
    },
    {
      "cell_type": "code",
      "metadata": {
        "id": "zxVwQnE6mo0P"
      },
      "source": [],
      "execution_count": null,
      "outputs": []
    },
    {
      "cell_type": "code",
      "metadata": {
        "id": "o3lOoKHRmo0Y"
      },
      "source": [
        "\n",
        "\"\"\"\n",
        "One important conclusion that can be drawn from the information so far is that \n",
        "the __init__() method is not a constructor.\n",
        "A closer inspection will reveal that the first parameter in __init__() is the \n",
        "object itself (object already exists). The function __init__() is called \n",
        "immediately after the object is created and is used to initialize it.\n",
        "\n",
        "Technically speaking, constructor is a method which creates the object itself.\n",
        " In Python, this method is __new__(). A common signature of this method is:\n",
        "__new__(cls, *args, **kwargs)\n",
        "\n",
        "When __new__() is called, the class itself is passed as the first argument \n",
        "automatically(cls).\n",
        "\n",
        "Again, like self, cls is just a naming convention. Furthermore, *args and **kwargs \n",
        "are used to take an arbitrary number of arguments during method calls in Python.\n",
        "\n",
        "Some important things to remember when implementing __new__() are:\n",
        "\n",
        "1. __new__() is always called before __init__().\n",
        "2. First argument is the class itself which is passed implicitly.\n",
        "3. Always return a valid object from __new__(). Not mandatory, but its main use \n",
        "   is to create and return an object.\n",
        "\n",
        "\"\"\""
      ],
      "execution_count": null,
      "outputs": []
    },
    {
      "cell_type": "code",
      "metadata": {
        "id": "BnLWxQInmo0g",
        "outputId": "0e5c615c-9110-4d2a-955a-ece1ae95a3ac"
      },
      "source": [
        "\n",
        "class Point(object):\n",
        "\n",
        "    def __new__(cls,*args,**kwargs):\n",
        "        print(\"From new\")\n",
        "        print(cls)\n",
        "        print(args)\n",
        "        print(kwargs)\n",
        "\n",
        "        # create our object and return it\n",
        "        obj = super().__new__(cls) # we use super as the base of all classes is the object class and it is use to create a new object\n",
        "        return obj\n",
        "\n",
        "    def __init__(self,x = 0,y = 0):\n",
        "        print(\"From init\")\n",
        "        self.x = x\n",
        "        self.y = y\n",
        "        \n",
        "p2 = Point(3,4)\n"
      ],
      "execution_count": null,
      "outputs": [
        {
          "output_type": "stream",
          "text": [
            "From new\n",
            "<class '__main__.Point'>\n",
            "(3, 4)\n",
            "{}\n",
            "From init\n"
          ],
          "name": "stdout"
        }
      ]
    },
    {
      "cell_type": "code",
      "metadata": {
        "id": "60YO-EfLmo0l"
      },
      "source": [],
      "execution_count": null,
      "outputs": []
    },
    {
      "cell_type": "markdown",
      "metadata": {
        "id": "qZ0rFNk7mo0p"
      },
      "source": [
        "**CLASS VARIABLES**"
      ]
    },
    {
      "cell_type": "code",
      "metadata": {
        "id": "jsoyxMcYmo0q"
      },
      "source": [
        "'''\n",
        "Now that we know a bit about class constructors and how to initialize instance variables, lets look at\n",
        "class variables\n",
        "'''"
      ],
      "execution_count": null,
      "outputs": []
    },
    {
      "cell_type": "code",
      "metadata": {
        "id": "B6sl2wB0mo0x"
      },
      "source": [
        "class employee():\n",
        "    \n",
        "    araise = 1.05 #class variable\n",
        "    \n",
        "    def __init__(self,name,salary):\n",
        "        self.name = name\n",
        "        self.salary = salary\n",
        "        self.email = self.name + \"@zeus.com\"\n",
        "    \n",
        "    def annual_raise(self):\n",
        "        self.pay = self.pay * self.araise # or (employee.raise) one of them depending upon the use\n",
        "        \n",
        "emp1 = employee(\"vedant barbhaya\",1000000)\n",
        "emp2 = employee(\"John jacobs\",2000000)\n",
        "    \n",
        "    \n",
        "# using self.araise allows an instance to overwrite it while using\n",
        "# employee.raise doesnt allow that"
      ],
      "execution_count": null,
      "outputs": []
    },
    {
      "cell_type": "code",
      "metadata": {
        "id": "vCv7twHOmo04",
        "outputId": "9516ea0e-7232-47e7-f01f-dcdf30573d75"
      },
      "source": [
        "print(employee.araise)\n",
        "print(emp1.araise)\n",
        "print(emp2.araise)\n",
        "\n"
      ],
      "execution_count": null,
      "outputs": [
        {
          "output_type": "stream",
          "text": [
            "1.05\n",
            "1.05\n",
            "1.05\n"
          ],
          "name": "stdout"
        }
      ]
    },
    {
      "cell_type": "code",
      "metadata": {
        "id": "JB-Z_pn8mo07",
        "outputId": "d593e783-0f38-4de8-f470-43cf1de838da"
      },
      "source": [
        "# But now lets look at the namespace of each of this\n",
        "print(employee.__dict__)\n",
        "print()\n",
        "print(emp1.__dict__)\n",
        "print()\n",
        "print(emp2.__dict__)\n",
        "\n",
        "# we can see that araise is not present in the namespace of the instances of the class so what happens when\n",
        "# we access a class variable using the instance is that the compilier checks in the namespace of the class"
      ],
      "execution_count": null,
      "outputs": [
        {
          "output_type": "stream",
          "text": [
            "{'__module__': '__main__', 'araise': 1.05, '__init__': <function employee.__init__ at 0x7f4f6672daf0>, 'annual_raise': <function employee.annual_raise at 0x7f4f666be040>, '__dict__': <attribute '__dict__' of 'employee' objects>, '__weakref__': <attribute '__weakref__' of 'employee' objects>, '__doc__': None}\n",
            "\n",
            "{'name': 'vedant barbhaya', 'salary': 1000000, 'email': 'vedant barbhaya@zeus.com'}\n",
            "\n",
            "{'name': 'John jacobs', 'salary': 2000000, 'email': 'John jacobs@zeus.com'}\n"
          ],
          "name": "stdout"
        }
      ]
    },
    {
      "cell_type": "code",
      "metadata": {
        "id": "HWK9CWlQmo1A"
      },
      "source": [],
      "execution_count": null,
      "outputs": []
    },
    {
      "cell_type": "code",
      "metadata": {
        "id": "udK3gYakmo1D",
        "outputId": "6fa09091-7592-439e-aab8-acdf9eddba12"
      },
      "source": [
        "# as it is a class variable, changing it will reflect the change in all instances\n",
        "employee.araise= 1.09\n",
        "print(emp1.araise)\n",
        "print(emp2.araise)\n"
      ],
      "execution_count": null,
      "outputs": [
        {
          "output_type": "stream",
          "text": [
            "1.09\n",
            "1.09\n"
          ],
          "name": "stdout"
        }
      ]
    },
    {
      "cell_type": "code",
      "metadata": {
        "id": "X98W9bHWmo1F",
        "outputId": "e26f9068-02cf-4eb1-8948-90ae771054bd"
      },
      "source": [
        "# now lets try to change it using an instance\n",
        "emp1.araise = 1.02\n",
        "print(employee.araise)\n",
        "print(emp1.araise)\n",
        "print(emp2.araise)\n"
      ],
      "execution_count": null,
      "outputs": [
        {
          "output_type": "stream",
          "text": [
            "1.09\n",
            "1.02\n",
            "1.09\n"
          ],
          "name": "stdout"
        }
      ]
    },
    {
      "cell_type": "code",
      "metadata": {
        "id": "t3liV6whmo1h",
        "outputId": "9117035a-95b2-4813-f89e-852300698012"
      },
      "source": [
        "# now lets see the namespace of emp1\n",
        "\n",
        "emp1.__dict__\n",
        "\n",
        "# we can see that we have araise now in the namespace. When we did the previous operation, it copied from\n",
        "# the class namespace into this namespace"
      ],
      "execution_count": null,
      "outputs": [
        {
          "output_type": "execute_result",
          "data": {
            "text/plain": [
              "{'name': 'vedant barbhaya',\n",
              " 'salary': 1000000,\n",
              " 'email': 'vedant barbhaya@zeus.com',\n",
              " 'araise': 1.02}"
            ]
          },
          "metadata": {
            "tags": []
          },
          "execution_count": 79
        }
      ]
    },
    {
      "cell_type": "code",
      "metadata": {
        "id": "R3ZDnApgmo1l"
      },
      "source": [],
      "execution_count": null,
      "outputs": []
    },
    {
      "cell_type": "code",
      "metadata": {
        "id": "AEjkIfGfmo1n"
      },
      "source": [],
      "execution_count": null,
      "outputs": []
    },
    {
      "cell_type": "code",
      "metadata": {
        "id": "amvGuLW-mo1q"
      },
      "source": [],
      "execution_count": null,
      "outputs": []
    },
    {
      "cell_type": "markdown",
      "metadata": {
        "id": "GSZYnfhmmo1w"
      },
      "source": [
        "# PUBLIC,PROTECTED AND PRIVATE VARIABLES"
      ]
    },
    {
      "cell_type": "code",
      "metadata": {
        "id": "S1azTqLImo1w"
      },
      "source": [
        "'''\n",
        "We have the same classification again in object-oriented programming:\n",
        "\n",
        "   -> Private attributes should only be used by the owner, i.e. inside of the class definition itself.\n",
        "   -> Protected (restricted) Attributes may be used, but at your own risk. Essentially, they should only be used\n",
        "      under certain conditions.\n",
        "   -> Public Attributes can and should be freely used.\n",
        "\n",
        "Python uses a special naming scheme for attributes to control the accessibility of the attributes. So far, we \n",
        "have used attribute names, which can be freely used inside or outside of a class definition, as we have seen. \n",
        "This corresponds to public attributes of course. There are two ways to restrict the access to class attributes:\n",
        "\n",
        "    First, we can prefix an attribute name with a leading underscore \"_\". This marks the attribute as \n",
        "    protected. It tells users of the class not to use this attribute unless, they write a subclass. \n",
        "    \n",
        "    Second, we can prefix an attribute name with two leading underscores \"__\". The attribute is now\n",
        "    inaccessible and invisible from outside. It's neither possible to read nor write to those attribute\n",
        "    except inside the class definition itself*.\n",
        "'''"
      ],
      "execution_count": null,
      "outputs": []
    },
    {
      "cell_type": "code",
      "metadata": {
        "id": "AOM5POSCmo1y"
      },
      "source": [
        "'''\n",
        "\n",
        "\"name\"  \t Public \tThese attributes can be freely used inside or outside a class definition.\n",
        "\n",
        "\"_name\" \tProtected\tProtected attributes should not be used outside the class definition, unless inside a \n",
        "                        subclass definition.\n",
        "                        \n",
        "\"__name\" \tPrivate \tThis kind of attribute is inaccessible and invisible. It's neither possible to read \n",
        "                        nor write to those attributes, except inside the class definition itself.\n",
        "                        \n",
        "'''"
      ],
      "execution_count": null,
      "outputs": []
    },
    {
      "cell_type": "code",
      "metadata": {
        "id": "cvFXIOXPmo11"
      },
      "source": [
        "class A():\n",
        "    \n",
        "    def __init__(self):\n",
        "        self.__priv = \"I am private\"\n",
        "        self._prot = \"I am protected\"\n",
        "        self.pub = \"I am public\""
      ],
      "execution_count": null,
      "outputs": []
    },
    {
      "cell_type": "code",
      "metadata": {
        "id": "_LIXNzU6mo15",
        "outputId": "aaf1179b-9ba1-4741-8a88-8a35a7c737a6"
      },
      "source": [
        "x = A()\n",
        "x.pub "
      ],
      "execution_count": null,
      "outputs": [
        {
          "output_type": "execute_result",
          "data": {
            "text/plain": [
              "'I am public'"
            ]
          },
          "metadata": {
            "tags": []
          },
          "execution_count": 96
        }
      ]
    },
    {
      "cell_type": "code",
      "metadata": {
        "id": "AzC4OgQ2mo18",
        "outputId": "a3ef1fba-36e6-4222-e864-060935cf838c"
      },
      "source": [
        "x._prot"
      ],
      "execution_count": null,
      "outputs": [
        {
          "output_type": "execute_result",
          "data": {
            "text/plain": [
              "'I am protected'"
            ]
          },
          "metadata": {
            "tags": []
          },
          "execution_count": 97
        }
      ]
    },
    {
      "cell_type": "code",
      "metadata": {
        "id": "fCAYonVzmo2C",
        "outputId": "281eb03f-3f86-4705-a2a6-5fa9c1aa8927"
      },
      "source": [
        "x.__priv"
      ],
      "execution_count": null,
      "outputs": [
        {
          "output_type": "error",
          "ename": "AttributeError",
          "evalue": "'A' object has no attribute '__priv'",
          "traceback": [
            "\u001b[0;31m---------------------------------------------------------------------------\u001b[0m",
            "\u001b[0;31mAttributeError\u001b[0m                            Traceback (most recent call last)",
            "\u001b[0;32m<ipython-input-98-f75b36b98afa>\u001b[0m in \u001b[0;36m<module>\u001b[0;34m\u001b[0m\n\u001b[0;32m----> 1\u001b[0;31m \u001b[0mx\u001b[0m\u001b[0;34m.\u001b[0m\u001b[0m__priv\u001b[0m\u001b[0;34m\u001b[0m\u001b[0;34m\u001b[0m\u001b[0m\n\u001b[0m",
            "\u001b[0;31mAttributeError\u001b[0m: 'A' object has no attribute '__priv'"
          ]
        }
      ]
    },
    {
      "cell_type": "code",
      "metadata": {
        "id": "sAW_JZ7omo2I"
      },
      "source": [],
      "execution_count": null,
      "outputs": []
    },
    {
      "cell_type": "markdown",
      "metadata": {
        "id": "bFtgEmXPmo2L"
      },
      "source": [
        "Every private variable should have a setter and getter method as they cannot be accesed directly"
      ]
    },
    {
      "cell_type": "code",
      "metadata": {
        "id": "ZlhgFkZHmo2N"
      },
      "source": [
        "class Robot:\n",
        " \n",
        "    def __init__(self, name=None, build_year=2000):\n",
        "        self.__name = name\n",
        "        self.__build_year = build_year\n",
        "        \n",
        "    def say_hi(self):\n",
        "        if self.__name:\n",
        "            print(\"Hi, I am \" + self.__name)\n",
        "        else:\n",
        "            print(\"Hi, I am a robot without a name\")\n",
        "            \n",
        "    def set_name(self, name):\n",
        "        self.__name = name\n",
        "        \n",
        "    def get_name(self):\n",
        "        return self.__name    \n",
        "\n",
        "    def set_build_year(self, by):\n",
        "        self.__build_year = by\n",
        "        \n",
        "    def get_build_year(self):\n",
        "        return self.__build_year    \n",
        "    \n",
        "    def __repr__(self):\n",
        "        return \"Robot('\" + self.__name + \"', \" +  str(self.__build_year) +  \")\"\n",
        "\n",
        "    def __str__(self):\n",
        "        return \"Name: \" + self.__name + \", Build Year: \" +  str(self.__build_year)"
      ],
      "execution_count": null,
      "outputs": []
    },
    {
      "cell_type": "code",
      "metadata": {
        "id": "yUKuDqkGmo2S",
        "outputId": "0509a978-f21f-4f94-c03f-fc22f64d19f7"
      },
      "source": [
        "\n",
        "x = Robot(\"Marvin\", 1979)\n",
        "y = Robot(\"Caliban\", 1943)\n",
        "for rob in [x, y]:\n",
        "    rob.say_hi()\n",
        "    if rob.get_name() == \"Caliban\":\n",
        "        rob.set_build_year(1993)\n",
        "    print(\"I was built in the year \" + str(rob.get_build_year()) + \"!\")"
      ],
      "execution_count": null,
      "outputs": [
        {
          "output_type": "stream",
          "text": [
            "Hi, I am Marvin\n",
            "I was built in the year 1979!\n",
            "Hi, I am Caliban\n",
            "I was built in the year 1993!\n"
          ],
          "name": "stdout"
        }
      ]
    },
    {
      "cell_type": "code",
      "metadata": {
        "id": "zsHX_6oymo2W"
      },
      "source": [],
      "execution_count": null,
      "outputs": []
    },
    {
      "cell_type": "code",
      "metadata": {
        "id": "5j9_I2MDmo2a"
      },
      "source": [],
      "execution_count": null,
      "outputs": []
    },
    {
      "cell_type": "markdown",
      "metadata": {
        "id": "2WwTJpFXmo2j"
      },
      "source": [
        "# Instance methods, class methods and static methods"
      ]
    },
    {
      "cell_type": "markdown",
      "metadata": {
        "id": "sOE8JJaomo2j"
      },
      "source": [
        "**CLASS METHODS**"
      ]
    },
    {
      "cell_type": "code",
      "metadata": {
        "id": "5ZzTzHOfmo2k"
      },
      "source": [
        "'''\n",
        "The methods that we generally use are instance methods as they take the the first argument as the object. That\n",
        "is why the first argument they accept \"self\" which is the convention for an instance of a clas\n",
        "\n",
        "To convert a method to class method or static method, we can do that dynamically by using decorators\n",
        "'''"
      ],
      "execution_count": null,
      "outputs": []
    },
    {
      "cell_type": "code",
      "metadata": {
        "id": "f8hlU5Ezmo2o"
      },
      "source": [
        "class Employee():\n",
        "    \n",
        "    __araise = 1.05                  #class variable\n",
        "    \n",
        "    def __init__(self,first,last,salary):\n",
        "        self.first = first\n",
        "        self.last = last\n",
        "        self.salary = salary\n",
        "        self.email = self.first + \".\" + self.last + \"@zeus.com\"\n",
        "    \n",
        "    def annual_raise(self):\n",
        "        self.pay = self.pay * self.araise # or (employee.raise) one of them depending upon the use\n",
        "        \n",
        "\n",
        "    @classmethod                   #class methods are use to work with class variables\n",
        "    def set_raise(cls,amount):\n",
        "        cls.__araise = amount\n",
        "    \n",
        "    def get_araise(self):\n",
        "        return self.__araise\n"
      ],
      "execution_count": null,
      "outputs": []
    },
    {
      "cell_type": "code",
      "metadata": {
        "id": "Mtm3OolQmo2q"
      },
      "source": [],
      "execution_count": null,
      "outputs": []
    },
    {
      "cell_type": "code",
      "metadata": {
        "id": "miqt3Ayemo2w"
      },
      "source": [
        "emp1 = Employee(\"vedant\",\"barbhaya\",1000000)\n",
        "emp2 = Employee(\"John\", \"jacobs\",2000000)\n",
        "    "
      ],
      "execution_count": null,
      "outputs": []
    },
    {
      "cell_type": "code",
      "metadata": {
        "id": "1hyidjMpmo2z"
      },
      "source": [],
      "execution_count": null,
      "outputs": []
    },
    {
      "cell_type": "code",
      "metadata": {
        "id": "NRA9URdBmo23"
      },
      "source": [
        "emp1.get_araise()\n",
        "emp2.get_araise()\n",
        "\n",
        "Employee.set_raise(1.34)\n"
      ],
      "execution_count": null,
      "outputs": []
    },
    {
      "cell_type": "code",
      "metadata": {
        "id": "21WVDwesmo25"
      },
      "source": [],
      "execution_count": null,
      "outputs": []
    },
    {
      "cell_type": "code",
      "metadata": {
        "id": "0c8Xeh_amo27",
        "outputId": "2fef9468-290d-4d7b-f1be-bef0c1cbeb3b"
      },
      "source": [
        "print(emp1.get_araise())\n",
        "print(emp2.get_araise())"
      ],
      "execution_count": null,
      "outputs": [
        {
          "output_type": "stream",
          "text": [
            "1.34\n",
            "1.34\n"
          ],
          "name": "stdout"
        }
      ]
    },
    {
      "cell_type": "code",
      "metadata": {
        "id": "JQJpiuQBmo2_"
      },
      "source": [],
      "execution_count": null,
      "outputs": []
    },
    {
      "cell_type": "code",
      "metadata": {
        "id": "1dddDGV1mo3C"
      },
      "source": [
        "# we can even run a class method using an instance"
      ],
      "execution_count": null,
      "outputs": []
    },
    {
      "cell_type": "code",
      "metadata": {
        "id": "ubdNic5omo3G",
        "outputId": "712bb9ac-b64f-4872-ff06-1af18525daa2"
      },
      "source": [
        "\n",
        "emp1.set_raise(1.29)\n",
        "\n",
        "print(emp2.get_araise())\n"
      ],
      "execution_count": null,
      "outputs": [
        {
          "output_type": "stream",
          "text": [
            "1.29\n"
          ],
          "name": "stdout"
        }
      ]
    },
    {
      "cell_type": "code",
      "metadata": {
        "id": "8hbLRfqGmo3L"
      },
      "source": [],
      "execution_count": null,
      "outputs": []
    },
    {
      "cell_type": "markdown",
      "metadata": {
        "id": "9prqgvX0mo3P"
      },
      "source": [
        "CLASS METHODS AS ALTERNATIVE CONSTRUCTORS"
      ]
    },
    {
      "cell_type": "code",
      "metadata": {
        "id": "opDcxwYhmo3Q"
      },
      "source": [
        "# lets say we have employee information inform of string\n",
        "# vedant-barbhaya-100000"
      ],
      "execution_count": null,
      "outputs": []
    },
    {
      "cell_type": "code",
      "metadata": {
        "id": "bT1wMLfBmo3S"
      },
      "source": [
        "class Employee():\n",
        "    \n",
        "    __araise = 1.05                  #class variable\n",
        "    \n",
        "    def __init__(self,first,last,salary):\n",
        "        self.first = first\n",
        "        self.last = last\n",
        "        self.salary = salary\n",
        "        self.email = self.first + \".\" + self.last + \"@zeus.com\"\n",
        "    \n",
        "    def annual_raise(self):\n",
        "        self.pay = self.pay * self.araise # or (employee.raise) one of them depending upon the use\n",
        "        \n",
        "            \n",
        "    @classmethod\n",
        "    def from_string(cls,emp_str):\n",
        "        first,last,salary = emp_str.split(\"-\")\n",
        "        return cls(first,last,salary)           #create a new employee object and return it to the call \n",
        "    \n",
        "    @classmethod                   #class methods are use to work with class variables\n",
        "    def set_raise(cls,amount):\n",
        "        cls.__araise = amount\n",
        "    \n",
        "    def get_araise(self):\n",
        "        return self.__araise\n"
      ],
      "execution_count": null,
      "outputs": []
    },
    {
      "cell_type": "code",
      "metadata": {
        "id": "D06NSUQgmo3V"
      },
      "source": [
        "emp3 = Employee.from_string(\"Vishal-Kundar-1200000\")"
      ],
      "execution_count": null,
      "outputs": []
    },
    {
      "cell_type": "code",
      "metadata": {
        "id": "yt2OGg09mo3Y",
        "outputId": "e1f91321-038e-4b92-843f-ffc6a2013ff7"
      },
      "source": [
        "print(emp3.salary)\n",
        "print(emp3.email)"
      ],
      "execution_count": null,
      "outputs": [
        {
          "output_type": "stream",
          "text": [
            "1200000\n",
            "Vishal.Kundar@zeus.com\n"
          ],
          "name": "stdout"
        }
      ]
    },
    {
      "cell_type": "code",
      "metadata": {
        "id": "3CeRpE4tmo3a"
      },
      "source": [],
      "execution_count": null,
      "outputs": []
    },
    {
      "cell_type": "markdown",
      "metadata": {
        "id": "r3TTrIPLmo3d"
      },
      "source": [
        "**STATIC METHODS**"
      ]
    },
    {
      "cell_type": "code",
      "metadata": {
        "id": "eINqpquZmo3d"
      },
      "source": [
        "# Static methods dont pass anything as the first argument unlike instance methods and class methods"
      ],
      "execution_count": null,
      "outputs": []
    },
    {
      "cell_type": "code",
      "metadata": {
        "id": "E6b4MLp1mo3f"
      },
      "source": [
        "# LET'S SAY WE WANT TO TAKE IN A DATE AND RETURN WHETHER THAT WAS A WORKING DAY OR NOT. NOW THAT HAS A LOGICAL\n",
        "# CONNECTION TO OUR EMPLOYEE CLASS BUT DOESNT DEPEND ON ANY SPECIFIC INSTANCE OR A CLASS VARIABLE.\n",
        "# SO WE WILL IMPLEMENT A STATIC METHOD FOR THAT"
      ],
      "execution_count": null,
      "outputs": []
    },
    {
      "cell_type": "code",
      "metadata": {
        "id": "wlQcFOo4mo3o"
      },
      "source": [],
      "execution_count": null,
      "outputs": []
    },
    {
      "cell_type": "code",
      "metadata": {
        "id": "6TbWRhz4mo3q"
      },
      "source": [
        "import datetime\n",
        "\n",
        "class Employee():\n",
        "    \n",
        "    araise = 1.05                  #class variable\n",
        "    \n",
        "    def __init__(self,first,last,salary):\n",
        "        self.first = first\n",
        "        self.last = last\n",
        "        self.salary = salary\n",
        "        self.email = self.first + \".\" + self.last + \"@zeus.com\"\n",
        "    \n",
        "    def annual_raise(self):\n",
        "        self.pay = self.pay * self.araise # or (employee.raise) one of them depending upon the use\n",
        "        \n",
        "            \n",
        "    @classmethod\n",
        "    def from_string(cls,emp_str):\n",
        "        first,last,salary = emp_str.split(\"-\")\n",
        "        return cls(first,last,salary)           #create a new employee object and return it to the call \n",
        "    \n",
        "    @classmethod                   #class methods are use to work with class variables\n",
        "    def set_raise(cls,amount):\n",
        "        cls.__araise = amount\n",
        "    \n",
        "    @staticmethod\n",
        "    def is_workday(day):\n",
        "        if day.weekday() == 5 or day.weekday() == 6:\n",
        "            return False\n",
        "        else:\n",
        "            return True\n",
        "        \n",
        "    \n",
        "    def get_araise(self):\n",
        "        return self.__araise"
      ],
      "execution_count": null,
      "outputs": []
    },
    {
      "cell_type": "code",
      "metadata": {
        "id": "0UqVor60mo3s"
      },
      "source": [],
      "execution_count": null,
      "outputs": []
    },
    {
      "cell_type": "code",
      "metadata": {
        "id": "vY5PlNlimo3v",
        "outputId": "c79ee801-7b3c-404f-9252-9d21b4fe6e94"
      },
      "source": [
        "my_date = datetime.date(2016,5,10)\n",
        "print(Employee.is_workday(my_date))"
      ],
      "execution_count": null,
      "outputs": [
        {
          "output_type": "stream",
          "text": [
            "True\n"
          ],
          "name": "stdout"
        }
      ]
    },
    {
      "cell_type": "code",
      "metadata": {
        "id": "YlYo2nPxmo3x"
      },
      "source": [],
      "execution_count": null,
      "outputs": []
    },
    {
      "cell_type": "code",
      "metadata": {
        "id": "fccEv4iAmo30"
      },
      "source": [],
      "execution_count": null,
      "outputs": []
    },
    {
      "cell_type": "markdown",
      "metadata": {
        "id": "Rp_bixNcmo32"
      },
      "source": [
        "# Inheritance"
      ]
    },
    {
      "cell_type": "code",
      "metadata": {
        "id": "kkhX8IHgmo32"
      },
      "source": [
        "class Polygon:\n",
        "    def __init__(self, no_of_sides):\n",
        "        self.n = no_of_sides\n",
        "        self.sides = [0 for i in range(no_of_sides)]\n",
        "\n",
        "    def inputSides(self):\n",
        "        self.sides = [float(input(\"Enter side \"+str(i+1)+\" : \")) for i in range(self.n)]\n",
        "\n",
        "    def dispSides(self):\n",
        "        for i in range(self.n):\n",
        "            print(\"Side\",i+1,\"is\",self.sides[i])"
      ],
      "execution_count": null,
      "outputs": []
    },
    {
      "cell_type": "code",
      "metadata": {
        "id": "P3DWvn_vmo34"
      },
      "source": [
        "class Triangle(Polygon):\n",
        "    def __init__(self):\n",
        "        Polygon.__init__(self,3)\n",
        "\n",
        "    def findArea(self):\n",
        "        a, b, c = self.sides\n",
        "        # calculate the semi-perimeter\n",
        "        s = (a + b + c) / 2\n",
        "        area = (s*(s-a)*(s-b)*(s-c)) ** 0.5\n",
        "        print('The area of the triangle is %0.2f' %area)"
      ],
      "execution_count": null,
      "outputs": []
    },
    {
      "cell_type": "code",
      "metadata": {
        "id": "WQOerSGemo36"
      },
      "source": [
        "t = Triangle()"
      ],
      "execution_count": null,
      "outputs": []
    },
    {
      "cell_type": "code",
      "metadata": {
        "id": "Ffnr6BBtmo39",
        "outputId": "6f03976e-4f7b-44d8-aafd-b40c4a1cad14"
      },
      "source": [
        "t.inputSides()"
      ],
      "execution_count": null,
      "outputs": [
        {
          "output_type": "stream",
          "text": [
            "Enter side 1 : 10\n",
            "Enter side 2 : 12\n",
            "Enter side 3 : 9\n"
          ],
          "name": "stdout"
        }
      ]
    },
    {
      "cell_type": "code",
      "metadata": {
        "id": "tArrn0gqmo4A",
        "outputId": "1e995545-3420-4baf-c510-0afdeb8e3e19"
      },
      "source": [
        "t.dispSides()"
      ],
      "execution_count": null,
      "outputs": [
        {
          "output_type": "stream",
          "text": [
            "Side 1 is 10.0\n",
            "Side 2 is 12.0\n",
            "Side 3 is 9.0\n"
          ],
          "name": "stdout"
        }
      ]
    },
    {
      "cell_type": "code",
      "metadata": {
        "id": "jV33TZstmo4D",
        "outputId": "705c2c2e-8f3f-4768-8ded-81fbce80b940"
      },
      "source": [
        "t.findArea()"
      ],
      "execution_count": null,
      "outputs": [
        {
          "output_type": "stream",
          "text": [
            "The area of the triangle is 44.04\n"
          ],
          "name": "stdout"
        }
      ]
    },
    {
      "cell_type": "code",
      "metadata": {
        "id": "PgxwvJTwmo4F"
      },
      "source": [],
      "execution_count": null,
      "outputs": []
    },
    {
      "cell_type": "code",
      "metadata": {
        "id": "ReEv9hXXmo4I"
      },
      "source": [
        "# We can see information about a subclass using help function on the class"
      ],
      "execution_count": null,
      "outputs": []
    },
    {
      "cell_type": "code",
      "metadata": {
        "id": "b9PChxnCmo4K",
        "outputId": "d1655f37-a4f8-4f11-fb5d-03fde9c9bcac"
      },
      "source": [
        "print(help(Triangle))"
      ],
      "execution_count": null,
      "outputs": [
        {
          "output_type": "stream",
          "text": [
            "Help on class Triangle in module __main__:\n",
            "\n",
            "class Triangle(Polygon)\n",
            " |  Method resolution order:\n",
            " |      Triangle\n",
            " |      Polygon\n",
            " |      builtins.object\n",
            " |  \n",
            " |  Methods defined here:\n",
            " |  \n",
            " |  __init__(self)\n",
            " |      Initialize self.  See help(type(self)) for accurate signature.\n",
            " |  \n",
            " |  findArea(self)\n",
            " |  \n",
            " |  ----------------------------------------------------------------------\n",
            " |  Methods inherited from Polygon:\n",
            " |  \n",
            " |  dispSides(self)\n",
            " |  \n",
            " |  inputSides(self)\n",
            " |  \n",
            " |  ----------------------------------------------------------------------\n",
            " |  Data descriptors inherited from Polygon:\n",
            " |  \n",
            " |  __dict__\n",
            " |      dictionary for instance variables (if defined)\n",
            " |  \n",
            " |  __weakref__\n",
            " |      list of weak references to the object (if defined)\n",
            "\n",
            "None\n"
          ],
          "name": "stdout"
        }
      ]
    },
    {
      "cell_type": "code",
      "metadata": {
        "id": "I_MEZ4BJmo4M"
      },
      "source": [],
      "execution_count": null,
      "outputs": []
    },
    {
      "cell_type": "code",
      "metadata": {
        "id": "A0QRiu0Jmo4O"
      },
      "source": [
        "# issubclass() method"
      ],
      "execution_count": null,
      "outputs": []
    },
    {
      "cell_type": "code",
      "metadata": {
        "id": "m8u9W26omo4Q",
        "outputId": "9ff41e9e-4775-4c54-9501-d6045aa70917"
      },
      "source": [
        "issubclass(Triangle,Polygon)"
      ],
      "execution_count": null,
      "outputs": [
        {
          "output_type": "execute_result",
          "data": {
            "text/plain": [
              "True"
            ]
          },
          "metadata": {
            "tags": []
          },
          "execution_count": 185
        }
      ]
    },
    {
      "cell_type": "code",
      "metadata": {
        "id": "kuiCyFKHmo4T"
      },
      "source": [],
      "execution_count": null,
      "outputs": []
    },
    {
      "cell_type": "code",
      "metadata": {
        "id": "NstYHfTqmo4Z"
      },
      "source": [
        "class Developer(Employee):\n",
        "    araise = 1.87\n",
        "    \n",
        "    def __init__(self,first,last,salary,lang):\n",
        "        super().__init__(first,last,salary)           # or Employee.__init__(self,first,last,salary)\n",
        "        self.prog_lang = lang\n",
        "    \n",
        "    def __repr__(self):\n",
        "        return (\"name of developer: {} | Salary:{} | Prog Lang:{}\".format(self.first+self.last,self.salary,self.prog_lang))\n",
        "    "
      ],
      "execution_count": null,
      "outputs": []
    },
    {
      "cell_type": "code",
      "metadata": {
        "id": "QemyidHZmo4b",
        "outputId": "1d5a3b66-da4e-4615-9c34-7ef667001aeb"
      },
      "source": [
        "\n",
        "dev1 = Developer(\"jack\",\"dorsey\",2000000,\"python\")\n",
        "\n",
        "dev2 = Developer(\"Brian\",\"Ackman\",3000000,\"Java\")\n",
        "repr(dev1)"
      ],
      "execution_count": null,
      "outputs": [
        {
          "output_type": "execute_result",
          "data": {
            "text/plain": [
              "'name of developer: jackdorsey | Salary:2000000 | Prog Lang:python'"
            ]
          },
          "metadata": {
            "tags": []
          },
          "execution_count": 219
        }
      ]
    },
    {
      "cell_type": "code",
      "metadata": {
        "id": "Kkn_-78amo4y"
      },
      "source": [],
      "execution_count": null,
      "outputs": []
    },
    {
      "cell_type": "code",
      "metadata": {
        "id": "WVOMK8vXmo42"
      },
      "source": [
        "class Manager(Employee):\n",
        "\n",
        "    def __init__(self, first, last, pay, employees=None): #you never want to keep default values as mutable datatypes and hence we used None instead of []\n",
        "        super().__init__(first, last, pay)\n",
        "        if employees is None:\n",
        "            self.employees = []\n",
        "        else:\n",
        "            self.employees = employees\n",
        "\n",
        "    def add_emp(self, emp):\n",
        "        if emp not in self.employees:\n",
        "            self.employees.append(emp)\n",
        "\n",
        "    def remove_emp(self, emp):\n",
        "        if emp in self.employees:\n",
        "            self.employees.remove(emp)\n",
        "\n",
        "    def print_emps(self):\n",
        "        for emp in self.employees:\n",
        "            print('-->', emp.first + \" \" + emp.last)"
      ],
      "execution_count": null,
      "outputs": []
    },
    {
      "cell_type": "code",
      "metadata": {
        "id": "lLT_319Umo44"
      },
      "source": [
        "mgr_1 = Manager('Sue', 'Smith', 90000, [dev1])\n"
      ],
      "execution_count": null,
      "outputs": []
    },
    {
      "cell_type": "code",
      "metadata": {
        "id": "gHJzV5Mfmo46",
        "outputId": "dff0be78-448b-44ce-b7ac-3e9c00fe6e32"
      },
      "source": [
        "print(mgr_1.email)"
      ],
      "execution_count": null,
      "outputs": [
        {
          "output_type": "stream",
          "text": [
            "Sue.Smith@zeus.com\n"
          ],
          "name": "stdout"
        }
      ]
    },
    {
      "cell_type": "code",
      "metadata": {
        "id": "jQd7ifacmo48"
      },
      "source": [
        "mgr_1.add_emp(dev2)\n"
      ],
      "execution_count": null,
      "outputs": []
    },
    {
      "cell_type": "code",
      "metadata": {
        "id": "Q7aNkNJYmo4-"
      },
      "source": [
        "mgr_1.remove_emp(dev2)\n"
      ],
      "execution_count": null,
      "outputs": []
    },
    {
      "cell_type": "code",
      "metadata": {
        "id": "RZidjjVlmo5A",
        "outputId": "057ae63b-0d5c-436f-a0f9-db33956fc9fc"
      },
      "source": [
        "mgr_1.print_emps()"
      ],
      "execution_count": null,
      "outputs": [
        {
          "output_type": "stream",
          "text": [
            "--> jack dorsey\n"
          ],
          "name": "stdout"
        }
      ]
    },
    {
      "cell_type": "code",
      "metadata": {
        "id": "V84bp9VRmo5D"
      },
      "source": [],
      "execution_count": null,
      "outputs": []
    },
    {
      "cell_type": "markdown",
      "metadata": {
        "id": "F-GQv3iamo5F"
      },
      "source": [
        "### **MULTIPLE INHERITANCE**"
      ]
    },
    {
      "cell_type": "code",
      "metadata": {
        "id": "S8QA4fyGmo5F"
      },
      "source": [
        "'''\n",
        "\n",
        "Every class in Python is derived from the object class. It is the most base type in Python.\n",
        "\n",
        "So technically, all other classes, either built-in or user-defined, are derived classes and all objects are\n",
        "instances of the object class.\n",
        "\n",
        "'''"
      ],
      "execution_count": null,
      "outputs": []
    },
    {
      "cell_type": "code",
      "metadata": {
        "id": "OCtwGgsLmo5H"
      },
      "source": [
        "'''\n",
        "class DerivedClassName(Base1, Base2, Base3):\n",
        "    <statement-1>\n",
        "    .\n",
        "    .\n",
        "    .\n",
        "    <statement-N>\n",
        "\n",
        "For most purposes, in the simplest cases, you can think of the search for attributes inherited from a parent \n",
        "class as depth-first, left-to-right, not searching twice in the same class where there is an overlap in the\n",
        "hierarchy. Thus, if an attribute is not found in DerivedClassName, it is searched for in Base1, then \n",
        "(recursively) in the base classes of Base1, and if it was not found there, it was searched for in Base2, \n",
        "and so on.\n",
        "\n",
        "\n",
        "\n",
        "'''"
      ],
      "execution_count": null,
      "outputs": []
    },
    {
      "cell_type": "code",
      "metadata": {
        "id": "pc_w1hI_mo5J"
      },
      "source": [
        "class X:\n",
        "    pass\n",
        "\n",
        "\n",
        "class Y:\n",
        "    pass\n",
        "\n",
        "\n",
        "class Z:\n",
        "    pass\n",
        "\n",
        "\n",
        "class A(X, Y):\n",
        "    pass\n",
        "\n",
        "\n",
        "class B(Y, Z):\n",
        "    pass\n",
        "\n",
        "\n",
        "class M(B, A, Z):\n",
        "    pass"
      ],
      "execution_count": null,
      "outputs": []
    },
    {
      "cell_type": "code",
      "metadata": {
        "id": "OKPSXXdfmo5K"
      },
      "source": [],
      "execution_count": null,
      "outputs": []
    },
    {
      "cell_type": "code",
      "metadata": {
        "id": "m-SohmUPmo5M",
        "outputId": "5fa70808-4c5a-418f-fad2-ebc5453a5b97"
      },
      "source": [
        "'''\n",
        "The above example forms a complex heirarchy in which there are more than one path to reach a parent class \n",
        "(diamond shaped relationship)\n",
        "\n",
        "So python uses a dynamic ordering algorithm.\n",
        "Dynamic ordering is necessary because all cases of multiple inheritance exhibit one or more diamond \n",
        "relationships (where at least one of the parent classes can be accessed through multiple paths from the \n",
        "bottommost class). For example, all classes inherit from object, so any case of multiple inheritance provides\n",
        "more than one path to reach object. To keep the base classes from being accessed more than once, the dynamic \n",
        "algorithm linearizes the search order in a way that preserves the left-to-right ordering specified in each \n",
        "class, that calls each parent only once, and that is monotonic (meaning that a class can be subclassed without\n",
        "affecting the precedence order of its parents).\n",
        "\n",
        "This order is also called linearization of MultiDerived class and the set of rules used to find this order is\n",
        "called Method Resolution Order (MRO)\n",
        "\n",
        "MRO must prevent local precedence ordering and also provide monotonicity. It ensures that a class always a\n",
        "ppears before its parents. In case of multiple parents, the order is the same as tuples of base classes.\n",
        "\n",
        "MRO of a class can be viewed as the __mro__ attribute or the mro() method. The former returns a tuple while \n",
        "the latter returns a list.\n",
        "\n",
        "'''\n",
        "\n",
        "M.mro()"
      ],
      "execution_count": null,
      "outputs": [
        {
          "output_type": "execute_result",
          "data": {
            "text/plain": [
              "[__main__.M,\n",
              " __main__.B,\n",
              " __main__.A,\n",
              " __main__.X,\n",
              " __main__.Y,\n",
              " __main__.Z,\n",
              " object]"
            ]
          },
          "metadata": {
            "tags": []
          },
          "execution_count": 3
        }
      ]
    },
    {
      "cell_type": "code",
      "metadata": {
        "id": "e6uU4PkRmo5O"
      },
      "source": [],
      "execution_count": null,
      "outputs": []
    },
    {
      "cell_type": "code",
      "metadata": {
        "id": "1oSuOWa-mo5R"
      },
      "source": [],
      "execution_count": null,
      "outputs": []
    },
    {
      "cell_type": "markdown",
      "metadata": {
        "id": "3U16dT6Cmo5S"
      },
      "source": [
        "\n",
        "# (Magic/Dunder) Methods and operator overloading"
      ]
    },
    {
      "cell_type": "code",
      "metadata": {
        "id": "QANVx1xqmo5S"
      },
      "source": [
        "# dunder = double underscores so magic/dunder methods are special methods which are enclosed by double\n",
        "# underscores such __init__ method\n"
      ],
      "execution_count": null,
      "outputs": []
    },
    {
      "cell_type": "code",
      "metadata": {
        "id": "KNAy3TXemo5V"
      },
      "source": [
        "# 2 more common dunder methods are __repr__() and __str__()"
      ],
      "execution_count": null,
      "outputs": []
    },
    {
      "cell_type": "code",
      "metadata": {
        "id": "nVKKejglmo5Y"
      },
      "source": [
        "class Employee():\n",
        "    \n",
        "    araise = 1.05                  #class variable\n",
        "    \n",
        "    def __init__(self,first,last,salary):\n",
        "        self.first = first\n",
        "        self.last = last\n",
        "        self.salary = salary\n",
        "        self.email = self.first + \".\" + self.last + \"@zeus.com\"\n",
        "    \n",
        "    def annual_raise(self):\n",
        "        self.pay = self.pay * self.araise # or (employee.raise) one of them depending upon the use\n",
        "    \n",
        "    def get_araise(self):\n",
        "        return self.__araise\n",
        "    \n",
        "    def __repr__(self):\n",
        "        return (\"Employee -->(Name: {}, email: {}, salary: {})\".format(self.first+self.last,self.email,self.salary))\n",
        "    \n",
        "    def __str__(self):\n",
        "        return (\"{} --> {}\".format(self.first+\" \"+self.last,self.email))\n",
        "    \n",
        "    def __add__(self,other):\n",
        "        return int(self.salary) + int(other.salary)\n",
        "    \n",
        "    def __len__(self):\n",
        "        return len(self.first + self.last)\n",
        "        "
      ],
      "execution_count": null,
      "outputs": []
    },
    {
      "cell_type": "code",
      "metadata": {
        "id": "Lw6ej_SBmo5a"
      },
      "source": [],
      "execution_count": null,
      "outputs": []
    },
    {
      "cell_type": "code",
      "metadata": {
        "id": "DU9nzQcqmo5c",
        "outputId": "8ae1e689-1b79-48b9-daf6-0a9fff8424f5"
      },
      "source": [
        "emp1 = Employee('Ved',\"shah\",\"20000000\")\n",
        "emp2 = Employee('Vedant',\"barbhaya\",\"34000000\")\n",
        "repr(emp1)\n",
        "print(emp1)\n",
        "print(emp1 + emp2)\n",
        "print(len(emp2))"
      ],
      "execution_count": null,
      "outputs": [
        {
          "output_type": "stream",
          "text": [
            "Ved shah --> Ved.shah@zeus.com\n",
            "54000000\n",
            "14\n"
          ],
          "name": "stdout"
        }
      ]
    },
    {
      "cell_type": "code",
      "metadata": {
        "id": "yqa6F8f3mo5f"
      },
      "source": [],
      "execution_count": null,
      "outputs": []
    },
    {
      "cell_type": "code",
      "metadata": {
        "id": "R_8is1wfmo5g"
      },
      "source": [
        "# Other methods that can be overridden - https://docs.python.org/3/reference/datamodel.html#special-method-names"
      ],
      "execution_count": null,
      "outputs": []
    },
    {
      "cell_type": "code",
      "metadata": {
        "id": "S5iHxZnkmo5i"
      },
      "source": [],
      "execution_count": null,
      "outputs": []
    },
    {
      "cell_type": "markdown",
      "metadata": {
        "id": "8sIGSqc-mo5l"
      },
      "source": [
        "# Property Decorators - Getters, Setters, and Deleters"
      ]
    },
    {
      "cell_type": "code",
      "metadata": {
        "id": "DI-80Lfrmo5l"
      },
      "source": [
        "'''\n",
        "\n",
        "Property decorators is a way of writing metacode, i.e code for a previously existing code.\n",
        "\n",
        "Python programming provides us with a built-in @property decorator which makes usage of getter and setters\n",
        "much easier in Object-Oriented Programming\n",
        "\n",
        "Getters(also known as 'accessors') and setters (aka. 'mutators') are used in many object oriented programming\n",
        "languages to ensure the principle of data encapsulation. Data encapsulation is seen as the bundling of data \n",
        "with the methods that operate on them. These methods are of course the getter for retrieving the data and the \n",
        "setter for changing the data. According to this principle, the attributes of a class are made private to hide \n",
        "and protect them from the other codes.\n",
        "\n",
        "To get a better inituition, read this: https://www.programiz.com/python-programming/property\n",
        "\n",
        "For all in all, property decorators are used to make a method work like an attribute which does 2 things:\n",
        " i. provides data encapsulation\n",
        " ii. Saves a lot of refactoring of already written code\n",
        "\n",
        "'''"
      ],
      "execution_count": null,
      "outputs": []
    },
    {
      "cell_type": "code",
      "metadata": {
        "id": "WkJpXI9-mo5p"
      },
      "source": [
        "# Let's say we make our variables private and define getters and setters for it\n",
        "class P:\n",
        "    def __init__(self,x):\n",
        "        self.__x = x\n",
        "\n",
        "    def get_x(self):\n",
        "        return self.__x\n",
        "\n",
        "    def set_x(self, x):\n",
        "        self.__x = x\n",
        "        "
      ],
      "execution_count": null,
      "outputs": []
    },
    {
      "cell_type": "code",
      "metadata": {
        "id": "kvdKtncOmo5r",
        "outputId": "7252e6c3-b549-4df3-a633-c6f331d55e84"
      },
      "source": [
        "p1 = P(42)\n",
        "p2 = P(4711)\n",
        "p1.get_x()"
      ],
      "execution_count": null,
      "outputs": [
        {
          "output_type": "execute_result",
          "data": {
            "text/plain": [
              "42"
            ]
          },
          "metadata": {
            "tags": []
          },
          "execution_count": 4
        }
      ]
    },
    {
      "cell_type": "code",
      "metadata": {
        "id": "o5_Rl0TOmo5t",
        "outputId": "34f16d1e-f724-41e7-eb9f-f67c3a7dbd79"
      },
      "source": [
        "p1.set_x(47)\n",
        "p1.set_x(p1.get_x()+p2.get_x())\n",
        "p1.get_x()"
      ],
      "execution_count": null,
      "outputs": [
        {
          "output_type": "execute_result",
          "data": {
            "text/plain": [
              "4758"
            ]
          },
          "metadata": {
            "tags": []
          },
          "execution_count": 5
        }
      ]
    },
    {
      "cell_type": "code",
      "metadata": {
        "id": "fkeqEgyLmo5v"
      },
      "source": [
        "'''\n",
        "\n",
        "What do you think about the expression \"p1.set_x(p1.get_x()+p2.get_x())\"? It's ugly, isn't it? It's a lot \n",
        "easier to write an expression like the following, if we had a public attribute x:\n",
        "\n",
        "p1.x = p1.x + p2.x\n",
        "\n",
        "Such an assignment is easier to write and above all easier to read than the Javaesque expression.\n",
        "\n",
        "'''\n"
      ],
      "execution_count": null,
      "outputs": []
    },
    {
      "cell_type": "code",
      "metadata": {
        "id": "71UHzk4Ymo5x"
      },
      "source": [
        "'''\n",
        "Let's assume we want to change the implementation like this: The attribute x can have values between 0 and \n",
        "1000. If a value larger than 1000 is assigned, x should be set to 1000. Correspondingly, x should be set to 0,\n",
        "if the value is less than 0.\n",
        "\n",
        "It is easy to change our first P class to cover this problem. We change the set_x method accordingly:\n",
        "'''"
      ],
      "execution_count": null,
      "outputs": []
    },
    {
      "cell_type": "code",
      "metadata": {
        "id": "qupSBPpDmo50"
      },
      "source": [
        "class P:\n",
        "\n",
        "    def __init__(self,x):\n",
        "        self.set_x(x)\n",
        "\n",
        "    def get_x(self):\n",
        "        return self.__x\n",
        "\n",
        "    def set_x(self, x):\n",
        "        if x < 0:\n",
        "            self.__x = 0\n",
        "        elif x > 1000:\n",
        "            self.__x = 1000\n",
        "        else:\n",
        "            self.__x = x"
      ],
      "execution_count": null,
      "outputs": []
    },
    {
      "cell_type": "code",
      "metadata": {
        "id": "TGyzenykmo51"
      },
      "source": [
        "# But still the above problem persists. It would be great if there was a way to implicitly call these getters\n",
        "# and setters methods\n",
        "\n",
        "# In python, it is done with a property decorator -\n",
        "# @property for a setter method\n",
        "# @variable_name.setter for the setter method\n",
        "\n",
        "\n",
        "\n",
        "class P:\n",
        "\n",
        "    def __init__(self,x):\n",
        "        self.x = x\n",
        "\n",
        "    @property\n",
        "    def x(self):\n",
        "        return self.__x\n",
        "\n",
        "    @x.setter\n",
        "    def x(self, x):\n",
        "        if x < 0:\n",
        "            self.__x = 0\n",
        "        elif x > 1000:\n",
        "            self.__x = 1000\n",
        "        else:\n",
        "            self.__x = x\n",
        "\n"
      ],
      "execution_count": null,
      "outputs": []
    },
    {
      "cell_type": "code",
      "metadata": {
        "id": "MA04LwEjmo56",
        "outputId": "64789482-51f8-4d75-b14b-e1620d6016d9"
      },
      "source": [
        "p1 = P(1001) \n",
        "p1.x          #invokes getter\n"
      ],
      "execution_count": null,
      "outputs": [
        {
          "output_type": "execute_result",
          "data": {
            "text/plain": [
              "1000"
            ]
          },
          "metadata": {
            "tags": []
          },
          "execution_count": 8
        }
      ]
    },
    {
      "cell_type": "code",
      "metadata": {
        "id": "fcNkV5lHmo5-",
        "outputId": "52c61dbf-180c-4819-9b25-24f11976fb1a"
      },
      "source": [
        "p1.x = -12    #invokes setter\n",
        "p1.x"
      ],
      "execution_count": null,
      "outputs": [
        {
          "output_type": "execute_result",
          "data": {
            "text/plain": [
              "0"
            ]
          },
          "metadata": {
            "tags": []
          },
          "execution_count": 9
        }
      ]
    },
    {
      "cell_type": "code",
      "metadata": {
        "id": "SMpaCC7xmo6A"
      },
      "source": [
        "p1.x = 999\n",
        "p2 = P(555)"
      ],
      "execution_count": null,
      "outputs": []
    },
    {
      "cell_type": "code",
      "metadata": {
        "id": "31C53cXBmo6C",
        "outputId": "720381e9-b50b-4ccd-b95f-1bb164a3998e"
      },
      "source": [
        "print(p1.x + p2.x)"
      ],
      "execution_count": null,
      "outputs": [
        {
          "output_type": "stream",
          "text": [
            "1554\n"
          ],
          "name": "stdout"
        }
      ]
    },
    {
      "cell_type": "code",
      "metadata": {
        "id": "WHtSy4jwmo6D"
      },
      "source": [
        "# Alternatively, we could have used a different syntax without decorators to define the property. As you can \n",
        "# see, the code is definitely less elegant and we have to make sure that we use the getter function in the \n",
        "# __init__ method again because the variable is declared private:\n",
        "\n",
        "class P:\n",
        "\n",
        "    def __init__(self,x):\n",
        "        self.set_x(x)\n",
        "\n",
        "    def get_x(self):\n",
        "        return self.__x\n",
        "\n",
        "    def set_x(self, x):\n",
        "        if x < 0:\n",
        "            self.__x = 0\n",
        "        elif x > 1000:\n",
        "            self.__x = 1000\n",
        "        else:\n",
        "            self.__x = x\n",
        "\n",
        "    x = property(get_x, set_x)\n",
        "\n"
      ],
      "execution_count": null,
      "outputs": []
    },
    {
      "cell_type": "code",
      "metadata": {
        "id": "zAMWCvlfmo6F"
      },
      "source": [
        "p1 = P(1000)"
      ],
      "execution_count": null,
      "outputs": []
    },
    {
      "cell_type": "code",
      "metadata": {
        "id": "ExQIzy3wmo6H",
        "outputId": "c7c710a6-7372-4bbe-833d-daf908582b89"
      },
      "source": [
        "p1.x"
      ],
      "execution_count": null,
      "outputs": [
        {
          "output_type": "execute_result",
          "data": {
            "text/plain": [
              "1000"
            ]
          },
          "metadata": {
            "tags": []
          },
          "execution_count": 23
        }
      ]
    },
    {
      "cell_type": "code",
      "metadata": {
        "id": "GL_AK90_mo6J"
      },
      "source": [],
      "execution_count": null,
      "outputs": []
    },
    {
      "cell_type": "code",
      "metadata": {
        "id": "oiqfkRdhmo6L"
      },
      "source": [
        "# Now lets take the following example:"
      ],
      "execution_count": null,
      "outputs": []
    },
    {
      "cell_type": "code",
      "metadata": {
        "id": "ZDQ5vKyRmo6N"
      },
      "source": [
        "class Employee:\n",
        "    def __init__(self,first,last,salary):\n",
        "        self.first = first\n",
        "        self.last = last\n",
        "        self.pay = salary\n",
        "        self.email = self.first + \".\" + self.last + \"@company.com\"\n",
        "        \n",
        "    def fullname(self):\n",
        "        return self.first + \" \" + self.last\n",
        "    "
      ],
      "execution_count": null,
      "outputs": []
    },
    {
      "cell_type": "code",
      "metadata": {
        "id": "22AytQH7mo6O",
        "outputId": "4dd744ca-049f-4742-af42-415604e2be35"
      },
      "source": [
        "emp1 = Employee(\"Vedant\",\"Barbhaya\",\"15,00,000\")\n",
        "print(emp1.email)\n",
        "print(emp1.fullname())"
      ],
      "execution_count": null,
      "outputs": [
        {
          "output_type": "stream",
          "text": [
            "Vedant.Barbhaya@company.com\n",
            "Vedant Barbhaya\n"
          ],
          "name": "stdout"
        }
      ]
    },
    {
      "cell_type": "code",
      "metadata": {
        "id": "LKk1ovrCmo6Q",
        "outputId": "e65d9585-c124-4d6f-af3e-35ac324999f9"
      },
      "source": [
        "# Let's say we have written the following code and now we change the first name attribute directly\n",
        "emp1.first = \"Ved\"\n",
        "print(emp1.email)\n",
        "print(emp1.fullname())\n",
        "\n",
        "# we can see that the fullname method has reflected the change but the email attribute hasn't as it doesnt\n",
        "# have direct access to the changes as it is inside __init__ method which is only called during object creation\n"
      ],
      "execution_count": null,
      "outputs": [
        {
          "output_type": "stream",
          "text": [
            "Vedant.Barbhaya@company.com\n",
            "Ved Barbhaya\n"
          ],
          "name": "stdout"
        }
      ]
    },
    {
      "cell_type": "code",
      "metadata": {
        "id": "iyMPCGv6mo6S"
      },
      "source": [
        "# Now we can change the code and write a method for the email the same way we did for the fullname but that \n",
        "# would be mean refactoring all the code that has accessed the email attribute of this class so a better way\n",
        "# is to use a property decorator\n",
        "\n",
        "class Employee:\n",
        "    def __init__(self,first,last,salary):\n",
        "        self.first = first\n",
        "        self.last = last\n",
        "        self.pay = salary\n",
        "    \n",
        "    @property\n",
        "    def email(self):\n",
        "        return self.first + \".\" + self.last + \"@company.com\"\n",
        "    \n",
        "    @property\n",
        "    def fullname(self):\n",
        "        return self.first + \" \" + self.last"
      ],
      "execution_count": null,
      "outputs": []
    },
    {
      "cell_type": "code",
      "metadata": {
        "id": "1VRJjAXOmo6U"
      },
      "source": [],
      "execution_count": null,
      "outputs": []
    },
    {
      "cell_type": "code",
      "metadata": {
        "id": "Qo0DgQPmmo6W",
        "outputId": "7ded5570-dd83-4310-e651-c54397b03ce0"
      },
      "source": [
        "emp1 = Employee(\"Vedant\",\"Barbhaya\",\"15,00,000\")\n",
        "print(emp1.email)\n",
        "print(emp1.fullname)"
      ],
      "execution_count": null,
      "outputs": [
        {
          "output_type": "stream",
          "text": [
            "Vedant.Barbhaya@company.com\n",
            "Vedant Barbhaya\n"
          ],
          "name": "stdout"
        }
      ]
    },
    {
      "cell_type": "code",
      "metadata": {
        "id": "b-Z6q3qfmo6Y"
      },
      "source": [
        "emp1.first = \"John\""
      ],
      "execution_count": null,
      "outputs": []
    },
    {
      "cell_type": "code",
      "metadata": {
        "id": "nmzgICggmo6c",
        "outputId": "51f9f843-e54d-4afa-ec60-a2f4042c0121"
      },
      "source": [
        "emp1.fullname"
      ],
      "execution_count": null,
      "outputs": [
        {
          "output_type": "execute_result",
          "data": {
            "text/plain": [
              "'John Barbhaya'"
            ]
          },
          "metadata": {
            "tags": []
          },
          "execution_count": 69
        }
      ]
    },
    {
      "cell_type": "code",
      "metadata": {
        "id": "fHbtZsUvmo6d",
        "outputId": "52d2c535-789f-4dc5-aa23-a456ecf91352"
      },
      "source": [
        "emp1.email"
      ],
      "execution_count": null,
      "outputs": [
        {
          "output_type": "execute_result",
          "data": {
            "text/plain": [
              "'John.Barbhaya@company.com'"
            ]
          },
          "metadata": {
            "tags": []
          },
          "execution_count": 70
        }
      ]
    },
    {
      "cell_type": "code",
      "metadata": {
        "id": "A7HRqPWXmo6g"
      },
      "source": [],
      "execution_count": null,
      "outputs": []
    },
    {
      "cell_type": "code",
      "metadata": {
        "id": "4K3jp0ysmo6j"
      },
      "source": [
        "# setter decorator and deleter decorator"
      ],
      "execution_count": null,
      "outputs": []
    },
    {
      "cell_type": "code",
      "metadata": {
        "id": "_pnC4eSUmo6m"
      },
      "source": [
        "class Employee:\n",
        "    def __init__(self,first,last):\n",
        "        self.first = first\n",
        "        self.last = last\n",
        "        \n",
        "    \n",
        "    @property\n",
        "    def email(self):\n",
        "        return self.first + \".\" + self.last + \"@company.com\"\n",
        "    \n",
        "    @property\n",
        "    def fullname(self):\n",
        "        return self.first + \" \" + self.last\n",
        "    \n",
        "    @fullname.setter\n",
        "    def fullname(self, name):\n",
        "        first, last = name.split(' ')\n",
        "        self.first = first\n",
        "        self.last = last\n",
        "    \n",
        "    @fullname.deleter\n",
        "    def fullname(self):\n",
        "        print('Deleted Name!')\n",
        "        self.first = None\n",
        "        self.last = None"
      ],
      "execution_count": null,
      "outputs": []
    },
    {
      "cell_type": "code",
      "metadata": {
        "id": "ng4e0rZomo6n"
      },
      "source": [],
      "execution_count": null,
      "outputs": []
    },
    {
      "cell_type": "code",
      "metadata": {
        "id": "hGO28AXKmo6p",
        "outputId": "2f87a23a-3378-485f-9fb4-f53afe9bfab8"
      },
      "source": [
        "emp_1 = Employee('John', 'Smith')\n",
        "emp_1.fullname = \"Corey Schafer\"\n",
        "\n",
        "print(emp_1.first)\n",
        "print(emp_1.email)\n",
        "print(emp_1.fullname)\n",
        "\n"
      ],
      "execution_count": null,
      "outputs": [
        {
          "output_type": "stream",
          "text": [
            "Corey\n",
            "Corey.Schafer@company.com\n",
            "Corey Schafer\n"
          ],
          "name": "stdout"
        }
      ]
    },
    {
      "cell_type": "code",
      "metadata": {
        "id": "BLJlqvO-mo6q",
        "outputId": "6dfc84ca-48f2-4da5-9a95-8a7fa104c87b"
      },
      "source": [
        "del emp_1.fullname"
      ],
      "execution_count": null,
      "outputs": [
        {
          "output_type": "stream",
          "text": [
            "Delete Name!\n"
          ],
          "name": "stdout"
        }
      ]
    },
    {
      "cell_type": "code",
      "metadata": {
        "id": "WjgppQUGmo7w"
      },
      "source": [],
      "execution_count": null,
      "outputs": []
    }
  ]
}