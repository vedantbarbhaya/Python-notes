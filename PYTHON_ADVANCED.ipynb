{
  "nbformat": 4,
  "nbformat_minor": 0,
  "metadata": {
    "colab": {
      "provenance": [],
      "collapsed_sections": [
        "im04Ao6mB7FF",
        "XyZVf4LMB7GK",
        "IPbuVzaMB7HM",
        "nFkKLjX2ORDC",
        "jfO7qgGku0tm",
        "sa7CyK2gz_zp",
        "7do8JIiNFj2U",
        "4fLE2GGNJ4DE",
        "uH5RjiffKWMx"
      ]
    },
    "kernelspec": {
      "name": "python3",
      "display_name": "Python 3"
    }
  },
  "cells": [
    {
      "cell_type": "markdown",
      "metadata": {
        "id": "im04Ao6mB7FF"
      },
      "source": [
        "# ERROR LOGGING"
      ]
    },
    {
      "cell_type": "code",
      "metadata": {
        "id": "Jx8vJVkWB7FF"
      },
      "source": [
        "# FOR COMPLETE INFORMATION ABOUT LOGGING CHECK THIS OUT - https://www.datacamp.com/community/tutorials/logging-in-python"
      ],
      "execution_count": null,
      "outputs": []
    },
    {
      "cell_type": "code",
      "metadata": {
        "id": "EYPQTEAzB7FG"
      },
      "source": [
        "# we carry out logging using the 'logging' module of the python\n",
        "\n",
        "import logging\n",
        "\n",
        "# There are 5 severity levels of logging:\n",
        "\n",
        "#    Debug (10): Useful for diagnosing issues in the code.\n",
        "\n",
        "#    Info (20): It can act as an acknowledgment that there are no bugs in the code. One good use-case of Info level logging is the progress of training a machine learning model.\n",
        "\n",
        "#    Warning (30): Indicative of a problem that could occur in the future. For example, a warning of a module that might be discontinued in the future or low-ram warning.\n",
        "\n",
        "#    Error (40): A serious bug in the code, could be a syntax error, out of memory error, exceptions.\n",
        "\n",
        "#    Critical (50): An error due to which the program might stop functioning or might exit abruptly"
      ],
      "execution_count": null,
      "outputs": []
    },
    {
      "cell_type": "code",
      "metadata": {
        "id": "_NCA7z0gB7FL",
        "outputId": "87ea73d6-73fd-4156-c68a-d8279d7e878f"
      },
      "source": [
        "# next we call the basicConfig() method, which helps you in creating a basic configuration for the logging system \n",
        "# to work smoothly.\n",
        "\n",
        "#It allows you to set the following parameters:\n",
        "\n",
        "# 1.the severity of the logging: the five levels of logging. \n",
        "# 2.log the events into a file.\n",
        "# 3.log only the current logs by overwriting the old ones using the filemode.\n",
        "# 4.file format in which logs are stored.\n",
        "\n",
        "logging.basicConfig()\n",
        "\n",
        "# The defualt severity level is 20 if the level is not mentioned\n",
        "\n",
        "# logging.info(\"A Info Logging Message\")     # will not throw a message as severity level is 20\n",
        "# logging.warning(\"A Warning Logging Message\") # will throw a message as severity level is 30\n"
      ],
      "execution_count": null,
      "outputs": [
        {
          "output_type": "stream",
          "text": [
            "WARNING:root:A Warning Logging Message\n",
            "ERROR:root:An Error Logging Message\n",
            "CRITICAL:root:A Critical Logging Message\n"
          ],
          "name": "stderr"
        }
      ]
    },
    {
      "cell_type": "code",
      "metadata": {
        "id": "VfvCCmEJB7FN"
      },
      "source": [
        "# ********* attributes of basicConfig() method **************"
      ],
      "execution_count": null,
      "outputs": []
    },
    {
      "cell_type": "code",
      "metadata": {
        "id": "ReqmgmU0B7FP"
      },
      "source": [
        "# 1. level of logging\n",
        "logging.basicConfig(level=logging.DEBUG)\n"
      ],
      "execution_count": null,
      "outputs": []
    },
    {
      "cell_type": "code",
      "metadata": {
        "id": "V2bAp9tVB7FQ"
      },
      "source": [
        "# 2. giving a logging file \n",
        "\n",
        "logging.basicConfig(level = logging.INFO, filename = 'datacamp.log') # By default, the file is in append mode."
      ],
      "execution_count": null,
      "outputs": []
    },
    {
      "cell_type": "code",
      "metadata": {
        "id": "D564q0J8B7FR"
      },
      "source": [
        "# 3. filemode of the log file\n",
        "\n",
        "# The filemode can be changed to write mode, which will overwrite the previous logs and only save the current ones.\n",
        "# Since the filemode is set to w, this means that the log file will be opened in write mode each time basicConfig() \n",
        "# is run, which will ultimately overwrite the file.\n",
        "\n",
        "logging.basicConfig(level = logging.INFO, filename = 'datacamp.log', filemode = 'w')"
      ],
      "execution_count": null,
      "outputs": []
    },
    {
      "cell_type": "code",
      "metadata": {
        "id": "tp_gAYk-B7FT",
        "outputId": "88aa51f4-842f-4a22-c19d-85ce49e9b520"
      },
      "source": [
        "\n",
        "# 4. Let's look at some more logging attributes like date, time, line number at which warning or error was\n",
        "#    generated. \n",
        "# In order for you to accomplish this, you will pass the logging attributes asctime,levelname and lineno. Also you will pass\n",
        "# the message attribute, which will be a placeholder for the message you would like to display for the logs.\n",
        "# All these attributes will be passed to the format method.\n",
        "\n",
        "logging.basicConfig(level = logging.DEBUG,format='Date-Time : %(asctime)s : Line No. : %(lineno)d : level name : %(levelname)s - %(message)s')\n",
        "\n",
        "# REFER TO logging_basics program "
      ],
      "execution_count": null,
      "outputs": [
        {
          "output_type": "stream",
          "text": [
            "WARNING:root:A Warning Logging Message\n",
            "ERROR:root:An Error Logging Message\n",
            "CRITICAL:root:A Critical Logging Message\n"
          ],
          "name": "stderr"
        }
      ]
    },
    {
      "cell_type": "code",
      "metadata": {
        "id": "y4iN6-AUB7FV"
      },
      "source": [
        "# HOW TO TURN OFF logging functions which we have inserted betweeen the code - using disable(level) method\n",
        "\n",
        "logging.disable(logging.CRITICAL)"
      ],
      "execution_count": null,
      "outputs": []
    },
    {
      "cell_type": "code",
      "metadata": {
        "id": "zwYQUtTDB7FW"
      },
      "source": [],
      "execution_count": null,
      "outputs": []
    },
    {
      "cell_type": "code",
      "metadata": {
        "id": "46R98fFrB7FY"
      },
      "source": [
        "# A regular expression (or RE) specifies a set of strings that matches it; the functions in this module let you \n",
        "# check if a particular string matches a given regular expression (or if a given regular expression matches a \n",
        "# particular string, which comes down to the same thing).\n",
        "\n",
        "# Regular expressions can be concatenated to form new regular expressions; if A and B are both regular expressions\n",
        "# ,then AB is also a regular expression. In general, if a string p matches A and another string q matches B, the\n",
        "# string pq will match AB. This holds unless A or B contain low precedence operations; boundary conditions between\n",
        "# A and B; or have numbered group references. Thus, complex expressions can easily be constructed from simpler \n",
        "# primitive expressions like the ones described here. For details of the theory and implementation of regular \n",
        "# expressions, consult the Friedl book [Frie09], or almost any textbook about compiler construction."
      ],
      "execution_count": null,
      "outputs": []
    },
    {
      "cell_type": "code",
      "metadata": {
        "id": "uY9Erf4KB7Fa"
      },
      "source": [
        "\n",
        "# *********CERTAIN IMPORTANT POINTS**********\n",
        "\n",
        "# Both patterns and strings to be searched can be Unicode strings (str) as well as 8-bit strings (bytes). \n",
        "# However, Unicode strings and 8-bit strings cannot be mixed: that is, you cannot match a Unicode string with a\n",
        "# byte pattern or vice-versa; similarly, when asking for a substitution, the replacement string must be of the \n",
        "# same type as both the pattern and the search string.\n",
        "\n",
        "# Python’s raw string notation for regular expression patterns is used; \n",
        "# backslashes are not handled in any special way in a string literal prefixed with 'r'. So r\"\\n\" is a \n",
        "# two-character string containing '\\' and 'n', while \"\\n\" is a one-character string containing a newline. \n",
        "# Usually patterns will be expressed in Python code using this raw string notation."
      ],
      "execution_count": null,
      "outputs": []
    },
    {
      "cell_type": "code",
      "metadata": {
        "id": "4LAatx-6B7Fc",
        "outputId": "8b824da2-d280-4b29-fe49-f3af4dc95ae9"
      },
      "source": [
        "# 1.compile() method and search() method\n",
        "# syntax - re.compile(pattern, flags=0)\n",
        "\n",
        "#Compile a regular expression pattern into a regular expression object, which can be used for matching using its \n",
        "# match(), search() and other methods, described below.\n",
        "\n",
        "# The expression’s behaviour can be modified by specifying a flags value. Values can be any of the following \n",
        "# variables, combined using bitwise OR (the | operator).\n",
        "\n",
        "\n",
        "# example - usa and canadian phone numbers are of the form 445-666-1234\n",
        "import re\n",
        "message = \"Call me at 445-555-1234 or if not reachable then at 445-555-4354\"\n",
        "expr = re.compile(r\"\\d\\d\\d-\\d\\d\\d-\\d\\d\\d\\d\") # \\d is used for numeric digits\n",
        "mo = expr.search(message) #returns an object called match object\n",
        "print(mo)\n",
        "print(mo.group())\n",
        "\n",
        "# 2. findall(str) method\n",
        "print(expr.findall(message)) #findall method returns all the matches for that RE inform of a list\n"
      ],
      "execution_count": null,
      "outputs": [
        {
          "output_type": "stream",
          "text": [
            "<re.Match object; span=(11, 23), match='445-555-1234'>\n",
            "445-555-1234\n",
            "['445-555-1234', '445-555-4354']\n"
          ],
          "name": "stdout"
        }
      ]
    },
    {
      "cell_type": "code",
      "metadata": {
        "id": "scUMpn7PB7Fe",
        "outputId": "b1094795-ffc4-4e0b-a9ff-0215d62b9679"
      },
      "source": [
        "message = \"Call me at 445-555-1234 or if not reachable then at 445-555-4354\"\n",
        "expr = re.compile(r\"(\\d\\d\\d)-(\\d\\d\\d-\\d\\d\\d\\d)\") # created 2 sep groups inside re\n",
        "mo = expr.search(message) \n",
        "print(mo.group(1)) #printing different groups \n",
        "print(mo.group(2))"
      ],
      "execution_count": null,
      "outputs": [
        {
          "output_type": "stream",
          "text": [
            "445\n",
            "555-1234\n"
          ],
          "name": "stdout"
        }
      ]
    },
    {
      "cell_type": "code",
      "metadata": {
        "id": "zu2FNPwbB7Ft",
        "outputId": "369ec6e7-60a3-4b20-bf3b-2a7936c21ff2"
      },
      "source": [
        "\n",
        "# METACHARACTERS\n",
        "\n",
        "# 1.\\\n",
        "\n",
        "# what if the number was of the format (415) 123-4567. Here we us \\( and \\) to indicate that () is a part of the \n",
        "# pattern\n",
        "\n",
        "message = \"Call me at (445) 555-1234 or if not reachable then at (445) 555-4354\"\n",
        "expr = re.compile(r\"\\(\\d\\d\\d\\) (\\d\\d\\d-\\d\\d\\d\\d)\") # created 2 sep groups inside re\n",
        "mo = expr.search(message) \n",
        "mo.group()"
      ],
      "execution_count": null,
      "outputs": [
        {
          "output_type": "execute_result",
          "data": {
            "text/plain": [
              "'(445) 555-1234'"
            ]
          },
          "metadata": {
            "tags": []
          },
          "execution_count": 17
        }
      ]
    },
    {
      "cell_type": "code",
      "metadata": {
        "id": "MzrehArzB7Fv",
        "outputId": "59e23759-8ebc-4f49-c5c0-0c070be3dc64"
      },
      "source": [
        "# 2. | (pipe) character\n",
        "\n",
        "# suppose we want to match words - batman, batmobile,batwoman, batcopter. All of them have bat as a prefix so we \n",
        "# can write a re of the following form using |# "
      ],
      "execution_count": null,
      "outputs": [
        {
          "output_type": "stream",
          "text": [
            "batmobile\n"
          ],
          "name": "stdout"
        }
      ]
    },
    {
      "cell_type": "code",
      "metadata": {
        "id": "NHQD81x2B7Fx",
        "outputId": "169b85e8-969d-4fab-bda8-f33ee357e1f1"
      },
      "source": [
        "# What to do when we want to match a certan pattern for certain number of repetitions\n",
        "# Regex has certain special characters which are used for certain specific use\n",
        "\n",
        "# 3. ? character - (0 or 1) time\n",
        "\n",
        "    # for example we want to write a re to match batwoman or batman. we can write re as (batman|batwoman)\n",
        "    \n",
        "    # we can shorten it using ? char\n",
        "\n",
        "batreg = re.compile(r'bat(wo)?man')\n",
        "gen = \"batwoman\"\n",
        "print(batreg.search(gen).group())\n",
        "\n",
        "\n",
        "# 4. * character - 0 or more times\n",
        "\n",
        "\n",
        "batreg = re.compile(r'bat(wo)*man')\n",
        "gen = \"batwowowowoman\"\n",
        "print(batreg.search(gen).group())\n",
        "\n",
        "# 5. + character - 1 or more times\n",
        "\n",
        "\n",
        "batreg = re.compile(r'bat(wo)+man')\n",
        "gen = \"batwowowowoman\"\n",
        "gen2 = \"batman\"\n",
        "print(batreg.search(gen).group())\n",
        "print(batreg.search(gen2))\n",
        "\n",
        "\n",
        "print()\n",
        "# escaping ?, * , + characters\n",
        "regexp = re.compile(r'\\?\\+\\*')\n",
        "msg = \"i learned about ?+* regex methods\"\n",
        "print(regexp.search(msg).group())\n",
        "\n",
        "print()\n",
        "\n",
        "# 6. {} character \n",
        "\n",
        "# matching specific number of repetitions in the group using {} braces\n",
        "regexp = re.compile(r'(ha){3}')\n",
        "msg = 'hahaha'\n",
        "msg2 = 'haha'\n",
        "print(regexp.search(msg))\n",
        "print(regexp.search(msg2))\n",
        "\n",
        "\n",
        "print()\n",
        "regexp = re.compile(r'(ha){3,5}') #atleast 3 and atmost 5\n",
        "msg = 'hahaha'\n",
        "msg2 = 'haha'\n",
        "msg3 = \"hahahaha\"\n",
        "print(regexp.search(msg))\n",
        "print(regexp.search(msg2))\n",
        "print(regexp.search(msg3))\n",
        "\n",
        "# uses same concept as slicing\n",
        "regexp = re.compile(r'(ha){3,}') #atleast 3 and atmost any number"
      ],
      "execution_count": null,
      "outputs": [
        {
          "output_type": "stream",
          "text": [
            "batwoman\n",
            "batwowowowoman\n",
            "batwowowowoman\n",
            "None\n",
            "\n",
            "?+*\n",
            "\n",
            "<re.Match object; span=(0, 6), match='hahaha'>\n",
            "None\n",
            "\n",
            "<re.Match object; span=(0, 6), match='hahaha'>\n",
            "None\n",
            "<re.Match object; span=(0, 8), match='hahahaha'>\n"
          ],
          "name": "stdout"
        }
      ]
    },
    {
      "cell_type": "code",
      "metadata": {
        "id": "lRMc3wluB7Fy",
        "outputId": "78860081-960c-41aa-ec99-77a548b23e68"
      },
      "source": [
        "# in python, RE does greedy matching meaning they match the longest possible string. For example\n",
        "\n",
        "reg = re.compile(r'\\d{3,5}')\n",
        "mo = reg.search('123456789')\n",
        "print(mo.group()) # it could have matched 3 or 4 chars but matched max possible char which was 5\n",
        "\n",
        "# how to do a non greedy match? \n",
        "reg = re.compile(r'\\d{3,5}?') # to do a non greedy match, put a ? (diff from above one) after such an expression\n",
        "mo = reg.search('123456789')\n",
        "print(mo.group()) \n"
      ],
      "execution_count": null,
      "outputs": [
        {
          "output_type": "stream",
          "text": [
            "12345\n",
            "123\n"
          ],
          "name": "stdout"
        }
      ]
    },
    {
      "cell_type": "code",
      "metadata": {
        "id": "C_5fojQJB7F0",
        "outputId": "ea17299f-2d2e-42a8-abca-0c296df6d560"
      },
      "source": [
        "# find all method\n",
        "import re\n",
        "message = \"Call me at 445-555-1234 or if not reachable then at 445-555-4354\"\n",
        "expr = re.compile(r\"\\d\\d\\d-\\d\\d\\d-\\d\\d\\d\\d\") # \\d is used for numeric digits\n",
        "\n",
        "# if the RE has 0 or 1 group in it, findall wil return a list of strings\n",
        "print(expr.findall(message)) \n",
        "\n",
        "expr = re.compile(r\"(\\d\\d\\d)-(\\d\\d\\d-\\d\\d\\d\\d)\") # \\d is used for numeric digits\n",
        "\n",
        "# if the RE has 2 or more group in it, findall wil return a list of tuples where each tuple will have orders\n",
        "print(expr.findall(message)) \n",
        "\n"
      ],
      "execution_count": null,
      "outputs": [
        {
          "output_type": "stream",
          "text": [
            "['445-555-1234', '445-555-4354']\n",
            "[('445', '555-1234'), ('445', '555-4354')]\n"
          ],
          "name": "stdout"
        }
      ]
    },
    {
      "cell_type": "code",
      "metadata": {
        "id": "oBoZeoX_B7F2",
        "outputId": "3a14d47d-5645-4682-aff9-fdc4a6597de8"
      },
      "source": [
        "# character classes\n",
        "\n",
        "# \\d - any numeric digit from 0 to 9\n",
        "# \\D - any character that is not numeric digit from 0 to 9\n",
        "# \\w - any letter, digit or underscore character \n",
        "# \\W - any character that is not a letter, digit or underscore character \n",
        "# \\s - any space, tab or newline character\n",
        "# \\S - any character that is not a space, tab or newline character\n",
        "\n",
        "# HOW TO MAKE YOUR OWN CHARACTER CLASSES?\n",
        "# ANS - using [] brackets - square brackets specifies a set of characters you wish to match.\n",
        "\n",
        "# for example, we want to have a RE to match vowels, we can either write is as (a|e|i|o|u) or\n",
        "\n",
        "vowelre = re.compile(r'[aeiou]')\n",
        "word = 'hippopotamus'\n",
        "print(vowelre.findall(word))\n",
        "\n",
        "# lets say we want to identify all the lowercase letters\n",
        "sentence = \"THis Is A Mix SenTeNCe\"\n",
        "vowelre = re.compile(r'[a-z]')\n",
        "print(vowelre.findall(sentence))\n",
        "# we can use notation like [a-f] to find a specific set of alphabets also\n",
        "\n",
        "sentence = \"THis Is A Mix SenTeNCe\"\n",
        "vowelre = re.compile(r'[a-zA-Z]') #both capital and lowercase letters\n",
        "print(vowelre.findall(sentence))\n",
        "\n",
        "# now we can combine [] brackets with other special characters\n",
        "sentence = \"robocop eats baby food\"\n",
        "vowelre = re.compile(r'[aeiou]{2}') #meaning 2 vowels should come together\n",
        "print(vowelre.findall(sentence))\n",
        "\n",
        "# NEGATIVE CHARACTER CLASS\n",
        "# by adding a caret (^) symbol, we make  a negative character class. For example\n",
        "\n",
        "vowelre = re.compile(r'[^aeiou]')\n",
        "word = 'hippopotamus'\n",
        "print(vowelre.findall(word)) #prints all the consonants\n"
      ],
      "execution_count": null,
      "outputs": [
        {
          "output_type": "stream",
          "text": [
            "['i', 'o', 'o', 'a', 'u']\n",
            "['i', 's', 's', 'i', 'x', 'e', 'n', 'e', 'e']\n",
            "['T', 'H', 'i', 's', 'I', 's', 'A', 'M', 'i', 'x', 'S', 'e', 'n', 'T', 'e', 'N', 'C', 'e']\n",
            "['ea', 'oo']\n",
            "['h', 'p', 'p', 'p', 't', 'm', 's']\n"
          ],
          "name": "stdout"
        }
      ]
    },
    {
      "cell_type": "code",
      "metadata": {
        "id": "AYwetFOVB7F4",
        "outputId": "0bac0c5a-2dc0-4395-938a-cb39592510fd"
      },
      "source": [
        "# (^) symbol and ($) symbol\n",
        "\n",
        "# The caret symbol ^ is used to check if a string starts with a certain character.\n",
        "# The dollar symbol $ is used to check if a string ends with a certain character.\n",
        "\n",
        "msg1 = 'hello my name is vedant'\n",
        "msg2 = 'hello, how are you vedant'\n",
        "msg3 = 'a hello a day.'\n",
        "\n",
        "exreg = re.compile(r'^hello')\n",
        "print(exreg.match(msg1))\n",
        "print(exreg.match(msg2))\n",
        "print(exreg.match(msg3))\n",
        "\n",
        "print()\n",
        "exreg = re.compile(r'vedant$')\n",
        "print(exreg.search(msg1))\n",
        "print(exreg.search(msg2))\n",
        "print(exreg.search(msg3))\n",
        "\n",
        "\n",
        "# regex to search an all digit word\n",
        "print()\n",
        "exreg = re.compile(r'^\\d+$')\n",
        "print(exreg.search('11234'))\n",
        "print(exreg.search('1123a'))"
      ],
      "execution_count": null,
      "outputs": [
        {
          "output_type": "stream",
          "text": [
            "<re.Match object; span=(0, 5), match='hello'>\n",
            "<re.Match object; span=(0, 5), match='hello'>\n",
            "None\n",
            "\n",
            "<re.Match object; span=(17, 23), match='vedant'>\n",
            "<re.Match object; span=(19, 25), match='vedant'>\n",
            "None\n",
            "\n",
            "<re.Match object; span=(0, 5), match='11234'>\n",
            "None\n"
          ],
          "name": "stdout"
        }
      ]
    },
    {
      "cell_type": "code",
      "metadata": {
        "id": "nigeWhnoB7F5",
        "outputId": "99353416-3d57-4b5c-a754-de9cf03e5a97"
      },
      "source": [
        "# wildcard dot(.) character \n",
        "# stands for any character except newline character (\\n)\n",
        "\n",
        "exreg = re.compile(r'.at')\n",
        "print(exreg.findall(\"the cat in the hat sat on the flat mat.\"))\n",
        "\n",
        "# if you notice the above o/p, flat is not matched as the dot character only looks for a single character\n",
        "exreg = re.compile(r'..at')\n",
        "print(exreg.findall(\"the cat in the hat sat on the flat mat.\"))\n",
        "# the same thing can be written as \n",
        "exreg = re.compile(r'.{1,2}at')\n",
        "print(exreg.findall(\"the cat in the hat sat on the flat mat.\"))"
      ],
      "execution_count": null,
      "outputs": [
        {
          "output_type": "stream",
          "text": [
            "['cat', 'hat', 'sat', 'lat', 'mat']\n",
            "[' cat', ' hat', ' sat', 'flat', ' mat']\n",
            "[' cat', ' hat', ' sat', 'flat', ' mat']\n"
          ],
          "name": "stdout"
        }
      ]
    },
    {
      "cell_type": "code",
      "metadata": {
        "id": "YVrU3Ip0B7F6",
        "outputId": "2317efde-5086-47e8-ffc5-b65001fcf9e9"
      },
      "source": [
        "# dot star wildcard character (.*) \n",
        "# dot means any character and * means 0 or more times so dot star character means any pattern whatsoever\n",
        "\n",
        "# example:\n",
        "\n",
        "str = \"First name: Vedant Last name: Barbhaya\"\n",
        "# how to get the first name and last name of a person from such a string\n",
        "regexp = re.compile(r'First name: (.*) Last name: (.*)')\n",
        "mo = regexp.search(str)\n",
        "print(mo.group(1))\n",
        "print(mo.group(2))"
      ],
      "execution_count": null,
      "outputs": [
        {
          "output_type": "stream",
          "text": [
            "Vedant\n",
            "Barbhaya\n"
          ],
          "name": "stdout"
        }
      ]
    },
    {
      "cell_type": "code",
      "metadata": {
        "id": "cvvqWZOFB7F9",
        "outputId": "b974444f-ea66-4d44-996a-053bd636234b"
      },
      "source": [
        "# .* is a greedy match. .*? is the same implementation of it in a non greedy way\n",
        "#example\n",
        "\n",
        "serve = '<to serve fish> in the dinner>'\n",
        "#non greedy approach\n",
        "regexp = re.compile('<.*?>')\n",
        "print(regexp.findall(serve))\n",
        "\n",
        "#greedy aproach\n",
        "print()\n",
        "regexp = re.compile('<.*>')\n",
        "print(regexp.findall(serve))"
      ],
      "execution_count": null,
      "outputs": [
        {
          "output_type": "stream",
          "text": [
            "['<to serve fish>']\n",
            "\n",
            "['<to serve fish> in the dinner>']\n"
          ],
          "name": "stdout"
        }
      ]
    },
    {
      "cell_type": "code",
      "metadata": {
        "id": "bJTyY7mRB7F_",
        "outputId": "e8b7e251-2e3d-441b-8ad0-d90aa6cea17b"
      },
      "source": [
        "# How to include newline char in the dot method\n",
        "\n",
        "primedir = \"serve the public.\\nHelp the innocent.\\nUphold the law.\"\n",
        "print(primedir)\n",
        "regexp = re.compile(r'.*',re.DOTALL) # we pass one more argument to the regular expression\n",
        "print(regexp.search(primedir))\n",
        "\n",
        "# another imp argument is re.IGNORECASE which as the name suggests, ignores the case of the string"
      ],
      "execution_count": null,
      "outputs": [
        {
          "output_type": "stream",
          "text": [
            "serve the public.\n",
            "Help the innocent.\n",
            "Uphold the law.\n",
            "<re.Match object; span=(0, 52), match='serve the public.\\nHelp the innocent.\\nUphold the>\n"
          ],
          "name": "stdout"
        }
      ]
    },
    {
      "cell_type": "code",
      "metadata": {
        "id": "7rDcXZX0B7GB",
        "outputId": "f50a2678-3d77-496a-e012-a32f5d40208c"
      },
      "source": [
        "# sub() method\n",
        "\n",
        "# this is like a find and substitute method\n",
        "# 2 ways to use to it:\n",
        "# The syntax of re.sub() is:\n",
        "\n",
        "# re.sub(pattern, replace, string)\n",
        "\n",
        "import re\n",
        "\n",
        "# multiline string\n",
        "string = 'abc 12\\\n",
        "de 23 \\n f45 6'\n",
        "\n",
        "# matches all whitespace characters\n",
        "pattern = '\\s+'\n",
        "\n",
        "# empty string\n",
        "replace = ''\n",
        "\n",
        "new_string = re.sub(pattern, replace, string) \n",
        "print(new_string)\n",
        "\n",
        "# can also be used like this\n",
        "\n",
        "pattern = re.compile(\"\\s+\")\n",
        "print(pattern.sub(replace, string))\n",
        "\n",
        "# using \\1, \\2 to select groups to substitute\n",
        "\n",
        "namesRegex = re.compile(r\"Agent (\\w)(\\w*)\")\n",
        "namesRegex.sub(r\"Agent \\1****\",\"Agent alice gave the secret documents to Agent Bob\")"
      ],
      "execution_count": null,
      "outputs": [
        {
          "output_type": "stream",
          "text": [
            "abc12de23f456\n",
            "abc12de23f456\n"
          ],
          "name": "stdout"
        },
        {
          "output_type": "execute_result",
          "data": {
            "text/plain": [
              "'Agent a**** gave the secret documents to Agent B****'"
            ]
          },
          "metadata": {
            "tags": []
          },
          "execution_count": 8
        }
      ]
    },
    {
      "cell_type": "code",
      "metadata": {
        "id": "uZ5voen3B7GC"
      },
      "source": [
        "# re.IGNORECASE or re.I extension to the compile method\n",
        "pattern = re.compile(\"\\s+\", re.IGNORECASE)"
      ],
      "execution_count": null,
      "outputs": []
    },
    {
      "cell_type": "code",
      "metadata": {
        "id": "-_VHd1uyB7GE"
      },
      "source": [
        "# COMBINING DIFFERENT EXTENSIONS\n",
        "# re.compile method can take only 2 arguments so how do we pass multiple extensions?\n",
        "# By combining different extensions with a bitwise OR (|) operator\n",
        "pattern = re.compile(\"\\s+\", re.IGNORECASE | re.DOTALL | re.VERBOSE)"
      ],
      "execution_count": null,
      "outputs": []
    },
    {
      "cell_type": "code",
      "metadata": {
        "id": "DgpmmORRB7GG",
        "outputId": "2445a4d5-40ae-4522-d226-deb9cdfe269f"
      },
      "source": [
        "# Match object\n",
        "\n",
        "# You can get methods and attributes of a match object using dir() function.\n",
        "\n",
        "# Some of the commonly used methods and attributes of match objects are:\n",
        "#  1. match.group()\n",
        "\n",
        "# The group() method returns the part of the string where there is a match.\n",
        "\n",
        "\n",
        "import re\n",
        "\n",
        "string = '39801 356, 2102 1111'\n",
        "pattern = '(\\d{3}) (\\d{2})'\n",
        "match = re.search(pattern, string) \n",
        "\n",
        "if match:\n",
        "  print(match.group())\n",
        "else:\n",
        "  print(\"pattern not found\")\n",
        "\n",
        "# 2. match.start() and match.end()\n",
        "\n",
        "# The start() function returns the index of the start of the matched substring. Similarly, end() returns the end \n",
        "# index of the matched substring.\n",
        "print(match.start())\n",
        "print(match.end())\n",
        "\n",
        "# 3. match.span()\n",
        "\n",
        "print(match.span())"
      ],
      "execution_count": null,
      "outputs": [
        {
          "output_type": "stream",
          "text": [
            "801 35\n",
            "2\n",
            "8\n",
            "(2, 8)\n"
          ],
          "name": "stdout"
        }
      ]
    },
    {
      "cell_type": "code",
      "metadata": {
        "id": "sdDezV3Hjkq9"
      },
      "source": [],
      "execution_count": null,
      "outputs": []
    },
    {
      "cell_type": "markdown",
      "metadata": {
        "id": "XyZVf4LMB7GK"
      },
      "source": [
        "# ITERATORS AND ITERABLES"
      ]
    },
    {
      "cell_type": "code",
      "metadata": {
        "id": "5GV1qmF_B7GK"
      },
      "source": [
        "# https://www.youtube.com/watch?v=jTYiNjvnHZY\n",
        "\n",
        "'''\n",
        "EXPLANATION 1\n",
        "\n",
        "Iterators are everywhere in Python. They are elegantly implemented within for loops, comprehensions, \n",
        "generators etc. but are hidden in plain sight.\n",
        "\n",
        "Iterator in Python is simply an object that can be iterated upon. An object which will return data, one \n",
        "element at a time.\n",
        "\n",
        "Technically speaking, a Python iterator object must implement two special methods, __iter__() and __next__(),\n",
        "collectively called the iterator protocol.\n",
        "\n",
        "An object is called iterable if we can get an iterator from it. Most built-in containers in Python like: list, \n",
        "tuple, string etc. are iterables.\n",
        "\n",
        "The iter() function (which in turn calls the __iter__() method) returns an iterator from them.\n",
        "\n",
        "We use the next() function to manually iterate through all the items of an iterator. When we reach the end and \n",
        "there is no more data to be returned, it will raise the StopIteration Exception.\n",
        "\n",
        "'''"
      ],
      "execution_count": null,
      "outputs": []
    },
    {
      "cell_type": "code",
      "metadata": {
        "id": "SACK1VnIB7GM",
        "outputId": "f503b841-4f70-4681-a083-9ff5f7a5612e"
      },
      "source": [
        "# define a list\n",
        "my_list = [4, 7, 0, 3]\n",
        "\n",
        "# get an iterator using iter()\n",
        "my_iter = iter(my_list)\n",
        "\n",
        "# iterate through it using next()\n",
        "\n",
        "# Output: 4\n",
        "print(next(my_iter))\n",
        "\n",
        "# Output: 7\n",
        "print(next(my_iter))\n",
        "\n",
        "# next(obj) is same as obj.__next__()\n",
        "\n",
        "# Output: 0\n",
        "print(my_iter.__next__())\n",
        "\n",
        "# Output: 3\n",
        "print(my_iter.__next__())\n",
        "\n",
        "# This will raise error, no items left\n",
        "next(my_iter)"
      ],
      "execution_count": null,
      "outputs": [
        {
          "output_type": "stream",
          "text": [
            "4\n",
            "7\n",
            "0\n",
            "3\n"
          ],
          "name": "stdout"
        },
        {
          "output_type": "error",
          "ename": "StopIteration",
          "evalue": "",
          "traceback": [
            "\u001b[0;31m---------------------------------------------------------------------------\u001b[0m",
            "\u001b[0;31mStopIteration\u001b[0m                             Traceback (most recent call last)",
            "\u001b[0;32m<ipython-input-13-f674730df03a>\u001b[0m in \u001b[0;36m<module>\u001b[0;34m\u001b[0m\n\u001b[1;32m     22\u001b[0m \u001b[0;34m\u001b[0m\u001b[0m\n\u001b[1;32m     23\u001b[0m \u001b[0;31m# This will raise error, no items left\u001b[0m\u001b[0;34m\u001b[0m\u001b[0;34m\u001b[0m\u001b[0;34m\u001b[0m\u001b[0m\n\u001b[0;32m---> 24\u001b[0;31m \u001b[0mnext\u001b[0m\u001b[0;34m(\u001b[0m\u001b[0mmy_iter\u001b[0m\u001b[0;34m)\u001b[0m\u001b[0;34m\u001b[0m\u001b[0;34m\u001b[0m\u001b[0m\n\u001b[0m",
            "\u001b[0;31mStopIteration\u001b[0m: "
          ]
        }
      ]
    },
    {
      "cell_type": "code",
      "metadata": {
        "id": "BOs5CPgCB7GO",
        "outputId": "12e80b4b-c640-4c74-a703-0dd2875d1d6f"
      },
      "source": [
        "\n",
        "'''\n",
        "EXPLANATION 2\n",
        "\n",
        "What is an iterator?\n",
        "Iterators are objects that can be iterated over like we do in a for loop. We can also say\n",
        "that an iterator is an object, which returns data, one element at a time. That is, they do not do any work \n",
        "until we explicitly ask for their next item. They work on a principle, which is known in computer science as\n",
        "lazy evaluation. Lazy evaluation is an evaluation strategy which delays the evaluation of an expression until\n",
        "its value is really needed. Due to the laziness of Python iterators, they are a great way to deal with\n",
        "infinity, i.e. iterables which can iterate for ever. You can hardly find Python programs that are not teaming \n",
        "with iterators.\n",
        "\n",
        "Iterators are a fundamental concept of Python. You already learned that you can\n",
        "iterate over container objects such as lists and strings. To do this, Python creates an iterator version of \n",
        "the list or string. In this case, an iterator can be seen as a pointer to a container, which enables us to \n",
        "iterate over all the elements of this container. An iterator is an abstraction, which enables the programmer\n",
        "to access all the elements of an iterable object (a set, a string, a list etc.) without any deeper knowledge \n",
        "of the data structure of this object.\n",
        "\n",
        "Generators are a special kind of function, which enable us to implement or generate iterators.\n",
        "\n",
        "Mostly, iterators are implicitly used, like in the for-loop of Python. We demonstrate this in the following \n",
        "example. We are iterating over a list, but you shouldn't be mistaken: A list is not an iterator, but it can\n",
        "be used like an iterator:\n",
        "\n",
        "'''\n",
        "\n",
        "cities = [\"Paris\", \"Berlin\", \"Hamburg\", \n",
        "          \"Frankfurt\", \"London\", \"Vienna\", \n",
        "          \"Amsterdam\", \"Den Haag\"]\n",
        "for location in cities:\n",
        "    print(\"location: \" + location)"
      ],
      "execution_count": null,
      "outputs": [
        {
          "output_type": "stream",
          "text": [
            "location: Paris\n",
            "location: Berlin\n",
            "location: Hamburg\n",
            "location: Frankfurt\n",
            "location: London\n",
            "location: Vienna\n",
            "location: Amsterdam\n",
            "location: Den Haag\n"
          ],
          "name": "stdout"
        }
      ]
    },
    {
      "cell_type": "code",
      "metadata": {
        "id": "YNHP_UVsB7GR"
      },
      "source": [
        "'''\n",
        "What is really is going on when a for loop is executed? The function 'iter' is applied to the object following\n",
        "the 'in' keyword, e.g. for i in o:. Two cases are possible: o is either iterable or not. If o is not iterable,\n",
        "an exception will be raised, saying that the type of the object is not iterable. On the other hand, if o is\n",
        "iterable the call iter(o) will return an iterator, let us call it iterator_obj The for loop uses this \n",
        "iterator to iterate over the object o by using the next method. The for loop stops when next(iterator_obj) \n",
        "is exhausted, which means it returns a StopIteration exception. We demonstrate this behaviour in the following \n",
        "code example:\n",
        "'''\n",
        "expertises = [\"Python Beginner\", \n",
        "              \"Python Intermediate\", \n",
        "              \"Python Proficient\", \n",
        "              \"Python Advanced\"]\n",
        "expertises_iterator = iter(expertises)"
      ],
      "execution_count": null,
      "outputs": []
    },
    {
      "cell_type": "code",
      "metadata": {
        "id": "AeLbK6QXB7GS",
        "outputId": "9afc9404-f3c8-44f1-9af9-5e1e7a1a6b5a"
      },
      "source": [
        "next(expertises_iterator)"
      ],
      "execution_count": null,
      "outputs": [
        {
          "output_type": "execute_result",
          "data": {
            "text/plain": [
              "'Python Intermediate'"
            ]
          },
          "metadata": {
            "tags": []
          },
          "execution_count": 6
        }
      ]
    },
    {
      "cell_type": "code",
      "metadata": {
        "id": "ypRLi3q1B7GV",
        "outputId": "8bdc9b58-46cb-498f-a476-b87c820fc3b4"
      },
      "source": [
        "next(expertises_iterator)"
      ],
      "execution_count": null,
      "outputs": [
        {
          "output_type": "execute_result",
          "data": {
            "text/plain": [
              "'Python Proficient'"
            ]
          },
          "metadata": {
            "tags": []
          },
          "execution_count": 7
        }
      ]
    },
    {
      "cell_type": "code",
      "metadata": {
        "id": "xUvhRUXdB7GY",
        "outputId": "ed7d539d-73b7-4b45-b309-523b5912197d"
      },
      "source": [
        "next(expertises_iterator)"
      ],
      "execution_count": null,
      "outputs": [
        {
          "output_type": "execute_result",
          "data": {
            "text/plain": [
              "'Python Advanced'"
            ]
          },
          "metadata": {
            "tags": []
          },
          "execution_count": 8
        }
      ]
    },
    {
      "cell_type": "code",
      "metadata": {
        "id": "sFqqNP2WB7Ga",
        "outputId": "638dd466-d7a4-4185-f582-d155a1b45057"
      },
      "source": [
        "next(expertises_iterator)"
      ],
      "execution_count": null,
      "outputs": [
        {
          "output_type": "error",
          "ename": "StopIteration",
          "evalue": "",
          "traceback": [
            "\u001b[0;31m---------------------------------------------------------------------------\u001b[0m",
            "\u001b[0;31mStopIteration\u001b[0m                             Traceback (most recent call last)",
            "\u001b[0;32m<ipython-input-18-dcb1a840b56a>\u001b[0m in \u001b[0;36m<module>\u001b[0;34m\u001b[0m\n\u001b[0;32m----> 1\u001b[0;31m \u001b[0mnext\u001b[0m\u001b[0;34m(\u001b[0m\u001b[0mexpertises_iterator\u001b[0m\u001b[0;34m)\u001b[0m\u001b[0;34m\u001b[0m\u001b[0;34m\u001b[0m\u001b[0m\n\u001b[0m",
            "\u001b[0;31mStopIteration\u001b[0m: "
          ]
        }
      ]
    },
    {
      "cell_type": "code",
      "metadata": {
        "id": "O6u5HDD8B7Gc"
      },
      "source": [],
      "execution_count": null,
      "outputs": []
    },
    {
      "cell_type": "markdown",
      "metadata": {
        "id": "QEcA7_StB7Gd"
      },
      "source": [
        "**Working of for loop for Iterators**"
      ]
    },
    {
      "cell_type": "code",
      "metadata": {
        "id": "4AtnVN-dB7Ge"
      },
      "source": [
        "'''\n",
        "for loop can iterate over any iterable. \n",
        "Let's take a closer look at how the for loop is actually implemented in Python.\n",
        "\n",
        "\n",
        " for element in iterable:\n",
        "    # do something with element\n",
        "\n",
        "Is actually implemented as.\n",
        "\n",
        "# create an iterator object from that iterable\n",
        "iter_obj = iter(iterable)\n",
        "\n",
        "# infinite loop\n",
        "while True:\n",
        "    try:\n",
        "        # get the next item\n",
        "        element = next(iter_obj)\n",
        "        # do something with element\n",
        "    except StopIteration:\n",
        "        # if StopIteration is raised, break from loop\n",
        "        break\n",
        "\n",
        "# So internally, the for loop creates an iterator object, iter_obj by calling iter() on the iterable.\n",
        "\n",
        "'''"
      ],
      "execution_count": null,
      "outputs": []
    },
    {
      "cell_type": "code",
      "metadata": {
        "id": "8aG-uvHHB7Gg"
      },
      "source": [],
      "execution_count": null,
      "outputs": []
    },
    {
      "cell_type": "markdown",
      "metadata": {
        "id": "xFwNqEcYB7Gh"
      },
      "source": [
        "## Implementing an Iterator"
      ]
    },
    {
      "cell_type": "code",
      "metadata": {
        "id": "3_rh2LUCB7Gh"
      },
      "source": [
        "#  way to create iterators in Python is defining a class which implements the methods __init__ and __next__\n",
        "\n",
        "# The __iter__() method returns the iterator object itself. If required, some initialization can be performed.\n",
        "\n",
        "# The __next__() method must return the next item in the sequence. On reaching the end, and in subsequent calls,\n",
        "# it must raise StopIteration."
      ],
      "execution_count": null,
      "outputs": []
    },
    {
      "cell_type": "code",
      "metadata": {
        "id": "gnNt-VNGB7Gj"
      },
      "source": [
        "class PowofTwo():\n",
        "    \n",
        "    def __init__(self,max):\n",
        "        self.max = max\n",
        "    \n",
        "    def __iter__(self):\n",
        "        self.n = 0\n",
        "        return self\n",
        "\n",
        "    def __next__(self):\n",
        "        if self.n <=self.max:\n",
        "            result = 2**self.n\n",
        "            self.n+=1\n",
        "            return result\n",
        "            \n",
        "        else:\n",
        "            raise StopIteration"
      ],
      "execution_count": null,
      "outputs": []
    },
    {
      "cell_type": "code",
      "metadata": {
        "id": "0yl-Y91SB7Gk"
      },
      "source": [
        "numbers = PowofTwo(4)"
      ],
      "execution_count": null,
      "outputs": []
    },
    {
      "cell_type": "code",
      "metadata": {
        "id": "eziQZDUeB7Gm"
      },
      "source": [
        "# create an iterable from the object\n",
        "i = iter(numbers)"
      ],
      "execution_count": null,
      "outputs": []
    },
    {
      "cell_type": "code",
      "metadata": {
        "id": "tIfuklSUB7Gq",
        "outputId": "bffb6ba8-e19b-4252-bf1f-5ae67342256f"
      },
      "source": [
        "# Using next to get to the next iterator element\n",
        "print(next(i))"
      ],
      "execution_count": null,
      "outputs": [
        {
          "output_type": "stream",
          "text": [
            "1\n"
          ],
          "name": "stdout"
        }
      ]
    },
    {
      "cell_type": "code",
      "metadata": {
        "id": "wNqJD6bxB7Gs",
        "outputId": "de257ef7-4931-4e70-f485-9045ccd76a79"
      },
      "source": [
        "print(next(i))"
      ],
      "execution_count": null,
      "outputs": [
        {
          "output_type": "stream",
          "text": [
            "2\n"
          ],
          "name": "stdout"
        }
      ]
    },
    {
      "cell_type": "code",
      "metadata": {
        "id": "r5o2_SEBB7Gw",
        "outputId": "8ecd714e-c97a-4f63-9a4a-eb81d927107a"
      },
      "source": [
        "print(next(i))"
      ],
      "execution_count": null,
      "outputs": [
        {
          "output_type": "stream",
          "text": [
            "4\n"
          ],
          "name": "stdout"
        }
      ]
    },
    {
      "cell_type": "code",
      "metadata": {
        "id": "Mlcc2HCPB7Gx",
        "outputId": "79c8311d-6964-4382-d3fb-729bee439c49"
      },
      "source": [
        "print(next(i))"
      ],
      "execution_count": null,
      "outputs": [
        {
          "output_type": "stream",
          "text": [
            "8\n"
          ],
          "name": "stdout"
        }
      ]
    },
    {
      "cell_type": "code",
      "metadata": {
        "id": "BAWFpMFjB7Gz",
        "outputId": "0aa3c1ec-f4ba-43fd-c61d-8048a98400b8"
      },
      "source": [
        "print(next(i))"
      ],
      "execution_count": null,
      "outputs": [
        {
          "output_type": "stream",
          "text": [
            "16\n"
          ],
          "name": "stdout"
        }
      ]
    },
    {
      "cell_type": "code",
      "metadata": {
        "id": "_gDtsj2eB7G0",
        "outputId": "33b8f7ec-3fa8-4603-e302-eede34904507"
      },
      "source": [
        "print(next(i))"
      ],
      "execution_count": null,
      "outputs": [
        {
          "output_type": "error",
          "ename": "StopIteration",
          "evalue": "",
          "traceback": [
            "\u001b[0;31m---------------------------------------------------------------------------\u001b[0m",
            "\u001b[0;31mStopIteration\u001b[0m                             Traceback (most recent call last)",
            "\u001b[0;32m<ipython-input-21-58c5a451ce44>\u001b[0m in \u001b[0;36m<module>\u001b[0;34m\u001b[0m\n\u001b[0;32m----> 1\u001b[0;31m \u001b[0mprint\u001b[0m\u001b[0;34m(\u001b[0m\u001b[0mnext\u001b[0m\u001b[0;34m(\u001b[0m\u001b[0mi\u001b[0m\u001b[0;34m)\u001b[0m\u001b[0;34m)\u001b[0m\u001b[0;34m\u001b[0m\u001b[0;34m\u001b[0m\u001b[0m\n\u001b[0m",
            "\u001b[0;32m<ipython-input-13-15e3101db56f>\u001b[0m in \u001b[0;36m__next__\u001b[0;34m(self)\u001b[0m\n\u001b[1;32m     15\u001b[0m \u001b[0;34m\u001b[0m\u001b[0m\n\u001b[1;32m     16\u001b[0m         \u001b[0;32melse\u001b[0m\u001b[0;34m:\u001b[0m\u001b[0;34m\u001b[0m\u001b[0;34m\u001b[0m\u001b[0m\n\u001b[0;32m---> 17\u001b[0;31m             \u001b[0;32mraise\u001b[0m \u001b[0mStopIteration\u001b[0m\u001b[0;34m\u001b[0m\u001b[0;34m\u001b[0m\u001b[0m\n\u001b[0m",
            "\u001b[0;31mStopIteration\u001b[0m: "
          ]
        }
      ]
    },
    {
      "cell_type": "code",
      "metadata": {
        "id": "ImZEu42KB7G2",
        "outputId": "544044b8-4203-4ecb-c035-a0cfd98a8c0b"
      },
      "source": [
        "# We can also use a for loop to iterate over our iterator class.\n",
        "\n",
        "for i in PowofTwo(5):\n",
        "     print(i)"
      ],
      "execution_count": null,
      "outputs": [
        {
          "output_type": "stream",
          "text": [
            "1\n",
            "2\n",
            "4\n",
            "8\n",
            "16\n",
            "32\n"
          ],
          "name": "stdout"
        }
      ]
    },
    {
      "cell_type": "code",
      "metadata": {
        "id": "LDKa9hLHB7G3"
      },
      "source": [],
      "execution_count": null,
      "outputs": []
    },
    {
      "cell_type": "code",
      "metadata": {
        "id": "7LZsMLJxB7G5"
      },
      "source": [
        "# ANOTHER EXAMPLE WHERE WE CREATE ITERABLE OBJECT INSIDE THE CLASS ITSELF"
      ],
      "execution_count": null,
      "outputs": []
    },
    {
      "cell_type": "code",
      "metadata": {
        "id": "AZG1O7CdB7G8",
        "outputId": "0c45507d-4f1e-4e48-8580-2882cf131c5a"
      },
      "source": [
        "\n",
        "\n",
        "class Cycle(object):\n",
        "    \n",
        "    def __init__(self, iterable):\n",
        "        self.iterable = iterable\n",
        "        self.iter_obj = iter(iterable)\n",
        "\n",
        "    def __iter__(self):\n",
        "        return self\n",
        "\n",
        "    def __next__(self):\n",
        "        while True:\n",
        "            try:\n",
        "                next_obj = next(self.iter_obj)\n",
        "                return next_obj\n",
        "            except StopIteration:\n",
        "                self.iter_obj = iter(self.iterable)\n",
        "\n",
        "      \n",
        "x = Cycle(\"abc\")\n",
        "\n",
        "for i in range(10):\n",
        "    print(next(x), end=\", \")\n",
        "\n"
      ],
      "execution_count": null,
      "outputs": [
        {
          "output_type": "stream",
          "text": [
            "a, b, c, a, b, c, a, b, c, a, "
          ],
          "name": "stdout"
        }
      ]
    },
    {
      "cell_type": "code",
      "metadata": {
        "id": "fyweMopjB7G9"
      },
      "source": [],
      "execution_count": null,
      "outputs": []
    },
    {
      "cell_type": "markdown",
      "metadata": {
        "id": "9s87E20YB7G-"
      },
      "source": [
        "## Python Infinite Iterators"
      ]
    },
    {
      "cell_type": "code",
      "metadata": {
        "id": "uo6oOn6PB7G_"
      },
      "source": [
        "class InfIter:\n",
        "    \"\"\"Infinite iterator to return all\n",
        "        odd numbers\"\"\"\n",
        "\n",
        "    def __iter__(self):\n",
        "        self.num = 1\n",
        "        return self\n",
        "\n",
        "    def __next__(self):\n",
        "        num = self.num\n",
        "        self.num += 2\n",
        "        return num"
      ],
      "execution_count": null,
      "outputs": []
    },
    {
      "cell_type": "code",
      "metadata": {
        "id": "hmIt3mX3B7HB"
      },
      "source": [
        " a = iter(InfIter())"
      ],
      "execution_count": null,
      "outputs": []
    },
    {
      "cell_type": "code",
      "metadata": {
        "id": "kW8apJ5NB7HC",
        "outputId": "299e0249-4e51-4569-9ef7-4c493f983419"
      },
      "source": [
        "next(a)"
      ],
      "execution_count": null,
      "outputs": [
        {
          "output_type": "execute_result",
          "data": {
            "text/plain": [
              "3"
            ]
          },
          "metadata": {
            "tags": []
          },
          "execution_count": 56
        }
      ]
    },
    {
      "cell_type": "code",
      "metadata": {
        "id": "fBLSbVquB7HE",
        "outputId": "82313f69-7782-4cc6-a4e8-0f15fe3a67c1"
      },
      "source": [
        "next(a)"
      ],
      "execution_count": null,
      "outputs": [
        {
          "output_type": "execute_result",
          "data": {
            "text/plain": [
              "5"
            ]
          },
          "metadata": {
            "tags": []
          },
          "execution_count": 57
        }
      ]
    },
    {
      "cell_type": "code",
      "metadata": {
        "id": "-tT51CqiB7HG",
        "outputId": "4808009f-554b-4d52-d24d-14dbb654833f"
      },
      "source": [
        "next(a)"
      ],
      "execution_count": null,
      "outputs": [
        {
          "output_type": "execute_result",
          "data": {
            "text/plain": [
              "7"
            ]
          },
          "metadata": {
            "tags": []
          },
          "execution_count": 58
        }
      ]
    },
    {
      "cell_type": "code",
      "metadata": {
        "id": "im5HJ9pfB7HH",
        "outputId": "4ca4747b-0ede-4787-d965-3bfd464a42d5"
      },
      "source": [
        "next(a)"
      ],
      "execution_count": null,
      "outputs": [
        {
          "output_type": "execute_result",
          "data": {
            "text/plain": [
              "9"
            ]
          },
          "metadata": {
            "tags": []
          },
          "execution_count": 59
        }
      ]
    },
    {
      "cell_type": "code",
      "metadata": {
        "id": "d5is74R4B7HJ",
        "outputId": "787a3460-1fa4-4d7a-aae2-2d9f5c687d39"
      },
      "source": [
        "for x in iter(InfIter()):\n",
        "    if x < 100:\n",
        "        print(x)\n",
        "    else:\n",
        "        break"
      ],
      "execution_count": null,
      "outputs": [
        {
          "output_type": "stream",
          "text": [
            "1\n",
            "3\n",
            "5\n",
            "7\n",
            "9\n",
            "11\n",
            "13\n",
            "15\n",
            "17\n",
            "19\n",
            "21\n",
            "23\n",
            "25\n",
            "27\n",
            "29\n",
            "31\n",
            "33\n",
            "35\n",
            "37\n",
            "39\n",
            "41\n",
            "43\n",
            "45\n",
            "47\n",
            "49\n",
            "51\n",
            "53\n",
            "55\n",
            "57\n",
            "59\n",
            "61\n",
            "63\n",
            "65\n",
            "67\n",
            "69\n",
            "71\n",
            "73\n",
            "75\n",
            "77\n",
            "79\n",
            "81\n",
            "83\n",
            "85\n",
            "87\n",
            "89\n",
            "91\n",
            "93\n",
            "95\n",
            "97\n",
            "99\n"
          ],
          "name": "stdout"
        }
      ]
    },
    {
      "cell_type": "code",
      "metadata": {
        "id": "oFxhZY_NB7HL"
      },
      "source": [],
      "execution_count": null,
      "outputs": []
    },
    {
      "cell_type": "code",
      "metadata": {
        "id": "f48ZpLwJk7nG"
      },
      "source": [],
      "execution_count": null,
      "outputs": []
    },
    {
      "cell_type": "markdown",
      "metadata": {
        "id": "IPbuVzaMB7HM"
      },
      "source": [
        "# GENERATORS"
      ]
    },
    {
      "cell_type": "code",
      "metadata": {
        "id": "Hs-Ohhm5B7HM"
      },
      "source": [
        "'''\n",
        "There is a lot of work in building an iterator in Python. We have to implement a class with __iter__() and\n",
        "__next__() method, keep track of internal states, and raise StopIteration when there are no values to be \n",
        "returned.\n",
        "\n",
        "This is both lengthy and counterintuitive. Generator comes to the rescue in such situations.\n",
        "\n",
        "Python generators are a simple way of creating iterators. All the work we mentioned above are automatically\n",
        "handled by generators in Python.\n",
        "\n",
        "Simply speaking, a generator is a function that returns an object (iterator) which we can iterate over\n",
        "(one value at a time).\n",
        "\n",
        "'''"
      ],
      "execution_count": null,
      "outputs": []
    },
    {
      "cell_type": "code",
      "metadata": {
        "id": "zlpeNM1BB7HO"
      },
      "source": [
        "'''\n",
        "On the surface, generators in Python look like functions, but there is both a syntactic and a semantic \n",
        "difference. One distinguishing characteristic is the yield statements. The yield statement turns a functions \n",
        "into a generator. \n",
        "\n",
        "A generator is a function which returns a generator object. This generator object can be seen like a function\n",
        "which produces a sequence of results instead of a single object. This sequence of values \n",
        "is produced by iterating over it, e.g. with a for loop. \n",
        "\n",
        "The values, on which can be iterated, are created by using the yield statement. The value created by the yield\n",
        "statement is the value following the yield keyword.\n",
        "\n",
        "The execution of the code stops when a yield statement is reached. The value behind the yield will be returned.\n",
        "The execution of the generator is interrupted now. As soon as \"next\" is called again on the generator object, \n",
        "the generator function will resume execution right after the yield statement in the code, where the last call\n",
        "is made. The execution will continue in the state in which the generator was left after the last yield. \n",
        "\n",
        "In other words, all the local variables still exist, because they are automatically saved between calls. \n",
        "This is a fundamental difference to functions: functions always start their execution at the beginning of \n",
        "the function body, regardless of where they had left in previous calls. They don't have any static or \n",
        "persistent values.\n",
        "\n",
        "There may be more than one yield statement in the code of a generator or the yield statement might be inside \n",
        "the body of a loop.\n",
        "\n",
        "If there is a return statement in the code of a generator, the execution will stop with a StopIteration\n",
        "exception error when this code is executed by the Python interpreter. \n",
        "\n",
        "The word \"generator\" is sometimes ambiguously used to mean both the generator function itself and the objects\n",
        "which are generated by a generator.\n",
        "\n",
        "Everything which can be done with a generator can also be implemented with a class based iterator as well. \n",
        "However, the crucial advantage of generators consists in automatically creating the methods __iter__() and \n",
        "next(). Generators provide a very neat way of producing data which is huge or even infinite.\n",
        "\n",
        "The following is a simple example of a generator, which is capable of producing various city names.\n",
        "\n",
        "It's possible to create a generator object with this generator, which generates all the city names, one after \n",
        "the other.\n",
        "\n",
        "'''"
      ],
      "execution_count": null,
      "outputs": []
    },
    {
      "cell_type": "code",
      "metadata": {
        "id": "Rzomm6phB7Hd"
      },
      "source": [
        "def city_generator():\n",
        "    yield(\"Hamburg\")\n",
        "    yield(\"Konstanz\")\n",
        "    yield(\"Berlin\")\n",
        "    yield(\"Zurich\")\n",
        "    yield(\"Schaffhausen\")\n",
        "    yield(\"Stuttgart\")  "
      ],
      "execution_count": null,
      "outputs": []
    },
    {
      "cell_type": "code",
      "metadata": {
        "id": "qSAROQPAB7Hf"
      },
      "source": [
        "# We created an iterator by calling city_generator():\n",
        "\n",
        "city = city_generator()"
      ],
      "execution_count": null,
      "outputs": []
    },
    {
      "cell_type": "code",
      "metadata": {
        "id": "UIX69d8IB7Hh",
        "outputId": "a8c5d6df-686b-4681-c837-60f92217cedf"
      },
      "source": [
        "print(next(city))"
      ],
      "execution_count": null,
      "outputs": [
        {
          "output_type": "stream",
          "text": [
            "Hamburg\n"
          ],
          "name": "stdout"
        }
      ]
    },
    {
      "cell_type": "code",
      "metadata": {
        "id": "mDnso90pB7Hi",
        "outputId": "baf9a871-3ade-40c2-e175-11fb2b253761"
      },
      "source": [
        "print(next(city))\n",
        "print(next(city))\n",
        "print(next(city))\n",
        "print(next(city))\n",
        "print(next(city))"
      ],
      "execution_count": null,
      "outputs": [
        {
          "output_type": "stream",
          "text": [
            "Konstanz\n",
            "Berlin\n",
            "Zurich\n",
            "Schaffhausen\n",
            "Stuttgart\n"
          ],
          "name": "stdout"
        }
      ]
    },
    {
      "cell_type": "code",
      "metadata": {
        "id": "Wt6zocQNB7Hm",
        "outputId": "b687be1b-fea0-4ab0-bdad-a2cf18b86338"
      },
      "source": [
        "print(next(city))"
      ],
      "execution_count": null,
      "outputs": [
        {
          "output_type": "error",
          "ename": "StopIteration",
          "evalue": "",
          "traceback": [
            "\u001b[0;31m---------------------------------------------------------------------------\u001b[0m",
            "\u001b[0;31mStopIteration\u001b[0m                             Traceback (most recent call last)",
            "\u001b[0;32m<ipython-input-70-02870f953c83>\u001b[0m in \u001b[0;36m<module>\u001b[0;34m\u001b[0m\n\u001b[0;32m----> 1\u001b[0;31m \u001b[0mprint\u001b[0m\u001b[0;34m(\u001b[0m\u001b[0mnext\u001b[0m\u001b[0;34m(\u001b[0m\u001b[0mcity\u001b[0m\u001b[0;34m)\u001b[0m\u001b[0;34m)\u001b[0m\u001b[0;34m\u001b[0m\u001b[0;34m\u001b[0m\u001b[0m\n\u001b[0m",
            "\u001b[0;31mStopIteration\u001b[0m: "
          ]
        }
      ]
    },
    {
      "cell_type": "code",
      "metadata": {
        "id": "iUN8GQL7B7Ho"
      },
      "source": [],
      "execution_count": null,
      "outputs": []
    },
    {
      "cell_type": "code",
      "metadata": {
        "id": "xcNxiNGbB7Hq"
      },
      "source": [
        "'''\n",
        "A generator as we know returns an iterator object and implicitly implements the __iter__() and __next__() \n",
        "methods. So we can achieve a much more readable version of an iterator using a generator.\n",
        "\n",
        "'''\n",
        "\n",
        "def my_range(start,end):\n",
        "    current = start\n",
        "    while (current< end):\n",
        "        yield current\n",
        "        current+=1\n",
        "\n",
        "nums = my_range(0,10)"
      ],
      "execution_count": null,
      "outputs": []
    },
    {
      "cell_type": "code",
      "metadata": {
        "id": "dR6oDh9OB7Hr",
        "outputId": "b5157029-1d07-409f-aad8-53750f7cd83b"
      },
      "source": [
        "print(next(nums))\n",
        "print(next(nums))\n",
        "print(next(nums))\n",
        "print(next(nums))\n",
        "print(next(nums))\n",
        "print(next(nums))\n",
        "print(next(nums))\n",
        "print(next(nums))\n",
        "print(next(nums))\n",
        "print(next(nums))\n",
        "print(next(nums))"
      ],
      "execution_count": null,
      "outputs": [
        {
          "output_type": "stream",
          "text": [
            "0\n",
            "1\n",
            "2\n",
            "3\n",
            "4\n",
            "5\n",
            "6\n",
            "7\n",
            "8\n",
            "9\n"
          ],
          "name": "stdout"
        },
        {
          "output_type": "error",
          "ename": "StopIteration",
          "evalue": "",
          "traceback": [
            "\u001b[0;31m---------------------------------------------------------------------------\u001b[0m",
            "\u001b[0;31mStopIteration\u001b[0m                             Traceback (most recent call last)",
            "\u001b[0;32m<ipython-input-3-b593e031b6b3>\u001b[0m in \u001b[0;36m<module>\u001b[0;34m\u001b[0m\n\u001b[1;32m      9\u001b[0m \u001b[0mprint\u001b[0m\u001b[0;34m(\u001b[0m\u001b[0mnext\u001b[0m\u001b[0;34m(\u001b[0m\u001b[0mnums\u001b[0m\u001b[0;34m)\u001b[0m\u001b[0;34m)\u001b[0m\u001b[0;34m\u001b[0m\u001b[0;34m\u001b[0m\u001b[0m\n\u001b[1;32m     10\u001b[0m \u001b[0mprint\u001b[0m\u001b[0;34m(\u001b[0m\u001b[0mnext\u001b[0m\u001b[0;34m(\u001b[0m\u001b[0mnums\u001b[0m\u001b[0;34m)\u001b[0m\u001b[0;34m)\u001b[0m\u001b[0;34m\u001b[0m\u001b[0;34m\u001b[0m\u001b[0m\n\u001b[0;32m---> 11\u001b[0;31m \u001b[0mprint\u001b[0m\u001b[0;34m(\u001b[0m\u001b[0mnext\u001b[0m\u001b[0;34m(\u001b[0m\u001b[0mnums\u001b[0m\u001b[0;34m)\u001b[0m\u001b[0;34m)\u001b[0m\u001b[0;34m\u001b[0m\u001b[0;34m\u001b[0m\u001b[0m\n\u001b[0m",
            "\u001b[0;31mStopIteration\u001b[0m: "
          ]
        }
      ]
    },
    {
      "cell_type": "code",
      "metadata": {
        "id": "uVx9j_8bB7Ht"
      },
      "source": [
        "for num in nums:\n",
        "    print(num)\n",
        "# As we can see running this for loop wont print any value as the generator object can be iterated only once."
      ],
      "execution_count": null,
      "outputs": []
    },
    {
      "cell_type": "code",
      "metadata": {
        "id": "k-hNIruyB7Hv",
        "outputId": "ffb4f55e-7d59-4b8c-e510-5011af88aaa3"
      },
      "source": [
        "nums2 =  my_range(0,10)\n",
        "for num in nums2:\n",
        "    print(num)"
      ],
      "execution_count": null,
      "outputs": [
        {
          "output_type": "stream",
          "text": [
            "0\n",
            "1\n",
            "2\n",
            "3\n",
            "4\n",
            "5\n",
            "6\n",
            "7\n",
            "8\n",
            "9\n"
          ],
          "name": "stdout"
        }
      ]
    },
    {
      "cell_type": "code",
      "metadata": {
        "id": "_hV8d_UQB7Hw"
      },
      "source": [
        "\n",
        "\n"
      ],
      "execution_count": null,
      "outputs": []
    },
    {
      "cell_type": "code",
      "metadata": {
        "id": "WgSRgQz0B7Hy"
      },
      "source": [
        "# Fibonacci series using generator\n",
        "\n",
        "def fibonaci(n):\n",
        "    a,b,counter = 0,1,0\n",
        "    while(counter<n):\n",
        "        yield a\n",
        "        a,b = b, a+b\n",
        "        counter+=1"
      ],
      "execution_count": null,
      "outputs": []
    },
    {
      "cell_type": "code",
      "metadata": {
        "id": "PySHr_ljB7H1",
        "outputId": "55606f51-7642-4f16-d9b5-9d49c26f2d8e"
      },
      "source": [
        "a = fibonaci(10)  \n",
        "for x in a:\n",
        "    print(x)"
      ],
      "execution_count": null,
      "outputs": [
        {
          "output_type": "stream",
          "text": [
            "0\n",
            "1\n",
            "1\n",
            "2\n",
            "3\n",
            "5\n",
            "8\n",
            "13\n",
            "21\n",
            "34\n"
          ],
          "name": "stdout"
        }
      ]
    },
    {
      "cell_type": "code",
      "metadata": {
        "id": "d_E_SUrrB7H4"
      },
      "source": [],
      "execution_count": null,
      "outputs": []
    },
    {
      "cell_type": "code",
      "metadata": {
        "id": "u2I3_4sdB7H6",
        "outputId": "a72fb61d-2e4a-442f-cc97-961e96a4989a"
      },
      "source": [
        "# we know how list comprehensions are done:\n",
        "\n",
        "my_nums = [x*x for x in [1,2,3,4,5]]\n",
        "print(my_nums)"
      ],
      "execution_count": null,
      "outputs": [
        {
          "output_type": "stream",
          "text": [
            "[1, 4, 9, 16, 25]\n"
          ],
          "name": "stdout"
        }
      ]
    },
    {
      "cell_type": "code",
      "metadata": {
        "id": "-CHU5ozcB7H7",
        "outputId": "64d21a37-1e75-4847-be04-deb884c01f7e"
      },
      "source": [
        "# if we just change [] with (), we get a generator \n",
        "my_nums = (x*x for x in [1,2,3,4,5])\n",
        "print(my_nums)\n",
        "\n",
        "print(list(my_nums))"
      ],
      "execution_count": null,
      "outputs": [
        {
          "output_type": "stream",
          "text": [
            "<generator object <genexpr> at 0x7fda654079e0>\n",
            "[1, 4, 9, 16, 25]\n"
          ],
          "name": "stdout"
        }
      ]
    },
    {
      "cell_type": "code",
      "metadata": {
        "id": "OUZGp8qKB7H-"
      },
      "source": [],
      "execution_count": null,
      "outputs": []
    },
    {
      "cell_type": "markdown",
      "metadata": {
        "id": "95jDrJrrB7H_"
      },
      "source": [
        "## Generators are better than lists comprehensions performance wise"
      ]
    },
    {
      "cell_type": "markdown",
      "metadata": {
        "id": "ZNEsw9FEB7H_"
      },
      "source": [
        "So if we can do the same thing with list comprehensions, why do we use generators?\n",
        "It turns out that the generators are better with performance, memory wise and execution time wise as they dont store the values that are generated by them in the memory as long as the next method is called. This creates a difference when working with large number of objects. For example, lets process one million values with list and with generators:"
      ]
    },
    {
      "cell_type": "code",
      "metadata": {
        "id": "-PcyCzE4B7H_"
      },
      "source": [
        "\n",
        "import memory_profiler as mem_profiler\n",
        "import random\n",
        "import time\n",
        "\n",
        "names = ['John', 'Corey', 'Adam', 'Steve', 'Rick', 'Thomas']\n",
        "majors = ['Math', 'Engineering', 'CompSci', 'Arts', 'Business']\n",
        "\n"
      ],
      "execution_count": null,
      "outputs": []
    },
    {
      "cell_type": "code",
      "metadata": {
        "id": "ea98WOdUB7IB",
        "outputId": "1789a03d-c268-464f-92ce-a24c85894df3"
      },
      "source": [
        "print('Memory (Before): {}Mb'.format(mem_profiler.memory_usage()))\n",
        "\n",
        "def people_list(num_people):\n",
        "    result = []\n",
        "    for i in range(num_people):\n",
        "        person = {\n",
        "                    'id': i,\n",
        "                    'name': random.choice(names),\n",
        "                    'major': random.choice(majors)\n",
        "                }\n",
        "        result.append(person)\n",
        "    return result\n",
        "\n",
        "\n",
        "t1 = time.process_time()\n",
        "people = people_list(1000000)\n",
        "t2 = time.process_time()\n",
        "\n",
        "print('Memory (After): {}Mb'.format(mem_profiler.memory_usage()))\n",
        "print ('Took {} Seconds'.format(t2-t1))"
      ],
      "execution_count": null,
      "outputs": [
        {
          "output_type": "stream",
          "text": [
            "Memory (Before): [51.2734375]Mb\n",
            "Memory (After): [319.33203125]Mb\n",
            "Took 1.2006869810000005 Seconds\n"
          ],
          "name": "stdout"
        }
      ]
    },
    {
      "cell_type": "code",
      "metadata": {
        "id": "W5orZjOVB7ID"
      },
      "source": [],
      "execution_count": null,
      "outputs": []
    },
    {
      "cell_type": "code",
      "metadata": {
        "id": "oLcjtnB1B7IE",
        "outputId": "68ca210c-2842-4e71-b982-5958eeaf2d9c"
      },
      "source": [
        "\n",
        "# DOING THE SAME THING AS ABOVE WITH GENERATOR\n",
        "print('Memory (Before): {}Mb'.format(mem_profiler.memory_usage()))\n",
        "def people_generator(num_people):\n",
        "    for i in range(num_people):\n",
        "        person = {\n",
        "                    'id': i,\n",
        "                    'name': random.choice(names),\n",
        "                    'major': random.choice(majors)\n",
        "                }\n",
        "        yield person\n",
        "\n",
        "\n",
        "t1 = time.process_time()\n",
        "people = people_generator(1000000)\n",
        "t2 = time.process_time()\n",
        "\n",
        "print('Memory (After): {}Mb'.format(mem_profiler.memory_usage()))\n",
        "print ('Took {} Seconds'.format(t2-t1))"
      ],
      "execution_count": null,
      "outputs": [
        {
          "output_type": "stream",
          "text": [
            "Memory (Before): [319.33203125]Mb\n",
            "Memory (After): [59.4375]Mb\n",
            "Took 0.10437822299999944 Seconds\n"
          ],
          "name": "stdout"
        }
      ]
    },
    {
      "cell_type": "code",
      "metadata": {
        "id": "VL8hBN4uB7IG"
      },
      "source": [],
      "execution_count": null,
      "outputs": []
    },
    {
      "cell_type": "code",
      "metadata": {
        "id": "5lSessJvB7IH"
      },
      "source": [],
      "execution_count": null,
      "outputs": []
    },
    {
      "cell_type": "markdown",
      "metadata": {
        "id": "4DlHj53GB7IK"
      },
      "source": [
        "## send Method /Coroutines"
      ]
    },
    {
      "cell_type": "markdown",
      "metadata": {
        "id": "Zg6e-it_B7IK"
      },
      "source": [
        "Generators can not only send objects but also receive objects. Sending a message, i.e. an object, into the generator can be achieved by applying the send method to the generator object. Be aware of the fact that send both sends a value to the generator and returns the value yielded by the generator. We will demonstrate this behavior in the following simple example of a coroutine:"
      ]
    },
    {
      "cell_type": "code",
      "metadata": {
        "id": "xqZ5QvyLB7IK",
        "outputId": "665df1fb-bea0-41e9-be96-f5990c5bbf3f"
      },
      "source": [
        "def simple_coroutine():\n",
        "    print(\"coroutine has been started!\")\n",
        "    while True:\n",
        "        x = yield \"foo\"\n",
        "        print(\"coroutine received: \", x)\n",
        "     \n",
        " \n",
        "cr = simple_coroutine()\n",
        "cr\n"
      ],
      "execution_count": null,
      "outputs": [
        {
          "output_type": "execute_result",
          "data": {
            "text/plain": [
              "<generator object simple_coroutine at 0x7fda4f51de40>"
            ]
          },
          "metadata": {
            "tags": []
          },
          "execution_count": 58
        }
      ]
    },
    {
      "cell_type": "code",
      "metadata": {
        "id": "uZ0YNb2qB7IM",
        "outputId": "59306a8f-f256-4e29-dc1a-0e9d1383085b"
      },
      "source": [
        "next(cr)"
      ],
      "execution_count": null,
      "outputs": [
        {
          "output_type": "stream",
          "text": [
            "coroutine has been started!\n"
          ],
          "name": "stdout"
        },
        {
          "output_type": "execute_result",
          "data": {
            "text/plain": [
              "'foo'"
            ]
          },
          "metadata": {
            "tags": []
          },
          "execution_count": 59
        }
      ]
    },
    {
      "cell_type": "code",
      "metadata": {
        "id": "YqwxBQ7kB7IO",
        "outputId": "ac966633-fe13-4914-d75e-4fe0946872af"
      },
      "source": [
        "ret_value = cr.send(\"Hi\")\n",
        "print(\"'send' returned: \", ret_value)\n",
        "\n",
        "\n",
        "# we called the next() method on generator before this code so right now before executing this code, generator was at x = yeild 'foo' where it had already yeilded 'foo'\n",
        "# when the first line of this code is executed, in the generator, it continues execution from the line x = yeild 'foo' . The first line sends \"Hi\" to the generator\n",
        "# which is assigned to x as x = [here the generator execution stopped last] and then from there it continued. \n",
        "# The second line of code prints the value returned by the send method which will again be the yield value of the generator.\n"
      ],
      "execution_count": null,
      "outputs": [
        {
          "output_type": "stream",
          "text": [
            "coroutine received:  Hi\n",
            "'send' returned:  foo\n"
          ],
          "name": "stdout"
        }
      ]
    },
    {
      "cell_type": "code",
      "metadata": {
        "id": "JekC_dRXB7IQ"
      },
      "source": [
        "'''\n",
        "We had to call next on the generator first, because the generator needed to be started. Using send to a \n",
        "generator which hasn't been started leads to an exception.\n",
        "\n",
        "To use the send method, the generator must wait for a yield statement so that the data sent can be processed\n",
        "or assigned to the variable on the left. What we haven't said so far: A next call also sends and receives. It\n",
        "always sends a None object. The values sent by \"next\" and \"send\" are assigned to a variable within the \n",
        "generator\n",
        "'''"
      ],
      "execution_count": null,
      "outputs": []
    },
    {
      "cell_type": "code",
      "metadata": {
        "id": "sAEzQ0cEB7IR"
      },
      "source": [],
      "execution_count": null,
      "outputs": []
    },
    {
      "cell_type": "markdown",
      "metadata": {
        "id": "JbHJNlOYB7IT"
      },
      "source": [
        "FOR ADVANCE TOPICS IN GENERATORS REFER : https://www.python-course.eu/python3_generators.php"
      ]
    },
    {
      "cell_type": "code",
      "metadata": {
        "id": "KFglGgTWB7IU"
      },
      "source": [],
      "execution_count": null,
      "outputs": []
    },
    {
      "cell_type": "code",
      "metadata": {
        "id": "wQy0J_BJB7IW"
      },
      "source": [],
      "execution_count": null,
      "outputs": []
    },
    {
      "cell_type": "markdown",
      "metadata": {
        "id": "nFkKLjX2ORDC"
      },
      "source": [
        "# DECORATORS"
      ]
    },
    {
      "cell_type": "markdown",
      "metadata": {
        "id": "1wNtjvryuOEa"
      },
      "source": [
        "\n",
        "Even though it is the same underlying concept, we have two different kinds of decorators in Python:\n",
        "\n",
        "    Function decorators\n",
        "    Class decorators\n",
        "\n",
        "A decorator in Python is any callable Python object that is used to modify a function or a class. A reference to a function \"func\" or a class \"C\" is passed to a decorator and the decorator returns a modified function or class. The modified functions or classes usually contain calls to the original function \"func\" or class \"C\".\n",
        "\n",
        "***Another definition***\n",
        "\n",
        "Functions and methods are called callable as they can be called.\n",
        "\n",
        "In fact, any object which implements the special __call__() method is termed callable. So, in the most basic sense, a decorator is a callable that returns a callable.\n",
        "\n",
        "Basically, a decorator takes in a function, adds some functionality and returns it."
      ]
    },
    {
      "cell_type": "markdown",
      "metadata": {
        "id": "wrT4KI9TudKk"
      },
      "source": [
        "First Steps to Decorator : Before we dive into decorators, lets revisit some important points about functions in python. Read the section titled \"First Steps to Decorator\" in the following website: https://www.python-course.eu/python3_decorators.php"
      ]
    },
    {
      "cell_type": "markdown",
      "metadata": {
        "id": "jfO7qgGku0tm"
      },
      "source": [
        "##  A simple decorator"
      ]
    },
    {
      "cell_type": "code",
      "metadata": {
        "id": "4P4tzlwfu0ap"
      },
      "source": [
        "def simple_decorator(func):\n",
        "    def function_wrapper(x):\n",
        "        print(\"Before calling \" + func.__name__)\n",
        "        func(x)\n",
        "        print(\"After calling \" + func.__name__)\n",
        "    return function_wrapper\n",
        "\n",
        "def fof(x):\n",
        "    print(\"Hi, fof has been called with \" + str(x))"
      ],
      "execution_count": null,
      "outputs": []
    },
    {
      "cell_type": "code",
      "metadata": {
        "id": "GBDzDQk9OTJ5",
        "outputId": "30a97db9-dde2-442d-b87b-42d442611af7",
        "colab": {
          "base_uri": "https://localhost:8080/",
          "height": 52
        }
      },
      "source": [
        "print(\"We call foo before decoration:\")\n",
        "fof(\"Hi\")"
      ],
      "execution_count": null,
      "outputs": [
        {
          "output_type": "stream",
          "text": [
            "We call foo before decoration:\n",
            "Hi, foo has been called with Hi\n"
          ],
          "name": "stdout"
        }
      ]
    },
    {
      "cell_type": "code",
      "metadata": {
        "id": "Cei7hZlYwYyv",
        "outputId": "514b39b9-3e84-45d6-ee05-1cfdda4137a0",
        "colab": {
          "base_uri": "https://localhost:8080/",
          "height": 104
        }
      },
      "source": [
        "# now our decorator takes a function as an argument and returns a function as return value \n",
        "\n",
        "print(\"We now decorate foo with f:\")\n",
        "fof = simple_decorator(fof)\n",
        "\n",
        "print(\"We call foo after decoration:\")\n",
        "fof(42)\n"
      ],
      "execution_count": null,
      "outputs": [
        {
          "output_type": "stream",
          "text": [
            "We now decorate foo with f:\n",
            "We call foo after decoration:\n",
            "Before calling fof\n",
            "Hi, foo has been called with 42\n",
            "After calling fof\n"
          ],
          "name": "stdout"
        }
      ]
    },
    {
      "cell_type": "code",
      "metadata": {
        "id": "0oHl9r63xuEY"
      },
      "source": [],
      "execution_count": null,
      "outputs": []
    },
    {
      "cell_type": "markdown",
      "metadata": {
        "id": "hr52zUi5xtqg"
      },
      "source": [
        "In the above code, we did this fof = simple_decorator(fof)\n",
        "Generally, we decorate a function and reassign it as above.\n",
        "This is a common construct and for this reason, Python has a syntax to simplify this.\n",
        "\n",
        "'@' symbol - We can use the @ symbol along with the name of the decorator function and place it above the definition of the function to be decorated. "
      ]
    },
    {
      "cell_type": "code",
      "metadata": {
        "id": "ugWZ-8cpxAvQ",
        "outputId": "a046830f-16cd-4545-8e85-5faf9e3b00ff",
        "colab": {
          "base_uri": "https://localhost:8080/",
          "height": 69
        }
      },
      "source": [
        "def simple_decorator(func):\n",
        "    def function_wrapper(x):\n",
        "        print(\"Before calling \" + func.__name__)\n",
        "        func(x)\n",
        "        print(\"After calling \" + func.__name__)\n",
        "    return function_wrapper\n",
        "\n",
        "@simple_decorator\n",
        "def foo(x):\n",
        "    print(\"Hi, foo has been called with \" + str(x))\n",
        "\n",
        "foo(42)\n"
      ],
      "execution_count": null,
      "outputs": [
        {
          "output_type": "stream",
          "text": [
            "Before calling foo\n",
            "Hi, foo has been called with 42\n",
            "After calling foo\n"
          ],
          "name": "stdout"
        }
      ]
    },
    {
      "cell_type": "code",
      "metadata": {
        "id": "I36MDNa2x6CS"
      },
      "source": [],
      "execution_count": null,
      "outputs": []
    },
    {
      "cell_type": "code",
      "metadata": {
        "id": "sW1XlzIryFvj",
        "outputId": "b7d00cf1-c46a-46a8-aa8b-b6758ed35835",
        "colab": {
          "base_uri": "https://localhost:8080/",
          "height": 69
        }
      },
      "source": [
        "\n",
        "\n",
        "#We can decorate every other function which takes one parameter with our decorator 'our_decorator'. We demonstrate this in the following. \n",
        "# We have slightly changed our function wrapper, so that we can see the result of the function calls:\n",
        "\n",
        "def our_decorator(func):\n",
        "    def function_wrapper(x):\n",
        "        print(\"Before calling \" + func.__name__)\n",
        "        res = func(x)\n",
        "        print(res)\n",
        "        print(\"After calling \" + func.__name__)\n",
        "    return function_wrapper\n",
        "\n",
        "@our_decorator\n",
        "def succ(n):\n",
        "    return n + 1\n",
        "\n",
        "succ(10)\n",
        "\n"
      ],
      "execution_count": null,
      "outputs": [
        {
          "output_type": "stream",
          "text": [
            "Before calling succ\n",
            "11\n",
            "After calling succ\n"
          ],
          "name": "stdout"
        }
      ]
    },
    {
      "cell_type": "code",
      "metadata": {
        "id": "qz_ddUJVyeyc"
      },
      "source": [],
      "execution_count": null,
      "outputs": []
    },
    {
      "cell_type": "code",
      "metadata": {
        "id": "VNM6K7TCywRk",
        "outputId": "93c14436-81ca-4ca2-c614-702aa0499e94",
        "colab": {
          "base_uri": "https://localhost:8080/",
          "height": 173
        }
      },
      "source": [
        "import random\n",
        "# a generalized version of the function_wrapper, which accepts functions with arbitrary parameters in the following example:\n",
        "\n",
        "from random import random, randint, choice\n",
        "\n",
        "def our_decorator(func):\n",
        "    def function_wrapper(*args, **kwargs):\n",
        "        print(\"Before calling \" + func.__name__)\n",
        "        res = func(*args, **kwargs)\n",
        "        print(res)\n",
        "        print(\"After calling \" + func.__name__)\n",
        "    return function_wrapper\n",
        "\n",
        "random = our_decorator(random)\n",
        "randint = our_decorator(randint)\n",
        "choice = our_decorator(choice)\n",
        "\n",
        "random()\n",
        "randint(3, 8)\n",
        "choice([4, 5, 6])\n",
        "\n"
      ],
      "execution_count": null,
      "outputs": [
        {
          "output_type": "stream",
          "text": [
            "Before calling random\n",
            "0.41919850456072605\n",
            "After calling random\n",
            "Before calling randint\n",
            "5\n",
            "After calling randint\n",
            "Before calling choice\n",
            "4\n",
            "After calling choice\n"
          ],
          "name": "stdout"
        }
      ]
    },
    {
      "cell_type": "code",
      "metadata": {
        "id": "mzWHej5d0Aqy"
      },
      "source": [],
      "execution_count": null,
      "outputs": []
    },
    {
      "cell_type": "markdown",
      "metadata": {
        "id": "sa7CyK2gz_zp"
      },
      "source": [
        "## Decorators with Parameters"
      ]
    },
    {
      "cell_type": "code",
      "metadata": {
        "id": "FbUCSvrUyyGU",
        "outputId": "ae4f6ac1-b42e-4731-aa51-9b54585d78b0",
        "colab": {
          "base_uri": "https://localhost:8080/",
          "height": 52
        }
      },
      "source": [
        "def evening_greeting(func):\n",
        "    def function_wrapper(x):\n",
        "        print(\"Good evening, \" + func.__name__ + \" returns:\")\n",
        "        func(x)\n",
        "    return function_wrapper\n",
        "\n",
        "@evening_greeting\n",
        "def foo(x):\n",
        "    print(42)\n",
        "\n",
        "foo(\"Hi\")"
      ],
      "execution_count": null,
      "outputs": [
        {
          "output_type": "stream",
          "text": [
            "Good evening, foo returns:\n",
            "42\n"
          ],
          "name": "stdout"
        }
      ]
    },
    {
      "cell_type": "code",
      "metadata": {
        "id": "pGDBstyX0PWf",
        "outputId": "2362ff1f-d0c7-4172-c526-31b7111c145b",
        "colab": {
          "base_uri": "https://localhost:8080/",
          "height": 52
        }
      },
      "source": [
        "# In the above decorator, eveything works fine except the fact that the greeting is hardcoded. To customize this , we will have to add one\n",
        "# more decorator outside our current decorator\n",
        "\n",
        "def greeting(expr):\n",
        "\n",
        "    def evening_greeting(func):\n",
        "        def function_wrapper(x):\n",
        "            print(expr + \",\" + func.__name__ + \" returns:\")\n",
        "            func(x)\n",
        "        return function_wrapper\n",
        "    \n",
        "    return evening_greeting\n",
        "\n",
        "\n",
        "@greeting(\"καλημερα\") # good evening in greek\n",
        "def foo(x):\n",
        "    print(42)\n",
        "\n",
        "foo(\"Hi\")\n",
        "# as we have used a decorator, the foo function is modified and doesnt anywhere print the \"Hi\" that we passed to it.\n"
      ],
      "execution_count": null,
      "outputs": [
        {
          "output_type": "stream",
          "text": [
            "καλημερα,foo returns:\n",
            "42\n"
          ],
          "name": "stdout"
        }
      ]
    },
    {
      "cell_type": "code",
      "metadata": {
        "id": "BJCs5yvA1MZO",
        "outputId": "b039e836-b2fd-4c57-9724-2a5e1a0e32b6",
        "colab": {
          "base_uri": "https://localhost:8080/",
          "height": 52
        }
      },
      "source": [
        "# the above function without using \"@\" symbol\n",
        "\n",
        "\n",
        "def greeting(expr):\n",
        "\n",
        "    def evening_greeting(func):\n",
        "        def function_wrapper(x):\n",
        "            print(expr + \",\" + func.__name__ + \" returns:\")\n",
        "            func(x)\n",
        "        return function_wrapper\n",
        "    \n",
        "    return evening_greeting\n",
        "\n",
        "\n",
        "def foo(x):\n",
        "    print(42)\n",
        "\n",
        "foo1 = greeting(\"καλημερα\")\n",
        "foo = foo1(foo)\n",
        "foo(\"hi\")\n"
      ],
      "execution_count": null,
      "outputs": [
        {
          "output_type": "stream",
          "text": [
            "καλημερα,foo returns:\n",
            "42\n"
          ],
          "name": "stdout"
        }
      ]
    },
    {
      "cell_type": "code",
      "metadata": {
        "id": "NGAuhLIJ2A0F"
      },
      "source": [],
      "execution_count": null,
      "outputs": []
    },
    {
      "cell_type": "markdown",
      "metadata": {
        "id": "7do8JIiNFj2U"
      },
      "source": [
        "\n",
        "## Classes instead of Functions as decorators\n",
        "\n"
      ]
    },
    {
      "cell_type": "markdown",
      "metadata": {
        "id": "4fLE2GGNJ4DE"
      },
      "source": [
        "\n",
        "### The call method\n",
        "\n",
        "So far we used functions as decorators. Before we can define a decorator as a class, we have to introduce the __call__ method of classes. We mentioned already that a decorator is simply a callable object that takes a function as an input parameter. A function is a callable object, but lots of Python programmers don't know that there are other callable objects. \n",
        "\n",
        "A callable object is an object which can be used and behaves like a function but might not be a function. It is possible to define classes in a way that the instances will be callable objects. The __call__ method is called, if the instance is called \"like a function\", i.e. using brackets.\n"
      ]
    },
    {
      "cell_type": "code",
      "metadata": {
        "id": "pimzSg05Fwag",
        "outputId": "5f2ef5c1-d06b-4759-cb91-8013ea29da49",
        "colab": {
          "base_uri": "https://localhost:8080/",
          "height": 104
        }
      },
      "source": [
        "class A:\n",
        "    def __init__(self):\n",
        "        print(\"An instance of A was initialized\")\n",
        "    \n",
        "    def __call__(self, *args, **kwargs):\n",
        "        print(\"Arguments are:\", args, kwargs)\n",
        "              \n",
        "x = A()\n",
        "print(\"now calling the instance:\")\n",
        "x(3, 4, x=11, y=10)  #instance being called like an object\n",
        "print(\"Let's call it again:\")\n",
        "x(3, 4, x=11, y=10)"
      ],
      "execution_count": null,
      "outputs": [
        {
          "output_type": "stream",
          "text": [
            "An instance of A was initialized\n",
            "now calling the instance:\n",
            "Arguments are: (3, 4) {'x': 11, 'y': 10}\n",
            "Let's call it again:\n",
            "Arguments are: (3, 4) {'x': 11, 'y': 10}\n"
          ],
          "name": "stdout"
        }
      ]
    },
    {
      "cell_type": "code",
      "metadata": {
        "id": "H7OPTk-fF3dK"
      },
      "source": [],
      "execution_count": null,
      "outputs": []
    },
    {
      "cell_type": "code",
      "metadata": {
        "id": "_1kgGyVZIfsr",
        "outputId": "35c1f3d4-d57a-495c-b229-27285c2459ad",
        "colab": {
          "base_uri": "https://localhost:8080/",
          "height": 34
        }
      },
      "source": [
        "class Fibonacci:\n",
        "\n",
        "    def __init__(self):\n",
        "        self.cache = {}\n",
        "\n",
        "    def __call__(self, n):\n",
        "        if n not in self.cache:\n",
        "            if n == 0:\n",
        "                self.cache[0] = 0\n",
        "            elif n == 1:\n",
        "                self.cache[1] = 1\n",
        "            else:\n",
        "                self.cache[n] = self.__call__(n-1) + self.__call__(n-2)\n",
        "        return self.cache[n]\n",
        "\n",
        "fib = Fibonacci()\n",
        "\n",
        "for i in range(15):\n",
        "   print(fib(i), end=\", \")"
      ],
      "execution_count": null,
      "outputs": [
        {
          "output_type": "stream",
          "text": [
            "0, 1, 1, 2, 3, 5, 8, 13, 21, 34, 55, 89, 144, 233, 377, "
          ],
          "name": "stdout"
        }
      ]
    },
    {
      "cell_type": "code",
      "metadata": {
        "id": "wo-Vp5aHIgHv"
      },
      "source": [],
      "execution_count": null,
      "outputs": []
    },
    {
      "cell_type": "markdown",
      "metadata": {
        "id": "GxmODaMWJLpK"
      },
      "source": [
        "### Using class as a decorator\n",
        "\n",
        "when we use class as a decorator, the function that is being decorated by the class is passed as an argument to the class so we have to handle that using __init__() method.\n",
        "\n",
        "The modification code has to be put inside __call__() as we will be calling the decorated function as foo() so for the class it will be a callable object."
      ]
    },
    {
      "cell_type": "code",
      "metadata": {
        "id": "Ph8MVHIJJNz3",
        "outputId": "04bd7c92-6734-4c64-d060-1ab7e988fde0",
        "colab": {
          "base_uri": "https://localhost:8080/",
          "height": 52
        }
      },
      "source": [
        "class decorator2:\n",
        "    \n",
        "    def __init__(self, f):\n",
        "        self.f = f\n",
        "        \n",
        "    def __call__(self):\n",
        "        print(\"Decorating\", self.f.__name__)\n",
        "        self.f()\n",
        "\n",
        "@decorator2\n",
        "def foo():\n",
        "    print(\"inside foo()\")\n",
        "\n",
        "foo()    \n"
      ],
      "execution_count": null,
      "outputs": [
        {
          "output_type": "stream",
          "text": [
            "Decorating foo\n",
            "inside foo()\n"
          ],
          "name": "stdout"
        }
      ]
    },
    {
      "cell_type": "code",
      "metadata": {
        "id": "3hjh244IKWes"
      },
      "source": [],
      "execution_count": null,
      "outputs": []
    },
    {
      "cell_type": "markdown",
      "metadata": {
        "id": "uH5RjiffKWMx"
      },
      "source": [
        "## Chaining decorators"
      ]
    },
    {
      "cell_type": "code",
      "metadata": {
        "id": "i-43GUfzJKHo",
        "outputId": "1c7ef462-2f28-422d-93b3-256c9bfc4655",
        "colab": {
          "base_uri": "https://localhost:8080/",
          "height": 104
        }
      },
      "source": [
        "def star(func):\n",
        "    def inner(*args, **kwargs):\n",
        "        print(\"*\" * 30)\n",
        "        func(*args, **kwargs)\n",
        "        print(\"*\" * 30)\n",
        "    return inner\n",
        "\n",
        "\n",
        "def percent(func):\n",
        "    def inner(*args, **kwargs):\n",
        "        print(\"%\" * 30)\n",
        "        func(*args, **kwargs)\n",
        "        print(\"%\" * 30)\n",
        "    return inner\n",
        "\n",
        "\n",
        "@star\n",
        "@percent\n",
        "def printer(msg):\n",
        "    print(msg)\n",
        "\n",
        "\n",
        "printer(\"Hello\")\n",
        "\n",
        "\n",
        "# @star\n",
        "# @percent\n",
        "# def printer(msg):\n",
        "#       print(msg)\n",
        "\n",
        "# is equivalent to \n",
        "\n",
        "# def printer(msg):\n",
        "#       print(msg)\n",
        "# printer = star(percent(printer))"
      ],
      "execution_count": null,
      "outputs": [
        {
          "output_type": "stream",
          "text": [
            "******************************\n",
            "%%%%%%%%%%%%%%%%%%%%%%%%%%%%%%\n",
            "Hello\n",
            "%%%%%%%%%%%%%%%%%%%%%%%%%%%%%%\n",
            "******************************\n"
          ],
          "name": "stdout"
        }
      ]
    },
    {
      "cell_type": "code",
      "metadata": {
        "id": "geiduA4EKelV"
      },
      "source": [],
      "execution_count": null,
      "outputs": []
    }
  ]
}