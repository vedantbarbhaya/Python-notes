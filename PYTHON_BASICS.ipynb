{
  "nbformat": 4,
  "nbformat_minor": 0,
  "metadata": {
    "colab": {
      "provenance": [],
      "collapsed_sections": [
        "2IKkMTwsB63G",
        "Tm7EZSpDB63p",
        "itxG28uuB64-",
        "W363cJvLB65e",
        "N2s-YFjJB66C",
        "FC52b8NEB68O",
        "Vy-Vlm_gNqbm",
        "1w72L1ocB6-i",
        "57RIWrjzB6-n",
        "SNsJZxOfB6-_",
        "iuYs7aUaB670",
        "x0rYpy0oB7Ah",
        "hnpL42MoB7Bh",
        "ncXyP224B7Cd",
        "BJWapFuOB7C4",
        "EEbx6GvbB7Eh"
      ]
    },
    "kernelspec": {
      "name": "python3",
      "display_name": "Python 3"
    }
  },
  "cells": [
    {
      "cell_type": "markdown",
      "metadata": {
        "id": "HsZn6SXJo11s"
      },
      "source": [
        "# ***PYTHON BASICS***"
      ]
    },
    {
      "cell_type": "markdown",
      "metadata": {
        "id": "2IKkMTwsB63G"
      },
      "source": [
        "# BASIC POINTS"
      ]
    },
    {
      "cell_type": "code",
      "metadata": {
        "id": "8CDfsdhcB63K"
      },
      "source": [
        "# DATA TYPES\n",
        "\n",
        "# Python has 2 kinds of data types\n",
        "\n",
        "# 1. Sequences - Numbers, strings, lists, tuples\n",
        "# 2. Mappings - Dictionary, Sets"
      ],
      "execution_count": null,
      "outputs": []
    },
    {
      "cell_type": "code",
      "metadata": {
        "id": "AnUCdZgAB63Y"
      },
      "source": [],
      "execution_count": null,
      "outputs": []
    },
    {
      "cell_type": "markdown",
      "metadata": {
        "id": "Tm7EZSpDB63p"
      },
      "source": [
        "# NUMBERS"
      ]
    },
    {
      "cell_type": "code",
      "metadata": {
        "id": "YADw9qaCB63q"
      },
      "source": [
        "#The 3 default number types in python are INT, FLOAT and COMPLEX"
      ],
      "execution_count": null,
      "outputs": []
    },
    {
      "cell_type": "code",
      "metadata": {
        "id": "FEHDmrJPB632",
        "outputId": "a299d454-9d84-4fdf-b848-a4cdd5056a00"
      },
      "source": [
        "print(1 + 2)\n",
        "print(1.1 + 2.2)\n",
        "print((4 + 5j) + (9 - 7j))"
      ],
      "execution_count": null,
      "outputs": [
        {
          "output_type": "stream",
          "text": [
            "3\n",
            "3.3000000000000003\n",
            "(13-2j)\n"
          ],
          "name": "stdout"
        }
      ]
    },
    {
      "cell_type": "markdown",
      "metadata": {
        "id": "gw9LehdnB63_"
      },
      "source": [
        "### python decimal class"
      ]
    },
    {
      "cell_type": "code",
      "metadata": {
        "id": "yOPybaDdB64B",
        "outputId": "c470b38b-b903-4d59-faec-d97fe26f7327"
      },
      "source": [
        "# PYTHON DECIMALS\n",
        "#decimal has a higher precision thant the defaut floating type and gives accurate results but at the trade off of  effeciency\n",
        "from decimal import Decimal as D\n",
        "print(D('1.1') + D(\"2.2\"))\n",
        "print(1.1 + 2.2)\n",
        "\n",
        "#normal floor division rounds up the number but the decimal floor division preserves the og integer part\n",
        "print(-7//4)\n",
        "print(D('-7') // D('4'))"
      ],
      "execution_count": null,
      "outputs": [
        {
          "output_type": "stream",
          "text": [
            "3.3\n",
            "3.3000000000000003\n",
            "-2\n",
            "-1\n"
          ],
          "name": "stdout"
        }
      ]
    },
    {
      "cell_type": "markdown",
      "metadata": {
        "id": "lgU9SLjtB64N"
      },
      "source": [
        "### python fraction class"
      ]
    },
    {
      "cell_type": "code",
      "metadata": {
        "id": "kfP0IrwOB64P",
        "outputId": "691d98eb-18d0-4c7f-d638-c5b99ce7cc6e"
      },
      "source": [
        "from fractions import Fraction as f\n",
        "print(f(\"1.1\"))\n",
        "\n",
        "#it supoorts all basic arithmetic operations\n",
        "print(f(\"1.1\") + f(\"2.1\"))"
      ],
      "execution_count": null,
      "outputs": [
        {
          "output_type": "stream",
          "text": [
            "11/10\n",
            "16/5\n"
          ],
          "name": "stdout"
        }
      ]
    },
    {
      "cell_type": "markdown",
      "metadata": {
        "id": "OXA23bwZB64Z"
      },
      "source": [
        "### type conversion"
      ]
    },
    {
      "cell_type": "code",
      "metadata": {
        "id": "Q5Cgg3fwB64b",
        "outputId": "5219fa47-c0c2-428e-e370-44ed20d82832"
      },
      "source": [
        "# type conversion can be explicit or implicit\n",
        "# implicit type conversion\n",
        "print(1 + 2.0)\n",
        "\n",
        "#explicit \n",
        "a = 4\n",
        "print(float(a))\n",
        "b = 5\n",
        "print(complex(a,b))\n",
        "# check out methods for complex functions whenever time permits"
      ],
      "execution_count": null,
      "outputs": [
        {
          "output_type": "stream",
          "text": [
            "3.0\n",
            "4.0\n",
            "(4+5j)\n"
          ],
          "name": "stdout"
        }
      ]
    },
    {
      "cell_type": "code",
      "metadata": {
        "id": "FsyKhb-8B64h",
        "outputId": "cc60dab7-32fc-40a8-9433-c81091717a92"
      },
      "source": [
        "#python has an inbuilt library for math functions. Th inbuilt math funtions are following\n",
        "import math as m\n",
        "dir(m)"
      ],
      "execution_count": null,
      "outputs": [
        {
          "output_type": "execute_result",
          "data": {
            "text/plain": [
              "['__doc__',\n",
              " '__file__',\n",
              " '__loader__',\n",
              " '__name__',\n",
              " '__package__',\n",
              " '__spec__',\n",
              " 'acos',\n",
              " 'acosh',\n",
              " 'asin',\n",
              " 'asinh',\n",
              " 'atan',\n",
              " 'atan2',\n",
              " 'atanh',\n",
              " 'ceil',\n",
              " 'copysign',\n",
              " 'cos',\n",
              " 'cosh',\n",
              " 'degrees',\n",
              " 'e',\n",
              " 'erf',\n",
              " 'erfc',\n",
              " 'exp',\n",
              " 'expm1',\n",
              " 'fabs',\n",
              " 'factorial',\n",
              " 'floor',\n",
              " 'fmod',\n",
              " 'frexp',\n",
              " 'fsum',\n",
              " 'gamma',\n",
              " 'gcd',\n",
              " 'hypot',\n",
              " 'inf',\n",
              " 'isclose',\n",
              " 'isfinite',\n",
              " 'isinf',\n",
              " 'isnan',\n",
              " 'ldexp',\n",
              " 'lgamma',\n",
              " 'log',\n",
              " 'log10',\n",
              " 'log1p',\n",
              " 'log2',\n",
              " 'modf',\n",
              " 'nan',\n",
              " 'pi',\n",
              " 'pow',\n",
              " 'radians',\n",
              " 'remainder',\n",
              " 'sin',\n",
              " 'sinh',\n",
              " 'sqrt',\n",
              " 'tan',\n",
              " 'tanh',\n",
              " 'tau',\n",
              " 'trunc']"
            ]
          },
          "metadata": {
            "tags": []
          },
          "execution_count": 109
        }
      ]
    },
    {
      "cell_type": "code",
      "metadata": {
        "id": "xPf7bgnYB64r",
        "outputId": "5d7a60fb-f3f7-4649-85af-d496a203135b"
      },
      "source": [
        "#similarly python has inbuilt library for random generation functions\n",
        "import random as r\n",
        "dir(r)"
      ],
      "execution_count": null,
      "outputs": [
        {
          "output_type": "execute_result",
          "data": {
            "text/plain": [
              "['BPF',\n",
              " 'LOG4',\n",
              " 'NV_MAGICCONST',\n",
              " 'RECIP_BPF',\n",
              " 'Random',\n",
              " 'SG_MAGICCONST',\n",
              " 'SystemRandom',\n",
              " 'TWOPI',\n",
              " '_BuiltinMethodType',\n",
              " '_MethodType',\n",
              " '_Sequence',\n",
              " '_Set',\n",
              " '__all__',\n",
              " '__builtins__',\n",
              " '__cached__',\n",
              " '__doc__',\n",
              " '__file__',\n",
              " '__loader__',\n",
              " '__name__',\n",
              " '__package__',\n",
              " '__spec__',\n",
              " '_acos',\n",
              " '_bisect',\n",
              " '_ceil',\n",
              " '_cos',\n",
              " '_e',\n",
              " '_exp',\n",
              " '_inst',\n",
              " '_itertools',\n",
              " '_log',\n",
              " '_os',\n",
              " '_pi',\n",
              " '_random',\n",
              " '_sha512',\n",
              " '_sin',\n",
              " '_sqrt',\n",
              " '_test',\n",
              " '_test_generator',\n",
              " '_urandom',\n",
              " '_warn',\n",
              " 'betavariate',\n",
              " 'choice',\n",
              " 'choices',\n",
              " 'expovariate',\n",
              " 'gammavariate',\n",
              " 'gauss',\n",
              " 'getrandbits',\n",
              " 'getstate',\n",
              " 'lognormvariate',\n",
              " 'normalvariate',\n",
              " 'paretovariate',\n",
              " 'randint',\n",
              " 'random',\n",
              " 'randrange',\n",
              " 'sample',\n",
              " 'seed',\n",
              " 'setstate',\n",
              " 'shuffle',\n",
              " 'triangular',\n",
              " 'uniform',\n",
              " 'vonmisesvariate',\n",
              " 'weibullvariate']"
            ]
          },
          "metadata": {
            "tags": []
          },
          "execution_count": 110
        }
      ]
    },
    {
      "cell_type": "code",
      "metadata": {
        "id": "IW82zHQHB64y",
        "outputId": "cce3bda6-e99f-4a97-b65a-394ea1dec905"
      },
      "source": [
        "# example\n",
        "x = [2,4,5,6,7,8]\n",
        "print(r.choice(x))\n",
        "r.shuffle(x)\n",
        "print(x)"
      ],
      "execution_count": null,
      "outputs": [
        {
          "output_type": "stream",
          "text": [
            "6\n",
            "[4, 2, 5, 8, 7, 6]\n"
          ],
          "name": "stdout"
        }
      ]
    },
    {
      "cell_type": "markdown",
      "metadata": {
        "id": "itxG28uuB64-"
      },
      "source": [
        "## Operators "
      ]
    },
    {
      "cell_type": "code",
      "metadata": {
        "id": "7sY9KhOhB64_"
      },
      "source": [
        "#Python has the following operators\n",
        "\n",
        "#1. Arithmetic operators - +,-,/,//,%,**\n",
        "#2. comparison operators - >,<,>=,<=,!=, ==\n",
        "#3. Logical operators - and, or , not\n",
        "#4. bitwise operators - &(And), \\(OR),~(NOT),^(XOR),<<(LEFT SHIFT),>>(RIGHT SHIFT)\n",
        "#5. Assignment operator\n",
        "#6. Identity operators - is, is not\n",
        "#7. Membership operators - in, not in"
      ],
      "execution_count": null,
      "outputs": []
    },
    {
      "cell_type": "code",
      "metadata": {
        "id": "yone2kR_B65H",
        "outputId": "2e0592fd-e356-4a98-bda9-eda9b4b2234f"
      },
      "source": [
        "#identity operators\n",
        "x1 = 5\n",
        "y1 = 5\n",
        "x2 = 'Hello'\n",
        "y2 = 'Hello'\n",
        "x3 = [1,2,3]\n",
        "y3 = [1,2,3]\n",
        "\n",
        "# Output: False\n",
        "print(x1 is not y1)\n",
        "\n",
        "# Output: True\n",
        "print(x2 is y2)\n",
        "\n",
        "# Output: False\n",
        "print(x3 is y3)"
      ],
      "execution_count": null,
      "outputs": [
        {
          "output_type": "stream",
          "text": [
            "False\n",
            "True\n",
            "False\n"
          ],
          "name": "stdout"
        }
      ]
    },
    {
      "cell_type": "code",
      "metadata": {
        "id": "kbcnvufMB65Q",
        "outputId": "f1e65821-8ddf-4192-f230-12dadcb3e2e3"
      },
      "source": [
        "x = 'Hello world'\n",
        "y = {1:'a',2:'b'}\n",
        "\n",
        "# Output: True\n",
        "print('H' in x)\n",
        "\n",
        "# Output: True\n",
        "print('hello' not in x)\n",
        "\n",
        "# Output: True\n",
        "print(1 in y)\n",
        "\n",
        "# Output: False\n",
        "print('a' in y)"
      ],
      "execution_count": null,
      "outputs": [
        {
          "output_type": "stream",
          "text": [
            "True\n",
            "True\n",
            "True\n",
            "False\n"
          ],
          "name": "stdout"
        }
      ]
    },
    {
      "cell_type": "code",
      "metadata": {
        "id": "kAbki2gNB65V"
      },
      "source": [],
      "execution_count": null,
      "outputs": []
    },
    {
      "cell_type": "markdown",
      "metadata": {
        "id": "W363cJvLB65e"
      },
      "source": [
        "# BASIC NPUT AND OUTPUT"
      ]
    },
    {
      "cell_type": "markdown",
      "metadata": {
        "id": "eaj6tuX0B65g"
      },
      "source": [
        "### Output"
      ]
    },
    {
      "cell_type": "code",
      "metadata": {
        "id": "SvvjkZodB65g",
        "outputId": "17f8bd7b-f124-4f29-d62c-f192e73f1aba"
      },
      "source": [
        "# The actual syntax of the print() function is:\n",
        "\n",
        "#  print(*objects, sep=' ', end='\\n', file=sys.stdout, flush=False)\n",
        "\n",
        "# Here, objects is the value(s) to be printed.\n",
        "# The sep separator is used between the values. It defaults into a space character.\n",
        "# After all values are printed, end is printed. It defaults into a new line.\n",
        "# The file is the object where the values are printed and its default value is sys.stdout (screen). \n",
        "\n",
        "print(1, 2, 3, 4)\n",
        "print(1, 2, 3, 4, sep='*')\n",
        "print(1, 2, 3, 4, sep='#', end='&')"
      ],
      "execution_count": null,
      "outputs": [
        {
          "output_type": "stream",
          "text": [
            "1 2 3 4\n",
            "1*2*3*4\n",
            "1#2#3#4&"
          ],
          "name": "stdout"
        }
      ]
    },
    {
      "cell_type": "code",
      "metadata": {
        "id": "G5DXpQuHB65n",
        "outputId": "fab392a2-db8e-4ce2-bfa6-879a10beef91"
      },
      "source": [
        "# to concatenate any variable in a print statement, we need to convert it into string type\n",
        "\n",
        "a = 10\n",
        "print(\"value of a is \" + str(a))"
      ],
      "execution_count": null,
      "outputs": [
        {
          "output_type": "stream",
          "text": [
            "value of a is 10\n"
          ],
          "name": "stdout"
        }
      ]
    },
    {
      "cell_type": "code",
      "metadata": {
        "id": "SZ3QA54AB65u"
      },
      "source": [
        "# More information on OUTPUT FORMATTING under STRINGS section"
      ],
      "execution_count": null,
      "outputs": []
    },
    {
      "cell_type": "markdown",
      "metadata": {
        "id": "R5fMRIZCB650"
      },
      "source": [
        "### Input"
      ]
    },
    {
      "cell_type": "code",
      "metadata": {
        "id": "EVb-yvw8B651",
        "outputId": "ab88df67-05c4-4735-9c8f-4496110824e3"
      },
      "source": [
        "# Python takes user input using the 'input(prompt)' function. The default return type of this function is string \n",
        "# and we need to explicitly type cast in other data types\n",
        "\n",
        "in_rate = int(input(\"please enter the interest rate for the loan\"))\n",
        "print(type(in_rate))"
      ],
      "execution_count": null,
      "outputs": [
        {
          "output_type": "stream",
          "text": [
            "please enter the interest rate for the loan10\n",
            "<class 'int'>\n"
          ],
          "name": "stdout"
        }
      ]
    },
    {
      "cell_type": "code",
      "metadata": {
        "id": "8J5l_oodB656"
      },
      "source": [],
      "execution_count": null,
      "outputs": []
    },
    {
      "cell_type": "markdown",
      "metadata": {
        "id": "N2s-YFjJB66C"
      },
      "source": [
        "# FLOW CONTROL"
      ]
    },
    {
      "cell_type": "code",
      "metadata": {
        "id": "PSsZj5uaB66D",
        "outputId": "0ff77d8a-1114-4757-c8f3-afbac0241e76"
      },
      "source": [
        "#basis of flow control is the boolean datatype in python\n",
        "a = True\n",
        "type(a)"
      ],
      "execution_count": null,
      "outputs": [
        {
          "output_type": "execute_result",
          "data": {
            "text/plain": [
              "bool"
            ]
          },
          "metadata": {
            "tags": []
          },
          "execution_count": 119
        }
      ]
    },
    {
      "cell_type": "code",
      "metadata": {
        "id": "uRmDCWhzB66K",
        "outputId": "333f950c-3114-402e-f961-9f5733207bab"
      },
      "source": [
        "a = bool(1)\n",
        "print(a)\n",
        "a = bool(0)\n",
        "print(a)\n",
        "a = bool(10)\n",
        "print(a)\n",
        "a = bool(-20)\n",
        "print(a)\n",
        "a = bool()\n",
        "print(a)\n",
        "\n",
        "\"\"\"\n",
        "False statements:\n",
        " False\n",
        " 0\n",
        " empty sequences - (),[],'' (tuples,list,strings)\n",
        " empty mappings - {} (sets and dicts)\n",
        " None\n",
        "\"\"\""
      ],
      "execution_count": null,
      "outputs": [
        {
          "output_type": "stream",
          "text": [
            "True\n",
            "False\n",
            "True\n",
            "True\n",
            "False\n"
          ],
          "name": "stdout"
        },
        {
          "output_type": "execute_result",
          "data": {
            "text/plain": [
              "\"\\nFalse statements:\\n False\\n 0\\n empty sequences - (),[],'' (tuples,list,strings)\\n empty mappings - {} (sets and dicts)\\n None\\n\""
            ]
          },
          "metadata": {
            "tags": []
          },
          "execution_count": 120
        }
      ]
    },
    {
      "cell_type": "code",
      "metadata": {
        "id": "VT56CaZkB66R",
        "outputId": "2079694b-45b3-403e-c51f-7ca54f7de244"
      },
      "source": [
        "# OUTPUT of the 6 standard(==,!=,<,>,<=,>=) comparison operators is also a boolean value\n",
        "4 == 4\n",
        "10>=11"
      ],
      "execution_count": null,
      "outputs": [
        {
          "output_type": "execute_result",
          "data": {
            "text/plain": [
              "False"
            ]
          },
          "metadata": {
            "tags": []
          },
          "execution_count": 121
        }
      ]
    },
    {
      "cell_type": "code",
      "metadata": {
        "id": "gjAgO2NVB66Z"
      },
      "source": [
        "# BOOLEAN OPERATORS - AND, OR and NOT returns True or False"
      ],
      "execution_count": null,
      "outputs": []
    },
    {
      "cell_type": "code",
      "metadata": {
        "id": "uVrN6fOHB66e"
      },
      "source": [
        "#IF, ELIF AND ELSE STATEMENTS"
      ],
      "execution_count": null,
      "outputs": []
    },
    {
      "cell_type": "code",
      "metadata": {
        "id": "jJehn8ihB66l",
        "outputId": "87265112-b2b4-4077-9cdd-ea99942242e6"
      },
      "source": [
        "name = input(\"enter the name\\n\")\n",
        "if name == \"vishal\":\n",
        "    print(110)\n",
        "elif name == \"viraj\":\n",
        "    print(107)\n",
        "else:\n",
        "    print(106) "
      ],
      "execution_count": null,
      "outputs": [
        {
          "output_type": "stream",
          "text": [
            "enter the name\n",
            "vedant\n",
            "106\n"
          ],
          "name": "stdout"
        }
      ]
    },
    {
      "cell_type": "code",
      "metadata": {
        "id": "ZB4oJPnjB66q",
        "outputId": "9fc63c88-da35-4f50-c550-5f49211c1592"
      },
      "source": [
        "# TRUTHEY AND FALSEY VALUES - a blank value is equal to a bool False \n",
        "\n",
        "name = input(\"enter a name\") \n",
        "if name:\n",
        "    print(\"input entered\")\n",
        "else:\n",
        "    print(\"input not entered\")"
      ],
      "execution_count": null,
      "outputs": [
        {
          "output_type": "stream",
          "text": [
            "enter a namevedant\n",
            "input entered\n"
          ],
          "name": "stdout"
        }
      ]
    },
    {
      "cell_type": "code",
      "metadata": {
        "id": "33-qFNkYB66v",
        "outputId": "c69d8fe8-3264-40d0-eb67-dc7e89107c52"
      },
      "source": [
        "#while loop with else\n",
        "\n",
        "spam = 0 \n",
        "while spam <=3:\n",
        "    print('spam')\n",
        "    spam = spam + 1\n",
        "else:\n",
        "    print('lol')"
      ],
      "execution_count": null,
      "outputs": [
        {
          "output_type": "stream",
          "text": [
            "spam\n",
            "spam\n",
            "spam\n",
            "spam\n",
            "lol\n"
          ],
          "name": "stdout"
        }
      ]
    },
    {
      "cell_type": "code",
      "metadata": {
        "id": "SMhI8n4dB662"
      },
      "source": [
        "# we can add break and continue statements in while loop"
      ],
      "execution_count": null,
      "outputs": []
    },
    {
      "cell_type": "code",
      "metadata": {
        "id": "ar2Qfo_rB667",
        "outputId": "e6c771c1-b17b-4943-be71-6d26e7453178"
      },
      "source": [
        "a = [1,2,3]\n",
        "b = [1,2,3] #HERE b IS AN INDEPENDENT VARIABLE WITH ITS OWN MEMORY SPACE\n",
        " \n",
        "print(a==b)\n",
        "print(a is b)\n",
        "\n",
        "b = a  # hERE b IS A REFERENCE TO A IN THE MEMORY, BOTH POINTING TO THE SAME LOCATION\n",
        "\n",
        "print(a==b)\n",
        "print(a is b)"
      ],
      "execution_count": null,
      "outputs": [
        {
          "output_type": "stream",
          "text": [
            "True\n",
            "False\n",
            "True\n",
            "True\n"
          ],
          "name": "stdout"
        }
      ]
    },
    {
      "cell_type": "code",
      "metadata": {
        "id": "5ysJMuFvB67C"
      },
      "source": [
        "# FOR LOOPS - imp to get used to as different than other languages"
      ],
      "execution_count": null,
      "outputs": []
    },
    {
      "cell_type": "code",
      "metadata": {
        "id": "06BAKub8B67I",
        "outputId": "cb8f1dab-0a76-4748-925f-03923d09423b"
      },
      "source": [
        "words = ['hey','hello','waddup']\n",
        "for word in words:\n",
        "    print(word)"
      ],
      "execution_count": null,
      "outputs": [
        {
          "output_type": "stream",
          "text": [
            "hey\n",
            "hello\n",
            "waddup\n"
          ],
          "name": "stdout"
        }
      ]
    },
    {
      "cell_type": "code",
      "metadata": {
        "id": "P-pUJtq8B67T",
        "outputId": "b4ff13ba-bac5-4c5a-bee2-88459eecaa6d"
      },
      "source": [
        "# in python, for loop can iterate over an sequence type, i.e string,list,tuple,dict\n",
        "#ex1\n",
        "for letter in \"vedant\":\n",
        "    print(letter.upper(), end = \"  \") \n",
        "    \n",
        "#ex2    \n",
        "dict1 = {\"name\":\"vedant\",\"usn\":\"106\",\"sec\":\"6B\",\"col\":\"CMRIT\"}\n",
        "\n",
        "print(\"\\n\")\n",
        "for key,value in dict1.items():\n",
        "    print(key + \" --> \" + value)\n"
      ],
      "execution_count": null,
      "outputs": [
        {
          "output_type": "stream",
          "text": [
            "V  E  D  A  N  T  \n",
            "\n",
            "name --> vedant\n",
            "usn --> 106\n",
            "sec --> 6B\n",
            "col --> CMRIT\n"
          ],
          "name": "stdout"
        }
      ]
    },
    {
      "cell_type": "code",
      "metadata": {
        "id": "hJLlBbjcB67Y",
        "outputId": "1fa1516e-ec23-4167-aba1-a7bdcdc76b72"
      },
      "source": [
        "# RANGE FUNCTION\n",
        "\n",
        "\n",
        "#syntax - range(SI,EI,step)\n",
        "# positive as well as negative indexing both works with range\n",
        "for x in range(15,110,15):\n",
        "    print(x)"
      ],
      "execution_count": null,
      "outputs": [
        {
          "output_type": "stream",
          "text": [
            "15\n",
            "30\n",
            "45\n",
            "60\n",
            "75\n",
            "90\n",
            "105\n"
          ],
          "name": "stdout"
        }
      ]
    },
    {
      "cell_type": "code",
      "metadata": {
        "id": "0tAw4HA3B67g",
        "outputId": "cf3bf405-40e4-47e4-da73-52f5d0546644"
      },
      "source": [
        "#To iterate over the indices of a sequence, you can combine range() and len() as follows:\n",
        "\n",
        "x = ['hi',3.14, \"fook off\", 999999]\n",
        "\n",
        "for y in range(len(x)):\n",
        "    print(y,x[y])\n",
        "    "
      ],
      "execution_count": null,
      "outputs": [
        {
          "output_type": "stream",
          "text": [
            "0 hi\n",
            "1 3.14\n",
            "2 fook off\n",
            "3 999999\n"
          ],
          "name": "stdout"
        }
      ]
    },
    {
      "cell_type": "code",
      "metadata": {
        "id": "dDiLI-OdB67l",
        "outputId": "5b52f254-fdb0-4d81-918a-fa95eeb786f3"
      },
      "source": [
        "#The range() function\n",
        "\n",
        "#We can generate a sequence of numbers using range() function. range(10) will generate numbers from 0 to 9 \n",
        "#(10 numbers).We can also define the start, stop and step size as range(start, stop,step_size). step_size \n",
        "#defaults to 1 if not provided.The range object is \"lazy\" in a sense because it doesn't generate every number\n",
        "#that it \"contains\" when we create it. However, it is not an iterator since it supports in, len and __getitem__ \n",
        "#operations.This function does not store all the values in memory; it would be inefficient. So it remembers the \n",
        "#start, stop, step size and generates the next number on the go.To force this function to output all the items, \n",
        "#we can use the function list().\n",
        "\n",
        "print(range(10))\n",
        "print(list(range(10)))\n",
        "print(list(range(2, 8)))\n",
        "print(list(range(2, 20, 3)))\n"
      ],
      "execution_count": null,
      "outputs": [
        {
          "output_type": "stream",
          "text": [
            "range(0, 10)\n",
            "[0, 1, 2, 3, 4, 5, 6, 7, 8, 9]\n",
            "[2, 3, 4, 5, 6, 7]\n",
            "[2, 5, 8, 11, 14, 17]\n"
          ],
          "name": "stdout"
        }
      ]
    },
    {
      "cell_type": "code",
      "metadata": {
        "id": "XrmOK8s0B67p",
        "outputId": "d6bb1efc-8c87-470a-cf8f-94c58a9495d5"
      },
      "source": [
        "# else, break and continue statements in for loop\n",
        "\n",
        "for n in range(2, 10):\n",
        "  for x in range(2, n):\n",
        "        if n % x == 0:\n",
        "             print(n, 'equals', x, '*', n//x)\n",
        "             break\n",
        "  else:\n",
        "          # loop fell through without finding a factor\n",
        "          print(n, 'is a prime number')\n",
        "            \n",
        "\n",
        "            "
      ],
      "execution_count": null,
      "outputs": [
        {
          "output_type": "stream",
          "text": [
            "2 is a prime number\n",
            "3 is a prime number\n",
            "4 equals 2 * 2\n",
            "5 is a prime number\n",
            "6 equals 2 * 3\n",
            "7 is a prime number\n",
            "8 equals 2 * 4\n",
            "9 equals 3 * 3\n"
          ],
          "name": "stdout"
        }
      ]
    },
    {
      "cell_type": "code",
      "metadata": {
        "id": "eN-JlnP3B67t",
        "outputId": "dbe366e8-8470-4825-cec5-6cecc431fc86"
      },
      "source": [
        "for num in range(2, 10):\n",
        "    if num % 2 == 0:\n",
        "         print(\"Found an even number\", num)\n",
        "         continue\n",
        "    print(\"Found a number\", num)"
      ],
      "execution_count": null,
      "outputs": [
        {
          "output_type": "stream",
          "text": [
            "Found an even number 2\n",
            "Found a number 3\n",
            "Found an even number 4\n",
            "Found a number 5\n",
            "Found an even number 6\n",
            "Found a number 7\n",
            "Found an even number 8\n",
            "Found a number 9\n"
          ],
          "name": "stdout"
        }
      ]
    },
    {
      "cell_type": "code",
      "metadata": {
        "scrolled": true,
        "id": "XBEV8WVxB67w",
        "outputId": "3fda5dc8-18f4-4cc1-a1f5-097f3337bbe0"
      },
      "source": [
        "# for loops also have else statements\n",
        "spam = 0\n",
        "for spam in range(0,5):\n",
        "    print(\"spam equal to \" + str(spam))\n",
        "else:\n",
        "    print(\"in else spam equal to 6\")"
      ],
      "execution_count": null,
      "outputs": [
        {
          "output_type": "stream",
          "text": [
            "spam equal to 0\n",
            "spam equal to 1\n",
            "spam equal to 2\n",
            "spam equal to 3\n",
            "spam equal to 4\n",
            "in else spam equal to 6\n"
          ],
          "name": "stdout"
        }
      ]
    },
    {
      "cell_type": "markdown",
      "metadata": {
        "id": "FC52b8NEB68O"
      },
      "source": [
        "# FUNCTIONS"
      ]
    },
    {
      "cell_type": "code",
      "metadata": {
        "scrolled": true,
        "id": "ErsAgnqlB68O",
        "outputId": "eabb7078-0809-41fa-96c0-01a0e94661a5"
      },
      "source": [
        "# ********BASICS*******\n",
        "# Argument - the value passed to the function\n",
        "# Parameter - the holder of that value in the function\n",
        "\n",
        "# a simple fibonacci functioin\n",
        "\n",
        "def fibo(n):\n",
        "    a,b = 0,1\n",
        "    while a < n:\n",
        "        print(a, end = ' ')\n",
        "        a,b = b, a+b\n",
        "    \n",
        "fibo(30)    \n"
      ],
      "execution_count": null,
      "outputs": [
        {
          "output_type": "stream",
          "text": [
            "0 1 1 2 3 5 8 13 21 "
          ],
          "name": "stdout"
        }
      ]
    },
    {
      "cell_type": "code",
      "metadata": {
        "id": "Wi0IY0PhB68T",
        "outputId": "28508ed3-d768-4bb3-cba6-024d36fd5338"
      },
      "source": [
        "# a function can be easily renamed also\n",
        "f = fibo\n",
        "f(50)"
      ],
      "execution_count": null,
      "outputs": [
        {
          "output_type": "stream",
          "text": [
            "0 1 1 2 3 5 8 13 21 34 "
          ],
          "name": "stdout"
        }
      ]
    },
    {
      "cell_type": "code",
      "metadata": {
        "id": "efhS2aP-B68Y"
      },
      "source": [
        "# ***********RETURN STATEMENT AND None datatype****************\n",
        "\n",
        "# Functions that do not return any value, return the None data type. For example lets see print function"
      ],
      "execution_count": null,
      "outputs": []
    },
    {
      "cell_type": "code",
      "metadata": {
        "id": "HqJZhpBIB68u",
        "outputId": "a4db811c-3914-4eeb-8e4d-e5d9bb38de5e"
      },
      "source": [
        "print(\"hello\")"
      ],
      "execution_count": null,
      "outputs": [
        {
          "output_type": "stream",
          "text": [
            "hello\n"
          ],
          "name": "stdout"
        }
      ]
    },
    {
      "cell_type": "code",
      "metadata": {
        "id": "Rl6otgyHB68x",
        "outputId": "f568ac6a-35fc-4fc4-b0f3-a756ab294e7c"
      },
      "source": [
        "spam = print()\n",
        "spam == None"
      ],
      "execution_count": null,
      "outputs": [
        {
          "output_type": "stream",
          "text": [
            "\n"
          ],
          "name": "stdout"
        },
        {
          "output_type": "execute_result",
          "data": {
            "text/plain": [
              "True"
            ]
          },
          "metadata": {
            "tags": []
          },
          "execution_count": 148
        }
      ]
    },
    {
      "cell_type": "code",
      "metadata": {
        "id": "cQ3cnmijB680",
        "outputId": "e3fad07f-c176-4a3b-d62f-f24e01f919df"
      },
      "source": [
        "type(spam)"
      ],
      "execution_count": null,
      "outputs": [
        {
          "output_type": "execute_result",
          "data": {
            "text/plain": [
              "NoneType"
            ]
          },
          "metadata": {
            "tags": []
          },
          "execution_count": 149
        }
      ]
    },
    {
      "cell_type": "code",
      "metadata": {
        "id": "QwKiGNZVNp32"
      },
      "source": [],
      "execution_count": null,
      "outputs": []
    },
    {
      "cell_type": "markdown",
      "metadata": {
        "id": "Vy-Vlm_gNqbm"
      },
      "source": [
        "## ARGUMENTS IN FUNCTION"
      ]
    },
    {
      "cell_type": "code",
      "metadata": {
        "id": "79lVtNlzN58J"
      },
      "source": [
        "# Apart from the normal arguments, python has certain special type of arguments for functions. Those are:"
      ],
      "execution_count": null,
      "outputs": []
    },
    {
      "cell_type": "markdown",
      "metadata": {
        "id": "7NX4aJGNN8Uf"
      },
      "source": [
        "1. **Default Argument**\n",
        "\n"
      ]
    },
    {
      "cell_type": "code",
      "metadata": {
        "id": "opcJshYWB689",
        "outputId": "81eb11db-f525-4a20-a579-cb565e04552e"
      },
      "source": [
        "def ask_ok(prompt, retries=4, reminder='Please try again!'):\n",
        "    while True:\n",
        "        ok = input(prompt)\n",
        "        if ok in ('y', 'ye', 'yes'):\n",
        "            return False\n",
        "        if ok in ('n', 'no', 'nop', 'nope'):\n",
        "            return True\n",
        "        retries = retries - 1\n",
        "        if retries < 0:\n",
        "                print(reminder)\n",
        "        \n",
        "ask_ok(\"Are you a quitter?\")\n",
        "ask_ok('Are you a quitter?', 2)\n",
        "ask_ok('Are you a quitter?, 2, 'Come on, only yes or no!')"
      ],
      "execution_count": null,
      "outputs": [
        {
          "output_type": "error",
          "ename": "SyntaxError",
          "evalue": "invalid syntax (<ipython-input-151-e9d9ecf7fb26>, line 18)",
          "traceback": [
            "\u001b[0;36m  File \u001b[0;32m\"<ipython-input-151-e9d9ecf7fb26>\"\u001b[0;36m, line \u001b[0;32m18\u001b[0m\n\u001b[0;31m    ask_ok('Are you a quitter?, 2, 'Come on, only yes or no!')\u001b[0m\n\u001b[0m                                       ^\u001b[0m\n\u001b[0;31mSyntaxError\u001b[0m\u001b[0;31m:\u001b[0m invalid syntax\n"
          ]
        }
      ]
    },
    {
      "cell_type": "code",
      "metadata": {
        "id": "neupRRw8B69F",
        "outputId": "85453868-236c-41d7-c297-3601ba172719",
        "colab": {
          "base_uri": "https://localhost:8080/",
          "height": 34
        }
      },
      "source": [
        "# the default values are evaluated at the point of function definition in the defining scope, and so following function will print 5 and not 6\n",
        "\n",
        "i = 5\n",
        "def f(arg=i):\n",
        "    print(arg)\n",
        "\n",
        "i = 6\n",
        "f()"
      ],
      "execution_count": null,
      "outputs": [
        {
          "output_type": "stream",
          "text": [
            "5\n"
          ],
          "name": "stdout"
        }
      ]
    },
    {
      "cell_type": "code",
      "metadata": {
        "id": "wQQzYOZ0B69J",
        "outputId": "091e1f2b-5c75-4fb4-9a7f-b2b7675385a9"
      },
      "source": [
        "#The default value is evaluated only once. This makes a difference when the default is a mutable object such \n",
        "#as a list, dictionary, or instances of most classes. For example, the following function accumulates the \n",
        "#arguments passed to it on subsequent calls:\n",
        "\n",
        "def f(a, L=[]):\n",
        "    L.append(a)\n",
        "    return L\n",
        "\n",
        "print(f(1))\n",
        "print(f(2))\n",
        "print(f(3))\n"
      ],
      "execution_count": null,
      "outputs": [
        {
          "output_type": "stream",
          "text": [
            "[1]\n",
            "[1, 2]\n",
            "[1, 2, 3]\n"
          ],
          "name": "stdout"
        }
      ]
    },
    {
      "cell_type": "code",
      "metadata": {
        "id": "2d1VJnjmB69O",
        "outputId": "b801111e-3df5-499e-859d-a8ead5fa1f5b"
      },
      "source": [
        "#To avoid from above happening, we can give the default value as None\n",
        "\n",
        "def f(a, L=None):\n",
        "    if L is None:\n",
        "        L = []\n",
        "    L.append(a)\n",
        "    return L\n",
        "\n",
        "\n",
        "print(f(1))\n",
        "print(f(2))\n",
        "print(f(3))"
      ],
      "execution_count": null,
      "outputs": [
        {
          "output_type": "stream",
          "text": [
            "[1]\n",
            "[2]\n",
            "[3]\n"
          ],
          "name": "stdout"
        }
      ]
    },
    {
      "cell_type": "code",
      "metadata": {
        "id": "NH6UwQRQB69S"
      },
      "source": [],
      "execution_count": null,
      "outputs": []
    },
    {
      "cell_type": "markdown",
      "metadata": {
        "id": "IsOzMnRbOIeJ"
      },
      "source": [
        "2. **Keyword Arguments**"
      ]
    },
    {
      "cell_type": "code",
      "metadata": {
        "id": "qZKoPPnwB69U",
        "outputId": "de029d7a-2fb4-46ec-a368-9831ec394739"
      },
      "source": [
        "\n",
        "\n",
        "#example 1\n",
        "def greeting(str, name=\"you\"):\n",
        "    print(str + \", \" +  name)\n",
        "    \n",
        "greeting('hi',name = 'Vedant')\n",
        "greeting(\"hi\")"
      ],
      "execution_count": null,
      "outputs": [
        {
          "output_type": "stream",
          "text": [
            "hi, Vedant\n",
            "hi, you\n"
          ],
          "name": "stdout"
        }
      ]
    },
    {
      "cell_type": "code",
      "metadata": {
        "id": "QA9B9qcrB69X"
      },
      "source": [],
      "execution_count": null,
      "outputs": []
    },
    {
      "cell_type": "code",
      "metadata": {
        "id": "nUix6rAOB69b",
        "outputId": "026e2424-bf9a-4b4c-f932-2d1bfacd042f"
      },
      "source": [
        "#example 2\n",
        "def parrot(voltage, state='a stiff', action='voom', type='Norwegian Blue'):\n",
        "    print(\"-- This parrot wouldn't\", action, end=' ')\n",
        "    print(\"if you put\", voltage, \"volts through it.\")\n",
        "    print(\"-- Lovely plumage, the\", type)\n",
        "    print(\"-- It's\", state, \"!\")\n",
        "\n",
        "#valid calls\n",
        "parrot(1000)                                          # 1 positional argument\n",
        "parrot(voltage=1000)                                  # 1 keyword argument\n",
        "parrot(voltage=1000000, action='VOOOOOM')             # 2 keyword arguments\n",
        "parrot(action='VOOOOOM', voltage=1000000)             # 2 keyword arguments\n",
        "parrot('a million', 'bereft of life', 'jump')         # 3 positional arguments\n",
        "parrot('a thousand', state='pushing up the daisies')  # 1 positional, 1 keyword"
      ],
      "execution_count": null,
      "outputs": [
        {
          "output_type": "stream",
          "text": [
            "-- This parrot wouldn't voom if you put 1000 volts through it.\n",
            "-- Lovely plumage, the Norwegian Blue\n",
            "-- It's a stiff !\n",
            "-- This parrot wouldn't voom if you put 1000 volts through it.\n",
            "-- Lovely plumage, the Norwegian Blue\n",
            "-- It's a stiff !\n",
            "-- This parrot wouldn't VOOOOOM if you put 1000000 volts through it.\n",
            "-- Lovely plumage, the Norwegian Blue\n",
            "-- It's a stiff !\n",
            "-- This parrot wouldn't VOOOOOM if you put 1000000 volts through it.\n",
            "-- Lovely plumage, the Norwegian Blue\n",
            "-- It's a stiff !\n",
            "-- This parrot wouldn't jump if you put a million volts through it.\n",
            "-- Lovely plumage, the Norwegian Blue\n",
            "-- It's bereft of life !\n",
            "-- This parrot wouldn't voom if you put a thousand volts through it.\n",
            "-- Lovely plumage, the Norwegian Blue\n",
            "-- It's pushing up the daisies !\n"
          ],
          "name": "stdout"
        }
      ]
    },
    {
      "cell_type": "code",
      "metadata": {
        "id": "DNAPprl9B69d"
      },
      "source": [],
      "execution_count": null,
      "outputs": []
    },
    {
      "cell_type": "code",
      "metadata": {
        "id": "COnvY5LbB69g",
        "outputId": "d08704a7-7a86-4dea-9e4f-f6f9e6e7467a"
      },
      "source": [
        "# invalid calls\n",
        "parrot()                     # required argument missing\n",
        "parrot(voltage=5.0, 'dead')  # non-keyword argument after a keyword argument\n",
        "parrot(110, voltage=220)     # duplicate value for the same argument\n",
        "parrot(actor='John Cleese')  # unknown keyword argument"
      ],
      "execution_count": null,
      "outputs": [
        {
          "output_type": "error",
          "ename": "SyntaxError",
          "evalue": "positional argument follows keyword argument (<ipython-input-156-0c0aae729757>, line 3)",
          "traceback": [
            "\u001b[0;36m  File \u001b[0;32m\"<ipython-input-156-0c0aae729757>\"\u001b[0;36m, line \u001b[0;32m3\u001b[0m\n\u001b[0;31m    parrot(voltage=5.0, 'dead')  # non-keyword argument after a keyword argument\u001b[0m\n\u001b[0m                       ^\u001b[0m\n\u001b[0;31mSyntaxError\u001b[0m\u001b[0;31m:\u001b[0m positional argument follows keyword argument\n"
          ]
        }
      ]
    },
    {
      "cell_type": "markdown",
      "metadata": {
        "id": "VygZQPujOSR1"
      },
      "source": [
        "** imp points**\n",
        "\n",
        "In a function call, \n",
        "\n",
        " i.keyword arguments must follow positional arguments. \n",
        " \n",
        " ii.All the keyword arguments passed must match one of the arguments accepted  by the function  (e.g. actor is not a valid argument for the parrot function)\n",
        " \n",
        " iii.their order is not important. This also includes non-optional arguments (e.g. parrot(voltage=1000) is valid too). No argument may receive a value more than once"
      ]
    },
    {
      "cell_type": "code",
      "metadata": {
        "id": "u3Hc8nMPOlVB"
      },
      "source": [],
      "execution_count": null,
      "outputs": []
    },
    {
      "cell_type": "markdown",
      "metadata": {
        "id": "jFtPW-zVOll9"
      },
      "source": [
        "3. **Special parameters**"
      ]
    },
    {
      "cell_type": "markdown",
      "metadata": {
        "id": "DG6pi2Y8Oprd"
      },
      "source": [
        "\n",
        "\n",
        "3.1 Positional-or-Keyword Arguments\n",
        "\n",
        "If / and * are not present in the function definition, arguments may be passed to a function by position \n",
        "or by keyword.\n",
        "\n",
        "3.2 Positional-Only Parameters\n",
        "\n",
        "Looking at this in a bit more detail, it is possible to mark certain parameters as positional-only.\n",
        "If positional-only, the parameters’ order matters, and the parameters cannot be passed by keyword. \n",
        "Positional-only parameters are placed before a / (forward-slash). The / is used to logically separate the positional-only parameters from the rest of the parameters. If there is no / in the function definition, \n",
        "there are no positional-only parameters.\n",
        "Parameters following the / may be positional-or-keyword or keyword-only.\n",
        "\n",
        "3.3 Keyword-Only Arguments\n",
        "\n",
        "To mark parameters as keyword-only, indicating the parameters must be passed by keyword argument, place an * in the arguments list just before the first keyword-only parameter."
      ]
    },
    {
      "cell_type": "code",
      "metadata": {
        "id": "iQ-Q1aAMB69t"
      },
      "source": [
        "# 3.1 example\n",
        "def standard_arg(arg):\n",
        "    print(arg)\n",
        "\n",
        "standard_arg(2)\n",
        "standard_arg(arg=2)"
      ],
      "execution_count": null,
      "outputs": []
    },
    {
      "cell_type": "code",
      "metadata": {
        "id": "tx9JCC25B69w"
      },
      "source": [
        "# 3.2 example\n",
        "def pos_only_arg(cal, /, arg):\n",
        "    print(cal,arg)\n",
        "\n",
        "pos_only_arg(2,arg = 3) "
      ],
      "execution_count": null,
      "outputs": []
    },
    {
      "cell_type": "code",
      "metadata": {
        "id": "KX07jxb-B694"
      },
      "source": [
        "def kwd_only_arg(*, arg):\n",
        "    print(arg)\n",
        "\n",
        "kwd_only_arg(arg = 2)"
      ],
      "execution_count": null,
      "outputs": []
    },
    {
      "cell_type": "code",
      "metadata": {
        "id": "TTPn27ckO3kt"
      },
      "source": [],
      "execution_count": null,
      "outputs": []
    },
    {
      "cell_type": "markdown",
      "metadata": {
        "id": "lFa69LD9O319"
      },
      "source": [
        "4. **Arbitrary argument list**\n"
      ]
    },
    {
      "cell_type": "code",
      "metadata": {
        "id": "U5kWLDMxB698"
      },
      "source": [
        "\n",
        "#Finally, the last option is to specify that a function can be called with an arbitrary number of arguments. It is \n",
        "#denoted by *args . It can be any other name that args but that is the standard norm. Keys of a mapping can be passed\n",
        "#using **kwargs\n",
        "\n",
        "#Normally, these variadic arguments will be last in the list of formal parameters, because they scoop up all \n",
        "#remaining input arguments that are passed to the function. Any formal parameters which occur after the *args\n",
        "#parameter are ‘keyword-only’ arguments, meaning that they can only be used as keywords rather than positional \n",
        "#arguments.\n",
        "\n",
        "#example\n",
        "\n",
        "def student(*args,**kwargs):\n",
        "    print(args)\n",
        "    print(kwargs)\n",
        "\n",
        "student('math','art',name =  'john',age = 22)\n",
        "    "
      ],
      "execution_count": null,
      "outputs": []
    },
    {
      "cell_type": "code",
      "metadata": {
        "id": "hrhC7dEQB69_"
      },
      "source": [
        "#unpacking argument lists\n",
        "# when you havev *args or **kwargs, you cannot pass\n",
        "\n",
        "# EXAMPLE 1\n",
        "def student(*args, **kwargs):\n",
        "    print(args)\n",
        "    print(kwargs)\n",
        "    \n",
        "\n",
        "courses = ['math', 'art']\n",
        "info = {'name': 'john', 'age': 22}\n",
        "student(*courses, **info)\n",
        "\n",
        "    "
      ],
      "execution_count": null,
      "outputs": []
    },
    {
      "cell_type": "code",
      "metadata": {
        "id": "ahiF008PB6-B"
      },
      "source": [
        "# EXAMPLE 2\n",
        "def parrot(voltage, state='a stiff', action='voom'):\n",
        "     print(\"-- This parrot wouldn't\", action, end=' ')\n",
        "     print(\"if you put\", voltage, \"volts through it.\", end=' ')\n",
        "     print(\"E's\", state, \"!\")\n",
        "        \n",
        "d = {\"voltage\": \"four million\", \"state\": \"bleedin' demised\", \"action\": \"VOOM\"}\n",
        "parrot(**d)"
      ],
      "execution_count": null,
      "outputs": []
    },
    {
      "cell_type": "code",
      "metadata": {
        "id": "tikg9KQXB6-E"
      },
      "source": [
        "# ********Documentation string - string describing the fucntionality of the function*********\n",
        "\n",
        "\n",
        "def greet(name):\n",
        "    \"\"\"\n",
        "    This function greets to\n",
        "    the person passed in as\n",
        "    a parameter\n",
        "    \"\"\"\n",
        "    print(\"Hello, \" + name + \". Good morning!\")\n",
        "\n",
        "greet('Paul')\n",
        "print(greet.__doc__)"
      ],
      "execution_count": null,
      "outputs": []
    },
    {
      "cell_type": "code",
      "metadata": {
        "id": "WeiBrjpqB6-G"
      },
      "source": [],
      "execution_count": null,
      "outputs": []
    },
    {
      "cell_type": "code",
      "metadata": {
        "id": "oPFtQQGmB6-K",
        "outputId": "17f57141-6b10-4218-cc0c-e23c1f011c84",
        "colab": {
          "base_uri": "https://localhost:8080/",
          "height": 34
        }
      },
      "source": [
        "# changing value of a global variable inside a function using \"global\" keyword\n",
        "\n",
        "#We use global keyword to read and write a global variable inside a function.\n",
        "#Use of global keyword outside a function has no effect.\n",
        "\n",
        "def student():\n",
        "    global usn\n",
        "    usn = 20\n",
        "    \n",
        "usn = 35\n",
        "student()\n",
        "print(usn)\n",
        "    "
      ],
      "execution_count": null,
      "outputs": [
        {
          "output_type": "stream",
          "text": [
            "20\n"
          ],
          "name": "stdout"
        }
      ]
    },
    {
      "cell_type": "code",
      "metadata": {
        "id": "0koO5a3mB6-O"
      },
      "source": [],
      "execution_count": null,
      "outputs": []
    },
    {
      "cell_type": "code",
      "metadata": {
        "id": "LdCbR2suB6-S",
        "outputId": "85856ada-9808-415d-aebb-77691f7bbf53",
        "colab": {
          "base_uri": "https://localhost:8080/",
          "height": 86
        }
      },
      "source": [
        "#Using a Global Variable in Nested Function\\\n",
        "\n",
        "def foo():\n",
        "    x = 20\n",
        "\n",
        "    def bar():\n",
        "        global x\n",
        "        x = 25\n",
        "    \n",
        "    print(\"Before calling bar: \", x)\n",
        "    print(\"Calling bar now\")\n",
        "    bar()\n",
        "    print(\"After calling bar: \", x)\n",
        "\n",
        "foo()\n",
        "print(\"x in main: \", x)"
      ],
      "execution_count": null,
      "outputs": [
        {
          "output_type": "stream",
          "text": [
            "Before calling bar:  20\n",
            "Calling bar now\n",
            "After calling bar:  20\n",
            "x in main:  25\n"
          ],
          "name": "stdout"
        }
      ]
    },
    {
      "cell_type": "code",
      "metadata": {
        "id": "1UuThonYB6-W"
      },
      "source": [
        "#In the above program, we declared a global variable inside the nested function bar(). Inside foo() function, \n",
        "#x has no effect of the global keyword.Before and after calling bar(), the variable x takes the value of local \n",
        "#variable i.e x = 20. Outside of the foo() function, the variable x will take value defined in the bar() function\n",
        "#i.e x = 25. This is because we have used global keyword in x to create global variable inside the bar() function\n",
        "#(local scope).\n",
        "#If we make any changes inside the bar() function, the changes appear outside the local scope, i.e. foo()."
      ],
      "execution_count": null,
      "outputs": []
    },
    {
      "cell_type": "code",
      "metadata": {
        "id": "G3-jH3lpB6-a",
        "outputId": "77d4ba7c-6dcd-4e65-ffe3-9ddfad40e6cd",
        "colab": {
          "base_uri": "https://localhost:8080/",
          "height": 52
        }
      },
      "source": [
        "#nonlocal variable\n",
        "\n",
        "#Nonlocal variable are used in nested function whose local scope is not defined. This means that the variable \n",
        "#can be neither in the local nor the global scope.\n",
        "#Let's see an example of how a global variable is created in Python.\n",
        "#We use nonlocal keyword to create nonlocal variable.\n",
        "\n",
        "def outer():\n",
        "    x = \"local\"\n",
        " \n",
        "    def inner():\n",
        "        nonlocal x\n",
        "        x = \"nonlocal\"\n",
        "        print(\"inner:\", x)\n",
        "        \n",
        "    inner()\n",
        "    print(\"outer:\", x)\n",
        "\n",
        "outer()"
      ],
      "execution_count": null,
      "outputs": [
        {
          "output_type": "stream",
          "text": [
            "inner: nonlocal\n",
            "outer: nonlocal\n"
          ],
          "name": "stdout"
        }
      ]
    },
    {
      "cell_type": "code",
      "metadata": {
        "id": "H1g7DNEDB6-e"
      },
      "source": [],
      "execution_count": null,
      "outputs": []
    },
    {
      "cell_type": "markdown",
      "metadata": {
        "id": "1w72L1ocB6-i"
      },
      "source": [
        "## lambda function"
      ]
    },
    {
      "cell_type": "code",
      "metadata": {
        "id": "LP_gK2tPB6-i",
        "outputId": "f0896e59-d1ba-4e84-8388-35d394edfaf2",
        "colab": {
          "base_uri": "https://localhost:8080/",
          "height": 52
        }
      },
      "source": [
        "# What are lambda functions in Python?\n",
        "\n",
        "# In Python, an anonymous function is a function that is defined without a name.\n",
        "# While normal functions are defined using the def keyword in Python, anonymous functions are defined using the\n",
        "# lambda keyword.\n",
        "# Hence, anonymous functions are also called lambda functions.\n",
        "\n",
        "# example\n",
        "\n",
        "double = lambda x: x * 2\n",
        "\n",
        "print(double(5))\n",
        "\n",
        "# This function has no name. it returns a \"function\" object which is assigned to the identifier double.\n",
        "\n",
        "type(double)"
      ],
      "execution_count": null,
      "outputs": [
        {
          "output_type": "stream",
          "text": [
            "10\n"
          ],
          "name": "stdout"
        },
        {
          "output_type": "execute_result",
          "data": {
            "text/plain": [
              "function"
            ]
          },
          "metadata": {
            "tags": []
          },
          "execution_count": 5
        }
      ]
    },
    {
      "cell_type": "code",
      "metadata": {
        "id": "uX2ZBEpfB6-l",
        "outputId": "1debfaa8-f2be-42dc-884b-2f246b7a3265",
        "colab": {
          "base_uri": "https://localhost:8080/",
          "height": 52
        }
      },
      "source": [
        "# **USE OF LAMBDA FUNCTION***\n",
        "\n",
        "# In Python, we generally use it as an argument to a higher-order function (a function that takes in other\n",
        "# functions as arguments). Lambda functions are used along with built-in functions like filter(), map() etc.\n",
        "\n",
        "# example with filter function\n",
        "\n",
        "l = [1,2,3,4,5,6,7,8,9,10]\n",
        "\n",
        "my_list = list(filter((lambda x: x%2==0),l))\n",
        "print(my_list)\n",
        "\n",
        "# example with map function\n",
        "l = [3,7,2,10,25,2]\n",
        "\n",
        "my_list = list(map((lambda x: x*2),l))\n",
        "print(my_list)"
      ],
      "execution_count": null,
      "outputs": [
        {
          "output_type": "stream",
          "text": [
            "[2, 4, 6, 8, 10]\n",
            "[6, 14, 4, 20, 50, 4]\n"
          ],
          "name": "stdout"
        }
      ]
    },
    {
      "cell_type": "markdown",
      "metadata": {
        "id": "57RIWrjzB6-n"
      },
      "source": [
        "## namespaces and variable scope in python"
      ]
    },
    {
      "cell_type": "code",
      "metadata": {
        "id": "blpxo97nB6-n"
      },
      "source": [
        "# **********What is a Namespace in Python?****************\n",
        "\n",
        "# Now that we understand what names are, we can move on to the concept of namespaces.\n",
        "# To simply put it, a namespace is a collection of names.\n",
        "# In Python, you can imagine a namespace as a mapping of every name you have defined to corresponding objects.\n",
        "# Different namespaces can co-exist at a given time but are completely isolated.\n",
        "# A namespace containing all the built-in names is created when we start the Python interpreter and exists as \n",
        "# long as the interpreter runs.This is the reason that built-in functions like id(), print() etc. are always \n",
        "# available to us from any part of the program. Each module creates its own global namespace.\n",
        "# These different namespaces are isolated. Hence, the same name that may exist in different modules do not collide.\n",
        "# Modules can have various functions and classes. A local namespace is created when a function is called, which has\n",
        "# all the names defined in it. Similar, is the case with class. Following diagram may help to clarify this concept\n",
        "\n"
      ],
      "execution_count": null,
      "outputs": []
    },
    {
      "cell_type": "code",
      "metadata": {
        "id": "RMK52p54B6-q"
      },
      "source": [
        "# *********Python Variable Scope************\n",
        "\n",
        "# Python follows the LEGB rule for scope handling - LOCAL, ENCLOSING(non local), GLOBAL, BUILT-IN\n",
        "\n",
        "# Although there are various unique namespaces defined, we may not be able to access all of them from every part of\n",
        "# the program. The concept of scope comes into play.A scope is the portion of a program from where a namespace can \n",
        "# be accessed directly without any prefix.\n",
        "\n",
        "# At any given moment, there are at least three nested scopes.\n",
        "#    1.Scope of the current function which has local names\n",
        "#    2.Scope of the module which has global names\n",
        "#    3.Outermost scope which has built-in names\n",
        "\n",
        "# When a reference is made inside a function, the name is searched in the local namespace, then in the global \n",
        "# namespace and finally in the built-in namespace.\n",
        "\n",
        "# If there is a function inside another function, a new scope is nested inside the local scope.."
      ],
      "execution_count": null,
      "outputs": []
    },
    {
      "cell_type": "code",
      "metadata": {
        "id": "SYInSznQB6-s"
      },
      "source": [
        "def outer_function():\n",
        "    b = 20\n",
        "    def inner_func():\n",
        "        c = 30\n",
        "\n",
        "a = 10\n",
        "\n",
        "# Here, the variable a is in the global namespace. Variable b is in the local namespace of outer_function() and c\n",
        "# is in the nested local namespace of inner_function().\n",
        "\n",
        "# When we are in inner_function(), c is local to us, b is nonlocal and a is global. We can read as well as assign\n",
        "# new values to c but can only read b and a from inner_function().\n",
        "\n",
        "# If we try to assign as a value to b, a new variable b is created in the local namespace which is different than \n",
        "# the nonlocal b. The same thing happens when we assign a value to a.\n",
        "\n",
        "# However, if we declare a as global, all the reference and assignment go to the global a. Similarly, if we want to\n",
        "# rebind the variable b, it must be declared as nonlocal. The following example will further clarify this."
      ],
      "execution_count": null,
      "outputs": []
    },
    {
      "cell_type": "code",
      "metadata": {
        "id": "w-xKkSgqB6-v"
      },
      "source": [
        "import builtins as bi\n",
        "dir(bi) #variables/names in builtin scope which as at the top od scope heirarchy"
      ],
      "execution_count": null,
      "outputs": []
    },
    {
      "cell_type": "code",
      "metadata": {
        "id": "FMGWebtAB6-w"
      },
      "source": [
        "def min():\n",
        "    pass\n",
        "\n",
        "m = min([1,2,3,4])\n",
        "\n",
        "# here we cannot use min in the builtin functions because of the following reason:\n",
        "# when referencing a variable or a method, python checks for it in the reverse order of scope heirarchy, ie. \n",
        "# local first and builtin last so this should be remembered when using function overriding.\n"
      ],
      "execution_count": null,
      "outputs": []
    },
    {
      "cell_type": "code",
      "metadata": {
        "id": "EABYrj3kB6-6",
        "outputId": "532f7d1b-92cd-4631-80df-b3fa374f96d8"
      },
      "source": [
        "x = \"global x\"\n",
        "\n",
        "def outer():\n",
        "    x = \"nonlocal x\"\n",
        "    \n",
        "    def inner():\n",
        "       #nonlocal x \n",
        "       x = \"local x\"\n",
        "       print(x)\n",
        "    \n",
        "    inner()\n",
        "    print(x)\n",
        "\n",
        "outer()\n",
        "print(x)"
      ],
      "execution_count": null,
      "outputs": [
        {
          "output_type": "stream",
          "text": [
            "local x\n",
            "nonlocal x\n",
            "global x\n"
          ],
          "name": "stdout"
        }
      ]
    },
    {
      "cell_type": "code",
      "metadata": {
        "id": "dSeYWvYuB6-9"
      },
      "source": [],
      "execution_count": null,
      "outputs": []
    },
    {
      "cell_type": "markdown",
      "metadata": {
        "id": "SNsJZxOfB6-_"
      },
      "source": [
        "# MODULES, INBUILT MODULES AND PACKAGES"
      ]
    },
    {
      "cell_type": "markdown",
      "metadata": {
        "id": "TrU52VbyB6-_"
      },
      "source": [
        "#### packages"
      ]
    },
    {
      "cell_type": "code",
      "metadata": {
        "id": "1lUSHun2B6-_"
      },
      "source": [
        "# *******What are packages?*********\n",
        "\n",
        "# We don't usually store all of our files on our computer in the same location. We use a well-organized hierarchy \n",
        "# of directories for easier access.\n",
        "\n",
        "# Similar files are kept in the same directory, for example, we may keep all the songs in the \"music\" directory. \n",
        "# Analogous to this, Python has packages for directories and modules for files.\n",
        "\n",
        "# As our application program grows larger in size with a lot of modules, we place similar modules in one package \n",
        "# and different modules in different packages. This makes a project (program) easy to manage and conceptually clear.\n",
        "\n",
        "# Similarly, as a directory can contain subdirectories and files, a Python package can have sub-packages and modules.\n",
        "\n",
        "# A directory must contain a file named __init__.py in order for Python to consider it as a package. This file can \n",
        "# be left empty but we generally place the initialization code for that package in this file."
      ],
      "execution_count": null,
      "outputs": []
    },
    {
      "cell_type": "markdown",
      "metadata": {
        "id": "RlV015rXB6_B"
      },
      "source": [
        "#### modules"
      ]
    },
    {
      "cell_type": "code",
      "metadata": {
        "id": "LdWjyP7-B6_C"
      },
      "source": [
        "# ******What are modules in Python?*******\n",
        "\n",
        "# Modules refer to a file containing Python statements and definitions.\n",
        "\n",
        "# A file containing Python code, for example: example.py, is called a module, and its module name would be example.\n",
        "\n",
        "# We use modules to break down large programs into small manageable and organized files. Furthermore, modules \n",
        "# provide reusability of code.\n",
        "\n",
        "# We can define our most used functions in a module and import it, instead of copying their definitions into \n",
        "# different programs.\n",
        "\n",
        "# Within a module, the module’s name (as a string) is available as the value of the global\n",
        "# variable __name__. "
      ],
      "execution_count": null,
      "outputs": []
    },
    {
      "cell_type": "code",
      "metadata": {
        "id": "_5jz2djiB6_E"
      },
      "source": [
        "# *********** MORE ON MODULES ***************\n",
        "\n",
        "# A module can contain executable statements as well as function definitions. These statements are intended to \n",
        "# initialize the module. They are executed only the first time the module name is encountered in an import\n",
        "# statement. 1 (They are also run if the file is executed as a script.)\n",
        "\n",
        "# Each module has its own private symbol table, which is used as the global symbol table by all functions defined \n",
        "# in the module. Thus, the author of a module can use global variables in the module without worrying about \n",
        "# accidental clashes with a user’s global variables. On the other hand, if you know what you are doing you can \n",
        "# touch a module’s global variables with the same notation used to refer to its functions, modname.itemname.\n",
        "\n",
        "# Modules can import other modules. It is customary but not required to place all import statements at the\n",
        "# beginning of a module (or script, for that matter). The imported module names are placed in the importing \n",
        "# module’s global symbol table. \n"
      ],
      "execution_count": null,
      "outputs": []
    },
    {
      "cell_type": "code",
      "metadata": {
        "id": "IWwFt8i7B6_H"
      },
      "source": [
        "# *************** RUNNING MODULES AS SCRIPTS *******************\n",
        "\n",
        "\n",
        "# When you run a Python module with\n",
        "\n",
        "# >>> python fibo.py <arguments>\n",
        "\n",
        "# The code in the module will be executed, just as if you imported it, but with the __name__ set to \"__main__\". \n",
        "# That means that by adding this code at the end of your module:\n",
        "\n",
        "# >>> if __name__ == \"__main__\":\n",
        "# >>>     import sys\n",
        "# >>>     fib(int(sys.argv[1]))\n",
        "\n",
        "# you can make the file usable as a script as well as an importable module, because the code that parses \n",
        "# the command line only runs if the module is executed as the “main” file:\n",
        "\n",
        "# example:\n",
        "# $ python fibo.py 50\n",
        "# 0 1 1 2 3 5 8 13 21 34\n",
        "\n",
        "# If the module is imported, the code is not run:\n",
        "# >>> import fibo"
      ],
      "execution_count": null,
      "outputs": []
    },
    {
      "cell_type": "markdown",
      "metadata": {
        "id": "J4y1jIDWB6_J"
      },
      "source": [
        "#### import statement"
      ]
    },
    {
      "cell_type": "code",
      "metadata": {
        "id": "0TmQzyRVB6_K"
      },
      "source": [
        "# ************** HOW IMPORTING A PACKAGE WORKS IN PYTHON *****************\n",
        "\n",
        "# When importing the package, Python searches through the directories on sys.path looking for the package\n",
        "# subdirectory.\n",
        "\n",
        "# The __init__.py files are required to make Python treat directories containing the file as packages. \n",
        "# This prevents directories with a common name, such as string, unintentionally hiding valid modules that\n",
        "# occur later on the module search path. In the simplest case, __init__.py can just be an empty file, but it \n",
        "# can also execute initialization code for the package or set the __all__ variable, described later.\n",
        "\n"
      ],
      "execution_count": null,
      "outputs": []
    },
    {
      "cell_type": "code",
      "metadata": {
        "id": "jgrJmDLfB6_L",
        "outputId": "fb635502-e6e6-4579-eff5-07512479632f"
      },
      "source": [
        "# used to import python packages and modules in the current file\n",
        "\n",
        "# variations of import statement and its use with \"from\"\n",
        "\n",
        "#1\n",
        "import random \n",
        "random.randint(2,10)"
      ],
      "execution_count": null,
      "outputs": [
        {
          "output_type": "execute_result",
          "data": {
            "text/plain": [
              "4"
            ]
          },
          "metadata": {
            "tags": []
          },
          "execution_count": 158
        }
      ]
    },
    {
      "cell_type": "code",
      "metadata": {
        "id": "wHboO-RnB6_O",
        "outputId": "27def3a5-efa7-4710-dce0-6eb3e7fc4b68"
      },
      "source": [
        "#2\n",
        "import random as rm\n",
        "rm.randint(2,10)"
      ],
      "execution_count": null,
      "outputs": [
        {
          "output_type": "execute_result",
          "data": {
            "text/plain": [
              "8"
            ]
          },
          "metadata": {
            "tags": []
          },
          "execution_count": 159
        }
      ]
    },
    {
      "cell_type": "code",
      "metadata": {
        "id": "QiArBWLkB6_Q",
        "outputId": "7dd12533-9429-4065-f86d-26037c6c8f45"
      },
      "source": [
        "#3\n",
        "from random import randint as r\n",
        "r(2,10)"
      ],
      "execution_count": null,
      "outputs": [
        {
          "output_type": "execute_result",
          "data": {
            "text/plain": [
              "10"
            ]
          },
          "metadata": {
            "tags": []
          },
          "execution_count": 160
        }
      ]
    },
    {
      "cell_type": "code",
      "metadata": {
        "id": "Jl0rqhw0B6_T",
        "outputId": "178ceb51-fa67-46e3-b98c-f39703ba2eb7"
      },
      "source": [
        "#4  \n",
        "from random import *\n",
        "randint(2,10)\n",
        "\n",
        "\n",
        "# ******** Importing * From a Package *************\n",
        "\n",
        "# Now what happens when the user writes from sound.effects import *? Ideally, one would hope that this somehow\n",
        "# goes out to the filesystem, finds which submodules are present in the package, and imports them all. This could\n",
        "# take a long time and importing sub-modules might have unwanted side-effects that should only happen when the \n",
        "# sub-module is explicitly imported.\n",
        "\n",
        "# The only solution is for the package author to provide an explicit index of the package. The import statement \n",
        "# uses the following convention: if a package’s __init__.py code defines a list named __all__, it is taken to be \n",
        "# the list of module names that should be imported when from package import * is encountered. It is up to the \n",
        "# package author to keep this list up-to-date when a new version of the package is released. Package authors \n",
        "# may also decide not to support it, if they don’t see a use for importing * from their package.\n",
        "\n",
        "# If __all__ is not defined, the statement from sound.effects import * does not import all submodules from the \n",
        "# package sound.effects into the current namespace; it only ensures that the package sound.effects has been \n",
        "# imported (possibly running any initialization code in __init__.py) and then imports whatever names are defined\n",
        "# in the package. This includes any names defined (and submodules explicitly loaded) by __init__.py. It also \n",
        "# includes any submodules of the package that were explicitly loaded by previous import statements."
      ],
      "execution_count": null,
      "outputs": [
        {
          "output_type": "execute_result",
          "data": {
            "text/plain": [
              "3"
            ]
          },
          "metadata": {
            "tags": []
          },
          "execution_count": 161
        }
      ]
    },
    {
      "cell_type": "code",
      "metadata": {
        "id": "XwzJBfX8B6_W"
      },
      "source": [],
      "execution_count": null,
      "outputs": []
    },
    {
      "cell_type": "markdown",
      "metadata": {
        "id": "kl-SmU1rB6_a"
      },
      "source": [
        "#### inbuilt packages and modules"
      ]
    },
    {
      "cell_type": "code",
      "metadata": {
        "id": "N_-cXVLYB6_a",
        "outputId": "1b33266b-3993-4fe8-da26-2a3c5bde58b9"
      },
      "source": [
        "#*********** .path attribute to find path************\n",
        "\n",
        "import sys\n",
        "print(sys.path)"
      ],
      "execution_count": null,
      "outputs": [
        {
          "output_type": "stream",
          "text": [
            "['/home/ghostvb', '/home/ghostvb/anaconda3/lib/python37.zip', '/home/ghostvb/anaconda3/lib/python3.7', '/home/ghostvb/anaconda3/lib/python3.7/lib-dynload', '', '/home/ghostvb/.local/lib/python3.7/site-packages', '/home/ghostvb/anaconda3/lib/python3.7/site-packages', '/home/ghostvb/anaconda3/lib/python3.7/site-packages/IPython/extensions', '/home/ghostvb/.ipython']\n"
          ],
          "name": "stdout"
        }
      ]
    },
    {
      "cell_type": "code",
      "metadata": {
        "id": "9moEx_iOB6_s"
      },
      "source": [
        "# Now we can import a module from the locations that are mentioned in the sys.path. What happens if we want to \n",
        "# import a module whose location is not mentioned in the sys.path. The ans is it will throw an error and to \n",
        "# solve this problem we need to append the sys.path variable with the path of the module\n",
        "\n",
        "#import sys\n",
        "#sys.path.append(\"location of the module\")\n",
        "\n",
        "# Now this is not the best approach so a better approach is to update the enviromnent variable and add the path \n",
        "# directly over there --> learn how to do that in  linux"
      ],
      "execution_count": null,
      "outputs": []
    },
    {
      "cell_type": "code",
      "metadata": {
        "id": "Y8rtLkfyB6_u",
        "outputId": "ed903724-7e84-4f6c-c6d2-6f243ffa984f"
      },
      "source": [
        "#These inbuilt modules in the standard python library are python files itself and we can see their location using\n",
        "# their __file__ attribute\n",
        "\n",
        "import os,datetime \n",
        "print(os.__file__)\n",
        "print(datetime.__file__)"
      ],
      "execution_count": null,
      "outputs": [
        {
          "output_type": "stream",
          "text": [
            "/home/ghostvb/anaconda3/lib/python3.7/os.py\n",
            "/home/ghostvb/anaconda3/lib/python3.7/datetime.py\n"
          ],
          "name": "stdout"
        }
      ]
    },
    {
      "cell_type": "code",
      "metadata": {
        "id": "Y-NJsfpjB6_w"
      },
      "source": [
        "# ********** USING THIRD PARTY MODULES AND PACKAGES*************\n",
        "\n",
        "# To use third party modules,we need to install them using the default package installer for python called pip \n",
        "# or pip3. We can even use conda installer to do that \n",
        "\n",
        "# to install any third part package or modules, follow the following steps\n",
        "# 1. open terminal\n",
        "# 2. type --> pip install package-name"
      ],
      "execution_count": null,
      "outputs": []
    },
    {
      "cell_type": "code",
      "metadata": {
        "id": "o7r2ttOkB6_y",
        "outputId": "3cd9cf68-2a4d-46de-c7b6-f6df2a5ab7bd"
      },
      "source": [
        "# *********Reloading a module*********\n",
        "\n",
        "#python only imports a module once so if a module changes while the program is running, the changes will not be \n",
        "#reflected in the program where the module is called so for that we can do either of this\n",
        "#    1. restart the interpreter\n",
        "#    2. import \"imp\" module and use the 'reload' method to reload our module\n",
        "\n",
        "import imp\n",
        "imp.reload(module_name)\n",
        "\n"
      ],
      "execution_count": null,
      "outputs": [
        {
          "output_type": "error",
          "ename": "NameError",
          "evalue": "name 'module_name' is not defined",
          "traceback": [
            "\u001b[0;31m---------------------------------------------------------------------------\u001b[0m",
            "\u001b[0;31mNameError\u001b[0m                                 Traceback (most recent call last)",
            "\u001b[0;32m<ipython-input-166-71af658926e3>\u001b[0m in \u001b[0;36m<module>\u001b[0;34m\u001b[0m\n\u001b[1;32m      7\u001b[0m \u001b[0;34m\u001b[0m\u001b[0m\n\u001b[1;32m      8\u001b[0m \u001b[0;32mimport\u001b[0m \u001b[0mimp\u001b[0m\u001b[0;34m\u001b[0m\u001b[0;34m\u001b[0m\u001b[0m\n\u001b[0;32m----> 9\u001b[0;31m \u001b[0mimp\u001b[0m\u001b[0;34m.\u001b[0m\u001b[0mreload\u001b[0m\u001b[0;34m(\u001b[0m\u001b[0mmodule_name\u001b[0m\u001b[0;34m)\u001b[0m\u001b[0;34m\u001b[0m\u001b[0;34m\u001b[0m\u001b[0m\n\u001b[0m\u001b[1;32m     10\u001b[0m \u001b[0;34m\u001b[0m\u001b[0m\n",
            "\u001b[0;31mNameError\u001b[0m: name 'module_name' is not defined"
          ]
        }
      ]
    },
    {
      "cell_type": "code",
      "metadata": {
        "id": "qnhcia5hB6_0"
      },
      "source": [
        "# ******* using dir() function on a module in python *********\n",
        "\n",
        "#We can use the dir() function to find out names that are defined inside a module.\n",
        "import math\n",
        "dir(math)\n"
      ],
      "execution_count": null,
      "outputs": []
    },
    {
      "cell_type": "code",
      "metadata": {
        "id": "fxNI5mmlB6_7"
      },
      "source": [
        "print(math.__doc__)\n",
        "\n",
        "#All other names that begin with an underscore are default Python attributes associated with the module \n",
        "#(not user-defined)."
      ],
      "execution_count": null,
      "outputs": []
    },
    {
      "cell_type": "code",
      "metadata": {
        "id": "TyzfCP4EB6__"
      },
      "source": [
        "#All other names that begin with an underscore are default Python attributes associated with the module \n",
        "#(not user-defined).\n",
        "\n",
        "dir()"
      ],
      "execution_count": null,
      "outputs": []
    },
    {
      "cell_type": "code",
      "metadata": {
        "id": "V1qeXBYTB7AB"
      },
      "source": [
        "# ********* OS module and some imp functions *********\n",
        "import os\n",
        "print(dir(os))"
      ],
      "execution_count": null,
      "outputs": []
    },
    {
      "cell_type": "code",
      "metadata": {
        "id": "j6ooG8ExB7AD"
      },
      "source": [
        "os.getcwd() #print current directory"
      ],
      "execution_count": null,
      "outputs": []
    },
    {
      "cell_type": "code",
      "metadata": {
        "id": "N3CiFHAFB7AF"
      },
      "source": [
        "os.chdir('/home/ghostvb/Desktop') #change directory\n",
        "os.getcwd()"
      ],
      "execution_count": null,
      "outputs": []
    },
    {
      "cell_type": "code",
      "metadata": {
        "id": "_9DoOEH8B7AH"
      },
      "source": [
        "os.chdir('/home/ghostvb')\n",
        "os.getcwd()"
      ],
      "execution_count": null,
      "outputs": []
    },
    {
      "cell_type": "code",
      "metadata": {
        "id": "GueZOO7XB7AJ"
      },
      "source": [
        "os.listdir() #listing all the files and follders in current directory"
      ],
      "execution_count": null,
      "outputs": []
    },
    {
      "cell_type": "code",
      "metadata": {
        "id": "A5IFM8ulB7AK"
      },
      "source": [
        "#we can pass a path in listdir function\n",
        "os.listdir(\"/home/ghostvb/Desktop\")"
      ],
      "execution_count": null,
      "outputs": []
    },
    {
      "cell_type": "code",
      "metadata": {
        "id": "IxAZZDzaB7AN"
      },
      "source": [
        "#making new directory\n",
        "os.chdir('/home/ghostvb/Desktop') #change directory\n",
        "os.mkdir(\"mkdir-dir\") #only makes the parent directory, cannot construct underlying sub directories\n",
        "os.makedirs(\"makedir-dir/subdir1\") #can create directory with sub levels using this functions"
      ],
      "execution_count": null,
      "outputs": []
    },
    {
      "cell_type": "code",
      "metadata": {
        "id": "HyvcW8nlB7AP"
      },
      "source": [
        "#removing directories\n",
        "os.rmdir(\"mkdir-dir\") #only deletes one dir at a time\n",
        "os.removedirs(\"makedir-dir/subdir1\") #recursively deletes all the sub level directory"
      ],
      "execution_count": null,
      "outputs": []
    },
    {
      "cell_type": "code",
      "metadata": {
        "id": "6Ibl3SdnB7AR"
      },
      "source": [
        "# renaming file and folders\n",
        "os.mkdir(\"text.txt\")\n",
        "os.rename(\"test\",\"TEST\")"
      ],
      "execution_count": null,
      "outputs": []
    },
    {
      "cell_type": "code",
      "metadata": {
        "id": "XEWrv-VrB7AS"
      },
      "source": [
        "# printing all the information about a directory\n",
        "print(os.stat(\"SentimentAnalysis-master\"))"
      ],
      "execution_count": null,
      "outputs": []
    },
    {
      "cell_type": "code",
      "metadata": {
        "id": "dH8XQi84B7AU"
      },
      "source": [
        "print(os.stat(\"SentimentAnalysis-master\").st_size)\n",
        "      #printing info about a particular attribute"
      ],
      "execution_count": null,
      "outputs": []
    },
    {
      "cell_type": "code",
      "metadata": {
        "id": "RaAydHTGB7AW"
      },
      "source": [
        "from datetime import datetime\n",
        "mod_time = os.stat(\"SentimentAnalysis-master\").st_mtime\n",
        "print(datetime.fromtimestamp(mod_time)) #printing modification time of the file\n"
      ],
      "execution_count": null,
      "outputs": []
    },
    {
      "cell_type": "code",
      "metadata": {
        "id": "6eyNVbv4B7AY"
      },
      "source": [
        "# to traverse all the directories from top to down we use os.walk() method. It yeilds a tuple of 3 elements:\n",
        "# 1. dir name, 2. names of dir in it, 3. names of files in it\n",
        "\n",
        "for dirpath, dirname, filename in os.walk('/home/ghostvb/Desktop'):\n",
        "    print(\"current path: \" + str(dirpath))\n",
        "    print(\"directories: \" + str(dirname))\n",
        "    print(\"files: \" + str(filename))\n",
        "    print(\"\\n\\n\")"
      ],
      "execution_count": null,
      "outputs": []
    },
    {
      "cell_type": "code",
      "metadata": {
        "id": "ui3V2vaSB7Aa"
      },
      "source": [
        "#printing environment variable paths for example printing path of HOME env variable\n",
        "print(os.environ.get(\"HOME\"))"
      ],
      "execution_count": null,
      "outputs": []
    },
    {
      "cell_type": "code",
      "metadata": {
        "id": "viiPVe6gB7Ab"
      },
      "source": [
        "# now we can combine the above method with os.path.join method to create paths which is useful when \n",
        "# dealing with lot of files "
      ],
      "execution_count": null,
      "outputs": []
    },
    {
      "cell_type": "code",
      "metadata": {
        "id": "aj9DOs4xB7Ad"
      },
      "source": [
        "# to check whether a path exists or not, is a file or is a dir\n",
        "os.path.exists(\"/home/test\")\n",
        "os.path.isdir(\"/home\")\n",
        "os.path.isfile(\"/home\")\n",
        "\n",
        "#other functions of os.path module\n",
        "print(dir(os.path))"
      ],
      "execution_count": null,
      "outputs": []
    },
    {
      "cell_type": "code",
      "metadata": {
        "id": "z-3NfFh4B7Af"
      },
      "source": [],
      "execution_count": null,
      "outputs": []
    },
    {
      "cell_type": "markdown",
      "metadata": {
        "id": "iuYs7aUaB670"
      },
      "source": [
        "# map, filter, reduce and zip fuctions"
      ]
    },
    {
      "cell_type": "code",
      "metadata": {
        "id": "9UUynNeZB670"
      },
      "source": [
        "# Map, Filter, and Reduce are paradigms of functional programming. They allow the programmer to write \n",
        "# simpler, shorter code, without neccessarily needing to bother about intricacies like loops and branching."
      ],
      "execution_count": null,
      "outputs": []
    },
    {
      "cell_type": "code",
      "metadata": {
        "id": "ZeAfllcxB674",
        "outputId": "10e9bce8-8672-4c78-8027-1f4e2e5fd45e"
      },
      "source": [
        "# MAP  FUNCTION\n",
        "\n",
        "# The map() function in python has the following syntax:\n",
        "\n",
        "# map(func, *iterables)\n",
        "\n",
        "# Where func is the function on which each element in iterables (as many as they are) would be applied on. \n",
        "# Notice the asterisk(*) on iterables? It means there can be as many iterables as possible, in so far func has \n",
        "# that exact number as required input arguments. Before we move on to an example, it's important that you note \n",
        "# the following:\n",
        "\n",
        "\n",
        "# 1.In Python 3, however, the function returns a map object which is a generator object.The returned value from \n",
        "#   map() (map object) then can be passed to functions like list() (to create a list), set() (to create a set) and \n",
        "#   so on.\n",
        "    \n",
        "# 2.The number of arguments to func must be the number of iterables listed.\n",
        "\n",
        "print()\n",
        "# ******* EXAMPLE 1\n",
        "def calculateSquare(n):\n",
        "  return n*n\n",
        "\n",
        "numbers = (1, 2, 3, 4)\n",
        "result = map(calculateSquare, numbers)\n",
        "print(result)\n",
        "\n",
        "# converting map object to set\n",
        "numbersSquare = set(result)\n",
        "print(numbersSquare)\n",
        "\n",
        "\n",
        "print()\n",
        "# ******** EXAMPLE 2 - Passing mutiple iterators to a map function\n",
        "\n",
        "num1 = [4, 5, 6]\n",
        "num2 = [5, 6, 7]\n",
        "\n",
        "result = map(lambda n1, n2: n1+n2, num1, num2)\n",
        "print(list(result))\n",
        "\n",
        "# we are using round function which takes 2 arguments so we will have to pass two iterables\n",
        "print()\n",
        "circle_areas = [3.56773, 5.57668, 4.00914, 56.24241, 9.01344, 32.000137]\n",
        "\n",
        "result = list(map(round, circle_areas, range(1,7)))\n",
        "\n",
        "print(result)\n",
        "\n",
        "# what if we pass range(1,3) only -> the map function stops after 2 and returns the processed numbers\n",
        "result = list(map(round, circle_areas, range(1,3)))\n",
        "\n",
        "print(result)\n",
        "\n",
        "\n",
        "print()\n",
        "# *******EXAMPLE 3 - HOW TO USE LAMBDA FUNCTIONS WITH MAP?\n",
        "\n",
        "numbers = (1, 2, 3, 4)\n",
        "result = map(lambda x: x*x, numbers)\n",
        "\n",
        "# converting map object to list\n",
        "numbersSquare = list(result)\n",
        "print(numbersSquare)"
      ],
      "execution_count": null,
      "outputs": [
        {
          "output_type": "stream",
          "text": [
            "\n",
            "<map object at 0x7f4d6c2600f0>\n",
            "{16, 1, 4, 9}\n",
            "\n",
            "[9, 11, 13]\n",
            "\n",
            "[3.6, 5.58, 4.009, 56.2424, 9.01344, 32.000137]\n",
            "[3.6, 5.58]\n",
            "\n",
            "[1, 4, 9, 16]\n"
          ],
          "name": "stdout"
        }
      ]
    },
    {
      "cell_type": "code",
      "metadata": {
        "id": "WkibUv97B677",
        "outputId": "887720fd-abcb-4ea8-d91e-a3bec9cee16e"
      },
      "source": [
        "# FILTER  FUNCTION\n",
        "\n",
        "# The filter() method constructs an iterator from elements of an iterable for which a function returns true.\n",
        "\n",
        "# In simple words, the filter() method filters the given iterable with the help of a function that tests each \n",
        "# element in the iterable to be true or not.\n",
        "\n",
        "# filter(func, iterable)\n",
        "\n",
        "# The following points are to be noted regarding filter():\n",
        "\n",
        "#  1. Unlike map(), only one iterable is required.\n",
        "#  2. The func argument is required to return a boolean type. If it doesn't, filter simply returns the iterable \n",
        "#     passed to it. Also, as only one iterable is required, it's implicit that func must only take one argument.\n",
        "#  3. filter passes each element in the iterable through func and returns only the ones that evaluate to true. \n",
        "\n",
        "# EXAMPLE 1\n",
        "\n",
        "scores = [66, 90, 68, 59, 76, 60, 88, 74, 81, 65]\n",
        "\n",
        "def is_A_student(score):\n",
        "    return score > 75\n",
        "\n",
        "over_75 = list(filter(is_A_student, scores))\n",
        "\n",
        "print(over_75)\n",
        "\n",
        "print()\n",
        "# EXAMPLE 2 - HOW FILTER METHOD WORKS WITHOUT THE FILTER FUNCTION - only returns true values\n",
        "\n",
        "# random list\n",
        "randomList = [1, 'a', 0, False, True, '0']\n",
        "\n",
        "filteredList = filter(None, randomList)\n",
        "\n",
        "print('The filtered elements are:')\n",
        "for element in filteredList:\n",
        "    print(element)"
      ],
      "execution_count": null,
      "outputs": [
        {
          "output_type": "stream",
          "text": [
            "[90, 76, 88, 81]\n",
            "\n",
            "The filtered elements are:\n",
            "1\n",
            "a\n",
            "True\n",
            "0\n"
          ],
          "name": "stdout"
        }
      ]
    },
    {
      "cell_type": "code",
      "metadata": {
        "id": "QF59mHc7B67_",
        "outputId": "89ac1ff8-42f8-4fb0-d555-8918a432b4cf"
      },
      "source": [
        "# Reduce() function\n",
        "\n",
        "# reduce applies a function of two arguments cumulatively to the elements of an iterable, optionally starting \n",
        "# with an initial argument. It has the following syntax:\n",
        "\n",
        "# reduce(func, iterable[, initial])\n",
        "\n",
        "# Where func is the function on which each element in the iterable gets cumulatively applied to, and initial is\n",
        "# the optional value that gets placed before the elements of the iterable in the calculation, and serves as a \n",
        "# default when the iterable is empty. \n",
        "\n",
        "# The following should be noted about reduce(): \n",
        "# 1. func requires two arguments, the first of which is the first element in iterable (if initial is not supplied)\n",
        "#    and the second the second element in iterable. If initial is supplied, then it becomes the first argument to \n",
        "#    func and the first element in iterable becomes the second element. \n",
        "\n",
        "# 2. reduce \"reduces\" iterable into a single value. \n",
        "\n",
        "# EXAMPLE 1 \n",
        "from functools import reduce\n",
        "\n",
        "numbers = [3, 4, 6, 9, 34, 12]\n",
        "\n",
        "def custom_sum(first, second):\n",
        "    return first + second\n",
        "\n",
        "result = reduce(custom_sum, numbers)\n",
        "print(result)\n",
        "\n",
        "print()\n",
        "# EXAMPLE 2 - WITH THE OPTIONAL INITIAL VALUE\n",
        "\n",
        "numbers = [3, 4, 6, 9, 34, 12]\n",
        "\n",
        "def custom_sum(first, second):\n",
        "    return first + second\n",
        "\n",
        "result = reduce(custom_sum, numbers, 10)\n",
        "print(result)"
      ],
      "execution_count": null,
      "outputs": [
        {
          "output_type": "stream",
          "text": [
            "68\n",
            "\n",
            "78\n"
          ],
          "name": "stdout"
        }
      ]
    },
    {
      "cell_type": "code",
      "metadata": {
        "id": "rs1ewEG-B68C",
        "outputId": "891f6b9a-23b0-4f9b-a2bd-5acef3a31bc4"
      },
      "source": [
        "# ZIP FUNCTION()\n",
        "\n",
        "# The zip() function takes iterables (can be zero or more), aggregates them in a tuple, and return it.\n",
        "\n",
        "# The syntax of the zip() function is:\n",
        "# zip(*iterables)\n",
        "\n",
        "# Return Value from zip()\n",
        "\n",
        "# The zip() function returns an iterator of tuples based on the iterable objects.\n",
        "\n",
        "#  1. If we do not pass any parameter, zip() returns an empty iterator\n",
        "#  2. If a single iterable is passed, zip() returns an iterator of tuples with each tuple having only one element.\n",
        "#  3. If multiple iterables are passed, zip() returns an iterator of tuples with each tuple having elements from \n",
        "#     all the iterables.\n",
        "\n",
        "#  Suppose, two iterables are passed to zip(); one iterable containing three and other containing five elements. \n",
        "#  Then, the returned iterator will contain three tuples. It's because iterator stops when the shortest iterable \n",
        "#  is exhausted.\n",
        "\n",
        "# EXAMPE 1\n",
        "number_list = [1, 2, 3]\n",
        "str_list = ['one', 'two', 'three']\n",
        "\n",
        "# No iterables are passed\n",
        "result = zip()\n",
        "\n",
        "# Converting itertor to list\n",
        "result_list = list(result)\n",
        "print(result_list)\n",
        "\n",
        "# Two iterables are passed\n",
        "result = zip(number_list, str_list)\n",
        "\n",
        "# Converting itertor to set\n",
        "result_set = set(result)\n",
        "print(result_set)\n",
        "\n",
        "\n",
        "print()\n",
        "# EXAMPLE 2 - DIFFERENT NO. of ITERABLES\n",
        "\n",
        "numbersList = [1, 2, 3]\n",
        "str_list = ['one', 'two']\n",
        "numbers_tuple = ('ONE', 'TWO', 'THREE', 'FOUR')\n",
        "\n",
        "# Notice, the size of numbersList and numbers_tuple is different\n",
        "result = zip(numbersList, numbers_tuple)\n",
        "\n",
        "# Converting to set\n",
        "result_set = set(result)\n",
        "print(result_set)\n",
        "\n",
        "result = zip(numbersList, str_list, numbers_tuple)\n",
        "\n",
        "# Converting to set\n",
        "result_set = set(result)\n",
        "print(result_set)"
      ],
      "execution_count": null,
      "outputs": [
        {
          "output_type": "stream",
          "text": [
            "[]\n",
            "{(3, 'three'), (1, 'one'), (2, 'two')}\n",
            "\n",
            "{(1, 'ONE'), (2, 'TWO'), (3, 'THREE')}\n",
            "{(2, 'two', 'TWO'), (1, 'one', 'ONE')}\n"
          ],
          "name": "stdout"
        }
      ]
    },
    {
      "cell_type": "code",
      "metadata": {
        "id": "arh5mNXkB68I",
        "outputId": "07a1762a-a23b-4460-d35d-3cef20151873"
      },
      "source": [
        "# Unzipping the Value Using zip() using * operator\n",
        "\n",
        "# EXAMPLE\n",
        "coordinate = ['x', 'y', 'z']\n",
        "value = [3, 4, 5]\n",
        "\n",
        "result = zip(coordinate, value)\n",
        "result_list = list(result)\n",
        "print(result_list)\n",
        "\n",
        "c, v =  zip(*result_list)\n",
        "print('coordinate =', c)\n",
        "print('value =', v)"
      ],
      "execution_count": null,
      "outputs": [
        {
          "output_type": "stream",
          "text": [
            "[('x', 3), ('y', 4), ('z', 5)]\n",
            "coordinate = ('x', 'y', 'z')\n",
            "value = (3, 4, 5)\n"
          ],
          "name": "stdout"
        }
      ]
    },
    {
      "cell_type": "code",
      "metadata": {
        "id": "BfgJXj7cB68M"
      },
      "source": [],
      "execution_count": null,
      "outputs": []
    },
    {
      "cell_type": "markdown",
      "metadata": {
        "id": "x0rYpy0oB7Ah"
      },
      "source": [
        "# STRINGS"
      ]
    },
    {
      "cell_type": "code",
      "metadata": {
        "id": "JpTuxrOpB7Ai"
      },
      "source": [
        "my_string = 'Hello'\n",
        "print(my_string)\n",
        "\n",
        "my_string = \"Hello\"\n",
        "print(my_string)\n",
        "\n",
        "# triple quotes string can extend multiple lines\n",
        "my_string = \"\"\"Hello, welcome to\n",
        "           the world of Python\"\"\"\n",
        "print(my_string)"
      ],
      "execution_count": null,
      "outputs": []
    },
    {
      "cell_type": "code",
      "metadata": {
        "id": "45OKi4xyB7Ak"
      },
      "source": [
        "text = ('Put several strings within parentheses '\n",
        "         'to have them joined together.')\n",
        "text\n"
      ],
      "execution_count": null,
      "outputs": []
    },
    {
      "cell_type": "code",
      "metadata": {
        "id": "7nS4ZgmlB7An"
      },
      "source": [
        "#above method doesnt work with variables but\n",
        "\n",
        "ste = 'py'\n",
        "print(ste 'thon')"
      ],
      "execution_count": null,
      "outputs": []
    },
    {
      "cell_type": "code",
      "metadata": {
        "id": "V3GZXDBTB7Ao"
      },
      "source": [
        "# *********How to access characters in a string?************\n",
        "\n",
        "#Accessing string characters in Python\n",
        "str1 = 'programiz'\n",
        "print('str = ', str1)\n",
        "\n",
        "#first character\n",
        "print('str[0] = ', str1[0])\n",
        "\n",
        "#last character\n",
        "print('str[-1] = ', str1[-1])\n",
        "\n",
        "#slicing 2nd to 5th character\n",
        "print('str[1:5] = ', str1[1:5])\n",
        "\n",
        "#slicing 6th to 2nd last character\n",
        "print('str[5:-2] = ', str1[5:-2])"
      ],
      "execution_count": null,
      "outputs": []
    },
    {
      "cell_type": "code",
      "metadata": {
        "id": "upn73xw_B7Aq",
        "outputId": "b0d259fe-bc3e-490c-a688-713aefa18f76",
        "colab": {
          "base_uri": "https://localhost:8080/",
          "height": 52
        }
      },
      "source": [
        "# Out of range indexing produces errors. However, out of range slice indexes are handled gracefully when used \n",
        "# for slicing:\n",
        "\n",
        "word = 'python'\n",
        "print(word[4:42])\n",
        "print(word[42:])\n",
        "\n",
        "\n"
      ],
      "execution_count": null,
      "outputs": [
        {
          "output_type": "stream",
          "text": [
            "on\n",
            "\n"
          ],
          "name": "stdout"
        }
      ]
    },
    {
      "cell_type": "code",
      "metadata": {
        "id": "xmqxIYlMB7Ar",
        "outputId": "1d44cb3e-d1b7-46d3-e8bf-60e7dbfe70d4",
        "colab": {
          "base_uri": "https://localhost:8080/",
          "height": 185
        }
      },
      "source": [
        "word = 'python'\n",
        "word[42]"
      ],
      "execution_count": null,
      "outputs": [
        {
          "output_type": "error",
          "ename": "IndexError",
          "evalue": "ignored",
          "traceback": [
            "\u001b[0;31m---------------------------------------------------------------------------\u001b[0m",
            "\u001b[0;31mIndexError\u001b[0m                                Traceback (most recent call last)",
            "\u001b[0;32m<ipython-input-10-5794d8b409f4>\u001b[0m in \u001b[0;36m<module>\u001b[0;34m()\u001b[0m\n\u001b[1;32m      1\u001b[0m \u001b[0mword\u001b[0m \u001b[0;34m=\u001b[0m \u001b[0;34m'python'\u001b[0m\u001b[0;34m\u001b[0m\u001b[0;34m\u001b[0m\u001b[0m\n\u001b[0;32m----> 2\u001b[0;31m \u001b[0mword\u001b[0m\u001b[0;34m[\u001b[0m\u001b[0;36m42\u001b[0m\u001b[0;34m]\u001b[0m\u001b[0;34m\u001b[0m\u001b[0;34m\u001b[0m\u001b[0m\n\u001b[0m",
            "\u001b[0;31mIndexError\u001b[0m: string index out of range"
          ]
        }
      ]
    },
    {
      "cell_type": "code",
      "metadata": {
        "id": "pac3T1SrB7Au",
        "outputId": "825a9831-4cd4-4bdb-d06e-5e686688c58d",
        "colab": {
          "base_uri": "https://localhost:8080/",
          "height": 34
        }
      },
      "source": [
        "# **********string membership**************\n",
        "\n",
        "ste = \"python\"\n",
        "print('a' in ste)"
      ],
      "execution_count": null,
      "outputs": [
        {
          "output_type": "stream",
          "text": [
            "False\n"
          ],
          "name": "stdout"
        }
      ]
    },
    {
      "cell_type": "code",
      "metadata": {
        "id": "asoEhBHnB7Ay"
      },
      "source": [
        "#  *********certain inbuilt functions of string*************\n",
        "\n",
        "st= 'cold'\n",
        "l = list(enumerate(st))\n",
        "print(len(st))\n",
        "print(l)\n",
        "\n",
        "\n",
        "# URL for all the string methods - https://www.programiz.com/python-programming/methods/string"
      ],
      "execution_count": null,
      "outputs": []
    },
    {
      "cell_type": "code",
      "metadata": {
        "id": "IGzu9kQgB7A1"
      },
      "source": [
        "# join method\n",
        "s = ('||'.join([' cat ',' bat ',' rat ']))\n",
        "print(s)\n",
        "\n",
        "s1 = s.split(\"||\")\n",
        "print(s1)\n"
      ],
      "execution_count": null,
      "outputs": []
    },
    {
      "cell_type": "code",
      "metadata": {
        "id": "LEo4XjrWB7A2"
      },
      "source": [
        "s2 = 'python'\n",
        "s3 = \"is fun\"\n",
        "print(s2.ljust(20,\"-\")+ '>')\n",
        "print(s3.rjust(20,\">\"))\n",
        "\n",
        "s4 = 'center'\n",
        "print(s4.center(20,\"=\"))"
      ],
      "execution_count": null,
      "outputs": []
    },
    {
      "cell_type": "code",
      "metadata": {
        "id": "bihVYj-vB7A3"
      },
      "source": [
        "print(s2.rjust(20))\n",
        "print(s2.strip())\n",
        "\n",
        "s5 = \"        python       \"\n",
        "print(s5)\n",
        "print(s5.lstrip())\n"
      ],
      "execution_count": null,
      "outputs": []
    },
    {
      "cell_type": "code",
      "metadata": {
        "id": "KkU82-YaB7A5"
      },
      "source": [
        "st = \"quick brown fox jumped over the fence\"\n",
        "s = st.find('over')\n",
        "print(s)"
      ],
      "execution_count": null,
      "outputs": []
    },
    {
      "cell_type": "code",
      "metadata": {
        "id": "kr2t5VOgB7A8"
      },
      "source": [
        "# ********** ESCAPE SEQUENCES ***************\n",
        "\n",
        "# why we need escape sequences \n",
        "\n",
        "# using triple quotes\n",
        "print('''He said, \"What's there?\"''')\n",
        "\n",
        "# escaping single quotes\n",
        "print('He said, \"What\\'s there?\"')\n",
        "\n",
        "# escaping double quotes\n",
        "print(\"He said, \\\"What's there?\\\"\")"
      ],
      "execution_count": null,
      "outputs": []
    },
    {
      "cell_type": "code",
      "metadata": {
        "id": "PKe0tuShB7A9"
      },
      "source": [
        "# LIST OF ALL THE ESCAPE CHARACTERS\n",
        "\n",
        "# \\newline  \tBackslash and newline ignored\n",
        "# \\\\    \tBackslash\n",
        "# \\'    \tSingle quote\n",
        "# \\\"    \tDouble quote\n",
        "# \\a    \tASCII Bell\n",
        "# \\b    \tASCII Backspace\n",
        "# \\f    \tASCII Formfeed\n",
        "# \\n    \tASCII Linefeed\n",
        "# \\r    \tASCII Carriage Return\n",
        "# \\t    \tASCII Horizontal Tab\n",
        "# \\v    \tASCII Vertical Tab\n",
        "# \\ooo  \tCharacter with octal value ooo\n",
        "# \\xHH  \tCharacter with hexadecimal value HH"
      ],
      "execution_count": null,
      "outputs": []
    },
    {
      "cell_type": "code",
      "metadata": {
        "id": "0lFhM9G7B7BC",
        "outputId": "e4ddb8fd-e722-4b7d-ba01-13abd80d3511",
        "colab": {
          "base_uri": "https://localhost:8080/",
          "height": 86
        }
      },
      "source": [
        "# *** RAW STRINGS ****\n",
        "\n",
        "# Raw String to ignore escape sequence\n",
        "# Sometimes we may wish to ignore the escape sequences inside a string. To do this we can place r or R in \n",
        "# front of the string. This will imply that it is a raw string and any escape sequence inside it will be ignored.\n",
        "\n",
        "print(\"This is \\x61 \\ngood example\\n\")\n",
        "print(r\"This is \\x61 \\ngood example\")\n"
      ],
      "execution_count": null,
      "outputs": [
        {
          "output_type": "stream",
          "text": [
            "This is a \n",
            "good example\n",
            "\n",
            "This is \\x61 \\ngood example\n"
          ],
          "name": "stdout"
        }
      ]
    },
    {
      "cell_type": "code",
      "metadata": {
        "id": "WtL63nHrB7BH",
        "outputId": "77bcef60-9c57-4f18-dc61-9b064ceb285b",
        "colab": {
          "base_uri": "https://localhost:8080/",
          "height": 173
        }
      },
      "source": [
        "# ********** The format() Method for Formatting Strings *************\n",
        "\n",
        "# The format() method that is available with the string object is very versatile and powerful in formatting \n",
        "# strings. Format strings contain curly braces {} as placeholders or replacement fields which get replaced.We\\\n",
        "# can use positional arguments or keyword arguments to specify the order.\n",
        "\n",
        "# Python string format() method\n",
        "\n",
        "# default(implicit) order\n",
        "default_order = \"{}, {} and {}\".format('John','Bill','Sean')\n",
        "print('\\n--- Default Order ---')\n",
        "print(default_order)\n",
        "\n",
        "# order using positional argument\n",
        "positional_order = \"{1}, {0} and {2}\".format('John','Bill','Sean')\n",
        "print('\\n--- Positional Order ---')\n",
        "print(positional_order)\n",
        "\n",
        "# order using keyword argument\n",
        "keyword_order = \"{s}, {b} and {j}\".format(j='John',b='Bill',s='Sean')\n",
        "print('\\n--- Keyword Order ---')\n",
        "print(keyword_order)"
      ],
      "execution_count": null,
      "outputs": [
        {
          "output_type": "stream",
          "text": [
            "\n",
            "--- Default Order ---\n",
            "John, Bill and Sean\n",
            "\n",
            "--- Positional Order ---\n",
            "Bill, John and Sean\n",
            "\n",
            "--- Keyword Order ---\n",
            "Sean, Bill and John\n"
          ],
          "name": "stdout"
        }
      ]
    },
    {
      "cell_type": "code",
      "metadata": {
        "id": "qjXdP3w3B7BJ",
        "outputId": "90108ab5-4b07-47d9-8a31-4d69c490be56",
        "colab": {
          "base_uri": "https://localhost:8080/",
          "height": 86
        }
      },
      "source": [
        "# The format() method can have optional format specifications. They are separated from the field name using \n",
        "# colon. For example, we can left-justify <, right-justify > or center ^ a string in the given space.\n",
        "\n",
        "# formatting integers\n",
        "print(\"Binary representation of {0} is {0:b}\".format(12))\n",
        "\n",
        "# formatting floats\n",
        "print(\"Exponent representation: {0:e}\".format(1566.345))\n",
        "\n",
        "# round off\n",
        "print(\"One third is: {0:.3f}\".format(1/3))\n",
        "\n",
        "# string alignment\n",
        "print(\"|{:<10}|{:^10}|{:>10}|\".format('butter','bread','ham'))\n",
        "\n",
        "# URL for more info on format function - https://www.programiz.com/python-programming/methods/string/format"
      ],
      "execution_count": null,
      "outputs": [
        {
          "output_type": "stream",
          "text": [
            "Binary representation of 12 is 1100\n",
            "Exponent representation: 1.566345e+03\n",
            "One third is: 0.333\n",
            "|butter    |  bread   |       ham|\n"
          ],
          "name": "stdout"
        }
      ]
    },
    {
      "cell_type": "code",
      "metadata": {
        "id": "EGgWePn3B7BL",
        "outputId": "423f2fb0-8107-4685-a33a-2fe14f7f34de",
        "colab": {
          "base_uri": "https://localhost:8080/",
          "height": 86
        }
      },
      "source": [
        "# string padding with left alignment\n",
        "print(\"{:5}\".format(\"cat\"))\n",
        "\n",
        "# string padding with right alignment\n",
        "print(\"{:>5}\".format(\"cat\"))\n",
        "\n",
        "# string padding with center alignment\n",
        "print(\"{:^5}\".format(\"cat\"))\n",
        "\n",
        "# string padding with center alignment\n",
        "# and '*' padding character\n",
        "print(\"{:*^5}\".format(\"cat\"))"
      ],
      "execution_count": null,
      "outputs": [
        {
          "output_type": "stream",
          "text": [
            "cat  \n",
            "  cat\n",
            " cat \n",
            "*cat*\n"
          ],
          "name": "stdout"
        }
      ]
    },
    {
      "cell_type": "code",
      "metadata": {
        "id": "BHK7u6hHB7BM",
        "outputId": "c7e5462a-2b4b-4df9-cd50-513394790d35",
        "colab": {
          "base_uri": "https://localhost:8080/",
          "height": 69
        }
      },
      "source": [
        "# truncating strings with format()\n",
        "\n",
        "# truncating strings to 3 letters\n",
        "print(\"{:.5}\".format(\"caterpillar\"))\n",
        "\n",
        "# truncating strings to 3 letters\n",
        "# and padding\n",
        "print(\"{:.5}\".format(\"caterpillar\"))\n",
        "\n",
        "# truncating strings to 3 letters,\n",
        "# padding and center alignment\n",
        "print(\"{:^5.5}\".format(\"caterpillar\"))\n"
      ],
      "execution_count": null,
      "outputs": [
        {
          "output_type": "stream",
          "text": [
            "cater\n",
            "cater\n",
            "cater\n"
          ],
          "name": "stdout"
        }
      ]
    },
    {
      "cell_type": "code",
      "metadata": {
        "id": "B4YeIz8zB7BO",
        "outputId": "08581ba1-7b4e-4c73-9bec-515f3d94e112",
        "colab": {
          "base_uri": "https://localhost:8080/",
          "height": 52
        }
      },
      "source": [
        "# ******* OLD FASHIONED FORMATING ************\n",
        "name = 'vedant'\n",
        "col = 'cmrit'\n",
        "dept = 'ise'\n",
        "sem = 6\n",
        "print(\"My name is %s. I study in %s college in %s dept. I am in %dth sem\" %(name,col,dept,sem))\n",
        "\n",
        "print(\"number rounded of to 2 decimal places = %.2f\" %5.2255542)"
      ],
      "execution_count": null,
      "outputs": [
        {
          "output_type": "stream",
          "text": [
            "My name is vedant. I study in cmrit college in ise dept. I am in 6th sem\n",
            "number rounded of to 2 decimal places = 5.23\n"
          ],
          "name": "stdout"
        }
      ]
    },
    {
      "cell_type": "code",
      "metadata": {
        "id": "Rve6Z42dB7BQ",
        "outputId": "7b801806-ea11-4906-8b85-f1f6e9550a5f",
        "colab": {
          "base_uri": "https://localhost:8080/",
          "height": 34
        }
      },
      "source": [
        "# ************Formatted String Literals ***************\n",
        "\n",
        "# Formatted string literals (also called f-strings for short) let you include the value of Python expressions \n",
        "# inside a string by prefixing the string with f or F and writing expressions as {expression}.\n",
        "\n",
        "import math\n",
        "print(f'The value of pi is approximately {math.pi:.4f}.')"
      ],
      "execution_count": null,
      "outputs": [
        {
          "output_type": "stream",
          "text": [
            "The value of pi is approximately 3.1416.\n"
          ],
          "name": "stdout"
        }
      ]
    },
    {
      "cell_type": "code",
      "metadata": {
        "id": "rMaocmBeB7BS",
        "outputId": "edf34995-017b-4fd6-dbd5-04e72524a2f2",
        "colab": {
          "base_uri": "https://localhost:8080/",
          "height": 139
        }
      },
      "source": [
        "# Passing an integer after the ':' will cause that field to be a minimum number of characters wide.\n",
        "# This is useful for making columns line up.\n",
        "\n",
        "\n",
        "table = {'Sjoerd': 4127, 'Jack': 4098, 'Dcab': 7678}\n",
        "for name, phone in table.items():\n",
        "     print(f'{name:10} ==> {phone:10d}')\n",
        "\n",
        "print()   # vs\n",
        "\n",
        "table = {'Sjoerd': 4127, 'Jack': 4098, 'Dcab': 7678}\n",
        "for name, phone in table.items():\n",
        "     print(f'{name:7} ==> {phone:7d}')"
      ],
      "execution_count": null,
      "outputs": [
        {
          "output_type": "stream",
          "text": [
            "Sjoerd     ==>       4127\n",
            "Jack       ==>       4098\n",
            "Dcab       ==>       7678\n",
            "\n",
            "Sjoerd  ==>    4127\n",
            "Jack    ==>    4098\n",
            "Dcab    ==>    7678\n"
          ],
          "name": "stdout"
        }
      ]
    },
    {
      "cell_type": "code",
      "metadata": {
        "id": "TWOo1NR7B7BZ",
        "outputId": "acaac582-a1ca-4dea-ff92-b39492e1d711",
        "colab": {
          "base_uri": "https://localhost:8080/",
          "height": 54
        }
      },
      "source": [
        "print(dir(str))"
      ],
      "execution_count": null,
      "outputs": [
        {
          "output_type": "stream",
          "text": [
            "['__add__', '__class__', '__contains__', '__delattr__', '__dir__', '__doc__', '__eq__', '__format__', '__ge__', '__getattribute__', '__getitem__', '__getnewargs__', '__gt__', '__hash__', '__init__', '__init_subclass__', '__iter__', '__le__', '__len__', '__lt__', '__mod__', '__mul__', '__ne__', '__new__', '__reduce__', '__reduce_ex__', '__repr__', '__rmod__', '__rmul__', '__setattr__', '__sizeof__', '__str__', '__subclasshook__', 'capitalize', 'casefold', 'center', 'count', 'encode', 'endswith', 'expandtabs', 'find', 'format', 'format_map', 'index', 'isalnum', 'isalpha', 'isdecimal', 'isdigit', 'isidentifier', 'islower', 'isnumeric', 'isprintable', 'isspace', 'istitle', 'isupper', 'join', 'ljust', 'lower', 'lstrip', 'maketrans', 'partition', 'replace', 'rfind', 'rindex', 'rjust', 'rpartition', 'rsplit', 'rstrip', 'split', 'splitlines', 'startswith', 'strip', 'swapcase', 'title', 'translate', 'upper', 'zfill']\n"
          ],
          "name": "stdout"
        }
      ]
    },
    {
      "cell_type": "code",
      "metadata": {
        "id": "L5oJiNawB7Bb",
        "outputId": "03331f88-3ebb-403a-f600-95a7435af63a",
        "colab": {
          "base_uri": "https://localhost:8080/",
          "height": 1000
        }
      },
      "source": [
        "# to get complete description on methods of a class\n",
        "print(help(str))"
      ],
      "execution_count": null,
      "outputs": [
        {
          "output_type": "stream",
          "text": [
            "Help on class str in module builtins:\n",
            "\n",
            "class str(object)\n",
            " |  str(object='') -> str\n",
            " |  str(bytes_or_buffer[, encoding[, errors]]) -> str\n",
            " |  \n",
            " |  Create a new string object from the given object. If encoding or\n",
            " |  errors is specified, then the object must expose a data buffer\n",
            " |  that will be decoded using the given encoding and error handler.\n",
            " |  Otherwise, returns the result of object.__str__() (if defined)\n",
            " |  or repr(object).\n",
            " |  encoding defaults to sys.getdefaultencoding().\n",
            " |  errors defaults to 'strict'.\n",
            " |  \n",
            " |  Methods defined here:\n",
            " |  \n",
            " |  __add__(self, value, /)\n",
            " |      Return self+value.\n",
            " |  \n",
            " |  __contains__(self, key, /)\n",
            " |      Return key in self.\n",
            " |  \n",
            " |  __eq__(self, value, /)\n",
            " |      Return self==value.\n",
            " |  \n",
            " |  __format__(...)\n",
            " |      S.__format__(format_spec) -> str\n",
            " |      \n",
            " |      Return a formatted version of S as described by format_spec.\n",
            " |  \n",
            " |  __ge__(self, value, /)\n",
            " |      Return self>=value.\n",
            " |  \n",
            " |  __getattribute__(self, name, /)\n",
            " |      Return getattr(self, name).\n",
            " |  \n",
            " |  __getitem__(self, key, /)\n",
            " |      Return self[key].\n",
            " |  \n",
            " |  __getnewargs__(...)\n",
            " |  \n",
            " |  __gt__(self, value, /)\n",
            " |      Return self>value.\n",
            " |  \n",
            " |  __hash__(self, /)\n",
            " |      Return hash(self).\n",
            " |  \n",
            " |  __iter__(self, /)\n",
            " |      Implement iter(self).\n",
            " |  \n",
            " |  __le__(self, value, /)\n",
            " |      Return self<=value.\n",
            " |  \n",
            " |  __len__(self, /)\n",
            " |      Return len(self).\n",
            " |  \n",
            " |  __lt__(self, value, /)\n",
            " |      Return self<value.\n",
            " |  \n",
            " |  __mod__(self, value, /)\n",
            " |      Return self%value.\n",
            " |  \n",
            " |  __mul__(self, value, /)\n",
            " |      Return self*value.\n",
            " |  \n",
            " |  __ne__(self, value, /)\n",
            " |      Return self!=value.\n",
            " |  \n",
            " |  __new__(*args, **kwargs) from builtins.type\n",
            " |      Create and return a new object.  See help(type) for accurate signature.\n",
            " |  \n",
            " |  __repr__(self, /)\n",
            " |      Return repr(self).\n",
            " |  \n",
            " |  __rmod__(self, value, /)\n",
            " |      Return value%self.\n",
            " |  \n",
            " |  __rmul__(self, value, /)\n",
            " |      Return value*self.\n",
            " |  \n",
            " |  __sizeof__(...)\n",
            " |      S.__sizeof__() -> size of S in memory, in bytes\n",
            " |  \n",
            " |  __str__(self, /)\n",
            " |      Return str(self).\n",
            " |  \n",
            " |  capitalize(...)\n",
            " |      S.capitalize() -> str\n",
            " |      \n",
            " |      Return a capitalized version of S, i.e. make the first character\n",
            " |      have upper case and the rest lower case.\n",
            " |  \n",
            " |  casefold(...)\n",
            " |      S.casefold() -> str\n",
            " |      \n",
            " |      Return a version of S suitable for caseless comparisons.\n",
            " |  \n",
            " |  center(...)\n",
            " |      S.center(width[, fillchar]) -> str\n",
            " |      \n",
            " |      Return S centered in a string of length width. Padding is\n",
            " |      done using the specified fill character (default is a space)\n",
            " |  \n",
            " |  count(...)\n",
            " |      S.count(sub[, start[, end]]) -> int\n",
            " |      \n",
            " |      Return the number of non-overlapping occurrences of substring sub in\n",
            " |      string S[start:end].  Optional arguments start and end are\n",
            " |      interpreted as in slice notation.\n",
            " |  \n",
            " |  encode(...)\n",
            " |      S.encode(encoding='utf-8', errors='strict') -> bytes\n",
            " |      \n",
            " |      Encode S using the codec registered for encoding. Default encoding\n",
            " |      is 'utf-8'. errors may be given to set a different error\n",
            " |      handling scheme. Default is 'strict' meaning that encoding errors raise\n",
            " |      a UnicodeEncodeError. Other possible values are 'ignore', 'replace' and\n",
            " |      'xmlcharrefreplace' as well as any other name registered with\n",
            " |      codecs.register_error that can handle UnicodeEncodeErrors.\n",
            " |  \n",
            " |  endswith(...)\n",
            " |      S.endswith(suffix[, start[, end]]) -> bool\n",
            " |      \n",
            " |      Return True if S ends with the specified suffix, False otherwise.\n",
            " |      With optional start, test S beginning at that position.\n",
            " |      With optional end, stop comparing S at that position.\n",
            " |      suffix can also be a tuple of strings to try.\n",
            " |  \n",
            " |  expandtabs(...)\n",
            " |      S.expandtabs(tabsize=8) -> str\n",
            " |      \n",
            " |      Return a copy of S where all tab characters are expanded using spaces.\n",
            " |      If tabsize is not given, a tab size of 8 characters is assumed.\n",
            " |  \n",
            " |  find(...)\n",
            " |      S.find(sub[, start[, end]]) -> int\n",
            " |      \n",
            " |      Return the lowest index in S where substring sub is found,\n",
            " |      such that sub is contained within S[start:end].  Optional\n",
            " |      arguments start and end are interpreted as in slice notation.\n",
            " |      \n",
            " |      Return -1 on failure.\n",
            " |  \n",
            " |  format(...)\n",
            " |      S.format(*args, **kwargs) -> str\n",
            " |      \n",
            " |      Return a formatted version of S, using substitutions from args and kwargs.\n",
            " |      The substitutions are identified by braces ('{' and '}').\n",
            " |  \n",
            " |  format_map(...)\n",
            " |      S.format_map(mapping) -> str\n",
            " |      \n",
            " |      Return a formatted version of S, using substitutions from mapping.\n",
            " |      The substitutions are identified by braces ('{' and '}').\n",
            " |  \n",
            " |  index(...)\n",
            " |      S.index(sub[, start[, end]]) -> int\n",
            " |      \n",
            " |      Return the lowest index in S where substring sub is found, \n",
            " |      such that sub is contained within S[start:end].  Optional\n",
            " |      arguments start and end are interpreted as in slice notation.\n",
            " |      \n",
            " |      Raises ValueError when the substring is not found.\n",
            " |  \n",
            " |  isalnum(...)\n",
            " |      S.isalnum() -> bool\n",
            " |      \n",
            " |      Return True if all characters in S are alphanumeric\n",
            " |      and there is at least one character in S, False otherwise.\n",
            " |  \n",
            " |  isalpha(...)\n",
            " |      S.isalpha() -> bool\n",
            " |      \n",
            " |      Return True if all characters in S are alphabetic\n",
            " |      and there is at least one character in S, False otherwise.\n",
            " |  \n",
            " |  isdecimal(...)\n",
            " |      S.isdecimal() -> bool\n",
            " |      \n",
            " |      Return True if there are only decimal characters in S,\n",
            " |      False otherwise.\n",
            " |  \n",
            " |  isdigit(...)\n",
            " |      S.isdigit() -> bool\n",
            " |      \n",
            " |      Return True if all characters in S are digits\n",
            " |      and there is at least one character in S, False otherwise.\n",
            " |  \n",
            " |  isidentifier(...)\n",
            " |      S.isidentifier() -> bool\n",
            " |      \n",
            " |      Return True if S is a valid identifier according\n",
            " |      to the language definition.\n",
            " |      \n",
            " |      Use keyword.iskeyword() to test for reserved identifiers\n",
            " |      such as \"def\" and \"class\".\n",
            " |  \n",
            " |  islower(...)\n",
            " |      S.islower() -> bool\n",
            " |      \n",
            " |      Return True if all cased characters in S are lowercase and there is\n",
            " |      at least one cased character in S, False otherwise.\n",
            " |  \n",
            " |  isnumeric(...)\n",
            " |      S.isnumeric() -> bool\n",
            " |      \n",
            " |      Return True if there are only numeric characters in S,\n",
            " |      False otherwise.\n",
            " |  \n",
            " |  isprintable(...)\n",
            " |      S.isprintable() -> bool\n",
            " |      \n",
            " |      Return True if all characters in S are considered\n",
            " |      printable in repr() or S is empty, False otherwise.\n",
            " |  \n",
            " |  isspace(...)\n",
            " |      S.isspace() -> bool\n",
            " |      \n",
            " |      Return True if all characters in S are whitespace\n",
            " |      and there is at least one character in S, False otherwise.\n",
            " |  \n",
            " |  istitle(...)\n",
            " |      S.istitle() -> bool\n",
            " |      \n",
            " |      Return True if S is a titlecased string and there is at least one\n",
            " |      character in S, i.e. upper- and titlecase characters may only\n",
            " |      follow uncased characters and lowercase characters only cased ones.\n",
            " |      Return False otherwise.\n",
            " |  \n",
            " |  isupper(...)\n",
            " |      S.isupper() -> bool\n",
            " |      \n",
            " |      Return True if all cased characters in S are uppercase and there is\n",
            " |      at least one cased character in S, False otherwise.\n",
            " |  \n",
            " |  join(...)\n",
            " |      S.join(iterable) -> str\n",
            " |      \n",
            " |      Return a string which is the concatenation of the strings in the\n",
            " |      iterable.  The separator between elements is S.\n",
            " |  \n",
            " |  ljust(...)\n",
            " |      S.ljust(width[, fillchar]) -> str\n",
            " |      \n",
            " |      Return S left-justified in a Unicode string of length width. Padding is\n",
            " |      done using the specified fill character (default is a space).\n",
            " |  \n",
            " |  lower(...)\n",
            " |      S.lower() -> str\n",
            " |      \n",
            " |      Return a copy of the string S converted to lowercase.\n",
            " |  \n",
            " |  lstrip(...)\n",
            " |      S.lstrip([chars]) -> str\n",
            " |      \n",
            " |      Return a copy of the string S with leading whitespace removed.\n",
            " |      If chars is given and not None, remove characters in chars instead.\n",
            " |  \n",
            " |  partition(...)\n",
            " |      S.partition(sep) -> (head, sep, tail)\n",
            " |      \n",
            " |      Search for the separator sep in S, and return the part before it,\n",
            " |      the separator itself, and the part after it.  If the separator is not\n",
            " |      found, return S and two empty strings.\n",
            " |  \n",
            " |  replace(...)\n",
            " |      S.replace(old, new[, count]) -> str\n",
            " |      \n",
            " |      Return a copy of S with all occurrences of substring\n",
            " |      old replaced by new.  If the optional argument count is\n",
            " |      given, only the first count occurrences are replaced.\n",
            " |  \n",
            " |  rfind(...)\n",
            " |      S.rfind(sub[, start[, end]]) -> int\n",
            " |      \n",
            " |      Return the highest index in S where substring sub is found,\n",
            " |      such that sub is contained within S[start:end].  Optional\n",
            " |      arguments start and end are interpreted as in slice notation.\n",
            " |      \n",
            " |      Return -1 on failure.\n",
            " |  \n",
            " |  rindex(...)\n",
            " |      S.rindex(sub[, start[, end]]) -> int\n",
            " |      \n",
            " |      Return the highest index in S where substring sub is found,\n",
            " |      such that sub is contained within S[start:end].  Optional\n",
            " |      arguments start and end are interpreted as in slice notation.\n",
            " |      \n",
            " |      Raises ValueError when the substring is not found.\n",
            " |  \n",
            " |  rjust(...)\n",
            " |      S.rjust(width[, fillchar]) -> str\n",
            " |      \n",
            " |      Return S right-justified in a string of length width. Padding is\n",
            " |      done using the specified fill character (default is a space).\n",
            " |  \n",
            " |  rpartition(...)\n",
            " |      S.rpartition(sep) -> (head, sep, tail)\n",
            " |      \n",
            " |      Search for the separator sep in S, starting at the end of S, and return\n",
            " |      the part before it, the separator itself, and the part after it.  If the\n",
            " |      separator is not found, return two empty strings and S.\n",
            " |  \n",
            " |  rsplit(...)\n",
            " |      S.rsplit(sep=None, maxsplit=-1) -> list of strings\n",
            " |      \n",
            " |      Return a list of the words in S, using sep as the\n",
            " |      delimiter string, starting at the end of the string and\n",
            " |      working to the front.  If maxsplit is given, at most maxsplit\n",
            " |      splits are done. If sep is not specified, any whitespace string\n",
            " |      is a separator.\n",
            " |  \n",
            " |  rstrip(...)\n",
            " |      S.rstrip([chars]) -> str\n",
            " |      \n",
            " |      Return a copy of the string S with trailing whitespace removed.\n",
            " |      If chars is given and not None, remove characters in chars instead.\n",
            " |  \n",
            " |  split(...)\n",
            " |      S.split(sep=None, maxsplit=-1) -> list of strings\n",
            " |      \n",
            " |      Return a list of the words in S, using sep as the\n",
            " |      delimiter string.  If maxsplit is given, at most maxsplit\n",
            " |      splits are done. If sep is not specified or is None, any\n",
            " |      whitespace string is a separator and empty strings are\n",
            " |      removed from the result.\n",
            " |  \n",
            " |  splitlines(...)\n",
            " |      S.splitlines([keepends]) -> list of strings\n",
            " |      \n",
            " |      Return a list of the lines in S, breaking at line boundaries.\n",
            " |      Line breaks are not included in the resulting list unless keepends\n",
            " |      is given and true.\n",
            " |  \n",
            " |  startswith(...)\n",
            " |      S.startswith(prefix[, start[, end]]) -> bool\n",
            " |      \n",
            " |      Return True if S starts with the specified prefix, False otherwise.\n",
            " |      With optional start, test S beginning at that position.\n",
            " |      With optional end, stop comparing S at that position.\n",
            " |      prefix can also be a tuple of strings to try.\n",
            " |  \n",
            " |  strip(...)\n",
            " |      S.strip([chars]) -> str\n",
            " |      \n",
            " |      Return a copy of the string S with leading and trailing\n",
            " |      whitespace removed.\n",
            " |      If chars is given and not None, remove characters in chars instead.\n",
            " |  \n",
            " |  swapcase(...)\n",
            " |      S.swapcase() -> str\n",
            " |      \n",
            " |      Return a copy of S with uppercase characters converted to lowercase\n",
            " |      and vice versa.\n",
            " |  \n",
            " |  title(...)\n",
            " |      S.title() -> str\n",
            " |      \n",
            " |      Return a titlecased version of S, i.e. words start with title case\n",
            " |      characters, all remaining cased characters have lower case.\n",
            " |  \n",
            " |  translate(...)\n",
            " |      S.translate(table) -> str\n",
            " |      \n",
            " |      Return a copy of the string S in which each character has been mapped\n",
            " |      through the given translation table. The table must implement\n",
            " |      lookup/indexing via __getitem__, for instance a dictionary or list,\n",
            " |      mapping Unicode ordinals to Unicode ordinals, strings, or None. If\n",
            " |      this operation raises LookupError, the character is left untouched.\n",
            " |      Characters mapped to None are deleted.\n",
            " |  \n",
            " |  upper(...)\n",
            " |      S.upper() -> str\n",
            " |      \n",
            " |      Return a copy of S converted to uppercase.\n",
            " |  \n",
            " |  zfill(...)\n",
            " |      S.zfill(width) -> str\n",
            " |      \n",
            " |      Pad a numeric string S with zeros on the left, to fill a field\n",
            " |      of the specified width. The string S is never truncated.\n",
            " |  \n",
            " |  ----------------------------------------------------------------------\n",
            " |  Static methods defined here:\n",
            " |  \n",
            " |  maketrans(x, y=None, z=None, /)\n",
            " |      Return a translation table usable for str.translate().\n",
            " |      \n",
            " |      If there is only one argument, it must be a dictionary mapping Unicode\n",
            " |      ordinals (integers) or characters to Unicode ordinals, strings or None.\n",
            " |      Character keys will be then converted to ordinals.\n",
            " |      If there are two arguments, they must be strings of equal length, and\n",
            " |      in the resulting dictionary, each character in x will be mapped to the\n",
            " |      character at the same position in y. If there is a third argument, it\n",
            " |      must be a string, whose characters will be mapped to None in the result.\n",
            "\n",
            "None\n"
          ],
          "name": "stdout"
        }
      ]
    },
    {
      "cell_type": "code",
      "metadata": {
        "id": "Jf8ozmW-B7Bd",
        "outputId": "b9afcde5-c96c-4a20-a23f-83986d376554",
        "colab": {
          "base_uri": "https://localhost:8080/",
          "height": 225
        }
      },
      "source": [
        "# to get description on a particular method\n",
        "print(help(str.find))"
      ],
      "execution_count": null,
      "outputs": [
        {
          "output_type": "stream",
          "text": [
            "Help on method_descriptor:\n",
            "\n",
            "find(...)\n",
            "    S.find(sub[, start[, end]]) -> int\n",
            "    \n",
            "    Return the lowest index in S where substring sub is found,\n",
            "    such that sub is contained within S[start:end].  Optional\n",
            "    arguments start and end are interpreted as in slice notation.\n",
            "    \n",
            "    Return -1 on failure.\n",
            "\n",
            "None\n"
          ],
          "name": "stdout"
        }
      ]
    },
    {
      "cell_type": "code",
      "metadata": {
        "id": "2vQY3MwUB7Bf"
      },
      "source": [],
      "execution_count": null,
      "outputs": []
    },
    {
      "cell_type": "markdown",
      "metadata": {
        "id": "hnpL42MoB7Bh"
      },
      "source": [
        "# LISTS"
      ]
    },
    {
      "cell_type": "code",
      "metadata": {
        "id": "f8jccnxxB7Bh"
      },
      "source": [
        "# MUTABLE COMPLEX DATA TYPES IN PYTHON . \n",
        "# REPRESENTED USING [] "
      ],
      "execution_count": null,
      "outputs": []
    },
    {
      "cell_type": "code",
      "metadata": {
        "id": "4LsHmfiKB7Bj"
      },
      "source": [
        "# ****** how to create a list ******\n",
        "# initialising an empty list. 2 ways\n",
        "a = []\n",
        "b = list()\n",
        "print(type(a))\n",
        "print(type(b))"
      ],
      "execution_count": null,
      "outputs": []
    },
    {
      "cell_type": "code",
      "metadata": {
        "id": "hjdkT1SkB7Bl",
        "outputId": "ba06255a-9ef8-4753-e718-5d141c5e5faa",
        "colab": {
          "base_uri": "https://localhost:8080/",
          "height": 34
        }
      },
      "source": [
        "list1 = [1, 2.5, 'hi', [1,2,3,4]]\n",
        "\n",
        "# indexing nested lists\n",
        "print(list1[3][2])\n",
        "\n",
        "#slicing of list is done in the same way as that of string"
      ],
      "execution_count": null,
      "outputs": [
        {
          "output_type": "stream",
          "text": [
            "3\n"
          ],
          "name": "stdout"
        }
      ]
    },
    {
      "cell_type": "code",
      "metadata": {
        "id": "0Q4wkRoGB7Bn"
      },
      "source": [
        "# changing elements of the list is done in the same way as that of array in any lang\n",
        "\n",
        "list2 = [1,5,6,9,10]\n",
        "list2[3] = 'abcd'\n",
        "list2\n",
        "list2[1:4] = ['hi','hello','hey']\n",
        "list2"
      ],
      "execution_count": null,
      "outputs": []
    },
    {
      "cell_type": "code",
      "metadata": {
        "id": "Qb9k0dVbB7B5",
        "outputId": "74eb7c2b-65ee-4606-dab8-90055224eff6",
        "colab": {
          "base_uri": "https://localhost:8080/",
          "height": 52
        }
      },
      "source": [
        "# when we assign a list to a variable, we are basically assigning the reference of the list to that variable \n",
        "# unlike strings\n",
        "\n",
        "spam = [1,2,3,4,5,6,7]\n",
        "a = spam\n",
        "a[1] = 'hello'\n",
        "print(a)\n",
        "print(spam)"
      ],
      "execution_count": null,
      "outputs": [
        {
          "output_type": "stream",
          "text": [
            "[1, 'hello', 3, 4, 5, 6, 7]\n",
            "[1, 'hello', 3, 4, 5, 6, 7]\n"
          ],
          "name": "stdout"
        }
      ]
    },
    {
      "cell_type": "code",
      "metadata": {
        "id": "FoP5BpXGB7B7",
        "outputId": "82a7092b-bbfa-435e-f39c-cb2c8d15ee3e",
        "colab": {
          "base_uri": "https://localhost:8080/",
          "height": 52
        }
      },
      "source": [
        "# so how to completely copy a list and not just the reference of it?\n",
        "\n",
        "import copy\n",
        "spam = [1,2,3,4,5,6,7]\n",
        "spam2 = copy.deepcopy(spam)\n",
        "spam2[1] = 'hello'\n",
        "print(spam2)\n",
        "print(spam)"
      ],
      "execution_count": null,
      "outputs": [
        {
          "output_type": "stream",
          "text": [
            "[1, 'hello', 3, 4, 5, 6, 7]\n",
            "[1, 2, 3, 4, 5, 6, 7]\n"
          ],
          "name": "stdout"
        }
      ]
    },
    {
      "cell_type": "code",
      "metadata": {
        "id": "GG24w4bVB7B-"
      },
      "source": [
        "\n",
        "odd = [2, 4, 6, 8]\n",
        "\n",
        "# change the 1st item    \n",
        "odd[0] = 1            \n",
        "\n",
        "print(odd)\n",
        "\n",
        "# change 2nd to 4th items\n",
        "odd[1:4] = [3, 5, 7]  \n",
        "\n",
        "print(odd)                   "
      ],
      "execution_count": null,
      "outputs": []
    },
    {
      "cell_type": "code",
      "metadata": {
        "id": "isMZA3-KB7CB",
        "outputId": "31ffb8c4-b31c-41d4-8627-c07d9d38607a",
        "colab": {
          "base_uri": "https://localhost:8080/",
          "height": 52
        }
      },
      "source": [
        "# We can add one item to a list using append() method or add several items using extend() method.\n",
        "\n",
        "list3 = [1,2]\n",
        "list3.append(3)\n",
        "print(list3)\n",
        "list3.extend([4,5,6])\n",
        "print(list3)"
      ],
      "execution_count": null,
      "outputs": [
        {
          "output_type": "stream",
          "text": [
            "[1, 2, 3]\n",
            "[1, 2, 3, 4, 5, 6]\n"
          ],
          "name": "stdout"
        }
      ]
    },
    {
      "cell_type": "code",
      "metadata": {
        "id": "ShOukGVjB7CC",
        "outputId": "2d989fbd-96dc-410f-b61e-1654090e7bd7",
        "colab": {
          "base_uri": "https://localhost:8080/",
          "height": 52
        }
      },
      "source": [
        "# We can also use + operator to combine two lists. This is also called concatenation.\n",
        "# The * operator repeats a list for the given number of times.\n",
        "\n",
        "list4 = [7,8,9,10]\n",
        "list4 = list3 + list4\n",
        "print(list4)\n",
        "list3 = list3 * 2\n",
        "print(list3)"
      ],
      "execution_count": null,
      "outputs": [
        {
          "output_type": "stream",
          "text": [
            "[1, 2, 3, 4, 5, 6, 7, 8, 9, 10]\n",
            "[1, 2, 3, 4, 5, 6, 1, 2, 3, 4, 5, 6]\n"
          ],
          "name": "stdout"
        }
      ]
    },
    {
      "cell_type": "code",
      "metadata": {
        "id": "f1FTCLykB7CE",
        "outputId": "4649d04f-7d7f-4cb8-80b0-70a06ce7cbb5",
        "colab": {
          "base_uri": "https://localhost:8080/",
          "height": 52
        }
      },
      "source": [
        "# Furthermore, we can insert one item at a desired location by using the method insert() or insert multiple\n",
        "# items by squeezing it into an empty slice of a list.\n",
        "\n",
        "odd = [1, 9]\n",
        "odd.insert(1,3)\n",
        "\n",
        "print(odd)\n",
        "\n",
        "#empty slicing of list\n",
        "\n",
        "odd[1:1] = [5, 7]\n",
        "\n",
        "print(odd)"
      ],
      "execution_count": null,
      "outputs": [
        {
          "output_type": "stream",
          "text": [
            "[1, 3, 9]\n",
            "[1, 5, 7, 3, 9]\n"
          ],
          "name": "stdout"
        }
      ]
    },
    {
      "cell_type": "code",
      "metadata": {
        "id": "LHTaylabB7CG"
      },
      "source": [
        "# DELETING ITEMS OF A LIST using del method\n",
        "\n",
        "my_list = ['p', 'r', 'o', 'b', 'l', 'e', 'm']\n",
        "\n",
        "# delete one item\n",
        "del my_list[2]\n",
        "\n",
        "print(my_list)\n",
        "\n",
        "# delete multiple items\n",
        "del my_list[1:5]\n",
        "\n",
        "print(my_list)\n",
        "\n",
        "# delete entire list\n",
        "del my_list\n",
        "\n",
        "# Error: List not defined\n",
        "print(my_list)"
      ],
      "execution_count": null,
      "outputs": []
    },
    {
      "cell_type": "code",
      "metadata": {
        "id": "OD1NuL_6B7CH",
        "outputId": "7549f5d0-8dd0-4910-f2f3-a593886b5a0a",
        "colab": {
          "base_uri": "https://localhost:8080/",
          "height": 121
        }
      },
      "source": [
        "# We can use remove() method to remove the given item or pop() method to remove an item at the given index.\n",
        "\n",
        "# The pop() method removes and returns the last item if index is not provided. This helps us implement lists as\n",
        "# stacks (first in, last out data structure).\n",
        "\n",
        "# We can also use the clear() method to empty a list.\n",
        "\n",
        "my_list = ['p','r','o','b','l','e','m']\n",
        "my_list.remove('p')\n",
        "\n",
        "# Output: ['r', 'o', 'b', 'l', 'e', 'm']\n",
        "print(my_list)\n",
        "\n",
        "# Output: 'o'\n",
        "print(my_list.pop(1))\n",
        "\n",
        "# Output: ['r', 'b', 'l', 'e', 'm']\n",
        "print(my_list)\n",
        "\n",
        "# Output: 'm'\n",
        "print(my_list.pop())\n",
        "\n",
        "# Output: ['r', 'b', 'l', 'e']\n",
        "print(my_list)\n",
        "\n",
        "my_list.clear()\n",
        "\n",
        "# Output: []\n",
        "print(my_list)\n"
      ],
      "execution_count": null,
      "outputs": [
        {
          "output_type": "stream",
          "text": [
            "['r', 'o', 'b', 'l', 'e', 'm']\n",
            "o\n",
            "['r', 'b', 'l', 'e', 'm']\n",
            "m\n",
            "['r', 'b', 'l', 'e']\n",
            "[]\n"
          ],
          "name": "stdout"
        }
      ]
    },
    {
      "cell_type": "code",
      "metadata": {
        "id": "bz5mQdhyB7CJ"
      },
      "source": [
        "# Finally, we can also delete items in a list by assigning an empty list to a slice of elements.\n",
        "\n",
        "my_list = ['p','r','o','b','l','e','m']\n",
        "my_list[2:3] = []\n",
        "print(my_list)\n",
        "my_list[2:5] = []\n",
        "print(my_list)\n"
      ],
      "execution_count": null,
      "outputs": []
    },
    {
      "cell_type": "code",
      "metadata": {
        "id": "N5GpVgoXB7CK",
        "outputId": "f06b20b1-4f01-48b4-f977-b773f4a36994",
        "colab": {
          "base_uri": "https://localhost:8080/",
          "height": 52
        }
      },
      "source": [
        "# sorting lists using sort() method\n",
        "\n",
        "lol = ['hey','agave','bomb','display']\n",
        "lol.sort()\n",
        "print(lol)\n",
        "lol.sort(reverse = True)\n",
        "print(lol)\n",
        "\n",
        "# however we cannot sort lists with heterogeneous data type elements"
      ],
      "execution_count": null,
      "outputs": [
        {
          "output_type": "stream",
          "text": [
            "['agave', 'bomb', 'display', 'hey']\n",
            "['hey', 'display', 'bomb', 'agave']\n"
          ],
          "name": "stdout"
        }
      ]
    },
    {
      "cell_type": "code",
      "metadata": {
        "id": "GLyJkeB8B7CM"
      },
      "source": [
        "# membership operators on list\n",
        "\n",
        "l6 = [1,2,3,4,5,6,7]\n",
        "a = 7\n",
        "b = 'hi'\n",
        "print(a in l6)\n",
        "print(b in l6)\n",
        "\n",
        "l7 = [1,2,3,4,5,6,7]\n",
        "\n",
        "print(l6 is l7)\n",
        "print(l6 == l7)\n"
      ],
      "execution_count": null,
      "outputs": []
    },
    {
      "cell_type": "code",
      "metadata": {
        "id": "D7uZ7AHnB7CN"
      },
      "source": [
        "# range function and list\n",
        "\n",
        "a = range(4)\n",
        "\n",
        "print(type(a))\n",
        "print(a)\n",
        "\n",
        "print()\n",
        "print(list(a))\n",
        "\n",
        "print()\n",
        "for i in a:\n",
        "    print(i)\n",
        "    \n"
      ],
      "execution_count": null,
      "outputs": []
    },
    {
      "cell_type": "code",
      "metadata": {
        "id": "wc5jF9qrB7CP",
        "outputId": "5077c315-8140-4948-c06e-14ff1697ccd1",
        "colab": {
          "base_uri": "https://localhost:8080/",
          "height": 104
        }
      },
      "source": [
        "# one common technique in python is to use range and len(list) together. for ex\n",
        "\n",
        "supplies = ['pens','folders','bag','stapler','pins']\n",
        "\n",
        "for i in range(len(supplies)):\n",
        "    print(str(i) + \":\" + str(supplies[i])) "
      ],
      "execution_count": null,
      "outputs": [
        {
          "output_type": "stream",
          "text": [
            "0:pens\n",
            "1:folders\n",
            "2:bag\n",
            "3:stapler\n",
            "4:pins\n"
          ],
          "name": "stdout"
        }
      ]
    },
    {
      "cell_type": "markdown",
      "metadata": {
        "id": "X9q1yoKBB7CS"
      },
      "source": [
        "### List Comprehensions"
      ]
    },
    {
      "cell_type": "code",
      "metadata": {
        "id": "dqtHkyBOB7CS"
      },
      "source": [
        "# List comprehensions provide a concise way to create lists. Common applications are to make new lists \n",
        "# where each element is the result of some operations applied to each member of another sequence or iterable,\n",
        "# or to create a subsequence of those elements that satisfy a certain condition.\n",
        "\n",
        "# A list comprehension consists of brackets containing an expression followed by a for clause, then zero or more \n",
        "# for or if clauses.The result will be a new list resulting from evaluating the expression in the context of the \n",
        "# for and if clauses which follow it.\n",
        "\n",
        "# for example, creating a list of squares of all numbers from 1 to 10\n",
        "\n",
        "sqr = [x**2 for x in range(11)]\n",
        "print(sqr)\n",
        "\n",
        "# alternate functional programming approach of the above\n",
        "\n",
        "squares = list(map(lambda x: x**2, range(11)))\n",
        "print(squares)"
      ],
      "execution_count": null,
      "outputs": []
    },
    {
      "cell_type": "code",
      "metadata": {
        "id": "9fOSgKHrB7CV"
      },
      "source": [
        "# A list comprehension can optionally contain more for or if statements. An optional if statement \n",
        "# can filter out items for the new list.\n",
        "\n",
        "odd = [x for x in range(20) if x % 2 == 1]\n",
        "odd"
      ],
      "execution_count": null,
      "outputs": []
    },
    {
      "cell_type": "code",
      "metadata": {
        "id": "k3SiM7NAB7CX"
      },
      "source": [
        "\n",
        "equ = [(x,y) for x in (3,6,9,12,15,18,21,24,27,30) for y in (6,12,18,24,30,36) if x==y]\n",
        "print(equ)"
      ],
      "execution_count": null,
      "outputs": []
    },
    {
      "cell_type": "code",
      "metadata": {
        "id": "hzeyi8aaB7CY"
      },
      "source": [
        "# some  important examples\n",
        "vec = [-4, -2, 0, 2, 4]\n",
        "\n",
        "# create a new list with the values doubled\n",
        "a = [x*2 for x in vec]\n",
        "print(a)\n",
        "\n",
        " # filter the list to exclude negative numbers\n",
        "b =[x for x in vec if x >= 0]\n",
        "print(b)\n",
        "\n",
        "# apply a function to all the elements\n",
        "c= [abs(x) for x in vec]\n",
        "print(c)\n",
        "\n",
        "# call a method on each element\n",
        "freshfruit = ['  banana', '  loganberry ', 'passion fruit  ']\n",
        "d =[weapon.strip() for weapon in freshfruit]\n",
        "print(d)\n",
        "\n",
        "# create a list of 2-tuples like (number, square)\n",
        "e = [(x, x**2) for x in range(6)]      #the tuple value must be paranthesized or else error will be raised\n",
        "print(e)\n",
        "\n",
        "#flatten the list using 2 for\n",
        "vec = [[1,2,3], [4,5,6], [7,8,9]]\n",
        "f = [num for ele in vec for num in ele]\n",
        "print(f)"
      ],
      "execution_count": null,
      "outputs": []
    },
    {
      "cell_type": "code",
      "metadata": {
        "id": "A969yr82B7CZ"
      },
      "source": [
        "# ************ Nested List Comprehensions *************\n",
        "\n",
        "# program to transpose a matrix\n",
        "\n",
        "matrix = [\n",
        "     [1, 2, 3, 4],\n",
        "     [5, 6, 7, 8],\n",
        "     [9, 10, 11, 12],\n",
        "]\n",
        "\n",
        "transposed = []\n",
        "for i in range(4):\n",
        "     # the following 3 lines implement the nested listcomp\n",
        "     transposed_row = []\n",
        "     for row in matrix:\n",
        "         transposed_row.append(row[i])\n",
        "     transposed.append(transposed_row)\n",
        "    \n",
        "print(transposed)\n",
        "\n",
        "# this can be shortened into the following code\n",
        "\n",
        "transposed = []\n",
        "for i in range(4):\n",
        "     transposed.append([row[i] for row in matrix])\n",
        "print(transposed)\n",
        "\n",
        "\n",
        "# which in turn can be shorten using list comprehensions\n",
        "\n",
        "transposed = [[row[i] for row in matrix] for i in range(4)]\n",
        "print(transposed)"
      ],
      "execution_count": null,
      "outputs": []
    },
    {
      "cell_type": "code",
      "metadata": {
        "id": "SlCJ-Y3CB7Cb"
      },
      "source": [],
      "execution_count": null,
      "outputs": []
    },
    {
      "cell_type": "markdown",
      "metadata": {
        "id": "ncXyP224B7Cd"
      },
      "source": [
        "# TUPLES\n"
      ]
    },
    {
      "cell_type": "code",
      "metadata": {
        "id": "GfCRYsozB7Ce"
      },
      "source": [
        "# A tuple in Python is similar to a list. The difference between the two is that we cannot change the \n",
        "# elements of a tuple once it is assigned whereas we can change the elements of a list.\n",
        "\n",
        "# Though tuples may seem similar to lists, they are often used in different situations and for different purposes.\n",
        "# Tuples are immutable, and usually contain a heterogeneous sequence of elements that are accessed via unpacking \n",
        "# (see later in this section) or indexing (or even by attribute in the case of namedtuples). Lists are mutable, \n",
        "# and their elements are usually homogeneous and are accessed by iterating over the list.\n",
        "\n",
        "# Different types of tuples\n",
        "\n",
        "# Empty tuple\n",
        "my_tuple = ()\n",
        "print(my_tuple)\n",
        "\n",
        "# Tuple having integers\n",
        "my_tuple = (1, 2, 3)\n",
        "print(my_tuple)\n",
        "\n",
        "# tuple with mixed datatypes\n",
        "my_tuple = (1, \"Hello\", 3.4)\n",
        "print(my_tuple)\n",
        "\n",
        "# nested tuple\n",
        "my_tuple = (\"mouse\", [8, 4, 6], (1, 2, 3))\n",
        "print(my_tuple)"
      ],
      "execution_count": null,
      "outputs": []
    },
    {
      "cell_type": "code",
      "metadata": {
        "id": "imxMD_LBB7Cg"
      },
      "source": [
        "# A tuple can also be created without using parentheses. This is known as tuple packing.\n",
        "\n",
        "my_tuple = 3, 4.6, \"dog\"\n",
        "print(my_tuple)\n",
        "\n",
        "# tuple unpacking is also possible\n",
        "\n",
        "a, b, c = my_tuple\n",
        "\n",
        "print(a)      # 3\n",
        "print(b)      # 4.6\n",
        "print(c)      # dog"
      ],
      "execution_count": null,
      "outputs": []
    },
    {
      "cell_type": "code",
      "metadata": {
        "id": "4vmOLvPaB7Cj"
      },
      "source": [
        "# Creating a tuple with one element is a bit tricky.\n",
        "\n",
        "# Having one element within parentheses is not enough. We will need a trailing comma to indicate that it is, \n",
        "# in fact, a tuple.\n",
        "\n",
        "my_tuple = (\"hello\")\n",
        "print(type(my_tuple))  # <class 'str'>\n",
        "\n",
        "# Creating a tuple having one element\n",
        "my_tuple = (\"hello\",)\n",
        "print(type(my_tuple))  # <class 'tuple'>\n",
        "\n",
        "# Parentheses is optional\n",
        "my_tuple = \"hello\",\n",
        "print(type(my_tuple))  # <class 'tuple'>"
      ],
      "execution_count": null,
      "outputs": []
    },
    {
      "cell_type": "code",
      "metadata": {
        "id": "77VXFc9EB7Cl"
      },
      "source": [
        "# INDEXING AND SLICING in TUPLES is same as that in LISTS"
      ],
      "execution_count": null,
      "outputs": []
    },
    {
      "cell_type": "code",
      "metadata": {
        "id": "cr2a0MamB7Cp"
      },
      "source": [
        "# tuples are immutable so they cannot be changed however\n",
        "# 1. they can be reassigned\n",
        "# 2. mutable objects in tuples can be changed\n",
        "\n",
        "\n",
        "my_tuple = (4, 2, 3, [6, 5])\n",
        "# TypeError: 'tuple' object does not support item assignment\n",
        "# my_tuple[1] = 9\n",
        "\n",
        "# However, item of mutable element can be changed\n",
        "my_tuple[3][0] = 9    \n",
        "print(my_tuple)\n",
        "\n",
        "# Tuples can be reassigned\n",
        "my_tuple = ('p', 'r', 'o', 'g', 'r', 'a', 'm', 'i', 'z')\n",
        "print(my_tuple)"
      ],
      "execution_count": null,
      "outputs": []
    },
    {
      "cell_type": "code",
      "metadata": {
        "id": "21-shOuPB7Cs"
      },
      "source": [
        "# We can use + operator to combine two tuples. This is called concatenation.\n",
        "# We can also repeat the elements in a tuple for a given number of times using the * operator.\n",
        "# Both + and * operations result in a new tuple.\n",
        "\n",
        "# Concatenation\n",
        "print((1, 2, 3) + (4, 5, 6))\n",
        "\n",
        "# Repeat\n",
        "print((\"Repeat\",) * 3)"
      ],
      "execution_count": null,
      "outputs": []
    },
    {
      "cell_type": "code",
      "metadata": {
        "id": "FsaJXL2FB7Ct"
      },
      "source": [
        "# deleting a tuple using del keyword\n",
        "\n",
        "# Deleting tuples\n",
        "my_tuple = ('p', 'r', 'o', 'g', 'r', 'a', 'm', 'i', 'z')\n",
        "\n",
        "# can't delete items\n",
        "# TypeError: 'tuple' object doesn't support item deletion\n",
        "# del my_tuple[3]\n",
        "\n",
        "# Can delete an entire tuple\n",
        "del my_tuple\n",
        "\n",
        "# NameError: name 'my_tuple' is not defined\n",
        "print(my_tuple)"
      ],
      "execution_count": null,
      "outputs": []
    },
    {
      "cell_type": "code",
      "metadata": {
        "id": "VaLj1bZZB7Cv"
      },
      "source": [
        "# Tuple Methods\n",
        "\n",
        "# Methods that add items or remove items are not available with tuple. Only the following two methods \n",
        "# are available.\n",
        "\n",
        "# Some examples of Python tuple methods:\n",
        "\n",
        "my_tuple = ('a', 'p', 'p', 'l', 'e',)\n",
        "\n",
        "print(my_tuple.count('p')) \n",
        "print(my_tuple.index('l'))  "
      ],
      "execution_count": null,
      "outputs": []
    },
    {
      "cell_type": "code",
      "metadata": {
        "id": "3FgWQyIFB7Cw"
      },
      "source": [
        "# membership operator on tuple\n",
        "\n",
        "names = ('john','shaun','derek')\n",
        "'john' in names"
      ],
      "execution_count": null,
      "outputs": []
    },
    {
      "cell_type": "code",
      "metadata": {
        "id": "9aB_ooTbB7Cy"
      },
      "source": [
        "# iterating through tuples\n",
        "\n",
        "for i in names:\n",
        "    print(i)"
      ],
      "execution_count": null,
      "outputs": []
    },
    {
      "cell_type": "markdown",
      "metadata": {
        "id": "sNUp1lpUB7C0"
      },
      "source": [
        "### Advantages of Tuple over List"
      ]
    },
    {
      "cell_type": "code",
      "metadata": {
        "id": "SwKphY8oB7C0"
      },
      "source": [
        "# Since tuples are quite similar to lists, both of them are used in similar situations. \n",
        "#However, there are certain advantages of implementing a tuple over a list. Below listed are some of \n",
        "#the main advantages:\n",
        "\n",
        "# 1. We generally use tuples for heterogeneous (different) data types and lists for homogeneous (similar) data\n",
        "#    types.\n",
        "# 2. Since tuples are immutable, iterating through a tuple is faster than with list. So there is a slight \n",
        "#    performance boost.\n",
        "# 3. Tuples that contain immutable elements can be used as a key for a dictionary. With lists, this is not \n",
        "#    possible.\n",
        "# 4. If you have data that doesn't change, implementing it as tuple will guarantee that it remains write-protected.\n"
      ],
      "execution_count": null,
      "outputs": []
    },
    {
      "cell_type": "code",
      "metadata": {
        "id": "bGgpbKsLB7C1"
      },
      "source": [],
      "execution_count": null,
      "outputs": []
    },
    {
      "cell_type": "markdown",
      "metadata": {
        "id": "BJWapFuOB7C4"
      },
      "source": [
        "# SETS"
      ]
    },
    {
      "cell_type": "code",
      "metadata": {
        "id": "qDLdgux_B7C4"
      },
      "source": [
        "# Python also includes a data type for sets. A set is an unordered collection with no duplicate elements.\n",
        "# Basic uses include membership testing and eliminating duplicate entries. Set objects also support mathematical\n",
        "# operations like union, intersection, difference, and symmetric difference.\n",
        "\n",
        "# Every set element is unique (no duplicates) and must be immutable (cannot be changed).\n",
        "# However, a set itself is mutable. We can add or remove items from it. \n",
        "# A set cannot have mutable elements like lists, sets or dictionaries as its elements.\n",
        "\n",
        "# Curly braces or the set() function can be used to create sets. \n",
        "# Note: to create an empty set you have to use set(), not {}; the latter creates an empty dictionary."
      ],
      "execution_count": null,
      "outputs": []
    },
    {
      "cell_type": "code",
      "metadata": {
        "id": "3vQt0qK2B7C6"
      },
      "source": [
        "# Creating sets\n",
        "\n",
        "my_set = {1, 2, 3}\n",
        "print(my_set)\n",
        "\n",
        "# set of mixed datatypes\n",
        "my_set = {1.0, \"Hello\", (1, 2, 3)}\n",
        "print(my_set)"
      ],
      "execution_count": null,
      "outputs": []
    },
    {
      "cell_type": "code",
      "metadata": {
        "id": "iM4zmsT-B7C8"
      },
      "source": [
        "# set cannot have duplicates\n",
        "my_set = {1, 2, 3, 4, 3, 2}\n",
        "print(my_set)\n",
        "\n",
        "# we can make set from a list\n",
        "my_set = set([1, 2, 3, 2])\n",
        "print(my_set)"
      ],
      "execution_count": null,
      "outputs": []
    },
    {
      "cell_type": "code",
      "metadata": {
        "id": "Bib2yhcOB7C9"
      },
      "source": [
        "# ******** Modifying a set in Python ***********\n",
        "\n",
        "# Sets are mutable. However, since they are unordered, indexing has no meaning.\n",
        "# We cannot access or change an element of a set using indexing or slicing. Set data type does not support it.\n",
        "# We can add a single element using the add() method, and multiple elements using the update() method. \n",
        "# The update() method can take tuples, lists, strings or other sets as its argument. In all cases, duplicates \n",
        "# are avoided.\n",
        "\n",
        "# initialize my_set\n",
        "my_set = {1, 3}\n",
        "print(my_set)\n",
        "\n",
        "# add an element\n",
        "my_set.add(2)\n",
        "print(my_set)\n",
        "\n",
        "# add multiple elements\n",
        "my_set.update([2, 3, 4])\n",
        "print(my_set)\n",
        "\n",
        "# add list and set\n",
        "my_set.update([4, 5], {1, 6, 8})\n",
        "print(my_set)\n"
      ],
      "execution_count": null,
      "outputs": []
    },
    {
      "cell_type": "code",
      "metadata": {
        "id": "_CzWaWUJB7C_"
      },
      "source": [
        "# ************** Removing elements from a set **************\n",
        "\n",
        "# A particular item can be removed from a set using the methods discard() and remove().\n",
        "\n",
        "# The only difference between the two is that the discard() function leaves a set unchanged if the element\n",
        "# is not present in the set. On the other hand, the remove() function will raise an error in such a condition \n",
        "# (if element is not present in the set).\n",
        "\n",
        "\n",
        "# initialize my_set\n",
        "my_set = {1, 3, 4, 5, 6}\n",
        "print(my_set)\n",
        "\n",
        "# discard an element\n",
        "my_set.discard(4)\n",
        "print(my_set)\n",
        "\n",
        "# remove an element\n",
        "my_set.remove(6)\n",
        "print(my_set)\n",
        "\n",
        "# discard an element\n",
        "my_set.discard(2)\n",
        "print(my_set)\n",
        "\n",
        "# remove an element\n",
        "# not present in my_set\n",
        "my_set.remove(2)"
      ],
      "execution_count": null,
      "outputs": []
    },
    {
      "cell_type": "code",
      "metadata": {
        "id": "SJFT6P7hB7DB"
      },
      "source": [
        "# Similarly, we can remove and return an item using the pop() method.\n",
        "# Since set is an unordered data type, there is no way of determining which item will be popped. \n",
        "# It is completely arbitrary.\n",
        "# We can also remove all the items from a set using the clear() method.\n",
        "\n",
        "my_set = set(\"HelloWorld\")\n",
        "print(my_set)\n",
        "\n",
        "# pop an element\n",
        "print(my_set.pop())\n",
        "\n",
        "# pop another element\n",
        "my_set.pop()\n",
        "print(my_set)\n",
        "\n",
        "# clear my_set\n",
        "my_set.clear()\n",
        "\n",
        "print(my_set)"
      ],
      "execution_count": null,
      "outputs": []
    },
    {
      "cell_type": "markdown",
      "metadata": {
        "id": "HNTvD1IUB7DD"
      },
      "source": [
        "### Python Set Operations"
      ]
    },
    {
      "cell_type": "code",
      "metadata": {
        "id": "W2kXzS_lB7DE"
      },
      "source": [
        "A = {1, 2, 3, 4, 5}\n",
        "B = {4, 5, 6, 7, 8}\n",
        "\n",
        "# 1. Union is performed using | operator. Same can be accomplished using the union() method.\n",
        "\n",
        "print(A|B)\n",
        "\n",
        "# 2.Intersection is performed using & operator. Same can be accomplished using the intersection() method.\n",
        "\n",
        "print(A&B)\n",
        "\n",
        "# 3.Difference is performed using - operator. Same can be accomplished using the difference() method.\n",
        "\n",
        "print(A-B)\n",
        "print(B-A)\n",
        "\n",
        "# 4.Symmetric difference is performed using ^ operator. Same can be accomplished using the method \n",
        "#   symmetric_difference().\n",
        "# Symmetric Difference of A and B is a set of elements in A and B but not in both (excluding the intersection).\n",
        "print(A^B)"
      ],
      "execution_count": null,
      "outputs": []
    },
    {
      "cell_type": "code",
      "metadata": {
        "id": "u8PzEdFaB7DG"
      },
      "source": [
        "#  URL to see other set methods :  https://www.programiz.com/python-programming/set"
      ],
      "execution_count": null,
      "outputs": []
    },
    {
      "cell_type": "code",
      "metadata": {
        "id": "B1BEphIIB7DH"
      },
      "source": [
        "# Set Membership Test\n",
        "\n",
        "# We can test if an item exists in a set or not, using the in keyword.\n",
        "\n",
        "# in keyword in a set\n",
        "# initialize my_set\n",
        "my_set = set(\"apple\")\n",
        "\n",
        "print('a' in my_set)\n",
        "\n",
        "print('p' not in my_set)"
      ],
      "execution_count": null,
      "outputs": []
    },
    {
      "cell_type": "code",
      "metadata": {
        "id": "mxBmN0YDB7DJ"
      },
      "source": [
        "# we can iterate through sets using for loop"
      ],
      "execution_count": null,
      "outputs": []
    },
    {
      "cell_type": "code",
      "metadata": {
        "id": "TkKb0M8NB7DL"
      },
      "source": [
        "# ********* Built-in Functions with Set **********\n",
        "\n",
        "# Built-in functions like all(), any(), enumerate(), len(), max(), min(), sorted(), sum() etc. are commonly \n",
        "# used with sets to perform different tasks.\n",
        "\n",
        "# all()\n",
        "# Returns True if all elements of the set are true (or if the set is empty).\n",
        "\n",
        "# any()\n",
        "# Returns True if any element of the set is true. If the set is empty, returns False.\n",
        "\n",
        "# enumerate()\n",
        "# Returns an enumerate object. It contains the index and value for all the items of the set as a pair.\n",
        "\n",
        "# len()\n",
        "# Returns the length (the number of items) in the set.\n",
        "\n",
        "# max()\n",
        "# Returns the largest item in the set.\n",
        "\n",
        "# min()\n",
        "# Returns the smallest item in the set.\n",
        "\n",
        "# sorted()\n",
        "# Returns a new sorted list from elements in the set(does not sort the set itself).\n",
        "\n",
        "# sum()\n",
        "# Returns the sum of all elements in the set."
      ],
      "execution_count": null,
      "outputs": []
    },
    {
      "cell_type": "markdown",
      "metadata": {
        "id": "B8TGuygEB7DN"
      },
      "source": [
        "### Python Frozenset"
      ]
    },
    {
      "cell_type": "code",
      "metadata": {
        "id": "ys9RAl5_B7DN"
      },
      "source": [
        "# Frozenset is a new class that has the characteristics of a set, but its elements cannot be changed once assigned.\n",
        "# While tuples are immutable lists, frozensets are immutable sets.\n",
        "\n",
        "# Sets being mutable are unhashable, so they can't be used as dictionary keys. On the other hand, frozensets are \n",
        "# hashable and can be used as keys to a dictionary.\n",
        "\n",
        "# Frozensets can be created using the frozenset() function.\n",
        "\n",
        "# This data type supports methods like copy(), difference(), intersection(), isdisjoint(), issubset(), \n",
        "# issuperset(), symmetric_difference() and union(). Being immutable, it does not have methods that add or\n",
        "# remove elements."
      ],
      "execution_count": null,
      "outputs": []
    },
    {
      "cell_type": "code",
      "metadata": {
        "id": "_G39aHh7B7DO"
      },
      "source": [
        "A = frozenset([1, 2, 3, 4])\n",
        "B = frozenset([3, 4, 5, 6])"
      ],
      "execution_count": null,
      "outputs": []
    },
    {
      "cell_type": "code",
      "metadata": {
        "id": "iDMTqYvTB7DQ"
      },
      "source": [
        "print(A.isdisjoint(B))\n",
        "\n",
        "print(A.difference(B))\n",
        "\n",
        "print(A|B)\n",
        "\n",
        "print(A.add(3))"
      ],
      "execution_count": null,
      "outputs": []
    },
    {
      "cell_type": "markdown",
      "metadata": {
        "id": "7Z_oaE9SB7DS"
      },
      "source": [
        "### sets comprehension"
      ]
    },
    {
      "cell_type": "code",
      "metadata": {
        "id": "O7_S75peB7DS"
      },
      "source": [
        "# similar to list comprehension, we can even do set comprehension\n",
        "\n",
        "a = {x for x in 'abracadabra' if x not in 'abc'}\n",
        "print(a)\n"
      ],
      "execution_count": null,
      "outputs": []
    },
    {
      "cell_type": "code",
      "metadata": {
        "id": "NW76SR9VB7DU"
      },
      "source": [],
      "execution_count": null,
      "outputs": []
    },
    {
      "cell_type": "markdown",
      "metadata": {
        "id": "vWG6HyXSB7DW"
      },
      "source": [
        "# DICTIONARY"
      ]
    },
    {
      "cell_type": "code",
      "metadata": {
        "id": "sjkQLiX3B7DW"
      },
      "source": [
        "# Python dictionary is an unordered collection of items. While other compound data types have only value as an\n",
        "# element, a dictionary has a key and a value pair.\n",
        "\n",
        "# Dictionaries are optimized to retrieve values when the key is known.\n",
        "\n",
        "# Unlike sequences, which are indexed by a range of numbers, dictionaries are indexed by keys, which can \n",
        "# be any immutable type; strings and numbers can always be keys. Tuples can be used as keys if they contain \n",
        "# only strings, numbers, or tuples; if a tuple contains any mutable object either directly or indirectly, it \n",
        "# cannot be used as a key. \n",
        "\n",
        "# You can’t use lists as keys, since lists can be modified in place using index  assignments,slice assignments, \n",
        "# or methods like append() and extend().\n",
        "\n",
        "# It is best to think of a dictionary as a set of key: value pairs, with the requirement that the keys are unique \n",
        "# (within one dictionary). \n",
        "\n",
        "# A pair of braces creates an empty dictionary: {}. Placing a comma-separated list of key:value pairs within \n",
        "# the braces adds initial key:value pairs to the dictionary; this is also the way dictionaries are written on output."
      ],
      "execution_count": null,
      "outputs": []
    },
    {
      "cell_type": "code",
      "metadata": {
        "id": "4ciXnKq1B7DY",
        "outputId": "0c17978c-124c-4b47-b151-4d115724a5ac"
      },
      "source": [
        "# empty dictionary\n",
        "my_dict = {}\n",
        "\n",
        "# dictionary with integer keys\n",
        "my_dict = {1: 'apple', 2: 'ball'}\n",
        "\n",
        "# dictionary with mixed keys\n",
        "my_dict = {'name': 'John', 1: [2, 4, 3]}\n",
        "\n",
        "# using dict()\n",
        "my_dict = dict({1:'apple', 2:'ball'})\n",
        "\n",
        "# from sequence having each item as a pair\n",
        "my_dict = dict([(1,'apple'), (2,'ball')])"
      ],
      "execution_count": null,
      "outputs": [
        {
          "output_type": "error",
          "ename": "TypeError",
          "evalue": "'dict' object is not callable",
          "traceback": [
            "\u001b[0;31m---------------------------------------------------------------------------\u001b[0m",
            "\u001b[0;31mTypeError\u001b[0m                                 Traceback (most recent call last)",
            "\u001b[0;32m<ipython-input-198-515a32c7673a>\u001b[0m in \u001b[0;36m<module>\u001b[0;34m\u001b[0m\n\u001b[1;32m      9\u001b[0m \u001b[0;34m\u001b[0m\u001b[0m\n\u001b[1;32m     10\u001b[0m \u001b[0;31m# using dict()\u001b[0m\u001b[0;34m\u001b[0m\u001b[0;34m\u001b[0m\u001b[0;34m\u001b[0m\u001b[0m\n\u001b[0;32m---> 11\u001b[0;31m \u001b[0mmy_dict\u001b[0m \u001b[0;34m=\u001b[0m \u001b[0mdict\u001b[0m\u001b[0;34m(\u001b[0m\u001b[0;34m{\u001b[0m\u001b[0;36m1\u001b[0m\u001b[0;34m:\u001b[0m\u001b[0;34m'apple'\u001b[0m\u001b[0;34m,\u001b[0m \u001b[0;36m2\u001b[0m\u001b[0;34m:\u001b[0m\u001b[0;34m'ball'\u001b[0m\u001b[0;34m}\u001b[0m\u001b[0;34m)\u001b[0m\u001b[0;34m\u001b[0m\u001b[0;34m\u001b[0m\u001b[0m\n\u001b[0m\u001b[1;32m     12\u001b[0m \u001b[0;34m\u001b[0m\u001b[0m\n\u001b[1;32m     13\u001b[0m \u001b[0;31m# from sequence having each item as a pair\u001b[0m\u001b[0;34m\u001b[0m\u001b[0;34m\u001b[0m\u001b[0;34m\u001b[0m\u001b[0m\n",
            "\u001b[0;31mTypeError\u001b[0m: 'dict' object is not callable"
          ]
        }
      ]
    },
    {
      "cell_type": "code",
      "metadata": {
        "id": "1N4jCBQtB7Dd"
      },
      "source": [],
      "execution_count": null,
      "outputs": []
    },
    {
      "cell_type": "code",
      "metadata": {
        "id": "Cd4_XklJB7De",
        "outputId": "24b283aa-0d47-40de-8f6a-ac8cb845ef57",
        "colab": {
          "base_uri": "https://localhost:8080/",
          "height": 34
        }
      },
      "source": [
        "# matching is done using key, value pairs\n",
        "\n",
        "my_dict = {'name': 'John', 1: [2, 4, 3], 'surname': \"denver\"}\n",
        "my_dict2 = {'surname':'denver', 1: [2, 4, 3],'name': 'John'}\n",
        "\n",
        "my_dict == my_dict2"
      ],
      "execution_count": null,
      "outputs": [
        {
          "output_type": "execute_result",
          "data": {
            "text/plain": [
              "True"
            ]
          },
          "metadata": {
            "tags": []
          },
          "execution_count": 43
        }
      ]
    },
    {
      "cell_type": "code",
      "metadata": {
        "id": "0RkQEidbB7Dg",
        "outputId": "3e669a84-46e2-4cc5-a9f1-01010e2c5737"
      },
      "source": [
        "# ******* Changing and Adding Dictionary elements ***********\n",
        "\n",
        "# Dictionaries are mutable. We can add new items or change the value of existing items using an\n",
        "# assignment operator.\n",
        "\n",
        "# If the key is already present, then the existing value gets updated. In case the key is not present, \n",
        "# a new (key: value) pair is added to the dictionary.\n",
        "\n",
        "my_dict = {'name': 'Jack', 'age': 26}\n",
        "\n",
        "# update value\n",
        "my_dict['age'] = 27\n",
        "\n",
        "print(my_dict)\n",
        "\n",
        "# add item\n",
        "my_dict['address'] = 'Downtown'\n",
        "\n",
        "print(my_dict)"
      ],
      "execution_count": null,
      "outputs": [
        {
          "output_type": "stream",
          "text": [
            "{'name': 'Jack', 'age': 27}\n",
            "{'name': 'Jack', 'age': 27, 'address': 'Downtown'}\n"
          ],
          "name": "stdout"
        }
      ]
    },
    {
      "cell_type": "code",
      "metadata": {
        "id": "WPUk4INhB7Di",
        "outputId": "5aaf3a84-afd8-437c-8cac-c3ce751b9c9d",
        "colab": {
          "base_uri": "https://localhost:8080/",
          "height": 289
        }
      },
      "source": [
        "# ********* Removing elements from Dictionary ************\n",
        "\n",
        "# 1. We can remove a particular item in a dictionary by using the pop() method. \n",
        "#    This method removes an item with the provided key and returns the value.\n",
        "\n",
        "# 2. The popitem() method can be used to remove and return an arbitrary (key, value) item pair from the dictionary.\n",
        "\n",
        "# 3. All the items can be removed at once, using the clear() method.\n",
        "\n",
        "# 4. We can also use the del keyword to remove individual items or the entire dictionary itself.\n",
        "\n",
        "\n",
        "# create a dictionary\n",
        "squares = {1: 1, 2: 4, 3: 9, 4: 16, 5: 25}\n",
        "\n",
        "# remove a particular item, returns its value\n",
        "print(squares.pop(4))\n",
        "print(squares)\n",
        "\n",
        "# remove an arbitrary item, return (key,value)\n",
        "print(squares.popitem())\n",
        "print(squares)\n",
        "\n",
        "# remove all items\n",
        "squares.clear()\n",
        "print(squares)\n",
        "\n",
        "# delete the dictionary itself\n",
        "del squares\n",
        "print(squares)"
      ],
      "execution_count": null,
      "outputs": [
        {
          "output_type": "stream",
          "text": [
            "16\n",
            "{1: 1, 2: 4, 3: 9, 5: 25}\n",
            "(5, 25)\n",
            "{1: 1, 2: 4, 3: 9}\n",
            "{}\n"
          ],
          "name": "stdout"
        },
        {
          "output_type": "error",
          "ename": "NameError",
          "evalue": "ignored",
          "traceback": [
            "\u001b[0;31m---------------------------------------------------------------------------\u001b[0m",
            "\u001b[0;31mNameError\u001b[0m                                 Traceback (most recent call last)",
            "\u001b[0;32m<ipython-input-44-2abf1e7de8cb>\u001b[0m in \u001b[0;36m<module>\u001b[0;34m()\u001b[0m\n\u001b[1;32m     28\u001b[0m \u001b[0;31m# delete the dictionary itself\u001b[0m\u001b[0;34m\u001b[0m\u001b[0;34m\u001b[0m\u001b[0;34m\u001b[0m\u001b[0m\n\u001b[1;32m     29\u001b[0m \u001b[0;32mdel\u001b[0m \u001b[0msquares\u001b[0m\u001b[0;34m\u001b[0m\u001b[0;34m\u001b[0m\u001b[0m\n\u001b[0;32m---> 30\u001b[0;31m \u001b[0mprint\u001b[0m\u001b[0;34m(\u001b[0m\u001b[0msquares\u001b[0m\u001b[0;34m)\u001b[0m\u001b[0;34m\u001b[0m\u001b[0;34m\u001b[0m\u001b[0m\n\u001b[0m",
            "\u001b[0;31mNameError\u001b[0m: name 'squares' is not defined"
          ]
        }
      ]
    },
    {
      "cell_type": "markdown",
      "metadata": {
        "id": "T0i0pgrRB7Dl"
      },
      "source": [
        "### dictionary methods"
      ]
    },
    {
      "cell_type": "code",
      "metadata": {
        "id": "BoX0hB4LB7Dl",
        "outputId": "211469bd-0d87-49d3-e267-650a70847129",
        "colab": {
          "base_uri": "https://localhost:8080/",
          "height": 52
        }
      },
      "source": [
        " student = {'name':'vedant','usn':106,'college':'cmrit','branch':'ISE','sec':'B'}\n",
        "    \n",
        "# keys() method    \n",
        "print(student.keys())\n",
        "print(list(student.keys()))"
      ],
      "execution_count": null,
      "outputs": [
        {
          "output_type": "stream",
          "text": [
            "dict_keys(['name', 'usn', 'college', 'branch', 'sec'])\n",
            "['name', 'usn', 'college', 'branch', 'sec']\n"
          ],
          "name": "stdout"
        }
      ]
    },
    {
      "cell_type": "code",
      "metadata": {
        "id": "Mjs4hJmMB7D3"
      },
      "source": [],
      "execution_count": null,
      "outputs": []
    },
    {
      "cell_type": "code",
      "metadata": {
        "id": "SlgcCLTfB7D6",
        "outputId": "1a756acd-a953-4df2-956b-476ce927d12a",
        "colab": {
          "base_uri": "https://localhost:8080/",
          "height": 52
        }
      },
      "source": [
        "# values() method\n",
        "print(student.values())\n",
        "print(list(student.values()))"
      ],
      "execution_count": null,
      "outputs": [
        {
          "output_type": "stream",
          "text": [
            "dict_values(['vedant', 106, 'cmrit', 'ISE', 'B'])\n",
            "['vedant', 106, 'cmrit', 'ISE', 'B']\n"
          ],
          "name": "stdout"
        }
      ]
    },
    {
      "cell_type": "code",
      "metadata": {
        "id": "JBrcnjaAB7D8",
        "outputId": "49a089aa-0136-4df9-ff45-c22525801c5e",
        "colab": {
          "base_uri": "https://localhost:8080/",
          "height": 52
        }
      },
      "source": [
        "# items() method\n",
        "print(student.items())\n",
        "print(list(student.items()))"
      ],
      "execution_count": null,
      "outputs": [
        {
          "output_type": "stream",
          "text": [
            "dict_items([('name', 'vedant'), ('usn', 106), ('college', 'cmrit'), ('branch', 'ISE'), ('sec', 'B')])\n",
            "[('name', 'vedant'), ('usn', 106), ('college', 'cmrit'), ('branch', 'ISE'), ('sec', 'B')]\n"
          ],
          "name": "stdout"
        }
      ]
    },
    {
      "cell_type": "code",
      "metadata": {
        "id": "iwNFm5dgB7D-",
        "outputId": "69d702de-e142-496b-f6cf-3649cb13d2bd",
        "colab": {
          "base_uri": "https://localhost:8080/",
          "height": 69
        }
      },
      "source": [
        "# get(key,value) method\n",
        "\n",
        "# key - key for which value to be returned\n",
        "# value - if no value for key or key not present, return this value. It is an optional value. None will be returned if not specified.\n",
        "# adv of this method over dict[key] method is that it does not produce an error if key not present.\n",
        "print(student.get('usn',-1))\n",
        "print(student.get('addr',-1))\n",
        "print(student.get('addr'))\n"
      ],
      "execution_count": null,
      "outputs": [
        {
          "output_type": "stream",
          "text": [
            "106\n",
            "-1\n",
            "None\n"
          ],
          "name": "stdout"
        }
      ]
    },
    {
      "cell_type": "code",
      "metadata": {
        "id": "5PJ-iO-7B7D_",
        "outputId": "9aee354e-b510-4149-8d79-24091c6c5feb"
      },
      "source": [
        "# setdefault(key,value) method \n",
        "\n",
        "# sets a value of a key if the key is not present in the dict\n",
        "# value - if no value for key or key not present, set this value. It is an optional value. None will be set \n",
        "#         if value not given. If key is already present and no value is passed in this func, the org value of key\n",
        "#         will not change.\n",
        "\n",
        "student.setdefault('addr','Sriram Spurthi apt')\n",
        "print(student)\n"
      ],
      "execution_count": null,
      "outputs": [
        {
          "output_type": "stream",
          "text": [
            "{'name': 'vedant', 'usn': 106, 'college': 'cmrit', 'branch': 'ISE', 'sec': 'B', 'addr': 'Sriram Spurthi apt'}\n"
          ],
          "name": "stdout"
        }
      ]
    },
    {
      "cell_type": "code",
      "metadata": {
        "id": "YKzBaYE0B7EB",
        "outputId": "eda930df-b078-4b4e-b00d-30738125baf5"
      },
      "source": [
        "# example program - to count chars in a sentence\n",
        "\n",
        "sent = 'quick brown fox jumped over the fence'\n",
        "dict = {}\n",
        "\n",
        "for i in sent:\n",
        "    dict.setdefault(i,0)\n",
        "    dict[i] = dict[i]+1\n",
        "    \n",
        "print(list(dict.items()))"
      ],
      "execution_count": null,
      "outputs": [
        {
          "output_type": "stream",
          "text": [
            "[('q', 1), ('u', 2), ('i', 1), ('c', 2), ('k', 1), (' ', 6), ('b', 1), ('r', 2), ('o', 3), ('w', 1), ('n', 2), ('f', 2), ('x', 1), ('j', 1), ('m', 1), ('p', 1), ('e', 5), ('d', 1), ('v', 1), ('t', 1), ('h', 1)]\n"
          ],
          "name": "stdout"
        }
      ]
    },
    {
      "cell_type": "code",
      "metadata": {
        "id": "hcsIBtvYB7EC",
        "outputId": "e1d4812a-f6c7-4176-df2c-493b5c85fd5a"
      },
      "source": [
        "# update(parameters) method\n",
        "\n",
        "# parameters: The update() method takes either a dictionary or an iterable object of key/value pairs \n",
        "#             (generally tuples).If update() is called without passing parameters, the dictionary remains unchanged.\n",
        "\n",
        "# It doesn't return any value (returns None). \n",
        "\n",
        "#add a key value pair\n",
        "d1 = {'category': \"gen\"}\n",
        "student.update(d1)\n",
        "print(student)\n",
        "\n",
        "# update a pair\n",
        "d1 = {'usn': \"130\"}\n",
        "student.update(d1)\n",
        "print(student)\n",
        "\n",
        "# can work with tuples also\n",
        "d = {'x': 2}\n",
        "\n",
        "d.update(y = 3, z = 0)\n",
        "print(d)"
      ],
      "execution_count": null,
      "outputs": [
        {
          "output_type": "stream",
          "text": [
            "{'name': 'vedant', 'usn': 106, 'college': 'cmrit', 'branch': 'ISE', 'sec': 'B', 'addr': 'Sriram Spurthi apt', 'category': 'gen'}\n",
            "{'name': 'vedant', 'usn': '130', 'college': 'cmrit', 'branch': 'ISE', 'sec': 'B', 'addr': 'Sriram Spurthi apt', 'category': 'gen'}\n",
            "{'x': 2, 'y': 3, 'z': 0}\n"
          ],
          "name": "stdout"
        }
      ]
    },
    {
      "cell_type": "code",
      "metadata": {
        "id": "yg0ZP783B7EE",
        "outputId": "35679308-52cc-469d-86c4-78af29b317ac",
        "colab": {
          "base_uri": "https://localhost:8080/",
          "height": 191
        }
      },
      "source": [
        "# copy() method\n",
        "\n",
        "# does a deep copy of the dictionary. It doesn't modify the original dictionary.\n",
        "\n",
        "original = {1:'one', 2:'two'}\n",
        "new = original.copy()\n",
        "\n",
        "print('Orignal: ', original)\n",
        "print('New: ', new)\n",
        "\n",
        "print(\"\\nchange will be only reflected in new dict------>\")\n",
        "new[1] = \"Three\"\n",
        "print('Orignal: ', original)\n",
        "print('New: ', new)\n",
        "\n",
        "# using = operator to copy\n",
        "print(\"\\nusing = operator--------->\")\n",
        "\n",
        "original = {1:'one', 2:'two'}\n",
        "new = original\n",
        "\n",
        "new[1] = \"Three\"\n",
        "print('Orignal: ', original)\n",
        "print('New: ', new)"
      ],
      "execution_count": null,
      "outputs": [
        {
          "output_type": "stream",
          "text": [
            "Orignal:  {1: 'one', 2: 'two'}\n",
            "New:  {1: 'one', 2: 'two'}\n",
            "\n",
            "change will be only reflected in new dict------>\n",
            "Orignal:  {1: 'one', 2: 'two'}\n",
            "New:  {1: 'Three', 2: 'two'}\n",
            "\n",
            "using = operator--------->\n",
            "Orignal:  {1: 'Three', 2: 'two'}\n",
            "New:  {1: 'Three', 2: 'two'}\n"
          ],
          "name": "stdout"
        }
      ]
    },
    {
      "cell_type": "code",
      "metadata": {
        "id": "kd1fSMulB7EG",
        "outputId": "3b7cad70-2302-4fca-e7f6-477c5a60bad1"
      },
      "source": [
        "# fromkeys() method\n",
        "\n",
        "# The fromkeys() method creates a new dictionary from the given sequence of elements with a value provided by \n",
        "# the user.\n",
        "\n",
        "# The fromkeys() method takes two parameters:\n",
        "#   1. sequence - sequence of elements which is to be used as keys for the new dictionary\n",
        "#   2. value (Optional) - value which is set to each each element of the dictionary\n",
        "\n",
        "# The fromkeys() method returns a new dictionary with the given sequence of elements as the keys of the dictionary.\n",
        "# If the value argument is set, each element of the newly created dictionary is set to the provided value.\n",
        "\n",
        "# default value is None\n",
        "keys = {'a', 'e', 'i', 'o', 'u' }\n",
        "\n",
        "vowels = dict.fromkeys(keys)\n",
        "print(vowels)\n",
        "\n",
        "# using value parameter\n",
        "keys = {'a', 'e', 'i', 'o', 'u' }\n",
        "value = 'vowel'\n",
        "\n",
        "vowels = dict.fromkeys(keys, value)\n",
        "print(vowels)\n",
        "\n",
        "# Create a dictionary from mutable object list\n",
        "keys = {'a', 'e', 'i', 'o', 'u' }\n",
        "value = [1]\n",
        "\n",
        "vowels = dict.fromkeys(keys, value)\n",
        "print(vowels)\n",
        "\n",
        "# updating the value\n",
        "value.append(2)\n",
        "print(vowels)"
      ],
      "execution_count": null,
      "outputs": [
        {
          "output_type": "stream",
          "text": [
            "{'o': None, 'i': None, 'e': None, 'u': None, 'a': None}\n",
            "{'o': 'vowel', 'i': 'vowel', 'e': 'vowel', 'u': 'vowel', 'a': 'vowel'}\n",
            "{'o': [1], 'i': [1], 'e': [1], 'u': [1], 'a': [1]}\n",
            "{'o': [1, 2], 'i': [1, 2], 'e': [1, 2], 'u': [1, 2], 'a': [1, 2]}\n"
          ],
          "name": "stdout"
        }
      ]
    },
    {
      "cell_type": "markdown",
      "metadata": {
        "id": "es0ZhxLZB7EI"
      },
      "source": [
        "###  builtin dict functions"
      ]
    },
    {
      "cell_type": "code",
      "metadata": {
        "id": "8ykdOfSUB7EJ",
        "outputId": "c0a6ebd7-1568-4eed-9c80-4f764116b996",
        "colab": {
          "base_uri": "https://localhost:8080/",
          "height": 34
        }
      },
      "source": [
        "\n",
        "#sorted() function\n",
        "# returns list of keys in sorted manner\n",
        "print(sorted(student))\n"
      ],
      "execution_count": null,
      "outputs": [
        {
          "output_type": "stream",
          "text": [
            "['branch', 'college', 'name', 'sec', 'usn']\n"
          ],
          "name": "stdout"
        }
      ]
    },
    {
      "cell_type": "code",
      "metadata": {
        "id": "YIGaKJVdo32h",
        "outputId": "feb7a67f-36ed-4de3-d7a0-9bf8f7c3e14a",
        "colab": {
          "base_uri": "https://localhost:8080/",
          "height": 34
        }
      },
      "source": [
        "# sorting according to the keys of the dictionary\n",
        "\n",
        "dict1 = {\"marks1\" : 40, 'marks0' : 100, \"marks3\" : 65}\n",
        "\n",
        "dic = sorted(dict1.items(),key=lambda z:z[1])\n",
        "print(dic)\n",
        "   "
      ],
      "execution_count": null,
      "outputs": [
        {
          "output_type": "stream",
          "text": [
            "[('marks1', 40), ('marks3', 65), ('marks0', 100)]\n"
          ],
          "name": "stdout"
        }
      ]
    },
    {
      "cell_type": "code",
      "metadata": {
        "id": "7et7ChsoB7EK",
        "outputId": "00e7a649-4cc5-4305-8a41-97a1556e5f3f"
      },
      "source": [
        "# len() function\n",
        "# returns no. of key value pairs\n",
        "print(len(student))"
      ],
      "execution_count": null,
      "outputs": [
        {
          "output_type": "stream",
          "text": [
            "7\n"
          ],
          "name": "stdout"
        }
      ]
    },
    {
      "cell_type": "code",
      "metadata": {
        "id": "w1n0Kf2vB7EM",
        "outputId": "6ac47c44-daf9-48b8-fb13-40b576831170"
      },
      "source": [
        "# all() function\n",
        "# Return True if all keys of the dictionary/iterable are True or if the dictionary is empty otherwise false.\n",
        "\n",
        "# all values true\n",
        "l = [1, 3, 4, 5]\n",
        "print(all(l))\n",
        "\n",
        "# all values false\n",
        "l = [0, False]\n",
        "print(all(l))\n",
        "\n",
        "# one false value\n",
        "l = [1, 3, 4, 0]\n",
        "print(all(l))\n",
        "\n",
        "# one true value\n",
        "l = [0, False, 5]\n",
        "print(all(l))\n",
        "\n",
        "# empty iterable\n",
        "l = []\n",
        "print(all(l))"
      ],
      "execution_count": null,
      "outputs": [
        {
          "output_type": "stream",
          "text": [
            "True\n",
            "False\n",
            "False\n",
            "False\n",
            "True\n"
          ],
          "name": "stdout"
        }
      ]
    },
    {
      "cell_type": "code",
      "metadata": {
        "id": "_TDnIOodB7EO",
        "outputId": "914c7a65-5834-4b23-b4cb-7dcb34a2a83c"
      },
      "source": [
        "# pretty print of the dictionary\n",
        "\n",
        "import pprint\n",
        "\n",
        "pprint.pprint(student)"
      ],
      "execution_count": null,
      "outputs": [
        {
          "output_type": "stream",
          "text": [
            "{'addr': 'Sriram Spurthi apt',\n",
            " 'branch': 'ISE',\n",
            " 'category': 'gen',\n",
            " 'college': 'cmrit',\n",
            " 'name': 'vedant',\n",
            " 'sec': 'B',\n",
            " 'usn': '130'}\n"
          ],
          "name": "stdout"
        }
      ]
    },
    {
      "cell_type": "code",
      "metadata": {
        "id": "yeezIeMzB7EQ"
      },
      "source": [],
      "execution_count": null,
      "outputs": []
    },
    {
      "cell_type": "markdown",
      "metadata": {
        "id": "Nu1heETHB7ES"
      },
      "source": [
        "### membership operations on dict "
      ]
    },
    {
      "cell_type": "code",
      "metadata": {
        "id": "7bhONLZaB7ET",
        "outputId": "db1ae0e0-a634-42b2-8ed7-b73af7e83787"
      },
      "source": [
        "squares = {1: 1, 3: 9, 5: 25, 7: 49, 9: 81}\n",
        "\n",
        "\n",
        "print(1 in squares)\n",
        "print(2 not in squares)\n",
        "print(49 in squares)"
      ],
      "execution_count": null,
      "outputs": [
        {
          "output_type": "stream",
          "text": [
            "True\n",
            "True\n",
            "False\n"
          ],
          "name": "stdout"
        }
      ]
    },
    {
      "cell_type": "code",
      "metadata": {
        "id": "RJXmMHorB7EV"
      },
      "source": [],
      "execution_count": null,
      "outputs": []
    },
    {
      "cell_type": "markdown",
      "metadata": {
        "id": "orMbWJ3zB7EW"
      },
      "source": [
        "### looping techniques in dict and dict comprehensions"
      ]
    },
    {
      "cell_type": "code",
      "metadata": {
        "id": "IAGM_DWuB7EX",
        "outputId": "0e643fec-e291-4d9d-c994-72198d592532"
      },
      "source": [
        "knights = {'gallahad': 'the pure', 'robin': 'the brave'}\n",
        "for k, v in knights.items():\n",
        "     print(k, v)\n"
      ],
      "execution_count": null,
      "outputs": [
        {
          "output_type": "stream",
          "text": [
            "gallahad the pure\n",
            "robin the brave\n"
          ],
          "name": "stdout"
        }
      ]
    },
    {
      "cell_type": "code",
      "metadata": {
        "id": "1j-X5TFpB7EZ",
        "outputId": "36e77344-d986-422b-a4ac-6794e59cdda7"
      },
      "source": [
        "# using sequences like dict through zip functions\n",
        "\n",
        "questions = ['name', 'quest', 'favorite color']\n",
        "answers = ['lancelot', 'the holy grail', 'blue']\n",
        "for q, a in zip(questions, answers):\n",
        "    print('What is your {0}?  It is {1}.'.format(q, a))"
      ],
      "execution_count": null,
      "outputs": [
        {
          "output_type": "stream",
          "text": [
            "What is your name?  It is lancelot.\n",
            "What is your quest?  It is the holy grail.\n",
            "What is your favorite color?  It is blue.\n"
          ],
          "name": "stdout"
        }
      ]
    },
    {
      "cell_type": "code",
      "metadata": {
        "id": "0-duK2DRB7Eb",
        "outputId": "605e0646-5407-43aa-a9cb-965888b67f7f"
      },
      "source": [
        "# Dictionary Comprehension\n",
        "\n",
        "squares = {x: x*x for x in range(6)}\n",
        "\n",
        "print(squares)\n",
        "\n",
        "# Dictionary Comprehension with if conditional\n",
        "odd_squares = {x: x*x for x in range(11) if x % 2 == 1}\n",
        "\n",
        "print(odd_squares)"
      ],
      "execution_count": null,
      "outputs": [
        {
          "output_type": "stream",
          "text": [
            "{0: 0, 1: 1, 2: 4, 3: 9, 4: 16, 5: 25}\n",
            "{1: 1, 3: 9, 5: 25, 7: 49, 9: 81}\n"
          ],
          "name": "stdout"
        }
      ]
    },
    {
      "cell_type": "code",
      "metadata": {
        "id": "6FuZ7jjGB7Ee"
      },
      "source": [],
      "execution_count": null,
      "outputs": []
    },
    {
      "cell_type": "markdown",
      "metadata": {
        "id": "EEbx6GvbB7Eh"
      },
      "source": [
        "# ERRORS AND EXCEPTION HANDLING"
      ]
    },
    {
      "cell_type": "code",
      "metadata": {
        "id": "VA2yIseKB7Ei",
        "outputId": "c9747d2a-727d-41be-ebb4-604a0bb564f1"
      },
      "source": [
        "# 2 KINDS OF ERRORS:\n",
        "#    1. syntactical errors\n",
        "#    2. runtime errors/logical errors, also called exceptions\n",
        "\n",
        "\n",
        "# For instance, they occur when we try to open a file(for reading) that does not exist (FileNotFoundError), \n",
        "# try to divide a number by zero (ZeroDivisionError), or try to import a module that does not exist (ImportError).\n",
        "\n",
        "# Whenever these types of runtime errors occur, Python creates an exception object. If not handled properly, \n",
        "# it prints a traceback to that error along with some details about why that error occurred.\n",
        "\n",
        "1/0"
      ],
      "execution_count": null,
      "outputs": [
        {
          "output_type": "error",
          "ename": "ZeroDivisionError",
          "evalue": "division by zero",
          "traceback": [
            "\u001b[0;31m---------------------------------------------------------------------------\u001b[0m",
            "\u001b[0;31mZeroDivisionError\u001b[0m                         Traceback (most recent call last)",
            "\u001b[0;32m<ipython-input-197-a123c0f2433f>\u001b[0m in \u001b[0;36m<module>\u001b[0;34m\u001b[0m\n\u001b[1;32m     10\u001b[0m \u001b[0;31m# it prints a traceback to that error along with some details about why that error occurred.\u001b[0m\u001b[0;34m\u001b[0m\u001b[0;34m\u001b[0m\u001b[0;34m\u001b[0m\u001b[0m\n\u001b[1;32m     11\u001b[0m \u001b[0;34m\u001b[0m\u001b[0m\n\u001b[0;32m---> 12\u001b[0;31m \u001b[0;36m1\u001b[0m\u001b[0;34m/\u001b[0m\u001b[0;36m0\u001b[0m\u001b[0;34m\u001b[0m\u001b[0;34m\u001b[0m\u001b[0m\n\u001b[0m",
            "\u001b[0;31mZeroDivisionError\u001b[0m: division by zero"
          ]
        }
      ]
    },
    {
      "cell_type": "code",
      "metadata": {
        "id": "tWdd7G-gB7El"
      },
      "source": [
        "# Python Built-in Exceptions\n",
        "\n",
        "# Illegal operations can raise exceptions. There are plenty of built-in exceptions in Python that are raised\n",
        "# when corresponding errors occur. We can view all the built-in exceptions using the built-in local() function as \n",
        "# follows:\n",
        "\n",
        "import pprint\n",
        "pprint.pprint(dir(locals()['__builtins__']))\n",
        "\n",
        "# locals()['__builtins__'] will return a module of built-in exceptions, functions, and attributes"
      ],
      "execution_count": null,
      "outputs": []
    },
    {
      "cell_type": "markdown",
      "metadata": {
        "id": "L3EhC0mHB7Em"
      },
      "source": [
        "### EXCEPTIONS HANDLING"
      ]
    },
    {
      "cell_type": "markdown",
      "metadata": {
        "id": "relwbI7CB7En"
      },
      "source": [
        "### try and except statements"
      ]
    },
    {
      "cell_type": "code",
      "metadata": {
        "id": "nPYFUAIZB7En"
      },
      "source": [
        "# In Python, exceptions can be handled using a try statement.\n",
        "\n",
        "# A critical operation which can raise an exception is placed inside the try clause and the code that handles \n",
        "# exceptions is written in the except clause.\n",
        "\n",
        "\n",
        "# EXAMPLE 1\n",
        "while True:\n",
        "     try:\n",
        "        x = int(input(\"Please enter a number: \"))\n",
        "        break\n",
        "     except ValueError:\n",
        "         print(\"Oops!  That was no valid number.  Try again...\")\n",
        "            \n",
        "            \n",
        "\n",
        "\n",
        "# First, the try clause (the statement(s) between the try and except keywords) is executed.\n",
        "\n",
        "# If no exception occurs, the except clause is skipped and execution of the try statement is finished.\n",
        "\n",
        "# If an exception occurs during execution of the try clause, the rest of the clause is skipped. Then if its \n",
        "# type matches the exception named after the except keyword, the except clause is executed, and then execution \n",
        "# continues after the try statement.\n",
        "\n",
        "# If an exception occurs which does not match the exception named in the except clause, it is passed on to outer\n",
        "# try statements; if no  if no handler is found, it is an unhandled exception and execution stops with a message as shown \n",
        "# above."
      ],
      "execution_count": null,
      "outputs": []
    },
    {
      "cell_type": "code",
      "metadata": {
        "id": "-e_tg5uOB7Ep"
      },
      "source": [
        "# EXAMPLE 2: CATCHING EXCEPTIONS WITHOUT MENTIONING ANY TYPE IN EXCEPT BLOCK\n",
        "\n",
        "import sys\n",
        "\n",
        "randomList = ['a', 0, 2]\n",
        "\n",
        "for entry in randomList:\n",
        "    try:\n",
        "        print(\"The entry is\", entry)\n",
        "        r = 1/int(entry)\n",
        "        break\n",
        "    except:\n",
        "        print(\"Oops!\", sys.exc_info()[0], \"occured.\")\n",
        "        print(\"Next entry.\")\n",
        "        print()\n",
        "\n",
        "print(\"The reciprocal of\", entry, \"is\", r)\n",
        "\n",
        "\n",
        "# Here, we print the name of the exception using the exc_info() function inside sys module and ask the user to \n",
        "# try again. "
      ],
      "execution_count": null,
      "outputs": []
    },
    {
      "cell_type": "code",
      "metadata": {
        "id": "PdO4NLbIB7Er"
      },
      "source": [
        "# EXAMPLE 3: \n",
        "# A try clause can have any number of except clauses to handle them differently, but only one will be executed \n",
        "# in case an exception occurs.\n",
        "# We can use a tuple of values to specify multiple exceptions in an except clause. \n",
        "\n",
        "import sys\n",
        "try:\n",
        "     str = 'hello'\n",
        "     a = 10\n",
        "     print(1/int(str)) #goes in first except block\n",
        "     print(a/str) # goes in second except block\n",
        "    \n",
        "        \n",
        "except ValueError:\n",
        "   print('inside first except block')\n",
        "   print(\"Oops!\", sys.exc_info()[0], \"occured.\") \n",
        "\n",
        "except (TypeError, ZeroDivisionError):\n",
        "     print('inside second except block')\n",
        "     print(\"Oops!\", sys.exc_info()[0], \"occured.\")\n",
        "\n",
        "\n",
        "except:\n",
        "   print('inside general except block')"
      ],
      "execution_count": null,
      "outputs": []
    },
    {
      "cell_type": "code",
      "metadata": {
        "id": "HCBksqZVB7Et"
      },
      "source": [],
      "execution_count": null,
      "outputs": []
    },
    {
      "cell_type": "markdown",
      "metadata": {
        "id": "f1XlXhrYB7Eu"
      },
      "source": [
        "### else statement\n"
      ]
    },
    {
      "cell_type": "code",
      "metadata": {
        "id": "gbfoq7FJB7Ev"
      },
      "source": [
        "\n",
        "\n",
        "# The try … except statement has an optional else clause, which, when present, must follow all except clauses. \n",
        "# It is useful for code that must be executed if the try clause does not raise an exception. \n",
        "\n",
        "# EXAMPLE 4 \n",
        "\n",
        "for arg in sys.argv[1:]:\n",
        "    print(arg)\n",
        "    try:\n",
        "        f = open(arg, 'r')\n",
        "    except OSError:\n",
        "        print('cannot open', arg)\n",
        "        print()\n",
        "    else:\n",
        "        print(arg, 'has', len(f.readlines()), 'lines')\n",
        "        f.close()"
      ],
      "execution_count": null,
      "outputs": []
    },
    {
      "cell_type": "code",
      "metadata": {
        "id": "nCZKwp1QB7Ex"
      },
      "source": [],
      "execution_count": null,
      "outputs": []
    },
    {
      "cell_type": "code",
      "metadata": {
        "id": "3ryydPeSB7Ez"
      },
      "source": [
        "# When an exception occurs, it may have an associated value, also known as the exception’s argument. The presence and type of the argument depend on the exception type.\n",
        "\n",
        "# The except clause may specify a variable after the exception name. The variable is bound to an exception \n",
        "# instance with the arguments stored in instance.args. For convenience, the exception instance defines __str__()\n",
        "# so the arguments can be printed directly without having to reference .args. One may also instantiate an \n",
        "# exception first before raising it and add any attributes to it as desired.\n",
        "\n",
        "# EXAMPLE 5\n",
        "\n",
        "try:\n",
        "     raise Exception('spam', 'eggs')\n",
        "except Exception as inst:\n",
        "     print(type(inst))    # the exception instance\n",
        "     print(inst.args)     # arguments stored in .args\n",
        "     print(inst)          # __str__ allows args to be printed directly,\n",
        "                          # but may be overridden in exception subclasses\n",
        "     x, y = inst.args     # unpack args\n",
        "     print('x =', x)\n",
        "     print('y =', y)"
      ],
      "execution_count": null,
      "outputs": []
    },
    {
      "cell_type": "code",
      "metadata": {
        "id": "kIwnl0-_B7E0"
      },
      "source": [
        "# Exception handlers don’t just handle exceptions if they occur immediately in the try clause, but also if \n",
        "# they occur inside functions that are called (even indirectly) in the try clause.\n",
        "\n",
        "# EXAMPLE 6\n",
        "\n",
        "def this_fails():\n",
        "     x = 1/0\n",
        "\n",
        "try:\n",
        "     this_fails()\n",
        "\n",
        "except ZeroDivisionError as err:\n",
        "     print('Handling run-time error:', err)"
      ],
      "execution_count": null,
      "outputs": []
    },
    {
      "cell_type": "markdown",
      "metadata": {
        "id": "_P_WOj6rB7E2"
      },
      "source": [
        "### raise statement"
      ]
    },
    {
      "cell_type": "code",
      "metadata": {
        "id": "xjmNEwyTB7E2"
      },
      "source": [
        "# In Python programming, exceptions are raised when corresponding errors occur at runtime, but we can\n",
        "# forcefully raise it using the raise keyword.\n",
        "\n",
        "# We can also optionally pass values to the exception to clarify why that exception was raised.\n",
        "\n",
        "# EXAMPLE 7\n",
        "\n",
        "try:\n",
        "     a = int(input(\"Enter a positive integer: \"))\n",
        "     if a <= 0:\n",
        "         raise ValueError(\"That is not a positive number!\")\n",
        "\n",
        "except ValueError as ve:\n",
        "     print(ve)\n",
        "    \n",
        "    "
      ],
      "execution_count": null,
      "outputs": []
    },
    {
      "cell_type": "markdown",
      "metadata": {
        "id": "m6d7z8BPB7E4"
      },
      "source": [
        "### finally statement"
      ]
    },
    {
      "cell_type": "code",
      "metadata": {
        "id": "-kEiRd6sB7E4"
      },
      "source": [
        "# try...finally\n",
        "\n",
        "# The try statement in Python can have an optional finally clause. This clause is executed no matter what, and \n",
        "# is generally used to release external resources.\n",
        "\n",
        "try:\n",
        "   f = open(\"test.txt\",encoding = 'utf-8')\n",
        "   # perform file operations\n",
        "\n",
        "except:\n",
        "    pass\n",
        "\n",
        "finally:\n",
        "   print(\"inside finally\")\n",
        "   f.close()"
      ],
      "execution_count": null,
      "outputs": []
    },
    {
      "cell_type": "code",
      "metadata": {
        "id": "ZeN3NKq9B7E6"
      },
      "source": [
        "# If an exception occurs during execution of the try clause, the exception may be handled by an except clause. \n",
        "# If the exception is not handled by an except clause, the exception is re-raised after the finally clause has \n",
        "# been executed.\n",
        "\n",
        "# An exception could occur during execution of an except or else clause. Again, the exception is re-raised after \n",
        "# the finally clause has been executed.\n",
        "\n",
        "# If the try statement reaches a break, continue or return statement, the finally clause will execute just prior \n",
        "# to the break, continue or return statement’s execution.\n",
        "\n",
        "# If a finally clause includes a return statement, the returned value will be the one from the finally clause’s \n",
        "# return statement, not the value from the try clause’s return statement"
      ],
      "execution_count": null,
      "outputs": []
    },
    {
      "cell_type": "markdown",
      "metadata": {
        "id": "-XhxUaYWB7E8"
      },
      "source": [
        "### user defined exceptions"
      ]
    },
    {
      "cell_type": "code",
      "metadata": {
        "id": "GxErkJGAB7E8"
      },
      "source": [
        "# In Python, users can define such exceptions by creating a new class. This exception class has to be derived, \n",
        "# either directly or indirectly, from Exception class. Most of the built-in exceptions are also derived from this \n",
        "# class.\n",
        "\n",
        "\n",
        "# When we are developing a large Python program, it is a good practice to place all the user-defined exceptions \n",
        "# that our program raises in a separate file. Many standard modules do this. They define their exceptions separately \n",
        "# as exceptions.py or errors.py (generally but not always).\n",
        "\n",
        "# User-defined exception class can implement everything a normal class can do, but we generally make them simple \n",
        "# and concise. Most implementations declare a custom base class and derive others exception classes from this base\n",
        "# class. \n",
        "\n",
        "# define Python user-defined exceptions\n",
        "\n",
        "class Error(Exception):\n",
        "   \"\"\"Base class for other exceptions\"\"\"\n",
        "   pass\n",
        "\n",
        "class ValueTooSmallError(Error):\n",
        "   \"\"\"Raised when the input value is too small\"\"\"\n",
        "   pass\n",
        "\n",
        "class ValueTooLargeError(Error):\n",
        "   \"\"\"Raised when the input value is too large\"\"\"\n",
        "   pass\n",
        "\n",
        "# our main program\n",
        "# user guesses a number until he/she gets it right\n",
        "\n",
        "# you need to guess this number\n",
        "number = 10\n",
        "\n",
        "while True:\n",
        "   try:\n",
        "       i_num = int(input(\"Enter a number: \"))\n",
        "       \n",
        "       if i_num < number:\n",
        "           raise ValueTooSmallError\n",
        "       \n",
        "       elif i_num > number:\n",
        "           raise ValueTooLargeError\n",
        "       break\n",
        "    \n",
        "   except ValueTooSmallError:\n",
        "       print(\"This value is too small, try again!\")\n",
        "       print()\n",
        "   \n",
        "   except ValueTooLargeError:\n",
        "       print(\"This value is too large, try again!\")\n",
        "       print()\n",
        "   \n",
        "print(\"Congratulations! You guessed it correctly.\")\n"
      ],
      "execution_count": null,
      "outputs": []
    },
    {
      "cell_type": "code",
      "metadata": {
        "id": "aZx90DbNB7E-"
      },
      "source": [],
      "execution_count": null,
      "outputs": []
    },
    {
      "cell_type": "markdown",
      "metadata": {
        "id": "YQJFwbIcB7FA"
      },
      "source": [
        "### ASSERTION"
      ]
    },
    {
      "cell_type": "code",
      "metadata": {
        "id": "BAIPUICnB7FA",
        "outputId": "0c2377d6-ac38-47c9-9bc8-196a05d14618"
      },
      "source": [
        "# An assertion is a sanity-check that you can turn on or turn off when you are done with your testing of the\n",
        "# program.\n",
        "\n",
        "# The easiest way to think of an assertion is to liken it to a raise-if statement (or to be more accurate, a \n",
        "# raise-if-not statement). An expression is tested, and if the result comes up false, an exception is raised.\n",
        "\n",
        "# Assertions are carried out by the assert statement.\n",
        "\n",
        "\n",
        "# Programmers often place assertions at the start of a function to check for valid input, and after a function \n",
        "# call to check for valid output.\n",
        "\n",
        "# When it encounters an assert statement, Python evaluates the accompanying expression, which is hopefully true.\n",
        "# If the expression is false, Python raises an AssertionError exception.\n",
        "\n",
        "# The syntax for assert is −\n",
        "\n",
        "# assert Expression[, Arguments]\n",
        "\n",
        "\n",
        "# EXAMPLE\n",
        "\n",
        "no = int(input(\"enter a positive number\"))\n",
        "assert no>0, \"number entered is not positive\""
      ],
      "execution_count": null,
      "outputs": [
        {
          "output_type": "stream",
          "text": [
            "enter a positive number-22\n"
          ],
          "name": "stdout"
        },
        {
          "output_type": "error",
          "ename": "AssertionError",
          "evalue": "number entered is not positive",
          "traceback": [
            "\u001b[0;31m---------------------------------------------------------------------------\u001b[0m",
            "\u001b[0;31mAssertionError\u001b[0m                            Traceback (most recent call last)",
            "\u001b[0;32m<ipython-input-200-6108e644267e>\u001b[0m in \u001b[0;36m<module>\u001b[0;34m\u001b[0m\n\u001b[1;32m     22\u001b[0m \u001b[0;34m\u001b[0m\u001b[0m\n\u001b[1;32m     23\u001b[0m \u001b[0mno\u001b[0m \u001b[0;34m=\u001b[0m \u001b[0mint\u001b[0m\u001b[0;34m(\u001b[0m\u001b[0minput\u001b[0m\u001b[0;34m(\u001b[0m\u001b[0;34m\"enter a positive number\"\u001b[0m\u001b[0;34m)\u001b[0m\u001b[0;34m)\u001b[0m\u001b[0;34m\u001b[0m\u001b[0;34m\u001b[0m\u001b[0m\n\u001b[0;32m---> 24\u001b[0;31m \u001b[0;32massert\u001b[0m \u001b[0mno\u001b[0m\u001b[0;34m>\u001b[0m\u001b[0;36m0\u001b[0m\u001b[0;34m,\u001b[0m \u001b[0;34m\"number entered is not positive\"\u001b[0m\u001b[0;34m\u001b[0m\u001b[0;34m\u001b[0m\u001b[0m\n\u001b[0m",
            "\u001b[0;31mAssertionError\u001b[0m: number entered is not positive"
          ]
        }
      ]
    },
    {
      "cell_type": "code",
      "metadata": {
        "id": "8teeuYI7B7FB",
        "outputId": "60242890-d457-4857-b0e5-2a061e6aede3"
      },
      "source": [
        "# EXAMPLE 2 - code to change traffic lights\n",
        "\n",
        "market_signal = {'ns':'green','ew':'red'} # north-south and east-west\n",
        "\n",
        "def switchlights(intersection):\n",
        "    for key in intersection.keys():\n",
        "        if intersection[key] == 'green':\n",
        "            intersection[key] = 'yellow'\n",
        "        elif intersection[key] == 'yellow':\n",
        "            intersection[key] = 'red'\n",
        "        elif intersection[key] == 'red':\n",
        "            intersection[key] = 'green'\n",
        "            \n",
        "print(market_signal)\n",
        "switchlights(market_signal)\n",
        "print(market_signal)\n",
        "\n",
        "# if you see the output you would realize that one of them should be green and other should be red but that is not\n",
        "# the case. The bug is so subtle that it misses the eye. Assert statements are useful at such places.\n",
        "\n",
        "print()\n",
        "market_signal = {'ns':'green','ew':'red'} # north-south and east-west\n",
        "\n",
        "def switchlights(intersection):\n",
        "    for key in intersection.keys():\n",
        "        if intersection[key] == 'green':\n",
        "            intersection[key] = 'yellow'\n",
        "        elif intersection[key] == 'yellow':\n",
        "            intersection[key] = 'red'\n",
        "        elif intersection[key] == 'red':\n",
        "            intersection[key] = 'green'\n",
        "    \n",
        "    assert 'red' in intersection.values() , 'Neither light is red: ' + str(intersection)\n",
        "\n",
        "print(market_signal)\n",
        "switchlights(market_signal)\n",
        "print(market_signal)\n"
      ],
      "execution_count": null,
      "outputs": [
        {
          "output_type": "stream",
          "text": [
            "{'ns': 'green', 'ew': 'red'}\n",
            "{'ns': 'yellow', 'ew': 'green'}\n",
            "\n",
            "{'ns': 'green', 'ew': 'red'}\n"
          ],
          "name": "stdout"
        },
        {
          "output_type": "error",
          "ename": "AssertionError",
          "evalue": "Neither light is red: {'ns': 'yellow', 'ew': 'green'}",
          "traceback": [
            "\u001b[0;31m---------------------------------------------------------------------------\u001b[0m",
            "\u001b[0;31mAssertionError\u001b[0m                            Traceback (most recent call last)",
            "\u001b[0;32m<ipython-input-211-ff31e111ab14>\u001b[0m in \u001b[0;36m<module>\u001b[0;34m\u001b[0m\n\u001b[1;32m     34\u001b[0m \u001b[0;34m\u001b[0m\u001b[0m\n\u001b[1;32m     35\u001b[0m \u001b[0mprint\u001b[0m\u001b[0;34m(\u001b[0m\u001b[0mmarket_signal\u001b[0m\u001b[0;34m)\u001b[0m\u001b[0;34m\u001b[0m\u001b[0;34m\u001b[0m\u001b[0m\n\u001b[0;32m---> 36\u001b[0;31m \u001b[0mswitchlights\u001b[0m\u001b[0;34m(\u001b[0m\u001b[0mmarket_signal\u001b[0m\u001b[0;34m)\u001b[0m\u001b[0;34m\u001b[0m\u001b[0;34m\u001b[0m\u001b[0m\n\u001b[0m\u001b[1;32m     37\u001b[0m \u001b[0mprint\u001b[0m\u001b[0;34m(\u001b[0m\u001b[0mmarket_signal\u001b[0m\u001b[0;34m)\u001b[0m\u001b[0;34m\u001b[0m\u001b[0;34m\u001b[0m\u001b[0m\n",
            "\u001b[0;32m<ipython-input-211-ff31e111ab14>\u001b[0m in \u001b[0;36mswitchlights\u001b[0;34m(intersection)\u001b[0m\n\u001b[1;32m     31\u001b[0m             \u001b[0mintersection\u001b[0m\u001b[0;34m[\u001b[0m\u001b[0mkey\u001b[0m\u001b[0;34m]\u001b[0m \u001b[0;34m=\u001b[0m \u001b[0;34m'green'\u001b[0m\u001b[0;34m\u001b[0m\u001b[0;34m\u001b[0m\u001b[0m\n\u001b[1;32m     32\u001b[0m \u001b[0;34m\u001b[0m\u001b[0m\n\u001b[0;32m---> 33\u001b[0;31m     \u001b[0;32massert\u001b[0m \u001b[0;34m'red'\u001b[0m \u001b[0;32min\u001b[0m \u001b[0mintersection\u001b[0m\u001b[0;34m.\u001b[0m\u001b[0mvalues\u001b[0m\u001b[0;34m(\u001b[0m\u001b[0;34m)\u001b[0m \u001b[0;34m,\u001b[0m \u001b[0;34m'Neither light is red: '\u001b[0m \u001b[0;34m+\u001b[0m \u001b[0mstr\u001b[0m\u001b[0;34m(\u001b[0m\u001b[0mintersection\u001b[0m\u001b[0;34m)\u001b[0m\u001b[0;34m\u001b[0m\u001b[0;34m\u001b[0m\u001b[0m\n\u001b[0m\u001b[1;32m     34\u001b[0m \u001b[0;34m\u001b[0m\u001b[0m\n\u001b[1;32m     35\u001b[0m \u001b[0mprint\u001b[0m\u001b[0;34m(\u001b[0m\u001b[0mmarket_signal\u001b[0m\u001b[0;34m)\u001b[0m\u001b[0;34m\u001b[0m\u001b[0;34m\u001b[0m\u001b[0m\n",
            "\u001b[0;31mAssertionError\u001b[0m: Neither light is red: {'ns': 'yellow', 'ew': 'green'}"
          ]
        }
      ]
    },
    {
      "cell_type": "code",
      "metadata": {
        "id": "eRWIJtV2B7FD"
      },
      "source": [],
      "execution_count": null,
      "outputs": []
    }
  ]
}