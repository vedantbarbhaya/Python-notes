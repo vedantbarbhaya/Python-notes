{
  "nbformat": 4,
  "nbformat_minor": 0,
  "metadata": {
    "colab": {
      "provenance": []
    },
    "kernelspec": {
      "name": "python3",
      "display_name": "Python 3"
    }
  },
  "cells": [
    {
      "cell_type": "markdown",
      "metadata": {
        "id": "S-ZOa3FmggsA"
      },
      "source": [
        "# PARALLEL PROCESSING"
      ]
    },
    {
      "cell_type": "markdown",
      "metadata": {
        "id": "f6BX54XCgOGf"
      },
      "source": [
        "## Multithreading"
      ]
    },
    {
      "cell_type": "code",
      "metadata": {
        "id": "3FJ-1xn_gOGl",
        "outputId": "1122551f-3b8f-4f10-8e45-779a828dd589"
      },
      "source": [
        "# normal script with a synchronous call to a function twice\n",
        "import time\n",
        "\n",
        "start = time.perf_counter()\n",
        "\n",
        "\n",
        "def do_something():\n",
        "    print(f'Sleeping 1 second(s)...')\n",
        "    time.sleep(1)\n",
        "    print(\"done sleeping\")\n",
        "\n",
        "\n",
        "do_something()\n",
        "do_something()\n",
        "\n",
        "\n",
        "finish = time.perf_counter()\n",
        "\n",
        "print(f'Finished in {round(finish-start, 2)} second(s)')"
      ],
      "execution_count": null,
      "outputs": [
        {
          "output_type": "stream",
          "text": [
            "Sleeping 1 second(s)...\n",
            "done sleeping\n",
            "Sleeping 1 second(s)...\n",
            "done sleeping\n",
            "Finished in 2.0 second(s)\n"
          ],
          "name": "stdout"
        }
      ]
    },
    {
      "cell_type": "code",
      "metadata": {
        "id": "NHjISAN3gOG-"
      },
      "source": [],
      "execution_count": null,
      "outputs": []
    },
    {
      "cell_type": "code",
      "metadata": {
        "id": "fYNbFEAOgOHS"
      },
      "source": [
        "# now there are 2 kinds of tasks: 1. cpu bound task and 2. i/o bound tasks\n",
        "# 1. cpu bound tasks are where a lot of crunching of numbers happen \n",
        "# 2. i/o bound tasks are where they arent using cpu much but just waiting for certain input and output operations to get completed.\n",
        "#    examples - reading and writing files, networking, downloading files from net etc\n",
        "\n",
        "# Threading is useful during i/o bound tasks"
      ],
      "execution_count": null,
      "outputs": []
    },
    {
      "cell_type": "code",
      "metadata": {
        "id": "erSy8CwigOHm",
        "outputId": "1a62d37b-6a5e-4f78-8f73-8dd8a90efe6b"
      },
      "source": [
        "import time\n",
        "import threading\n",
        "start = time.perf_counter()\n",
        "\n",
        "\n",
        "def do_something():\n",
        "    print(f'Sleeping 1 second(s)...')\n",
        "    time.sleep(1)\n",
        "    print(\"done sleeping\")\n",
        "\n",
        "\n",
        "t1 = threading.Thread(target = do_something)\n",
        "t2 = threading.Thread(target = do_something)\n",
        "\n",
        "t1.start()\n",
        "t2.start()\n",
        "\n",
        "\n",
        "\n",
        "finish = time.perf_counter()\n",
        "\n",
        "print(f'Finished in {round(finish-start, 2)} second(s)')"
      ],
      "execution_count": null,
      "outputs": [
        {
          "output_type": "stream",
          "text": [
            "Sleeping 1 second(s)...\n",
            "Sleeping 1 second(s)...\n",
            "Finished in 0.0 second(s)\n",
            "done sleeping\n",
            "done sleeping\n"
          ],
          "name": "stdout"
        }
      ]
    },
    {
      "cell_type": "code",
      "metadata": {
        "id": "J4DMlFWGgOH1"
      },
      "source": [
        "# the above function did not work as expected. both the threads started and while they were waiting, \n",
        "# the main script continued running and after that the threads ended hence the given op where it says it finished\n",
        "# in 0.0 seconds"
      ],
      "execution_count": null,
      "outputs": []
    },
    {
      "cell_type": "code",
      "metadata": {
        "id": "Td_rOxR-gOID"
      },
      "source": [],
      "execution_count": null,
      "outputs": []
    },
    {
      "cell_type": "code",
      "metadata": {
        "id": "7uDZij9EgOIT"
      },
      "source": [
        "# so to fix this we can use join method"
      ],
      "execution_count": null,
      "outputs": []
    },
    {
      "cell_type": "code",
      "metadata": {
        "id": "VHZ_UMbXgOIj",
        "outputId": "a4a3426b-428e-467d-bd76-6a9bcdebb7eb"
      },
      "source": [
        "import time\n",
        "import threading\n",
        "start = time.perf_counter()\n",
        "\n",
        "\n",
        "def do_something():\n",
        "    print(f'Sleeping 1 second(s)...')\n",
        "    time.sleep(1)\n",
        "    print(\"done sleeping\")\n",
        "\n",
        "\n",
        "t1 = threading.Thread(target = do_something)\n",
        "t2 = threading.Thread(target = do_something)\n",
        "\n",
        "t1.start()\n",
        "t2.start()\n",
        "\n",
        "t1.join()\n",
        "t2.join()\n",
        "\n",
        "\n",
        "finish = time.perf_counter()\n",
        "\n",
        "print(f'Finished in {round(finish-start, 2)} second(s)')"
      ],
      "execution_count": null,
      "outputs": [
        {
          "output_type": "stream",
          "text": [
            "Sleeping 1 second(s)...\n",
            "Sleeping 1 second(s)...\n",
            "done sleeping\n",
            "done sleeping\n",
            "Finished in 1.0 second(s)\n"
          ],
          "name": "stdout"
        }
      ]
    },
    {
      "cell_type": "code",
      "metadata": {
        "id": "u136G7VagOIw"
      },
      "source": [],
      "execution_count": null,
      "outputs": []
    },
    {
      "cell_type": "code",
      "metadata": {
        "id": "zn6DJ6e0gOJA",
        "outputId": "85de7ec8-3353-48ac-d708-ec161e45b44b"
      },
      "source": [
        "# running 10 threads\n",
        "\n",
        "import time\n",
        "import threading\n",
        "start = time.perf_counter()\n",
        "\n",
        "\n",
        "def do_something():\n",
        "    print(f'Sleeping 1 second(s)...')\n",
        "    time.sleep(1)\n",
        "    print(f\"done sleeping\")\n",
        "\n",
        "\n",
        "threads = []\n",
        "for _ in range(10):\n",
        "    t = threading.Thread(target = do_something)\n",
        "    t.start()\n",
        "    threads.append(t)\n",
        "    \n",
        "for thread in threads:\n",
        "    thread.join()\n",
        "\n",
        "t1.join()\n",
        "t2.join()\n",
        "\n",
        "\n",
        "finish = time.perf_counter()\n",
        "\n",
        "print(f'Finished in {round(finish-start, 2)} second(s)')"
      ],
      "execution_count": null,
      "outputs": [
        {
          "output_type": "stream",
          "text": [
            "Sleeping 1 second(s)...Sleeping 1 second(s)...\n",
            "\n",
            "Sleeping 1 second(s)...\n",
            "Sleeping 1 second(s)...\n",
            "Sleeping 1 second(s)...\n",
            "Sleeping 1 second(s)...Sleeping 1 second(s)...\n",
            "\n",
            "Sleeping 1 second(s)...\n",
            "Sleeping 1 second(s)...\n",
            "Sleeping 1 second(s)...\n",
            "done sleeping\n",
            "done sleeping\n",
            "done sleeping\n",
            "done sleepingdone sleeping\n",
            "\n",
            "done sleeping\n",
            "done sleepingdone sleeping\n",
            "\n",
            "done sleepingdone sleeping\n",
            "\n",
            "Finished in 1.01 second(s)\n"
          ],
          "name": "stdout"
        }
      ]
    },
    {
      "cell_type": "code",
      "metadata": {
        "id": "GWDiljOlgOJM"
      },
      "source": [],
      "execution_count": null,
      "outputs": []
    },
    {
      "cell_type": "code",
      "metadata": {
        "id": "ExjztJKCgOJb",
        "outputId": "dd896cec-d5f5-4efb-d1ee-c898c8c9b24e"
      },
      "source": [
        "# passing arguments to target function\n",
        "\n",
        "import time\n",
        "import threading\n",
        "start = time.perf_counter()\n",
        "\n",
        "\n",
        "def do_something(seconds):\n",
        "    print(f'Sleeping {seconds} second(s)...')\n",
        "    time.sleep(seconds)\n",
        "    print(f\"done sleeping\")\n",
        "\n",
        "\n",
        "threads = []\n",
        "for _ in range(10):\n",
        "    t = threading.Thread(target = do_something, args = [2])\n",
        "    t.start()\n",
        "    threads.append(t)\n",
        "    \n",
        "for thread in threads:\n",
        "    thread.join()\n",
        "\n",
        "t1.join()\n",
        "t2.join()\n",
        "\n",
        "\n",
        "finish = time.perf_counter()\n",
        "\n",
        "print(f'Finished in {round(finish-start, 2)} second(s)')"
      ],
      "execution_count": null,
      "outputs": [
        {
          "output_type": "stream",
          "text": [
            "Sleeping 2 second(s)...Sleeping 2 second(s)...\n",
            "\n",
            "Sleeping 2 second(s)...\n",
            "Sleeping 2 second(s)...\n",
            "Sleeping 2 second(s)...\n",
            "Sleeping 2 second(s)...\n",
            "Sleeping 2 second(s)...\n",
            "Sleeping 2 second(s)...Sleeping 2 second(s)...\n",
            "\n",
            "Sleeping 2 second(s)...\n",
            "done sleeping\n",
            "done sleeping\n",
            "done sleeping\n",
            "done sleeping\n",
            "done sleepingdone sleeping\n",
            "\n",
            "done sleeping\n",
            "done sleeping\n",
            "done sleeping\n",
            "done sleeping\n",
            "Finished in 2.02 second(s)\n"
          ],
          "name": "stdout"
        }
      ]
    },
    {
      "cell_type": "code",
      "metadata": {
        "id": "OxmfLPBCgOJo"
      },
      "source": [],
      "execution_count": null,
      "outputs": []
    },
    {
      "cell_type": "code",
      "metadata": {
        "id": "NLG_2_GRgOJ2",
        "outputId": "3c3fd3ec-aed0-418c-93f8-55b883d4a9d5"
      },
      "source": [
        "# USING CONCURRENT.FUTURES MODULE\n",
        "\n",
        "import concurrent.futures\n",
        "import time\n",
        "\n",
        "start = time.perf_counter()\n",
        "\n",
        "\n",
        "def do_something(seconds):\n",
        "    print(f'Sleeping {seconds} second(s)...')\n",
        "    time.sleep(seconds)\n",
        "    return f\"done sleeping\"\n",
        "\n",
        "with concurrent.futures.ThreadPoolExecutor() as executor:\n",
        "    f1 = executor.submit(do_something,1)\n",
        "    f2 = executor.submit(do_something,1)\n",
        "    f3 = executor.submit(do_something,1)\n",
        "    \n",
        "    print(f1.result())\n",
        "    print(f2.result())\n",
        "    print(f3.result())\n",
        "\n",
        "finish = time.perf_counter()\n",
        "\n",
        "print(f'Finished in {round(finish-start, 2)} second(s)')"
      ],
      "execution_count": null,
      "outputs": [
        {
          "output_type": "stream",
          "text": [
            "Sleeping 1 second(s)...Sleeping 1 second(s)...\n",
            "\n",
            "Sleeping 1 second(s)...\n",
            "done sleeping\n",
            "done sleeping\n",
            "done sleeping\n",
            "Finished in 1.01 second(s)\n"
          ],
          "name": "stdout"
        }
      ]
    },
    {
      "cell_type": "code",
      "metadata": {
        "id": "iN-p5BjAgOKG"
      },
      "source": [],
      "execution_count": null,
      "outputs": []
    },
    {
      "cell_type": "code",
      "metadata": {
        "id": "EhpRx7z4gOKb",
        "outputId": "c678018f-f9bc-4691-e1b6-8dfa2ebbb677"
      },
      "source": [
        "# using concurrent.futures.as_completed() method\n",
        "import concurrent.futures\n",
        "import time\n",
        "\n",
        "start = time.perf_counter()\n",
        "\n",
        "\n",
        "def do_something(seconds):\n",
        "    print(f'Sleeping {seconds} second(s)...')\n",
        "    time.sleep(seconds)\n",
        "    return f'done sleeping'\n",
        "\n",
        "results = []\n",
        "with concurrent.futures.ThreadPoolExecutor() as executor:\n",
        "   results = [executor.submit(do_something,1) for _ in range(10)]\n",
        "    \n",
        "   for f in concurrent.futures.as_completed(results):\n",
        "        print(f.result())\n",
        "    \n",
        "\n",
        "    \n",
        "\n",
        "finish = time.perf_counter()\n",
        "\n",
        "print(f'Finished in {round(finish-start, 2)} second(s)')"
      ],
      "execution_count": null,
      "outputs": [
        {
          "output_type": "stream",
          "text": [
            "Sleeping 1 second(s)...\n",
            "Sleeping 1 second(s)...\n",
            "Sleeping 1 second(s)...Sleeping 1 second(s)...\n",
            "\n",
            "Sleeping 1 second(s)...\n",
            "Sleeping 1 second(s)...Sleeping 1 second(s)...\n",
            "Sleeping 1 second(s)...\n",
            "\n",
            "Sleeping 1 second(s)...done sleepingSleeping 1 second(s)...\n",
            "\n",
            "\n",
            "done sleeping\n",
            "done sleeping\n",
            "done sleeping\n",
            "done sleeping\n",
            "done sleeping\n",
            "done sleeping\n",
            "done sleeping\n",
            "done sleeping\n",
            "done sleeping\n",
            "Finished in 2.01 second(s)\n"
          ],
          "name": "stdout"
        }
      ]
    },
    {
      "cell_type": "code",
      "metadata": {
        "id": "xmfcZex5gOKs"
      },
      "source": [],
      "execution_count": null,
      "outputs": []
    },
    {
      "cell_type": "code",
      "metadata": {
        "id": "4HWHIEq8gOLA",
        "outputId": "f74c21ef-0ba6-45e9-fd09-fa31896c1e81"
      },
      "source": [
        "# different execution time\n",
        "import concurrent.futures\n",
        "import time\n",
        "\n",
        "start = time.perf_counter()\n",
        "\n",
        "\n",
        "def do_something(seconds):\n",
        "    print(f'Sleeping {seconds} second(s)...')\n",
        "    time.sleep(seconds)\n",
        "    return f'done sleeping'\n",
        "\n",
        "secs = [2,4,5,1,3,7,6,2.5,9,3.2]\n",
        "results = []\n",
        "with concurrent.futures.ThreadPoolExecutor() as executor:\n",
        "   results = [executor.submit(do_something,sec) for sec in secs]\n",
        "    \n",
        "   for f in concurrent.futures.as_completed(results):\n",
        "        print(f.result())\n",
        "    \n",
        "\n",
        "finish = time.perf_counter()\n",
        "print(f'Finished in {round(finish-start, 2)} second(s)')"
      ],
      "execution_count": null,
      "outputs": [
        {
          "output_type": "stream",
          "text": [
            "Sleeping 2 second(s)...\n",
            "Sleeping 4 second(s)...\n",
            "Sleeping 5 second(s)...\n",
            "Sleeping 1 second(s)...\n",
            "Sleeping 3 second(s)...Sleeping 7 second(s)...\n",
            "\n",
            "Sleeping 6 second(s)...\n",
            "Sleeping 2.5 second(s)...\n",
            "Sleeping 9 second(s)...\n",
            "done sleeping\n",
            "Sleeping 3.2 second(s)...done sleeping\n",
            "\n",
            "done sleeping\n",
            "done sleeping\n",
            "done sleeping\n",
            "done sleeping\n",
            "done sleeping\n",
            "done sleeping\n",
            "done sleeping\n",
            "done sleeping\n",
            "Finished in 10.02 second(s)\n"
          ],
          "name": "stdout"
        }
      ]
    },
    {
      "cell_type": "code",
      "metadata": {
        "id": "5EAOa_dPgOLI"
      },
      "source": [],
      "execution_count": null,
      "outputs": []
    },
    {
      "cell_type": "code",
      "metadata": {
        "id": "xz7S6sS5gOLR",
        "outputId": "0d6dea8f-8f10-46d1-f059-59df1fd31e7c"
      },
      "source": [
        "# using map function \n",
        "# map returns the results of processes in the order the processes were initially started and not in the \n",
        "# ordered in which they were finished.\n",
        "\n",
        "\n",
        "import concurrent.futures\n",
        "import time\n",
        "\n",
        "start = time.perf_counter()\n",
        "\n",
        "\n",
        "def do_something(seconds):\n",
        "    print(f'Sleeping {seconds} second(s)...')\n",
        "    time.sleep(seconds)\n",
        "    return f'Done Sleeping...{seconds}'\n",
        "\n",
        "\n",
        "with concurrent.futures.ThreadPoolExecutor() as executor:\n",
        "    secs = [5, 4, 3, 2, 1]\n",
        "    results = executor.map(do_something, secs)\n",
        "    \n",
        "    for result in results:\n",
        "        print(result)\n",
        "        \n",
        "\n",
        "\n",
        "finish = time.perf_counter()\n",
        "\n",
        "print(f'Finished in {round(finish-start, 2)} second(s)')"
      ],
      "execution_count": null,
      "outputs": [
        {
          "output_type": "stream",
          "text": [
            "Sleeping 5 second(s)...\n",
            "Sleeping 4 second(s)...Sleeping 3 second(s)...\n",
            "\n",
            "Sleeping 2 second(s)...\n",
            "Sleeping 1 second(s)...\n",
            "Done Sleeping...5\n",
            "Done Sleeping...4\n",
            "Done Sleeping...3\n",
            "Done Sleeping...2\n",
            "Done Sleeping...1\n",
            "Finished in 5.0 second(s)\n"
          ],
          "name": "stdout"
        }
      ]
    },
    {
      "cell_type": "code",
      "metadata": {
        "id": "EmummR1mgOLg"
      },
      "source": [],
      "execution_count": null,
      "outputs": []
    },
    {
      "cell_type": "code",
      "metadata": {
        "id": "tPzezX-mgOLs"
      },
      "source": [],
      "execution_count": null,
      "outputs": []
    },
    {
      "cell_type": "markdown",
      "metadata": {
        "id": "HTNvxdHvgOLy"
      },
      "source": [
        "## Multiprocessing "
      ]
    },
    {
      "cell_type": "code",
      "metadata": {
        "id": "HSIb2cFugOLz",
        "outputId": "276260ea-4df0-42b0-a248-27e1c51270ad"
      },
      "source": [
        "import multiprocessing\n",
        "import time\n",
        "\n",
        "start = time.perf_counter()\n",
        "\n",
        "\n",
        "def do_something():\n",
        "    print(f'Sleeping 1 second(s)...')\n",
        "    time.sleep(1)\n",
        "    print(\"done sleeping\")\n",
        "\n",
        "\n",
        "# define a process\n",
        "p1 = multiprocessing.Process(target = do_something)\n",
        "p2 = multiprocessing.Process(target = do_something)\n",
        "\n",
        "# start the process\n",
        "p1.start()\n",
        "p2.start()\n",
        "\n",
        "finish = time.perf_counter()\n",
        "\n",
        "print(f'Finished in {round(finish-start, 2)} second(s)')"
      ],
      "execution_count": null,
      "outputs": [
        {
          "output_type": "stream",
          "text": [
            "Finished in 0.02 second(s)\n",
            "Sleeping 1 second(s)...Sleeping 1 second(s)...\n",
            "\n",
            "done sleeping\n",
            "done sleeping\n"
          ],
          "name": "stdout"
        }
      ]
    },
    {
      "cell_type": "code",
      "metadata": {
        "id": "caC5VbN2gOL5"
      },
      "source": [
        "# now the op of the abpve script is like this because after we started both the processes and the processes \n",
        "# were sleeping the script came down here:\n",
        "\n",
        "# finish = time.perf_counter()\n",
        "# print(f'Finished in {round(finish-start, 2)} second(s)')\n",
        "\n",
        "# and executed both of these statements"
      ],
      "execution_count": null,
      "outputs": []
    },
    {
      "cell_type": "code",
      "metadata": {
        "id": "Ailfss8dgOL_"
      },
      "source": [],
      "execution_count": null,
      "outputs": []
    },
    {
      "cell_type": "code",
      "metadata": {
        "id": "sisYMW-dgOME"
      },
      "source": [
        "# now what to do about the above problem - for that we use process.join() method. What it does is that it waits\n",
        "# for the processes to get over and then continue the script"
      ],
      "execution_count": null,
      "outputs": []
    },
    {
      "cell_type": "code",
      "metadata": {
        "id": "a5RTrhscgOML",
        "outputId": "3ea2f2c7-5179-404d-88b8-a14f6d0c490f"
      },
      "source": [
        "import multiprocessing\n",
        "import time\n",
        "\n",
        "start = time.perf_counter()\n",
        "\n",
        "def do_something():\n",
        "    print(f'Sleeping 1 second(s)...')\n",
        "    time.sleep(1)\n",
        "    print(\"done sleeping\")\n",
        "\n",
        "\n",
        "# define a process\n",
        "p1 = multiprocessing.Process(target = do_something)\n",
        "p2 = multiprocessing.Process(target = do_something)\n",
        "\n",
        "# start the process\n",
        "p1.start()\n",
        "p2.start()\n",
        "\n",
        "p1.join()\n",
        "p2.join()\n",
        "\n",
        "finish = time.perf_counter()\n",
        "\n",
        "print(f'Finished in {round(finish-start, 2)} second(s)')"
      ],
      "execution_count": null,
      "outputs": [
        {
          "output_type": "stream",
          "text": [
            "Sleeping 1 second(s)...\n",
            "Sleeping 1 second(s)...\n",
            "done sleeping\n",
            "done sleeping\n",
            "Finished in 1.04 second(s)\n"
          ],
          "name": "stdout"
        }
      ]
    },
    {
      "cell_type": "code",
      "metadata": {
        "id": "V3uGPhLNgOMR"
      },
      "source": [],
      "execution_count": null,
      "outputs": []
    },
    {
      "cell_type": "code",
      "metadata": {
        "id": "GBkpw-4YgOMW"
      },
      "source": [
        "# lets see what happens when we run 10 processes together using a loop. now we cannot use .join method inside\n",
        "# the loop as it would wait for each process to get over which is the same as not using multiprocessing. so\n",
        "# for that we would append each process in a list"
      ],
      "execution_count": null,
      "outputs": []
    },
    {
      "cell_type": "code",
      "metadata": {
        "id": "lCfbeqXLgOMb",
        "outputId": "0d58cce7-16e7-477c-e12d-419fd1439543"
      },
      "source": [
        "import multiprocessing\n",
        "import time\n",
        "\n",
        "start = time.perf_counter()\n",
        "\n",
        "\n",
        "def do_something():\n",
        "    print(f'\\nSleeping 1 second(s)...')\n",
        "    time.sleep(1)\n",
        "    print(f'\\ndone sleeping')\n",
        "\n",
        "processes = []\n",
        "for _ in range(10):\n",
        "    p =  multiprocessing.Process(target = do_something)\n",
        "    p.start()\n",
        "    processes.append(p)\n",
        "\n",
        "for process in processes:\n",
        "    process.join()\n",
        "\n",
        "finish = time.perf_counter()\n",
        "\n",
        "print(f'Finished in {round(finish-start, 2)} second(s)')"
      ],
      "execution_count": null,
      "outputs": [
        {
          "output_type": "stream",
          "text": [
            "\n",
            "Sleeping 1 second(s)...\n",
            "Sleeping 1 second(s)...\n",
            "\n",
            "\n",
            "Sleeping 1 second(s)...\n",
            "Sleeping 1 second(s)...\n",
            "\n",
            "Sleeping 1 second(s)...\n",
            "\n",
            "\n",
            "Sleeping 1 second(s)...\n",
            "Sleeping 1 second(s)...\n",
            "\n",
            "\n",
            "Sleeping 1 second(s)...\n",
            "Sleeping 1 second(s)...\n",
            "\n",
            "\n",
            "Sleeping 1 second(s)...\n",
            "\n",
            "done sleeping\n",
            "\n",
            "done sleeping\n",
            "\n",
            "done sleeping\n",
            "\n",
            "done sleeping\n",
            "done sleeping\n",
            "\n",
            "\n",
            "done sleeping\n",
            "\n",
            "done sleeping\n",
            "\n",
            "done sleeping\n",
            "\n",
            "done sleeping\n",
            "\n",
            "done sleeping\n",
            "Finished in 1.11 second(s)\n"
          ],
          "name": "stdout"
        }
      ]
    },
    {
      "cell_type": "code",
      "metadata": {
        "id": "kELj37hEgOMi"
      },
      "source": [],
      "execution_count": null,
      "outputs": []
    },
    {
      "cell_type": "code",
      "metadata": {
        "id": "tJnZIbXQgOMp"
      },
      "source": [
        "# passing a custom list of arguments to the target function\n",
        "\n",
        "# Now in order to pass arguments to a multiprocessing process, we need to serialize the arguments using pickle \n",
        "# module of the python"
      ],
      "execution_count": null,
      "outputs": []
    },
    {
      "cell_type": "code",
      "metadata": {
        "id": "m_koGNVVgOMy",
        "outputId": "4eaebf83-3b9c-4db5-8387-4a6ae1018575"
      },
      "source": [
        "import multiprocessing\n",
        "import time\n",
        "\n",
        "start = time.perf_counter()\n",
        "\n",
        "\n",
        "def do_something(seconds):\n",
        "    print(f'Sleeping {seconds} second(s)...\\n')\n",
        "    time.sleep(seconds)\n",
        "    print(f'done sleeping\\n')\n",
        "    \n",
        "processes = []\n",
        "for _ in range(10):\n",
        "    p =  multiprocessing.Process(target = do_something, args = [1.5])\n",
        "    p.start()\n",
        "    processes.append(p)\n",
        "\n",
        "for process in processes:\n",
        "    process.join()\n",
        "\n",
        "finish = time.perf_counter()\n",
        "\n",
        "print(f'Finished in {round(finish-start, 2)} second(s)')"
      ],
      "execution_count": null,
      "outputs": [
        {
          "output_type": "stream",
          "text": [
            "Sleeping 1.5 second(s)...\n",
            "\n",
            "Sleeping 1.5 second(s)...\n",
            "\n",
            "Sleeping 1.5 second(s)...\n",
            "Sleeping 1.5 second(s)...\n",
            "\n",
            "Sleeping 1.5 second(s)...\n",
            "\n",
            "\n",
            "Sleeping 1.5 second(s)...\n",
            "Sleeping 1.5 second(s)...\n",
            "\n",
            "\n",
            "Sleeping 1.5 second(s)...\n",
            "Sleeping 1.5 second(s)...\n",
            "\n",
            "Sleeping 1.5 second(s)...\n",
            "\n",
            "\n",
            "done sleeping\n",
            "\n",
            "done sleeping\n",
            "\n",
            "done sleeping\n",
            "\n",
            "done sleeping\n",
            "done sleeping\n",
            "\n",
            "\n",
            "done sleeping\n",
            "done sleeping\n",
            "\n",
            "done sleeping\n",
            "\n",
            "done sleeping\n",
            "done sleeping\n",
            "\n",
            "\n",
            "\n",
            "Finished in 1.63 second(s)\n"
          ],
          "name": "stdout"
        }
      ]
    },
    {
      "cell_type": "code",
      "metadata": {
        "id": "SotvEY58gOM3"
      },
      "source": [],
      "execution_count": null,
      "outputs": []
    },
    {
      "cell_type": "markdown",
      "metadata": {
        "id": "Nzib0XeVgOM8"
      },
      "source": [
        " **Till now we saw how to manually execute different processes but there is a better way to do it using the concurrent.futures module which has an inbuilt clean interface and handles everything using its ProcessPoolExecuter class. It is called a contextmanager and anytime use a context manager, it automatically joins the process**"
      ]
    },
    {
      "cell_type": "code",
      "metadata": {
        "id": "jxJJOHkLgOM-",
        "outputId": "e59abf5a-f8b7-4ccc-eb54-bcb6cc7a2efb"
      },
      "source": [
        "import concurrent.futures\n",
        "import time\n",
        "\n",
        "start = time.perf_counter()\n",
        "\n",
        "\n",
        "def do_something(seconds):\n",
        "    print(f'Sleeping {seconds} second(s)...\\n')\n",
        "    time.sleep(seconds)\n",
        "    return f\"done sleeping\\n\"\n",
        "\n",
        "with concurrent.futures.ProcessPoolExecutor() as executor:\n",
        "    f1 = executor.submit(do_something,1)\n",
        "    print(f1.result())\n",
        "    \n",
        "# submit method schedules a function to be executed and returns a future object. A future object basically \n",
        "# encapsulates the execution of our function and allows us to check on it after its been scheduled. It allows\n",
        "# us to check the status of the method or to check the final result of the method etc.\n",
        "    \n",
        "\n",
        "finish = time.perf_counter()\n",
        "\n",
        "print(f'Finished in {round(finish-start, 2)} second(s)')"
      ],
      "execution_count": null,
      "outputs": [
        {
          "output_type": "stream",
          "text": [
            "Sleeping 1 second(s)...\n",
            "\n",
            "done sleeping\n",
            "\n",
            "Finished in 1.47 second(s)\n"
          ],
          "name": "stdout"
        }
      ]
    },
    {
      "cell_type": "code",
      "metadata": {
        "id": "6-NHIP3ZcLhG"
      },
      "source": [],
      "execution_count": null,
      "outputs": []
    },
    {
      "cell_type": "code",
      "metadata": {
        "id": "8YDHJasigONM",
        "outputId": "bee090c1-d8cb-4de5-a565-0d62dc4eadd7"
      },
      "source": [
        "import concurrent.futures\n",
        "import time\n",
        "\n",
        "start = time.perf_counter()\n",
        "\n",
        "\n",
        "def do_something(seconds):\n",
        "    print(f'Sleeping {seconds} second(s)...\\n')\n",
        "    time.sleep(seconds)\n",
        "    return f\"done sleeping\"\n",
        "\n",
        "with concurrent.futures.ProcessPoolExecutor() as executor:\n",
        "    f1 = executor.submit(do_something,1)\n",
        "    f2 = executor.submit(do_something,1)\n",
        "    print(f1.result())\n",
        "    print(f2.result())\n",
        "\n",
        "    \n",
        "\n",
        "finish = time.perf_counter()\n",
        "\n",
        "print(f'Finished in {round(finish-start, 2)} second(s)')"
      ],
      "execution_count": null,
      "outputs": [
        {
          "output_type": "stream",
          "text": [
            "Sleeping 1 second(s)...\n",
            "Sleeping 1 second(s)...\n",
            "\n",
            "\n",
            "done sleeping\n",
            "done sleeping\n",
            "Finished in 1.04 second(s)\n"
          ],
          "name": "stdout"
        }
      ]
    },
    {
      "cell_type": "code",
      "metadata": {
        "id": "7saBcH4GgONS"
      },
      "source": [],
      "execution_count": null,
      "outputs": []
    },
    {
      "cell_type": "code",
      "metadata": {
        "id": "KlXbN-eHgONX"
      },
      "source": [],
      "execution_count": null,
      "outputs": []
    },
    {
      "cell_type": "code",
      "metadata": {
        "id": "aMqI_DcngONb",
        "outputId": "781d013e-1fe3-4614-f952-4908417e7ec9"
      },
      "source": [
        "import concurrent.futures\n",
        "import time\n",
        "\n",
        "start = time.perf_counter()\n",
        "\n",
        "\n",
        "def do_something(seconds):\n",
        "    print(f'Sleeping {seconds} second(s)...\\n')\n",
        "    time.sleep(seconds)\n",
        "    return f\"done sleeping\"\n",
        "\n",
        "with concurrent.futures.ProcessPoolExecutor() as executor:\n",
        "   results = [executor.submit(do_something,1) for _ in range(10)]\n",
        "    \n",
        "    \n",
        "   # as completed gives us an iterator that yields the results of the processes as they are completed so we\n",
        "   # we can loop over that iterator\n",
        "   for f in concurrent.futures.as_completed(results):\n",
        "     print(f.result())\n",
        "\n",
        "finish = time.perf_counter()\n",
        "\n",
        "print(f'Finished in {round(finish-start, 2)} second(s)')"
      ],
      "execution_count": null,
      "outputs": [
        {
          "output_type": "stream",
          "text": [
            "Sleeping 1 second(s)...\n",
            "Sleeping 1 second(s)...\n",
            "\n",
            "\n",
            "Sleeping 1 second(s)...\n",
            "Sleeping 1 second(s)...\n",
            "\n",
            "\n",
            "Sleeping 1 second(s)...\n",
            "Sleeping 1 second(s)...\n",
            "\n",
            "Sleeping 1 second(s)...\n",
            "\n",
            "\n",
            "Sleeping 1 second(s)...\n",
            "\n",
            "done sleeping\n",
            "done sleeping\n",
            "done sleeping\n",
            "done sleeping\n",
            "Sleeping 1 second(s)...\n",
            "Sleeping 1 second(s)...\n",
            "\n",
            "\n",
            "done sleeping\n",
            "done sleeping\n",
            "done sleeping\n",
            "done sleeping\n",
            "done sleeping\n",
            "done sleeping\n",
            "Finished in 3.06 second(s)\n"
          ],
          "name": "stdout"
        }
      ]
    },
    {
      "cell_type": "code",
      "metadata": {
        "id": "LxejTBhhgONh"
      },
      "source": [],
      "execution_count": null,
      "outputs": []
    },
    {
      "cell_type": "code",
      "metadata": {
        "id": "GAJGrjyzgONn",
        "outputId": "0f7d3fb4-e0e4-4a4f-ba3a-40bdfeff5af4"
      },
      "source": [
        "# now lets prove that the results are coming in as they are completed by passing different seconds to sleep \n",
        "# for each process\n",
        "\n",
        "\n",
        "import concurrent.futures\n",
        "import time\n",
        "\n",
        "start = time.perf_counter()\n",
        "\n",
        "\n",
        "def do_something(seconds):\n",
        "    print(f'Sleeping {seconds} second(s)...\\n')\n",
        "    time.sleep(seconds)\n",
        "    return f\"done sleeping for {seconds}\"\n",
        "\n",
        "seconds = [4,5,2,1,6,3,1.5,7]\n",
        "with concurrent.futures.ProcessPoolExecutor() as executor:\n",
        "   results = [executor.submit(do_something,sec) for sec in seconds]\n",
        "    \n",
        "    \n",
        "   # as completed gives us an iterator that yields the results of the processes as they are completed so we\n",
        "   # we can loop over that iterator\n",
        "   for f in concurrent.futures.as_completed(results):\n",
        "     print(f.result())\n",
        "\n",
        "finish = time.perf_counter()\n",
        "\n",
        "print(f'Finished in {round(finish-start, 2)} second(s)')"
      ],
      "execution_count": null,
      "outputs": [
        {
          "output_type": "stream",
          "text": [
            "Sleeping 4 second(s)...\n",
            "Sleeping 1 second(s)...\n",
            "Sleeping 2 second(s)...\n",
            "Sleeping 5 second(s)...\n",
            "\n",
            "\n",
            "\n",
            "\n",
            "Sleeping 6 second(s)...\n",
            "\n",
            "done sleeping for 1\n",
            "Sleeping 3 second(s)...\n",
            "\n",
            "done sleeping for 2\n",
            "Sleeping 1.5 second(s)...\n",
            "\n",
            "done sleeping for 4\n",
            "Sleeping 7 second(s)...\n",
            "\n",
            "done sleeping for 5\n",
            "done sleeping for 3\n",
            "done sleeping for 1.5\n",
            "done sleeping for 6\n",
            "done sleeping for 7\n",
            "Finished in 12.06 second(s)\n"
          ],
          "name": "stdout"
        }
      ]
    },
    {
      "cell_type": "code",
      "metadata": {
        "id": "RJ3Lo2dCgON2",
        "outputId": "27f1dbfb-f7a6-4894-c322-5fc0c972326d"
      },
      "source": [
        "# we can achieve the above in a better way using executor.map(). The submit method returns a future object but\n",
        "# map method directly returns the result. map returns the results of processes in the order the processes were\n",
        "# initially started and not in the ordered in which they were finished.\n",
        "\n",
        "import concurrent.futures\n",
        "import time\n",
        "\n",
        "start = time.perf_counter()\n",
        "\n",
        "\n",
        "def do_something(seconds):\n",
        "    print(f'Sleeping {seconds} second(s)...')\n",
        "    time.sleep(seconds)\n",
        "    return f'Done Sleeping...{seconds}'\n",
        "\n",
        "\n",
        "seconds = [4,5,2,1,6,3,1.5,7]\n",
        "with concurrent.futures.ProcessPoolExecutor() as executor:\n",
        "   results = executor.map(do_something, seconds)\n",
        "    \n",
        "   for result in results:\n",
        "    print(result)\n",
        "\n",
        "finish = time.perf_counter()\n",
        "\n",
        "print(f'Finished in {round(finish-start, 2)} second(s)')"
      ],
      "execution_count": null,
      "outputs": [
        {
          "output_type": "stream",
          "text": [
            "Sleeping 4 second(s)...Sleeping 2 second(s)...\n",
            "Sleeping 1 second(s)...\n",
            "Sleeping 5 second(s)...\n",
            "\n",
            "Sleeping 6 second(s)...\n",
            "Sleeping 3 second(s)...\n",
            "Sleeping 1.5 second(s)...\n",
            "Done Sleeping...4\n",
            "Sleeping 7 second(s)...\n",
            "Done Sleeping...5\n",
            "Done Sleeping...2\n",
            "Done Sleeping...1\n",
            "Done Sleeping...6\n",
            "Done Sleeping...3\n",
            "Done Sleeping...1.5\n",
            "Done Sleeping...7\n",
            "Finished in 12.07 second(s)\n"
          ],
          "name": "stdout"
        }
      ]
    },
    {
      "cell_type": "code",
      "metadata": {
        "colab": {
          "base_uri": "https://localhost:8080/",
          "height": 209
        },
        "id": "AULpU9luhReB",
        "outputId": "4f8b5d45-df1e-4f53-b401-540453a88a16"
      },
      "source": [
        "from sklearn.linear_model import LogisticRegression\n",
        "model = \"LogisticRegression()\"\n",
        "\n",
        "model = {\n",
        "         \"mod1\": [LogisticRegression(), [\"paramter values else empty\"] ],\n",
        "}\n",
        "model[\"mod1\"][0].fit(X, y)"
      ],
      "execution_count": null,
      "outputs": [
        {
          "output_type": "error",
          "ename": "NameError",
          "evalue": "ignored",
          "traceback": [
            "\u001b[0;31m---------------------------------------------------------------------------\u001b[0m",
            "\u001b[0;31mNameError\u001b[0m                                 Traceback (most recent call last)",
            "\u001b[0;32m<ipython-input-18-b384c1087007>\u001b[0m in \u001b[0;36m<module>\u001b[0;34m()\u001b[0m\n\u001b[1;32m      5\u001b[0m          \u001b[0;34m\"mod1\"\u001b[0m\u001b[0;34m:\u001b[0m \u001b[0;34m[\u001b[0m\u001b[0mLogisticRegression\u001b[0m\u001b[0;34m(\u001b[0m\u001b[0;34m)\u001b[0m\u001b[0;34m,\u001b[0m \u001b[0;34m[\u001b[0m\u001b[0;34m\"paramter values else empty\"\u001b[0m\u001b[0;34m]\u001b[0m \u001b[0;34m]\u001b[0m\u001b[0;34m,\u001b[0m\u001b[0;34m\u001b[0m\u001b[0;34m\u001b[0m\u001b[0m\n\u001b[1;32m      6\u001b[0m }\n\u001b[0;32m----> 7\u001b[0;31m \u001b[0mmodel\u001b[0m\u001b[0;34m[\u001b[0m\u001b[0;34m\"mod1\"\u001b[0m\u001b[0;34m]\u001b[0m\u001b[0;34m[\u001b[0m\u001b[0;36m0\u001b[0m\u001b[0;34m]\u001b[0m\u001b[0;34m.\u001b[0m\u001b[0mfit\u001b[0m\u001b[0;34m(\u001b[0m\u001b[0mX\u001b[0m\u001b[0;34m,\u001b[0m \u001b[0my\u001b[0m\u001b[0;34m)\u001b[0m\u001b[0;34m\u001b[0m\u001b[0;34m\u001b[0m\u001b[0m\n\u001b[0m",
            "\u001b[0;31mNameError\u001b[0m: name 'X' is not defined"
          ]
        }
      ]
    },
    {
      "cell_type": "code",
      "metadata": {
        "id": "NQfNWB33lbtI"
      },
      "source": [
        "from sklearn.linear_model import LogisticRegression\n",
        "pipe = Pipeline([('svc', SVC())])\n",
        "clf = LogisticRegression().fit(X, y)\n"
      ],
      "execution_count": null,
      "outputs": []
    },
    {
      "cell_type": "markdown",
      "metadata": {
        "id": "McjvXPKwgOOE"
      },
      "source": [
        "## A real world example of multithreading and multiprocessing"
      ]
    },
    {
      "cell_type": "markdown",
      "metadata": {
        "id": "dB4QCugrgOOE"
      },
      "source": [
        " LETS SAY WE WANT DOWNLOAD SOME IMAGES FROM A WEBSITE AND RESIZE THEM.\n",
        "1. The first operation of downloading images is an i/o bound operation and so multithreading would be ideal to parallelize it.\n",
        "2. The second operation of resizing the image is a cpu bound operation and so multiprocessing would be ideal to do this operation"
      ]
    },
    {
      "cell_type": "code",
      "metadata": {
        "id": "VuJFkT9mgOOF"
      },
      "source": [
        "import os\n",
        "\n",
        "os.getcwd()\n",
        "os.chdir('/home/ghostvb/STUDIES/PYTHON/PYTHON_BASICS/python programs/images')"
      ],
      "execution_count": null,
      "outputs": []
    },
    {
      "cell_type": "code",
      "metadata": {
        "id": "BXlYYqOBgOOJ",
        "outputId": "035c7453-a1b1-4a86-9371-48f418b39572"
      },
      "source": [
        "os.getcwd()"
      ],
      "execution_count": null,
      "outputs": [
        {
          "output_type": "execute_result",
          "data": {
            "text/plain": [
              "'/home/ghostvb/STUDIES/PYTHON/PYTHON_BASICS/python programs/images'"
            ]
          },
          "metadata": {
            "tags": []
          },
          "execution_count": 96
        }
      ]
    },
    {
      "cell_type": "code",
      "metadata": {
        "id": "-VdyAob2gOOP",
        "outputId": "e3b65c16-4853-46f0-b092-9bbd7b3ac09b"
      },
      "source": [
        "# downloading images without threading\n",
        "import requests\n",
        "import time\n",
        "\n",
        "img_urls = [\n",
        "    'https://images.unsplash.com/photo-1516117172878-fd2c41f4a759',\n",
        "    'https://images.unsplash.com/photo-1532009324734-20a7a5813719',\n",
        "    'https://images.unsplash.com/photo-1524429656589-6633a470097c',\n",
        "    'https://images.unsplash.com/photo-1530224264768-7ff8c1789d79',\n",
        "    'https://images.unsplash.com/photo-1564135624576-c5c88640f235',\n",
        "    'https://images.unsplash.com/photo-1541698444083-023c97d3f4b6',\n",
        "    'https://images.unsplash.com/photo-1522364723953-452d3431c267',\n",
        "    'https://images.unsplash.com/photo-1513938709626-033611b8cc03',\n",
        "    'https://images.unsplash.com/photo-1507143550189-fed454f93097',\n",
        "    'https://images.unsplash.com/photo-1493976040374-85c8e12f0c0e',\n",
        "    'https://images.unsplash.com/photo-1504198453319-5ce911bafcde',\n",
        "    'https://images.unsplash.com/photo-1530122037265-a5f1f91d3b99',\n",
        "    'https://images.unsplash.com/photo-1516972810927-80185027ca84',\n",
        "    'https://images.unsplash.com/photo-1550439062-609e1531270e',\n",
        "    'https://images.unsplash.com/photo-1549692520-acc6669e2f0c'\n",
        "]\n",
        "\n",
        "start = time.perf_counter()\n",
        "\n",
        "for img_url in img_urls:\n",
        "    img_bytes = requests.get(img_url).content\n",
        "    img_name = img_url.split('/')[3]\n",
        "    img_name = f\"{img_name}.jpg\"\n",
        "    \n",
        "    with open(img_name, 'wb') as img_file:\n",
        "        img_file.write(img_bytes)\n",
        "        print(f'{img_name} was downloaded')\n",
        "\n",
        "finish = time.perf_counter()\n",
        "\n",
        "print(f'Finished in {round(finish-start, 2)} second(s)')"
      ],
      "execution_count": null,
      "outputs": [
        {
          "output_type": "stream",
          "text": [
            "photo-1516117172878-fd2c41f4a759.jpg was downloaded\n",
            "photo-1532009324734-20a7a5813719.jpg was downloaded\n",
            "photo-1524429656589-6633a470097c.jpg was downloaded\n",
            "photo-1530224264768-7ff8c1789d79.jpg was downloaded\n",
            "photo-1564135624576-c5c88640f235.jpg was downloaded\n",
            "photo-1541698444083-023c97d3f4b6.jpg was downloaded\n",
            "photo-1522364723953-452d3431c267.jpg was downloaded\n",
            "photo-1513938709626-033611b8cc03.jpg was downloaded\n",
            "photo-1507143550189-fed454f93097.jpg was downloaded\n",
            "photo-1493976040374-85c8e12f0c0e.jpg was downloaded\n",
            "photo-1504198453319-5ce911bafcde.jpg was downloaded\n",
            "photo-1530122037265-a5f1f91d3b99.jpg was downloaded\n",
            "photo-1516972810927-80185027ca84.jpg was downloaded\n",
            "photo-1550439062-609e1531270e.jpg was downloaded\n",
            "photo-1549692520-acc6669e2f0c.jpg was downloaded\n",
            "Finished in 51.15 second(s)\n"
          ],
          "name": "stdout"
        }
      ]
    },
    {
      "cell_type": "code",
      "metadata": {
        "id": "o5fLD7WJgOOU"
      },
      "source": [],
      "execution_count": null,
      "outputs": []
    },
    {
      "cell_type": "code",
      "metadata": {
        "id": "JXQlKf3lgOOd",
        "outputId": "ddc50d42-94a7-4774-8578-cff74d50ad6c"
      },
      "source": [
        "# downloading images with threading\n",
        "import concurrent.futures\n",
        "import requests\n",
        "import time\n",
        "\n",
        "img_urls = [\n",
        "    'https://images.unsplash.com/photo-1516117172878-fd2c41f4a759',\n",
        "    'https://images.unsplash.com/photo-1532009324734-20a7a5813719',\n",
        "    'https://images.unsplash.com/photo-1524429656589-6633a470097c',\n",
        "    'https://images.unsplash.com/photo-1530224264768-7ff8c1789d79',\n",
        "    'https://images.unsplash.com/photo-1564135624576-c5c88640f235',\n",
        "    'https://images.unsplash.com/photo-1541698444083-023c97d3f4b6',\n",
        "    'https://images.unsplash.com/photo-1522364723953-452d3431c267',\n",
        "    'https://images.unsplash.com/photo-1513938709626-033611b8cc03',\n",
        "    'https://images.unsplash.com/photo-1507143550189-fed454f93097',\n",
        "    'https://images.unsplash.com/photo-1493976040374-85c8e12f0c0e',\n",
        "    'https://images.unsplash.com/photo-1504198453319-5ce911bafcde',\n",
        "    'https://images.unsplash.com/photo-1530122037265-a5f1f91d3b99',\n",
        "    'https://images.unsplash.com/photo-1516972810927-80185027ca84',\n",
        "    'https://images.unsplash.com/photo-1550439062-609e1531270e',\n",
        "    'https://images.unsplash.com/photo-1549692520-acc6669e2f0c'\n",
        "]\n",
        "\n",
        "start = time.perf_counter()\n",
        "\n",
        "def download_image(img_url):\n",
        "    img_bytes = requests.get(img_url).content\n",
        "    img_name = img_url.split('/')[3]\n",
        "    img_name = f'{img_name}.jpg'\n",
        "    with open(img_name, 'wb') as img_file:\n",
        "        img_file.write(img_bytes)\n",
        "        print(f'{img_name} was downloaded...')\n",
        "\n",
        "\n",
        "with concurrent.futures.ThreadPoolExecutor() as executor:\n",
        "    executor.map(download_image, img_urls)\n",
        "\n",
        "\n",
        "finish = time.perf_counter()\n",
        "\n",
        "print(f'Finished in {round(finish-start, 2)} second(s)')"
      ],
      "execution_count": null,
      "outputs": [
        {
          "output_type": "stream",
          "text": [
            "photo-1516117172878-fd2c41f4a759.jpg was downloaded...\n",
            "photo-1564135624576-c5c88640f235.jpg was downloaded...\n",
            "photo-1507143550189-fed454f93097.jpg was downloaded...\n",
            "photo-1513938709626-033611b8cc03.jpg was downloaded...\n",
            "photo-1530224264768-7ff8c1789d79.jpg was downloaded...\n",
            "photo-1504198453319-5ce911bafcde.jpg was downloaded...\n",
            "photo-1522364723953-452d3431c267.jpg was downloaded...\n",
            "photo-1524429656589-6633a470097c.jpg was downloaded...\n",
            "photo-1549692520-acc6669e2f0c.jpg was downloaded...\n",
            "photo-1532009324734-20a7a5813719.jpg was downloaded...\n",
            "photo-1516972810927-80185027ca84.jpg was downloaded...\n",
            "photo-1530122037265-a5f1f91d3b99.jpg was downloaded...\n",
            "photo-1541698444083-023c97d3f4b6.jpg was downloaded...\n",
            "photo-1493976040374-85c8e12f0c0e.jpg was downloaded...\n",
            "photo-1550439062-609e1531270e.jpg was downloaded...\n",
            "Finished in 36.14 second(s)\n"
          ],
          "name": "stdout"
        }
      ]
    },
    {
      "cell_type": "code",
      "metadata": {
        "id": "2AtRtoRwgOOj"
      },
      "source": [],
      "execution_count": null,
      "outputs": []
    },
    {
      "cell_type": "code",
      "metadata": {
        "id": "ZferTjo5gOOo",
        "outputId": "d96be9a2-33ed-473b-aefd-57e61f286843"
      },
      "source": [
        "import time\n",
        "import concurrent.futures\n",
        "from PIL import Image, ImageFilter\n",
        "\n",
        "img_names = [\n",
        "    'photo-1516117172878-fd2c41f4a759.jpg',\n",
        "    'photo-1532009324734-20a7a5813719.jpg',\n",
        "    'photo-1524429656589-6633a470097c.jpg',\n",
        "    'photo-1530224264768-7ff8c1789d79.jpg',\n",
        "    'photo-1564135624576-c5c88640f235.jpg',\n",
        "    'photo-1541698444083-023c97d3f4b6.jpg',\n",
        "    'photo-1522364723953-452d3431c267.jpg',\n",
        "    'photo-1513938709626-033611b8cc03.jpg',\n",
        "    'photo-1507143550189-fed454f93097.jpg',\n",
        "    'photo-1493976040374-85c8e12f0c0e.jpg',\n",
        "    'photo-1504198453319-5ce911bafcde.jpg',\n",
        "    'photo-1530122037265-a5f1f91d3b99.jpg',\n",
        "    'photo-1516972810927-80185027ca84.jpg',\n",
        "    'photo-1550439062-609e1531270e.jpg',\n",
        "    'photo-1549692520-acc6669e2f0c.jpg'\n",
        "]\n",
        "\n",
        "t1 = time.perf_counter()\n",
        "\n",
        "\n",
        "\n",
        "def process_image(img_name):\n",
        "    img = Image.open(img_name)\n",
        "\n",
        "    img = img.filter(ImageFilter.GaussianBlur(15))\n",
        "\n",
        "    img.thumbnail(size)\n",
        "    img.save(f'processed/{img_name}')\n",
        "    print(f'{img_name} was processed...')\n",
        "\n",
        "\n",
        "with concurrent.futures.ProcessPoolExecutor() as executor:\n",
        "    executor.map(process_image, img_names)\n",
        "\n",
        "\n",
        "t2 = time.perf_counter()\n",
        "\n",
        "print(f'Finished in {t2-t1} seconds')"
      ],
      "execution_count": null,
      "outputs": [
        {
          "output_type": "stream",
          "text": [
            "photo-1516117172878-fd2c41f4a759.jpg was processed...\n",
            "photo-1530224264768-7ff8c1789d79.jpg was processed...\n",
            "photo-1524429656589-6633a470097c.jpg was processed...\n",
            "photo-1564135624576-c5c88640f235.jpg was processed...\n",
            "photo-1532009324734-20a7a5813719.jpg was processed...\n",
            "photo-1507143550189-fed454f93097.jpg was processed...\n",
            "photo-1541698444083-023c97d3f4b6.jpg was processed...\n",
            "photo-1522364723953-452d3431c267.jpg was processed...\n",
            "photo-1513938709626-033611b8cc03.jpg was processed...\n",
            "photo-1530122037265-a5f1f91d3b99.jpg was processed...\n",
            "photo-1516972810927-80185027ca84.jpg was processed...\n",
            "photo-1504198453319-5ce911bafcde.jpg was processed...\n",
            "photo-1549692520-acc6669e2f0c.jpg was processed...\n",
            "photo-1550439062-609e1531270e.jpg was processed...\n",
            "photo-1493976040374-85c8e12f0c0e.jpg was processed...\n",
            "Finished in 13.709533458008082 seconds\n"
          ],
          "name": "stdout"
        }
      ]
    },
    {
      "cell_type": "code",
      "metadata": {
        "id": "fb5lF1eJgOOx"
      },
      "source": [
        "\n",
        "from sklearn.linear_model import LogisticRegression"
      ],
      "execution_count": null,
      "outputs": []
    },
    {
      "cell_type": "code",
      "metadata": {
        "id": "KVMv1XIHlu_q"
      },
      "source": [
        "para = {'multi_class':'multinomial'}\n",
        "clf = LogisticRegression(**para)"
      ],
      "execution_count": null,
      "outputs": []
    },
    {
      "cell_type": "code",
      "metadata": {
        "colab": {
          "base_uri": "https://localhost:8080/"
        },
        "id": "_4Cj_ocGl4g0",
        "outputId": "14b213a6-6d3d-4b60-b9e1-e086f8cb8cc6"
      },
      "source": [
        "clf.get_params()"
      ],
      "execution_count": null,
      "outputs": [
        {
          "output_type": "execute_result",
          "data": {
            "text/plain": [
              "{'C': 1.0,\n",
              " 'class_weight': None,\n",
              " 'dual': False,\n",
              " 'fit_intercept': True,\n",
              " 'intercept_scaling': 1,\n",
              " 'l1_ratio': None,\n",
              " 'max_iter': 100,\n",
              " 'multi_class': 'multinomial',\n",
              " 'n_jobs': None,\n",
              " 'penalty': 'l2',\n",
              " 'random_state': None,\n",
              " 'solver': 'lbfgs',\n",
              " 'tol': 0.0001,\n",
              " 'verbose': 0,\n",
              " 'warm_start': False}"
            ]
          },
          "metadata": {
            "tags": []
          },
          "execution_count": 11
        }
      ]
    },
    {
      "cell_type": "code",
      "metadata": {
        "id": "Z4lozyfkmGsq"
      },
      "source": [],
      "execution_count": null,
      "outputs": []
    }
  ]
}