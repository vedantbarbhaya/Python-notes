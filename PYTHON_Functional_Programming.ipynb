{
  "nbformat": 4,
  "nbformat_minor": 0,
  "metadata": {
    "colab": {
      "provenance": [],
      "collapsed_sections": [
        "LiFs1F5PZuTS",
        "o3ep1rs7Z1U0",
        "odFovZuCMOp1",
        "PTamWFhOZmOI",
        "vda-5MF_rtLN",
        "IEVeziM_VXGG",
        "fKgKF2dVXjDM",
        "ycuh4TUVmi3f",
        "-g6Cl-DLjhhm",
        "58C9LQE2fGZc"
      ]
    },
    "kernelspec": {
      "name": "python3",
      "display_name": "Python 3"
    }
  },
  "cells": [
    {
      "cell_type": "markdown",
      "metadata": {
        "id": "LiFs1F5PZuTS"
      },
      "source": [
        "#**FUNCTIONAL PROGRAMMING IN PYTHON**"
      ]
    },
    {
      "cell_type": "markdown",
      "metadata": {
        "id": "o3ep1rs7Z1U0"
      },
      "source": [
        "## **1.BASICS**"
      ]
    },
    {
      "cell_type": "markdown",
      "metadata": {
        "id": "S6_KP4-kZ1Vu"
      },
      "source": [
        "Functional programming is a programming style that avoids side effects by performing computation with the evaluation of functions and relying heavily on immutable data structures. By using this programming style, you can reduce the liklehood of bugs and make sure that your programs are easier to maintain."
      ]
    },
    {
      "cell_type": "code",
      "metadata": {
        "id": "miZN5udRZ1iN"
      },
      "source": [
        "import collections\n",
        "Scientist = collections.namedtuple(\"Scientist\",[\"name\",\"field\",\"born\",\"nobel\"])"
      ],
      "execution_count": null,
      "outputs": []
    },
    {
      "cell_type": "code",
      "metadata": {
        "id": "ioJTEn0uXbaS"
      },
      "source": [
        "Sc1 = Scientist(name =\"ada loveless\",field = 'maths',born = '1815',nobel = 'no')"
      ],
      "execution_count": null,
      "outputs": []
    },
    {
      "cell_type": "code",
      "metadata": {
        "id": "6zVfMlt-cGqt",
        "outputId": "42620561-2e68-4675-c812-f3f85aa34a83",
        "colab": {
          "base_uri": "https://localhost:8080/",
          "height": 35
        }
      },
      "source": [
        "Sc1.name"
      ],
      "execution_count": null,
      "outputs": [
        {
          "output_type": "execute_result",
          "data": {
            "application/vnd.google.colaboratory.intrinsic+json": {
              "type": "string"
            },
            "text/plain": [
              "'ada loveless'"
            ]
          },
          "metadata": {
            "tags": []
          },
          "execution_count": 33
        }
      ]
    },
    {
      "cell_type": "code",
      "metadata": {
        "id": "p9w1LyKkbelU"
      },
      "source": [
        "# we created an object of type namedtuple and this are immutable type\n",
        "# we cant do Sc1.name = 'Eve loveless'"
      ],
      "execution_count": null,
      "outputs": []
    },
    {
      "cell_type": "code",
      "metadata": {
        "id": "D6-qszslcVpF"
      },
      "source": [
        "scientists = [Scientist(name =\"ada loveless\",field = 'maths',born = '1815',nobel = 'no'),Scientist(name =\"Even handler\",field = 'physics',born = '1925',nobel = 'no')]"
      ],
      "execution_count": null,
      "outputs": []
    },
    {
      "cell_type": "code",
      "metadata": {
        "id": "s5KE3Jq-cwI_",
        "outputId": "16addf82-2079-473d-a7ce-10c04cec3daa",
        "colab": {
          "base_uri": "https://localhost:8080/",
          "height": 52
        }
      },
      "source": [
        "from pprint import pprint\n",
        "pprint(scientists)"
      ],
      "execution_count": null,
      "outputs": [
        {
          "output_type": "stream",
          "text": [
            "[Scientist(name='ada loveless', field='maths', born='1815', nobel='no'),\n",
            " Scientist(name='Even handler', field='physics', born='1925', nobel='no')]\n"
          ],
          "name": "stdout"
        }
      ]
    },
    {
      "cell_type": "code",
      "metadata": {
        "id": "FEAYhKjWczM3",
        "outputId": "68b3db00-3872-4cd8-e10c-9b644b82cefc",
        "colab": {
          "base_uri": "https://localhost:8080/",
          "height": 184
        }
      },
      "source": [
        "scientists[0].name = \"Eve loveless\"\n",
        "# we still cant do this as the element type of list is namedtuple"
      ],
      "execution_count": null,
      "outputs": [
        {
          "output_type": "error",
          "ename": "AttributeError",
          "evalue": "ignored",
          "traceback": [
            "\u001b[0;31m---------------------------------------------------------------------------\u001b[0m",
            "\u001b[0;31mAttributeError\u001b[0m                            Traceback (most recent call last)",
            "\u001b[0;32m<ipython-input-37-961301ea3219>\u001b[0m in \u001b[0;36m<module>\u001b[0;34m()\u001b[0m\n\u001b[0;32m----> 1\u001b[0;31m \u001b[0mscientists\u001b[0m\u001b[0;34m[\u001b[0m\u001b[0;36m0\u001b[0m\u001b[0;34m]\u001b[0m\u001b[0;34m.\u001b[0m\u001b[0mname\u001b[0m \u001b[0;34m=\u001b[0m \u001b[0;34m\"Eve loveless\"\u001b[0m\u001b[0;34m\u001b[0m\u001b[0;34m\u001b[0m\u001b[0m\n\u001b[0m\u001b[1;32m      2\u001b[0m \u001b[0;31m# we still cant do this as the element type of list is namedtuple\u001b[0m\u001b[0;34m\u001b[0m\u001b[0;34m\u001b[0m\u001b[0;34m\u001b[0m\u001b[0m\n",
            "\u001b[0;31mAttributeError\u001b[0m: can't set attribute"
          ]
        }
      ]
    },
    {
      "cell_type": "code",
      "metadata": {
        "id": "-Qq-yARDdCkv"
      },
      "source": [
        "# but we can still delete an item from the list 'scientists' as lists are immutable so that is a problem\n",
        "del scientists[0]"
      ],
      "execution_count": null,
      "outputs": []
    },
    {
      "cell_type": "code",
      "metadata": {
        "id": "Ln_0ecODdRzh"
      },
      "source": [
        "scientists"
      ],
      "execution_count": null,
      "outputs": []
    },
    {
      "cell_type": "code",
      "metadata": {
        "id": "dLv8oiR5dSzS"
      },
      "source": [
        "# so what we do is instead of a list, we use tuple\n",
        "\n",
        "scientists = (\n",
        "              Scientist(name =\"ada loveless\",field = 'maths',born = '1815',nobel = 'no'),\n",
        "              Scientist(name =\"Even handler\",field = 'physics',born = '1925',nobel = 'no'),\n",
        "              Scientist(name =\"Steve balm\",field = 'biology',born = '1936',nobel = 'yes'),\n",
        "              Scientist(name =\"Jack Ryan\",field = 'maths',born = '1878',nobel = 'yes'),\n",
        "              Scientist(name =\"Marie Curie\",field = 'physics',born = '1920',nobel = 'yes')\n",
        "\n",
        ")"
      ],
      "execution_count": null,
      "outputs": []
    },
    {
      "cell_type": "code",
      "metadata": {
        "id": "1NHSeKHbeBG_"
      },
      "source": [
        "pprint(scientists)"
      ],
      "execution_count": null,
      "outputs": []
    },
    {
      "cell_type": "markdown",
      "metadata": {
        "id": "DM__mvYlLINp"
      },
      "source": [
        "***So this makes the foundation of starting with functional programming. We want to start with a solid data structure that is immutable preferably.***"
      ]
    },
    {
      "cell_type": "code",
      "metadata": {
        "id": "pNMlqYaALHgi"
      },
      "source": [],
      "execution_count": null,
      "outputs": []
    },
    {
      "cell_type": "markdown",
      "metadata": {
        "id": "odFovZuCMOp1"
      },
      "source": [
        "## **2.FILTER FUNCTION**"
      ]
    },
    {
      "cell_type": "code",
      "metadata": {
        "id": "2r4z1iI_K98H"
      },
      "source": [
        "x = filter(lambda x: x.nobel == \"yes\",scientists)\n",
        "# returns a filter object which is an iterable  "
      ],
      "execution_count": null,
      "outputs": []
    },
    {
      "cell_type": "code",
      "metadata": {
        "id": "TSp-9qhGS7C6"
      },
      "source": [
        "for i in x:\n",
        "  print(i)"
      ],
      "execution_count": null,
      "outputs": []
    },
    {
      "cell_type": "code",
      "metadata": {
        "id": "iMAQhdacTTRP",
        "outputId": "79bce8af-0a69-4315-caac-393b3df046ea",
        "colab": {
          "base_uri": "https://localhost:8080/"
        }
      },
      "source": [
        "tuple(filter(lambda x: x.nobel == \"yes\",scientists))"
      ],
      "execution_count": null,
      "outputs": [
        {
          "output_type": "execute_result",
          "data": {
            "text/plain": [
              "()"
            ]
          },
          "metadata": {
            "tags": []
          },
          "execution_count": 40
        }
      ]
    },
    {
      "cell_type": "code",
      "metadata": {
        "id": "D7nyi-2UTrBT",
        "outputId": "abf700d9-0202-45f8-d516-8735a0d9bb31",
        "colab": {
          "base_uri": "https://localhost:8080/"
        }
      },
      "source": [
        "tuple(filter(lambda x: x.field == \"physics\",scientists))"
      ],
      "execution_count": null,
      "outputs": [
        {
          "output_type": "execute_result",
          "data": {
            "text/plain": [
              "(Scientist(name='Even handler', field='physics', born='1925', nobel='no'),)"
            ]
          },
          "metadata": {
            "tags": []
          },
          "execution_count": 41
        }
      ]
    },
    {
      "cell_type": "code",
      "metadata": {
        "id": "cbUBsoSuUESr",
        "outputId": "966941c8-f0b0-4fc8-b7fb-0f1b3dbb5de8",
        "colab": {
          "base_uri": "https://localhost:8080/"
        }
      },
      "source": [
        "tuple(filter(lambda x: x.field == \"physics\" and x.nobel == \"yes\",scientists))"
      ],
      "execution_count": null,
      "outputs": [
        {
          "output_type": "execute_result",
          "data": {
            "text/plain": [
              "()"
            ]
          },
          "metadata": {
            "tags": []
          },
          "execution_count": 42
        }
      ]
    },
    {
      "cell_type": "code",
      "metadata": {
        "id": "K2Ns-3nhVx-j",
        "outputId": "241e6ac6-9d50-496f-8366-ebe50fc45f43",
        "colab": {
          "base_uri": "https://localhost:8080/"
        }
      },
      "source": [
        "# another way of doing the same thing. We write a named function instead of lambda function\n",
        "\n",
        "def filter_noble(x):\n",
        "  return x.nobel == \"yes\"\n",
        "\n",
        "tuple(filter(filter_noble,scientists))"
      ],
      "execution_count": null,
      "outputs": [
        {
          "output_type": "execute_result",
          "data": {
            "text/plain": [
              "()"
            ]
          },
          "metadata": {
            "tags": []
          },
          "execution_count": 43
        }
      ]
    },
    {
      "cell_type": "markdown",
      "metadata": {
        "id": "qgts4kbaUOLg"
      },
      "source": [
        "So the question why do we select elements this way? We can easily iterate over the list or tuple and apply if conditions to filter out the desired result.\n",
        "\n",
        "The reasons to use this are:\n",
        "1. We can chain these functions. for ex - pprint(tuple(filter(-----))) and apply the transformation in a purely functional way, i.e we can get the desired results by just using a bunch of functions.\n",
        "\n",
        "Now we have 2 ways to achieve the same result - filter function and list comprehension."
      ]
    },
    {
      "cell_type": "code",
      "metadata": {
        "id": "O3Vs2bewUNo5",
        "outputId": "109e1594-17b1-4aed-ceb3-c733456a11d8",
        "colab": {
          "base_uri": "https://localhost:8080/"
        }
      },
      "source": [
        "tuple([x for x in scientists if x.nobel == \"yes\"])"
      ],
      "execution_count": null,
      "outputs": [
        {
          "output_type": "execute_result",
          "data": {
            "text/plain": [
              "()"
            ]
          },
          "metadata": {
            "tags": []
          },
          "execution_count": 44
        }
      ]
    },
    {
      "cell_type": "code",
      "metadata": {
        "id": "Kt8xKZHVUIyy"
      },
      "source": [],
      "execution_count": null,
      "outputs": []
    },
    {
      "cell_type": "markdown",
      "metadata": {
        "id": "PTamWFhOZmOI"
      },
      "source": [
        "## **3. MAP FUNCTION**"
      ]
    },
    {
      "cell_type": "code",
      "metadata": {
        "id": "Ldrhg_69Zn-0",
        "outputId": "eacdf07e-108e-41d7-d748-fed110c899df",
        "colab": {
          "base_uri": "https://localhost:8080/",
          "height": 86
        }
      },
      "source": [
        "# we pass a func and an iterator and the map function applies the func on the iterable object and returns a map object\n",
        "\n",
        "l1 = [\"1\",\"2\",\"3\",\"4\",\"5\"]\n",
        "print(l1[0] + l1[1])  #definitely a string\n",
        "\n",
        "l2 = list(map(int,l1))\n",
        "print(l2[0] + l2[1]) # now they are integers\n",
        "\n",
        "print(l1)\n",
        "print(l2)"
      ],
      "execution_count": null,
      "outputs": [
        {
          "output_type": "stream",
          "text": [
            "12\n",
            "3\n",
            "['1', '2', '3', '4', '5']\n",
            "[1, 2, 3, 4, 5]\n"
          ],
          "name": "stdout"
        }
      ]
    },
    {
      "cell_type": "code",
      "metadata": {
        "id": "c4Pad37Damum",
        "outputId": "71fe6dc4-8a7a-49dc-9281-53f7394b53a9",
        "colab": {
          "base_uri": "https://localhost:8080/",
          "height": 34
        }
      },
      "source": [
        "names_ages = tuple(map(lambda x: {'name':x.name,'age':2020 - int(x.born)}, scientists))\n",
        "names_ages"
      ],
      "execution_count": null,
      "outputs": [
        {
          "output_type": "execute_result",
          "data": {
            "text/plain": [
              "({'age': 205, 'name': 'ada loveless'}, {'age': 95, 'name': 'Even handler'})"
            ]
          },
          "metadata": {
            "tags": []
          },
          "execution_count": 46
        }
      ]
    },
    {
      "cell_type": "code",
      "metadata": {
        "id": "ouIdCEV7cjB2",
        "outputId": "bde05238-8434-4d12-a4d2-682f870df021",
        "colab": {
          "base_uri": "https://localhost:8080/",
          "height": 34
        }
      },
      "source": [
        "# same as above without using lambda\n",
        "def names_ages(x):\n",
        "  return {'name':x.name, \"age\":2020 - int(x.born)}\n",
        "\n",
        "names_ages = tuple(map(names_ages, scientists)) \n",
        "names_ages"
      ],
      "execution_count": null,
      "outputs": [
        {
          "output_type": "execute_result",
          "data": {
            "text/plain": [
              "({'age': 205, 'name': 'ada loveless'}, {'age': 95, 'name': 'Even handler'})"
            ]
          },
          "metadata": {
            "tags": []
          },
          "execution_count": 47
        }
      ]
    },
    {
      "cell_type": "markdown",
      "metadata": {
        "id": "4qwugxWrdVR-"
      },
      "source": [
        "here we created a new dictionary with a new attribute which wont have been possible with filter."
      ]
    },
    {
      "cell_type": "code",
      "metadata": {
        "id": "7ASz_Nf0dF2s",
        "outputId": "78c2a6f5-a06b-42a6-986f-528c7c090411",
        "colab": {
          "base_uri": "https://localhost:8080/",
          "height": 34
        }
      },
      "source": [
        "# a more pythonic way of doing the same thing:\n",
        "\n",
        "tuple([{\"name\":x.name,\"age\": 2020 - int(x.born)} for x in scientists])\n"
      ],
      "execution_count": null,
      "outputs": [
        {
          "output_type": "execute_result",
          "data": {
            "text/plain": [
              "({'age': 205, 'name': 'ada loveless'}, {'age': 95, 'name': 'Even handler'})"
            ]
          },
          "metadata": {
            "tags": []
          },
          "execution_count": 48
        }
      ]
    },
    {
      "cell_type": "code",
      "metadata": {
        "id": "yrIZFPB5hP9x",
        "outputId": "12a78622-6a5a-424d-b182-7689a1e64c08",
        "colab": {
          "base_uri": "https://localhost:8080/",
          "height": 167
        }
      },
      "source": [
        "a"
      ],
      "execution_count": null,
      "outputs": [
        {
          "output_type": "error",
          "ename": "NameError",
          "evalue": "ignored",
          "traceback": [
            "\u001b[0;31m---------------------------------------------------------------------------\u001b[0m",
            "\u001b[0;31mNameError\u001b[0m                                 Traceback (most recent call last)",
            "\u001b[0;32m<ipython-input-49-3f786850e387>\u001b[0m in \u001b[0;36m<module>\u001b[0;34m()\u001b[0m\n\u001b[0;32m----> 1\u001b[0;31m \u001b[0ma\u001b[0m\u001b[0;34m\u001b[0m\u001b[0;34m\u001b[0m\u001b[0m\n\u001b[0m",
            "\u001b[0;31mNameError\u001b[0m: name 'a' is not defined"
          ]
        }
      ]
    },
    {
      "cell_type": "markdown",
      "metadata": {
        "id": "vda-5MF_rtLN"
      },
      "source": [
        "## **3. REDUCE FUNCTION**"
      ]
    },
    {
      "cell_type": "code",
      "metadata": {
        "id": "q9ZiaqJ_rw5i",
        "outputId": "a284cd8e-1eb9-40e8-d794-c2452a379037",
        "colab": {
          "base_uri": "https://localhost:8080/",
          "height": 236
        }
      },
      "source": [
        "from functools import reduce\n",
        "\n",
        "# takes a funtion and iterable and reduces down the iterable to a single value by applying the function repeatedly to te items in the sequence\n",
        "edit\n",
        "\n",
        "reduce(lambda x,y:x+y, [1,2,3,4,5])\n",
        "# basically takes 2 elements at a time.\n",
        "# first iteration x= 1,y = 2 and does  x = x+y = 3\n",
        "# second iteration x= 3,y = 3 and does  x = x+y = 6\n",
        "# third iteration x= 6,y = 4 and does  x = x+y = 10\n",
        "# fourth iteration x= 10,y = 5 and does  x = x+y = 15\n",
        "# so basically  func(func(func(func(x1,x2),x3),x4),x5) where func = x+y\n",
        "\n",
        "# so x variable above acts an accumulator and y variable takes on new value every time and the return value of the function is stored in accumulator"
      ],
      "execution_count": null,
      "outputs": [
        {
          "output_type": "error",
          "ename": "NameError",
          "evalue": "ignored",
          "traceback": [
            "\u001b[0;31m---------------------------------------------------------------------------\u001b[0m",
            "\u001b[0;31mNameError\u001b[0m                                 Traceback (most recent call last)",
            "\u001b[0;32m<ipython-input-50-098bd2ba6113>\u001b[0m in \u001b[0;36m<module>\u001b[0;34m()\u001b[0m\n\u001b[1;32m      2\u001b[0m \u001b[0;34m\u001b[0m\u001b[0m\n\u001b[1;32m      3\u001b[0m \u001b[0;31m# takes a funtion and iterable and reduces down the iterable to a single value by applying the function repeatedly to te items in the sequence\u001b[0m\u001b[0;34m\u001b[0m\u001b[0;34m\u001b[0m\u001b[0;34m\u001b[0m\u001b[0m\n\u001b[0;32m----> 4\u001b[0;31m \u001b[0medit\u001b[0m\u001b[0;34m\u001b[0m\u001b[0;34m\u001b[0m\u001b[0m\n\u001b[0m\u001b[1;32m      5\u001b[0m \u001b[0;34m\u001b[0m\u001b[0m\n\u001b[1;32m      6\u001b[0m \u001b[0mreduce\u001b[0m\u001b[0;34m(\u001b[0m\u001b[0;32mlambda\u001b[0m \u001b[0mx\u001b[0m\u001b[0;34m,\u001b[0m\u001b[0my\u001b[0m\u001b[0;34m:\u001b[0m\u001b[0mx\u001b[0m\u001b[0;34m+\u001b[0m\u001b[0my\u001b[0m\u001b[0;34m,\u001b[0m \u001b[0;34m[\u001b[0m\u001b[0;36m1\u001b[0m\u001b[0;34m,\u001b[0m\u001b[0;36m2\u001b[0m\u001b[0;34m,\u001b[0m\u001b[0;36m3\u001b[0m\u001b[0;34m,\u001b[0m\u001b[0;36m4\u001b[0m\u001b[0;34m,\u001b[0m\u001b[0;36m5\u001b[0m\u001b[0;34m]\u001b[0m\u001b[0;34m)\u001b[0m\u001b[0;34m\u001b[0m\u001b[0;34m\u001b[0m\u001b[0m\n",
            "\u001b[0;31mNameError\u001b[0m: name 'edit' is not defined"
          ]
        }
      ]
    },
    {
      "cell_type": "code",
      "metadata": {
        "id": "psYX8sS7sx6X",
        "outputId": "b9c7cb2b-a2d1-43da-bc78-0af3f594df2b",
        "colab": {
          "base_uri": "https://localhost:8080/",
          "height": 34
        }
      },
      "source": [
        "# another example to find the greatest number from a list\n",
        "\n",
        "reduce( lambda a,b: a if (a > b) else b , [47,11,42,102,13])"
      ],
      "execution_count": null,
      "outputs": [
        {
          "output_type": "execute_result",
          "data": {
            "text/plain": [
              "102"
            ]
          },
          "metadata": {
            "tags": []
          },
          "execution_count": 51
        }
      ]
    },
    {
      "cell_type": "code",
      "metadata": {
        "id": "5lKPD2RjuIPg",
        "outputId": "ee1860ea-f9e9-4021-e399-cb55551c8623",
        "colab": {
          "base_uri": "https://localhost:8080/",
          "height": 34
        }
      },
      "source": [
        "# Calculating the sum of the numbers from 1 to 100:\n",
        "\n",
        "reduce(lambda x, y: x+y, range(1,101))"
      ],
      "execution_count": null,
      "outputs": [
        {
          "output_type": "execute_result",
          "data": {
            "text/plain": [
              "5050"
            ]
          },
          "metadata": {
            "tags": []
          },
          "execution_count": 52
        }
      ]
    },
    {
      "cell_type": "code",
      "metadata": {
        "id": "tER27gQludMp",
        "outputId": "90b53fb4-27a7-4531-95c6-14b6939ca72f",
        "colab": {
          "base_uri": "https://localhost:8080/",
          "height": 34
        }
      },
      "source": [
        "# calculating total edge from names_ages tuple from above\n",
        "\n",
        "total_age = reduce(lambda acc,val:acc+val['age'],names_ages,0)\n",
        "total_age"
      ],
      "execution_count": null,
      "outputs": [
        {
          "output_type": "execute_result",
          "data": {
            "text/plain": [
              "300"
            ]
          },
          "metadata": {
            "tags": []
          },
          "execution_count": 53
        }
      ]
    },
    {
      "cell_type": "code",
      "metadata": {
        "id": "EmmP-UV5vs6j",
        "outputId": "3435319d-8f71-4110-fd61-5c1a68e5b7cf",
        "colab": {
          "base_uri": "https://localhost:8080/",
          "height": 34
        }
      },
      "source": [
        "# a more pythonic way to do the same thing\n",
        "sum([x['age'] for x in names_ages])"
      ],
      "execution_count": null,
      "outputs": [
        {
          "output_type": "execute_result",
          "data": {
            "text/plain": [
              "300"
            ]
          },
          "metadata": {
            "tags": []
          },
          "execution_count": 54
        }
      ]
    },
    {
      "cell_type": "code",
      "metadata": {
        "id": "ntkF2ov3wulX",
        "outputId": "43e257c8-da00-4fba-8c0c-8e34c8f3d2e5",
        "colab": {
          "base_uri": "https://localhost:8080/",
          "height": 34
        }
      },
      "source": [
        "# one place where we can use this is to group things\n",
        "# lets say we want to group scientists according to their fields\n",
        "\n",
        "def reducer(acc,val):\n",
        "    acc[val.field].append(val.name)\n",
        "    return acc\n",
        "  \n",
        "scientists_by_field = reduce(reducer,scientists, {'maths':[],'physics':[],'biology':[]})\n",
        "\n",
        "scientists_by_field\n",
        "\n",
        "# one backdrop of this is that we have to give a dictionary upfront whih then gets populated and if we tend to do a mistake there the entire code blows up\n",
        "# so a better way to do this is to use defaultdict from collections module"
      ],
      "execution_count": null,
      "outputs": [
        {
          "output_type": "execute_result",
          "data": {
            "text/plain": [
              "{'biology': [], 'maths': ['ada loveless'], 'physics': ['Even handler']}"
            ]
          },
          "metadata": {
            "tags": []
          },
          "execution_count": 55
        }
      ]
    },
    {
      "cell_type": "code",
      "metadata": {
        "id": "67fqJQpfxUtH",
        "outputId": "97262658-32b1-4005-aa3a-22e902c7c576",
        "colab": {
          "base_uri": "https://localhost:8080/",
          "height": 34
        }
      },
      "source": [
        "import collections \n",
        "\n",
        "def reducer(acc,val):\n",
        "    acc[val.field].append(val.name)\n",
        "    return acc\n",
        "  \n",
        "scientists_by_field = reduce(reducer,scientists, collections.defaultdict(list))\n",
        "\n",
        "dict(scientists_by_field)\n"
      ],
      "execution_count": null,
      "outputs": [
        {
          "output_type": "execute_result",
          "data": {
            "text/plain": [
              "{'maths': ['ada loveless'], 'physics': ['Even handler']}"
            ]
          },
          "metadata": {
            "tags": []
          },
          "execution_count": 56
        }
      ]
    },
    {
      "cell_type": "code",
      "metadata": {
        "id": "3bgQw803zM-G"
      },
      "source": [],
      "execution_count": null,
      "outputs": []
    },
    {
      "cell_type": "markdown",
      "metadata": {
        "id": "IEVeziM_VXGG"
      },
      "source": [
        "## **4. ZIP FUNCTION**"
      ]
    },
    {
      "cell_type": "code",
      "metadata": {
        "id": "wbQ_zMeEVWPY",
        "outputId": "2b89be8d-1e36-4ab0-c943-3b27a92636af",
        "colab": {
          "base_uri": "https://localhost:8080/"
        }
      },
      "source": [
        "list1 = [1,2,3,4,5]\n",
        "list2 = [1,4,9,16,25]\n",
        "\n",
        "\n",
        "print(dict(zip(list1,list2)))\n",
        "\n",
        "print(list(zip(list1,list2)))"
      ],
      "execution_count": null,
      "outputs": [
        {
          "output_type": "stream",
          "text": [
            "{1: 1, 2: 4, 3: 9, 4: 16, 5: 25}\n",
            "[(1, 1), (2, 4), (3, 9), (4, 16), (5, 25)]\n"
          ],
          "name": "stdout"
        }
      ]
    },
    {
      "cell_type": "code",
      "metadata": {
        "id": "12jFyNTRVyRe",
        "outputId": "849ca252-7037-4295-a244-b33e22f8f8e5",
        "colab": {
          "base_uri": "https://localhost:8080/"
        }
      },
      "source": [
        "# another example\n",
        "\n",
        "location = [\"Helgoland\", \"Kiel\", \n",
        "            \"Berlin-Tegel\", \"Konstanz\", \n",
        "            \"Hohenpeißenberg\"]\n",
        "air_pressure = [1021.2, 1019.9, 1023.7, 1023.1, 1027.7]\n",
        "temperatures = [6.0, 4.3, 2.7, -1.4, -4.4]\n",
        "altitude = [4, 27, 37, 443, 977]\n",
        "                \n",
        "for t in zip(location, air_pressure, temperatures, altitude):\n",
        "    print(t)\n",
        "\n"
      ],
      "execution_count": null,
      "outputs": [
        {
          "output_type": "stream",
          "text": [
            "('Helgoland', 1021.2, 6.0, 4)\n",
            "('Kiel', 1019.9, 4.3, 27)\n",
            "('Berlin-Tegel', 1023.7, 2.7, 37)\n",
            "('Konstanz', 1023.1, -1.4, 443)\n",
            "('Hohenpeißenberg', 1027.7, -4.4, 977)\n"
          ],
          "name": "stdout"
        }
      ]
    },
    {
      "cell_type": "code",
      "metadata": {
        "id": "vtf61X9bWRFZ",
        "outputId": "f015d3f0-4f3b-470a-b339-1a0af8336e6f",
        "colab": {
          "base_uri": "https://localhost:8080/"
        }
      },
      "source": [
        "#Parameters with Different Lengths\n",
        "\n",
        "colors = [\"green\", \"red\", \"blue\"]\n",
        "cars = [\"BMW\", \"Alfa Romeo\"]\n",
        "\n",
        "for i in zip(cars, colors):\n",
        "    print(i)\n",
        "\n"
      ],
      "execution_count": null,
      "outputs": [
        {
          "output_type": "stream",
          "text": [
            "('BMW', 'green')\n",
            "('Alfa Romeo', 'red')\n"
          ],
          "name": "stdout"
        }
      ]
    },
    {
      "cell_type": "code",
      "metadata": {
        "id": "MXIk-MOSXKrK"
      },
      "source": [],
      "execution_count": null,
      "outputs": []
    },
    {
      "cell_type": "markdown",
      "metadata": {
        "id": "89DJ8rt5XFMG"
      },
      "source": [
        "**unzipping using zip - use of * symbol**"
      ]
    },
    {
      "cell_type": "code",
      "metadata": {
        "id": "azzg-y7AWnaL",
        "outputId": "7f541f58-fe15-417c-e1e8-94e17c8f8233",
        "colab": {
          "base_uri": "https://localhost:8080/"
        }
      },
      "source": [
        "\n",
        "\n",
        "cities_and_population = [(\"Zurich\", 415367),\n",
        "                         (\"Geneva\", 201818),\n",
        "                         (\"Basel\", 177654),\n",
        "                         (\"Lausanne\", 139111),\n",
        "                         (\"Bern\", 133883),\n",
        "                         (\"Winterthur\", 111851)]\n",
        "            \n",
        "\n",
        "\n",
        "cities, populations = list(zip(*cities_and_population))\n",
        "print(cities)\n",
        "print(populations)"
      ],
      "execution_count": null,
      "outputs": [
        {
          "output_type": "stream",
          "text": [
            "('Zurich', 'Geneva', 'Basel', 'Lausanne', 'Bern', 'Winterthur')\n",
            "(415367, 201818, 177654, 139111, 133883, 111851)\n"
          ],
          "name": "stdout"
        }
      ]
    },
    {
      "cell_type": "code",
      "metadata": {
        "id": "7geaCYNAW3LR",
        "outputId": "fe3b48b6-54bf-4adb-82fb-6c1f41075e01",
        "colab": {
          "base_uri": "https://localhost:8080/"
        }
      },
      "source": [
        "# This is needed e.g., if we want to plot these data. This is just an illustrating\n",
        "# example and it is not necessary to understand it completely.You have to be familiar \n",
        "# with Pandas. In the following program, we assume that only the combined list is \n",
        "# available at the beginning:\n",
        "\n",
        "import pandas as pd\n",
        "\n",
        "cities_and_population = [(\"Zurich\", 415367),\n",
        "                         (\"Geneva\", 201818),\n",
        "                         (\"Basel\", 177654),\n",
        "                         (\"Lausanne\", 139111),\n",
        "                         (\"Bern\", 133883),\n",
        "                         (\"Winterthur\", 111851)]\n",
        "\n",
        "cities, populations = list(zip(*cities_and_population))\n",
        "s = pd.Series(populations, index=cities)\n",
        "\n",
        "s.plot(kind=\"bar\")\n",
        "\n"
      ],
      "execution_count": null,
      "outputs": [
        {
          "output_type": "execute_result",
          "data": {
            "text/plain": [
              "<matplotlib.axes._subplots.AxesSubplot at 0x7f6cee7f9908>"
            ]
          },
          "metadata": {
            "tags": []
          },
          "execution_count": 61
        },
        {
          "output_type": "display_data",
          "data": {
            "image/png": "[encoded data removed]",
            "text/plain": [
              "<Figure size 432x288 with 1 Axes>"
            ]
          },
          "metadata": {
            "tags": [],
            "needs_background": "light"
          }
        }
      ]
    },
    {
      "cell_type": "code",
      "metadata": {
        "id": "00tsZYdEXC-8"
      },
      "source": [],
      "execution_count": null,
      "outputs": []
    },
    {
      "cell_type": "markdown",
      "metadata": {
        "id": "fKgKF2dVXjDM"
      },
      "source": [
        "## **EXERCISE**\n",
        "\n",
        "Imagine an accounting routine used in a book shop. It works on a list with sublists, which look like this:\n",
        "\n",
        "    Order Number    Book Title and Author           Quantity     Price per Item\n",
        "    34587           Learning Python, Mark Lutz             4          40.95\n",
        "    98762           Programming Python, Mark Lutz          5          56.80\n",
        "    77226           Head First Python, Paul Barry          3          32.95\n",
        "    88112           Einführung in Python3, Bernd Klein     3          24.99\n",
        "\n",
        "\n",
        "Write a Python program, which returns a list with tuples of 2 elements. Each tuple consists of a the order number and the total price of that order. The price should be increased by 10€ if the value of the order is smaller than 100€.\n",
        "Write a Python program using lambda and map.\n",
        "\n",
        "\n"
      ]
    },
    {
      "cell_type": "code",
      "metadata": {
        "id": "PkdxaTEoXkIq"
      },
      "source": [
        "orders = [ [\"34587\", \"Learning Python, Mark Lutz\", 4, 40.95], \n",
        "           [\"98762\", \"Programming Python, Mark Lutz\", 5, 56.80], \n",
        "           [\"77226\", \"Head First Python, Paul Barry\", 3,32.95],\n",
        "           [\"88112\", \"Einführung in Python3, Bernd Klein\", \t3, 24.99]]"
      ],
      "execution_count": null,
      "outputs": []
    },
    {
      "cell_type": "code",
      "metadata": {
        "id": "4ztSvsQrXlvy",
        "outputId": "3d706d6e-a9fc-4192-a1ab-c5de2ec9a0dc",
        "colab": {
          "base_uri": "https://localhost:8080/",
          "height": 34
        }
      },
      "source": [
        "min_order = 100\n",
        "invoice = list(map(lambda x:x if x[1] > min_order else (x[0],x[1] + 10),map(lambda x: (x[0],x[2] * x[3]), orders)))\n",
        "print(l1)\n",
        "\n",
        "\n",
        "\n"
      ],
      "execution_count": null,
      "outputs": [
        {
          "output_type": "stream",
          "text": [
            "[('34587', 163.8), ('98762', 284.0), ('77226', 108.85000000000001), ('88112', 84.97)]\n"
          ],
          "name": "stdout"
        }
      ]
    },
    {
      "cell_type": "code",
      "metadata": {
        "id": "U1_1dpq2c5DA"
      },
      "source": [],
      "execution_count": null,
      "outputs": []
    },
    {
      "cell_type": "markdown",
      "metadata": {
        "id": "gsXeMDVRcudb"
      },
      "source": [
        "The same bookshop, but this time we work on a different list. The sublists of our lists look like this: \n",
        "\n",
        "      [ordernumber, (article number, quantity, price per unit), ... (article number, quantity, price per unit) ] \n",
        "      \n",
        "Write a program which returns a list of tuples of 2 ele with (order number, total amount of order)."
      ]
    },
    {
      "cell_type": "code",
      "metadata": {
        "id": "9lYMv7XKZ99N",
        "outputId": "d34c5f42-d03a-45e6-fe6a-aa3efd082883",
        "colab": {
          "base_uri": "https://localhost:8080/",
          "height": 34
        }
      },
      "source": [
        "# sublist structure: [ordernumber, (article number, quantity, price per unit), ... (article number, quantity, price per unit) ]\n",
        "\n",
        "\n",
        "from functools import reduce\n",
        "orders = [ [1, (\"5464\", 4, 9.99), (\"8274\",18,12.99), (\"9744\", 9, 44.95)], \n",
        "           [2, (\"5464\", 9, 9.99), (\"9744\", 9, 44.95)],\n",
        "           [3, (\"5464\", 9, 9.99), (\"88112\", 11, 24.99)],\n",
        "           [4, (\"8732\", 7, 11.99), (\"7733\",11,18.99), (\"88112\", 5, 39.95)] ]\n",
        "\n",
        "min_order = 100\n",
        "invoice_totals = list(map(lambda x: [x[0]] + list(map(lambda y: y[1]*y[2], x[1:])), orders))\n",
        "invoice_totals = list(map(lambda x: [x[0]] + [reduce(lambda a,b: a + b, x[1:])], invoice_totals))\n",
        "invoice_totals = list(map(lambda x: x if x[1] >= min_order else (x[0], x[1] + 10), invoice_totals))\n",
        "print(invoice_totals)"
      ],
      "execution_count": null,
      "outputs": [
        {
          "output_type": "stream",
          "text": [
            "[[1, 678.3299999999999], [2, 494.46000000000004], [3, 364.79999999999995], [4, 492.57]]\n"
          ],
          "name": "stdout"
        }
      ]
    },
    {
      "cell_type": "markdown",
      "metadata": {
        "id": "ycuh4TUVmi3f"
      },
      "source": [
        "# **MUTLIPROCESSING WITH FP**"
      ]
    },
    {
      "cell_type": "markdown",
      "metadata": {
        "id": "-g6Cl-DLjhhm"
      },
      "source": [
        "### **using multiprocessing module**"
      ]
    },
    {
      "cell_type": "code",
      "metadata": {
        "id": "PpQ7rA-ObjiJ"
      },
      "source": [
        "import collections\n",
        "Scientist = collections.namedtuple(\"Scientist\",[\"name\",\"field\",\"born\",\"nobel\"])\n",
        "\n",
        "scientists = (\n",
        "              Scientist(name =\"ada loveless\",field = 'maths',born = '1815',nobel = 'no'),\n",
        "              Scientist(name =\"Even handler\",field = 'physics',born = '1925',nobel = 'no'),\n",
        "              Scientist(name =\"Steve balm\",field = 'biology',born = '1936',nobel = 'yes'),\n",
        "              Scientist(name =\"Jack Ryan\",field = 'maths',born = '1878',nobel = 'yes'),\n",
        "              Scientist(name =\"Marie Curie\",field = 'physics',born = '1920',nobel = 'yes')\n",
        "\n",
        ")"
      ],
      "execution_count": null,
      "outputs": []
    },
    {
      "cell_type": "code",
      "metadata": {
        "id": "-isKCYQjnCGU",
        "outputId": "a3137a9a-ff10-4eb3-cafd-af19eeef7b30",
        "colab": {
          "base_uri": "https://localhost:8080/",
          "height": 104
        }
      },
      "source": [
        "scientists"
      ],
      "execution_count": null,
      "outputs": [
        {
          "output_type": "execute_result",
          "data": {
            "text/plain": [
              "(Scientist(name='ada loveless', field='maths', born='1815', nobel='no'),\n",
              " Scientist(name='Even handler', field='physics', born='1925', nobel='no'),\n",
              " Scientist(name='Steve balm', field='biology', born='1936', nobel='yes'),\n",
              " Scientist(name='Jack Ryan', field='maths', born='1878', nobel='yes'),\n",
              " Scientist(name='Marie Curie', field='physics', born='1920', nobel='yes'))"
            ]
          },
          "metadata": {
            "tags": []
          },
          "execution_count": 64
        }
      ]
    },
    {
      "cell_type": "code",
      "metadata": {
        "id": "9rFFH-pvnMLJ",
        "outputId": "ad95518c-c8db-419b-e7cb-af1c49bd7292",
        "colab": {
          "base_uri": "https://localhost:8080/",
          "height": 104
        }
      },
      "source": [
        "def transform(x):\n",
        "  return{\"name\": x.name, 'age': 2020 - int(x.born)}\n",
        "\n",
        "result = tuple(map(transform,scientists))\n",
        "pprint(result)"
      ],
      "execution_count": null,
      "outputs": [
        {
          "output_type": "stream",
          "text": [
            "({'age': 205, 'name': 'ada loveless'},\n",
            " {'age': 95, 'name': 'Even handler'},\n",
            " {'age': 84, 'name': 'Steve balm'},\n",
            " {'age': 142, 'name': 'Jack Ryan'},\n",
            " {'age': 100, 'name': 'Marie Curie'})\n"
          ],
          "name": "stdout"
        }
      ]
    },
    {
      "cell_type": "markdown",
      "metadata": {
        "id": "jnNeRW1TpEBI"
      },
      "source": [
        "now the above code ran very fast because we had very few no. of records but imagine having very large no. of records. This would then take a lot of time as it is processing one record at a time. lets try to simulate how it would work if we have large no, of records"
      ]
    },
    {
      "cell_type": "code",
      "metadata": {
        "id": "8_CDmSlmpDu4",
        "outputId": "0c06f5bf-fc08-4cc0-c8ac-9c3c0d2b109b",
        "colab": {
          "base_uri": "https://localhost:8080/",
          "height": 330
        }
      },
      "source": [
        "import time\n",
        "\n",
        "\n",
        "def transform(x):\n",
        "  print('processing record ' + x.name + '..................')\n",
        "  time.sleep(1)\n",
        "  result = {\"name\": x.name, 'age': 2020 - int(x.born)}\n",
        "  print(f'done processing record {x.name}')\n",
        "  return result\n",
        "\n",
        "start = time.time()\n",
        "result = tuple(map(transform,scientists))\n",
        "end = time.time()\n",
        "print(f\"\\ntime taken to transform records ={end - start:0.2f}\\n\")\n",
        "pprint(result)"
      ],
      "execution_count": null,
      "outputs": [
        {
          "output_type": "stream",
          "text": [
            "processing record ada loveless..................\n",
            "done processing record ada loveless\n",
            "processing record Even handler..................\n",
            "done processing record Even handler\n",
            "processing record Steve balm..................\n",
            "done processing record Steve balm\n",
            "processing record Jack Ryan..................\n",
            "done processing record Jack Ryan\n",
            "processing record Marie Curie..................\n",
            "done processing record Marie Curie\n",
            "\n",
            "time taken to transform records =5.01\n",
            "\n",
            "({'age': 205, 'name': 'ada loveless'},\n",
            " {'age': 95, 'name': 'Even handler'},\n",
            " {'age': 84, 'name': 'Steve balm'},\n",
            " {'age': 142, 'name': 'Jack Ryan'},\n",
            " {'age': 100, 'name': 'Marie Curie'})\n"
          ],
          "name": "stdout"
        }
      ]
    },
    {
      "cell_type": "markdown",
      "metadata": {
        "id": "1VbSzFALqfg9"
      },
      "source": [
        "Now the above code simulates how our code will work with large amount of data. But the catch is that above code is only using a single thread or processor at a time and the we can use multiprocessing to speed up the code using the multiprocessing module of python."
      ]
    },
    {
      "cell_type": "code",
      "metadata": {
        "id": "a2HpIEYdncT3",
        "outputId": "3b7b3411-f3fc-4664-c5f3-7871769a4c94",
        "colab": {
          "base_uri": "https://localhost:8080/",
          "height": 330
        }
      },
      "source": [
        "import time\n",
        "import os\n",
        "import multiprocessing\n",
        "\n",
        "def transform(x):\n",
        "  print(f'processing process no. {os.getpid()} for record {x.name}.................')\n",
        "  time.sleep(1)\n",
        "  result = {\"name\": x.name, 'age': 2020 - int(x.born)}\n",
        "  print(f'done processing process no. {os.getpid()} for record {x.name}')\n",
        "  return result\n",
        "\n",
        "\n",
        "\n",
        "pool = multiprocessing.Pool()\n",
        "\n",
        "start = time.time()\n",
        "result = pool.map(transform,scientists)\n",
        "end = time.time()\n",
        "\n",
        "\n",
        "print(f\"\\ntime taken to transform records ={end - start:0.2f}\\n\")\n",
        "pprint(result)"
      ],
      "execution_count": null,
      "outputs": [
        {
          "output_type": "stream",
          "text": [
            "processing process no. 929 for record Even handler.................\n",
            "processing process no. 928 for record ada loveless.................\n",
            "done processing process no. 929 for record Even handler\n",
            "processing process no. 929 for record Steve balm.................\n",
            "done processing process no. 928 for record ada loveless\n",
            "processing process no. 928 for record Jack Ryan.................\n",
            "done processing process no. 929 for record Steve balm\n",
            "processing process no. 929 for record Marie Curie.................\n",
            "done processing process no. 928 for record Jack Ryan\n",
            "done processing process no. 929 for record Marie Curie\n",
            "\n",
            "time taken to transform records =3.02\n",
            "\n",
            "[{'age': 205, 'name': 'ada loveless'},\n",
            " {'age': 95, 'name': 'Even handler'},\n",
            " {'age': 84, 'name': 'Steve balm'},\n",
            " {'age': 142, 'name': 'Jack Ryan'},\n",
            " {'age': 100, 'name': 'Marie Curie'}]\n"
          ],
          "name": "stdout"
        }
      ]
    },
    {
      "cell_type": "markdown",
      "metadata": {
        "id": "KhhrXQjBrTkX"
      },
      "source": [
        "If you see the output of the multiprocessing code, you notice few things:\n",
        "1. Time is 2 seconds less than the normal code and this difference grows as we have more and more records.\n",
        "2. If we see print statements, we can notice that there are multiple records that are starting to process simaltaneously instead of a single record at a time. \n",
        "\n",
        "NOTE: Here the process numbers are not shown as they should be as we are not using cores of the local pc. To see the output properly run the code on a local processor."
      ]
    },
    {
      "cell_type": "code",
      "metadata": {
        "id": "SS2AGk-zrKXN"
      },
      "source": [],
      "execution_count": null,
      "outputs": []
    },
    {
      "cell_type": "code",
      "metadata": {
        "id": "jD6bFp82v2tn",
        "outputId": "5f93d500-7493-40c5-984b-b4408846af03",
        "colab": {
          "base_uri": "https://localhost:8080/",
          "height": 330
        }
      },
      "source": [
        "# we can even control the number of processes that are being executed at a time \n",
        "# by passing keyword argument processes to the pool function\n",
        "\n",
        "import time\n",
        "import os\n",
        "import multiprocessing\n",
        "\n",
        "def transform(x):\n",
        "  print(f'processing process no. {os.getpid()} for record {x.name}.................')\n",
        "  time.sleep(1)\n",
        "  result = {\"name\": x.name, 'age': 2020 - int(x.born)}\n",
        "  print(f'done processing process no. {os.getpid()} for record {x.name}')\n",
        "  return result\n",
        "\n",
        "\n",
        "\n",
        "pool = multiprocessing.Pool(processes = 5)\n",
        "\n",
        "start = time.time()\n",
        "result = pool.map(transform,scientists)\n",
        "end = time.time()\n",
        "\n",
        "\n",
        "print(f\"\\ntime taken to transform records ={end - start:0.2f}\\n\")\n",
        "pprint(result)"
      ],
      "execution_count": null,
      "outputs": [
        {
          "output_type": "stream",
          "text": [
            "processing process no. 1103 for record Even handler.................\n",
            "processing process no. 1105 for record Jack Ryan.................\n",
            "processing process no. 1106 for record Marie Curie.................\n",
            "processing process no. 1104 for record Steve balm.................\n",
            "processing process no. 1102 for record ada loveless.................\n",
            "done processing process no. 1103 for record Even handler\n",
            "done processing process no. 1105 for record Jack Ryan\n",
            "done processing process no. 1106 for record Marie Curie\n",
            "done processing process no. 1104 for record Steve balm\n",
            "done processing process no. 1102 for record ada loveless\n",
            "\n",
            "time taken to transform records =1.03\n",
            "\n",
            "[{'age': 205, 'name': 'ada loveless'},\n",
            " {'age': 95, 'name': 'Even handler'},\n",
            " {'age': 84, 'name': 'Steve balm'},\n",
            " {'age': 142, 'name': 'Jack Ryan'},\n",
            " {'age': 100, 'name': 'Marie Curie'}]\n"
          ],
          "name": "stdout"
        }
      ]
    },
    {
      "cell_type": "code",
      "metadata": {
        "id": "mkLqm_VlwMKg"
      },
      "source": [],
      "execution_count": null,
      "outputs": []
    },
    {
      "cell_type": "markdown",
      "metadata": {
        "id": "58C9LQE2fGZc"
      },
      "source": [
        "### **using concurrent.futures module**"
      ]
    },
    {
      "cell_type": "code",
      "metadata": {
        "id": "Tp_aV0-GdP29",
        "outputId": "8b4d24e0-f031-4069-fb93-f8ec5ed8200a",
        "colab": {
          "base_uri": "https://localhost:8080/",
          "height": 330
        }
      },
      "source": [
        "import time\n",
        "import os\n",
        "from pprint import pprint\n",
        "import concurrent.futures\n",
        "\n",
        "def transform(x):\n",
        "  print(f'processing process no. {os.getpid()} for record {x.name}.................')\n",
        "  time.sleep(1)\n",
        "  result = {\"name\": x.name, 'age': 2020 - int(x.born)}\n",
        "  print(f'done processing process no. {os.getpid()} for record {x.name}')\n",
        "  return result\n",
        "\n",
        "start = time.time()\n",
        "\n",
        "with concurrent.futures.ProcessPoolExecutor() as executor:\n",
        "  result = executor.map(transform,scientists)\n",
        "\n",
        "end = time.time()\n",
        "\n",
        "\n",
        "print(f\"\\ntime taken to transform records ={end - start:0.2f}\\n\")\n",
        "pprint(tuple(result))"
      ],
      "execution_count": null,
      "outputs": [
        {
          "output_type": "stream",
          "text": [
            "processing process no. 255 for record ada loveless.................\n",
            "processing process no. 256 for record Even handler.................\n",
            "done processing process no. 255 for record ada loveless\n",
            "processing process no. 255 for record Steve balm.................\n",
            "done processing process no. 256 for record Even handler\n",
            "processing process no. 256 for record Jack Ryan.................\n",
            "done processing process no. 255 for record Steve balm\n",
            "processing process no. 255 for record Marie Curie.................\n",
            "done processing process no. 256 for record Jack Ryan\n",
            "done processing process no. 255 for record Marie Curie\n",
            "\n",
            "time taken to transform records =3.04\n",
            "\n",
            "({'age': 205, 'name': 'ada loveless'},\n",
            " {'age': 95, 'name': 'Even handler'},\n",
            " {'age': 84, 'name': 'Steve balm'},\n",
            " {'age': 142, 'name': 'Jack Ryan'},\n",
            " {'age': 100, 'name': 'Marie Curie'})\n"
          ],
          "name": "stdout"
        }
      ]
    },
    {
      "cell_type": "code",
      "metadata": {
        "id": "7mN9DMrtiKa9"
      },
      "source": [],
      "execution_count": null,
      "outputs": []
    },
    {
      "cell_type": "markdown",
      "metadata": {
        "id": "rTvzDRJlfu2j"
      },
      "source": [
        "so now the question aries as to why one should use concurrent.futures module instead of multiprocessing module. It is because concurrent.futures module gives a very clean implementation to implement different ways of multiprocessing. For example to do multithreading instead of multiprocessing, we can just change ***concurrent.futures.ProcessPoolExecutor()*** to  ***concurrent.futures.ThreadPoolExecutor()***"
      ]
    },
    {
      "cell_type": "code",
      "metadata": {
        "id": "5fQ9h6OHeYC-",
        "outputId": "def4a5a4-7a29-4aad-9434-43deeaed2eea",
        "colab": {
          "base_uri": "https://localhost:8080/",
          "height": 330
        }
      },
      "source": [
        "import time\n",
        "import os\n",
        "from pprint import pprint\n",
        "import concurrent.futures\n",
        "\n",
        "def transform(x):\n",
        "  print(f'processing process no. {os.getpid()} for record {x.name}.................')\n",
        "  time.sleep(1)\n",
        "  result = {\"name\": x.name, 'age': 2020 - int(x.born)}\n",
        "  print(f'done processing process no. {os.getpid()} for record {x.name}')\n",
        "  return result\n",
        "\n",
        "start = time.time()\n",
        "\n",
        "with concurrent.futures.ThreadPoolExecutor() as executor:\n",
        "  result = executor.map(transform,scientists)\n",
        "\n",
        "end = time.time()\n",
        "\n",
        "\n",
        "print(f\"\\ntime taken to transform records ={end - start:0.2f}\\n\")\n",
        "pprint(tuple(result))"
      ],
      "execution_count": null,
      "outputs": [
        {
          "output_type": "stream",
          "text": [
            "processing process no. 105 for record ada loveless.................\n",
            "processing process no. 105 for record Even handler.................\n",
            "processing process no. 105 for record Steve balm.................\n",
            "processing process no. 105 for record Jack Ryan.................\n",
            "processing process no. 105 for record Marie Curie.................\n",
            "done processing process no. 105 for record ada loveless\n",
            "done processing process no. 105 for record Even handlerdone processing process no. 105 for record Steve balm\n",
            "\n",
            "done processing process no. 105 for record Jack Ryan\n",
            "done processing process no. 105 for record Marie Curie\n",
            "\n",
            "time taken to transform records =1.01\n",
            "\n",
            "({'age': 205, 'name': 'ada loveless'},\n",
            " {'age': 95, 'name': 'Even handler'},\n",
            " {'age': 84, 'name': 'Steve balm'},\n",
            " {'age': 142, 'name': 'Jack Ryan'},\n",
            " {'age': 100, 'name': 'Marie Curie'})\n"
          ],
          "name": "stdout"
        }
      ]
    },
    {
      "cell_type": "markdown",
      "metadata": {
        "id": "_mr5diCtiRrz"
      },
      "source": [
        "Now python has something called global interpreter lock. What this does is that it does not let any 2 threads execute python code at the same time so even if wee have multiple threads running a program, only one of them can execute at a time and others are in waiting mode. Now it sounds like a huge limitation and it is at some times.\n",
        "\n",
        "Now here in the upper example the only operation we are doing is time.sleep and transform and it is a very basic operation but lets say if we were doing heavy number crunching, it would have been faster to use a single thread than multiple threads because of this limitation and the work around to it is to use multiprocessing rather than multithreading"
      ]
    },
    {
      "cell_type": "code",
      "metadata": {
        "id": "cnMpJbiLjakj"
      },
      "source": [],
      "execution_count": null,
      "outputs": []
    }
  ]
}