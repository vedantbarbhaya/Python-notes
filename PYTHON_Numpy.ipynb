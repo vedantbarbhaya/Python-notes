{
  "nbformat": 4,
  "nbformat_minor": 0,
  "metadata": {
    "colab": {
      "provenance": [],
      "collapsed_sections": [
        "Afgyf18dZ3uA"
      ]
    },
    "kernelspec": {
      "name": "python3",
      "display_name": "Python 3"
    }
  },
  "cells": [
    {
      "cell_type": "markdown",
      "metadata": {
        "id": "Afgyf18dZ3uA"
      },
      "source": [
        "# NUMPY"
      ]
    },
    {
      "cell_type": "code",
      "metadata": {
        "id": "gocdV-5jZ3uD"
      },
      "source": [
        "'''\n",
        "GOOD RESOURCES FOR NUMPY:\n",
        "\n",
        "https://www.python-course.eu/numpy.php\n",
        "https://numpy.org/devdocs/user/absolute_beginners.html#what-is-an-array\n",
        "scipy-lectures.org/intro/numpy/array_object.html#numpy-arrays\n",
        "https://numpy.org/doc/stable/user/quickstart.html\n",
        "'''"
      ],
      "execution_count": null,
      "outputs": []
    },
    {
      "cell_type": "code",
      "metadata": {
        "id": "c-2K752RZ3uS"
      },
      "source": [],
      "execution_count": null,
      "outputs": []
    },
    {
      "cell_type": "markdown",
      "metadata": {
        "id": "hqGogBrnZ7Ab"
      },
      "source": [
        "\n",
        "\n",
        "While NumPy by itself does not provide modeling or scientific functionality, having\n",
        "an understanding of NumPy arrays and array-oriented computing will help you use\n",
        "tools with array-oriented semantics, like pandas, much more effectively.\n",
        "\n",
        "For most data analysis applications, the main areas of functionality I’ll focus on are:\n",
        "*  Fast vectorized array operations for data munging and cleaning, subsetting and\n",
        "filtering, transformation, and any other kinds of computations\n",
        "*  Common array algorithms like sorting, unique, and set operations\n",
        "*  Efficient descriptive statistics and aggregating/summarizing data\n",
        "*  Data alignment and relational data manipulations for merging and joining\n",
        "together heterogeneous datasets\n",
        "*  Expressing conditional logic as array expressions instead of loops with if-elif-\n",
        "else branches\n",
        "*  Group-wise data manipulations (aggregation, transformation, function applica‐\n",
        "tion)\n",
        "    \n",
        "One of the reasons NumPy is so important for numerical computations in Python is\n",
        "because it is designed for efficiency on large arrays of data. There are a number of\n",
        "reasons for this:\n",
        "*  NumPy internally stores data in a contiguous block of memory, independent of\n",
        "other built-in Python objects. NumPy’s library of algorithms written in the C lan‐\n",
        "guage can operate on this memory without any type checking or other overhead.\n",
        "NumPy arrays also use much less memory than built-in Python sequences.\n",
        "*  NumPy operations perform complex computations on entire arrays without the\n",
        "need for Python for loops.\n",
        "\n"
      ]
    },
    {
      "cell_type": "code",
      "metadata": {
        "id": "3PQx0de9Z3uh"
      },
      "source": [],
      "execution_count": null,
      "outputs": []
    },
    {
      "cell_type": "code",
      "metadata": {
        "id": "ZcCHfI1cZ3uu",
        "outputId": "654fd238-3f9f-49f1-d578-49ef595657d6"
      },
      "source": [
        "# To give you an idea of the performance difference, consider a NumPy array of one\n",
        "# million integers, and the equivalent Python list:\n",
        "\n",
        "import numpy as np\n",
        "import matplotlib as plt\n",
        "my_arr = np.arange(1000000)\n",
        "my_list = list(range(1000000))\n",
        "\n",
        "# Now let’s multiply each sequence by 2:\n",
        "%time for _ in range(10): my_arr2 = my_arr * 2\n",
        "\n",
        "%time for _ in range(10): my_list2 = [x * 2 for x in my_list]"
      ],
      "execution_count": null,
      "outputs": [
        {
          "output_type": "stream",
          "text": [
            "CPU times: user 15.1 ms, sys: 15.6 ms, total: 30.7 ms\n",
            "Wall time: 31.8 ms\n",
            "CPU times: user 584 ms, sys: 141 ms, total: 724 ms\n",
            "Wall time: 725 ms\n"
          ],
          "name": "stdout"
        }
      ]
    },
    {
      "cell_type": "code",
      "metadata": {
        "id": "vtEGlpXQZ3u4"
      },
      "source": [],
      "execution_count": null,
      "outputs": []
    },
    {
      "cell_type": "markdown",
      "metadata": {
        "id": "-hhV1oy8Z3vC"
      },
      "source": [
        "## THE BASICS"
      ]
    },
    {
      "cell_type": "markdown",
      "metadata": {
        "id": "91IY_axvZ3vE"
      },
      "source": [
        "### **The NumPy ndarray: A Multidimensional Array Object**"
      ]
    },
    {
      "cell_type": "code",
      "metadata": {
        "id": "jdyZMjKLZ3vH"
      },
      "source": [
        "'''\n",
        "the basic aray object of numpy is called ndarray or n dimnesional array synonymous to dataframe in pandas\n",
        "'''"
      ],
      "execution_count": null,
      "outputs": []
    },
    {
      "cell_type": "code",
      "metadata": {
        "id": "DMTgrVfSZ3vO"
      },
      "source": [
        "# 1D array"
      ],
      "execution_count": null,
      "outputs": []
    },
    {
      "cell_type": "code",
      "metadata": {
        "id": "AszS2El3Z3vV"
      },
      "source": [
        "data = np.array([1,2,0,4,5,6])"
      ],
      "execution_count": null,
      "outputs": []
    },
    {
      "cell_type": "code",
      "metadata": {
        "id": "9zuhwpkLZ3vd",
        "outputId": "327869cc-c208-411c-fc53-9555cbb48e4b"
      },
      "source": [
        "data"
      ],
      "execution_count": null,
      "outputs": [
        {
          "output_type": "execute_result",
          "data": {
            "text/plain": [
              "array([1, 2, 0, 4, 5, 6])"
            ]
          },
          "metadata": {
            "tags": []
          },
          "execution_count": 5
        }
      ]
    },
    {
      "cell_type": "code",
      "metadata": {
        "id": "eHBrrLbxZ3vl",
        "outputId": "97c5e7aa-95e7-488e-ba38-adb52956a231"
      },
      "source": [
        "type(data)"
      ],
      "execution_count": null,
      "outputs": [
        {
          "output_type": "execute_result",
          "data": {
            "text/plain": [
              "numpy.ndarray"
            ]
          },
          "metadata": {
            "tags": []
          },
          "execution_count": 6
        }
      ]
    },
    {
      "cell_type": "code",
      "metadata": {
        "id": "SnOMDGojZ3vt"
      },
      "source": [
        "# 2D array"
      ],
      "execution_count": null,
      "outputs": []
    },
    {
      "cell_type": "code",
      "metadata": {
        "id": "yMNOj_BvZ3v1"
      },
      "source": [
        "a = np.array([[1,2,3,4,5,6],['a','b','c','d','e','f']])"
      ],
      "execution_count": null,
      "outputs": []
    },
    {
      "cell_type": "code",
      "metadata": {
        "id": "BFe4kNpkZ3v9",
        "outputId": "225236a4-787c-4d12-fdc7-feb3af544977"
      },
      "source": [
        "a"
      ],
      "execution_count": null,
      "outputs": [
        {
          "output_type": "execute_result",
          "data": {
            "text/plain": [
              "array([['1', '2', '3', '4', '5', '6'],\n",
              "       ['a', 'b', 'c', 'd', 'e', 'f']], dtype='<U21')"
            ]
          },
          "metadata": {
            "tags": []
          },
          "execution_count": 41
        }
      ]
    },
    {
      "cell_type": "code",
      "metadata": {
        "id": "Y6FI9USaZ3wE",
        "outputId": "ca3e83c7-d91c-49ed-b65b-92a321d0f187"
      },
      "source": [
        "a.dtype"
      ],
      "execution_count": null,
      "outputs": [
        {
          "output_type": "execute_result",
          "data": {
            "text/plain": [
              "dtype('<U21')"
            ]
          },
          "metadata": {
            "tags": []
          },
          "execution_count": 42
        }
      ]
    },
    {
      "cell_type": "code",
      "metadata": {
        "id": "RdD4lbsyZ3wN"
      },
      "source": [],
      "execution_count": null,
      "outputs": []
    },
    {
      "cell_type": "code",
      "metadata": {
        "id": "13G8-_Y0Z3wW"
      },
      "source": [
        "data = np.random.randn(2, 3)"
      ],
      "execution_count": null,
      "outputs": []
    },
    {
      "cell_type": "code",
      "metadata": {
        "id": "NPGg2tsIZ3wd",
        "outputId": "291c4d98-171d-4109-c8ab-c24db59a6500"
      },
      "source": [
        "data"
      ],
      "execution_count": null,
      "outputs": [
        {
          "output_type": "execute_result",
          "data": {
            "text/plain": [
              "array([[ 1.53362505, -0.7803735 ,  0.18073012],\n",
              "       [ 1.09316898, -0.41022123, -1.82196185]])"
            ]
          },
          "metadata": {
            "tags": []
          },
          "execution_count": 35
        }
      ]
    },
    {
      "cell_type": "code",
      "metadata": {
        "id": "CuezGm0DZ3wi",
        "outputId": "26160012-9f62-4366-c718-86306d77acb6"
      },
      "source": [
        "data * 10"
      ],
      "execution_count": null,
      "outputs": [
        {
          "output_type": "execute_result",
          "data": {
            "text/plain": [
              "array([[ 15.33625045,  -7.80373504,   1.80730123],\n",
              "       [ 10.93168982,  -4.10221233, -18.21961854]])"
            ]
          },
          "metadata": {
            "tags": []
          },
          "execution_count": 36
        }
      ]
    },
    {
      "cell_type": "code",
      "metadata": {
        "id": "ckcOaSo-Z3wo"
      },
      "source": [],
      "execution_count": null,
      "outputs": []
    },
    {
      "cell_type": "code",
      "metadata": {
        "id": "2ohZn4_-Z3wt"
      },
      "source": [],
      "execution_count": null,
      "outputs": []
    },
    {
      "cell_type": "code",
      "metadata": {
        "id": "hC9-KlbkZ3w0"
      },
      "source": [],
      "execution_count": null,
      "outputs": []
    },
    {
      "cell_type": "markdown",
      "metadata": {
        "id": "BmhzfhsFZ3w8"
      },
      "source": [
        "### **SOME USEFUL ATTRIBUTES OF NUMPY ARRAY**"
      ]
    },
    {
      "cell_type": "code",
      "metadata": {
        "id": "jOrq0ozpZ3w-"
      },
      "source": [
        "'''\n",
        "An ndarray is a generic multidimensional container for homogeneous data; that is, all\n",
        "of the elements must be the same type. Every array has a shape , a tuple indicating the\n",
        "size of each dimension, and a dtype , an object describing the data type of the array\n",
        "'''"
      ],
      "execution_count": null,
      "outputs": []
    },
    {
      "cell_type": "code",
      "metadata": {
        "id": "hK1y0MDqZ3xD",
        "outputId": "2f62c62c-0d84-4544-acac-e4182da8bc66"
      },
      "source": [
        "# shape of the data\n",
        "data.shape"
      ],
      "execution_count": null,
      "outputs": [
        {
          "output_type": "execute_result",
          "data": {
            "text/plain": [
              "(2, 3)"
            ]
          },
          "metadata": {
            "tags": []
          },
          "execution_count": 37
        }
      ]
    },
    {
      "cell_type": "code",
      "metadata": {
        "id": "SIAqq3waZ3xK",
        "outputId": "99cd4e5e-665b-49ed-c5c5-e8799755226d"
      },
      "source": [
        "# datatype of the data\n",
        "data.dtype"
      ],
      "execution_count": null,
      "outputs": [
        {
          "output_type": "execute_result",
          "data": {
            "text/plain": [
              "dtype('float64')"
            ]
          },
          "metadata": {
            "tags": []
          },
          "execution_count": 38
        }
      ]
    },
    {
      "cell_type": "code",
      "metadata": {
        "id": "APo2C-C2Z3xQ",
        "outputId": "6b55c007-af1d-4d85-9238-6496683161d8"
      },
      "source": [
        "# dimensions of the array\n",
        "data.ndim"
      ],
      "execution_count": null,
      "outputs": [
        {
          "output_type": "execute_result",
          "data": {
            "text/plain": [
              "2"
            ]
          },
          "metadata": {
            "tags": []
          },
          "execution_count": 39
        }
      ]
    },
    {
      "cell_type": "code",
      "metadata": {
        "id": "u7qLb_tVZ3xW",
        "outputId": "1757b334-2d2c-49f0-aa55-e8c19cbf1230"
      },
      "source": [
        "# no. of elements in the array \n",
        "data.size"
      ],
      "execution_count": null,
      "outputs": [
        {
          "output_type": "execute_result",
          "data": {
            "text/plain": [
              "6"
            ]
          },
          "metadata": {
            "tags": []
          },
          "execution_count": 45
        }
      ]
    },
    {
      "cell_type": "code",
      "metadata": {
        "id": "0infh3HFZ3xd",
        "outputId": "48533ce3-2afa-484b-bde5-a7a2f4546ada"
      },
      "source": [
        "# Length of one array element in bytes.\n",
        "data.itemsize"
      ],
      "execution_count": null,
      "outputs": [
        {
          "output_type": "execute_result",
          "data": {
            "text/plain": [
              "8"
            ]
          },
          "metadata": {
            "tags": []
          },
          "execution_count": 52
        }
      ]
    },
    {
      "cell_type": "code",
      "metadata": {
        "id": "iizqp-JlZ3xi",
        "outputId": "827bfc38-c97b-449e-ca43-ec67b2053b0f"
      },
      "source": [
        "# totalsize\n",
        "data.nbytes"
      ],
      "execution_count": null,
      "outputs": [
        {
          "output_type": "execute_result",
          "data": {
            "text/plain": [
              "48"
            ]
          },
          "metadata": {
            "tags": []
          },
          "execution_count": 9
        }
      ]
    },
    {
      "cell_type": "code",
      "metadata": {
        "id": "A28nTP4fZ3xq"
      },
      "source": [],
      "execution_count": null,
      "outputs": []
    },
    {
      "cell_type": "code",
      "metadata": {
        "id": "MQv5kM6_Z3xw"
      },
      "source": [],
      "execution_count": null,
      "outputs": []
    },
    {
      "cell_type": "code",
      "metadata": {
        "id": "xVuYXVW-Z3x0"
      },
      "source": [],
      "execution_count": null,
      "outputs": []
    },
    {
      "cell_type": "markdown",
      "metadata": {
        "id": "Nw93NbOeZ3x3"
      },
      "source": [
        "### **CREATING ARRAYS WITH DIFFERENT METHODS**"
      ]
    },
    {
      "cell_type": "markdown",
      "metadata": {
        "id": "PKcbBLyMZ3x5"
      },
      "source": [
        "**1. array of 0s**"
      ]
    },
    {
      "cell_type": "code",
      "metadata": {
        "id": "6L-8cVh4Z3x7",
        "outputId": "f6f4e58d-d188-460e-d6b0-d522dfcede10"
      },
      "source": [
        "\n",
        "\n",
        "# 1d\n",
        "np.zeros(10)"
      ],
      "execution_count": null,
      "outputs": [
        {
          "output_type": "execute_result",
          "data": {
            "text/plain": [
              "array([0., 0., 0., 0., 0., 0., 0., 0., 0., 0.])"
            ]
          },
          "metadata": {
            "tags": []
          },
          "execution_count": 71
        }
      ]
    },
    {
      "cell_type": "code",
      "metadata": {
        "id": "Ce9LFuJUZ3x_",
        "outputId": "0c437892-7444-4c36-bbc1-8f20429fb01b"
      },
      "source": [
        "# 2d\n",
        "np.zeros((3, 6))"
      ],
      "execution_count": null,
      "outputs": [
        {
          "output_type": "execute_result",
          "data": {
            "text/plain": [
              "array([[0., 0., 0., 0., 0., 0.],\n",
              "       [0., 0., 0., 0., 0., 0.],\n",
              "       [0., 0., 0., 0., 0., 0.]])"
            ]
          },
          "metadata": {
            "tags": []
          },
          "execution_count": 73
        }
      ]
    },
    {
      "cell_type": "code",
      "metadata": {
        "id": "9qDispp6Z3yD"
      },
      "source": [],
      "execution_count": null,
      "outputs": []
    },
    {
      "cell_type": "markdown",
      "metadata": {
        "id": "AGu48uJ9Z3yK"
      },
      "source": [
        "**2. array of 1s**"
      ]
    },
    {
      "cell_type": "code",
      "metadata": {
        "id": "bJmHT4mhZ3yN",
        "outputId": "3024f1e7-35da-43cb-ef10-7e0a61922cc4"
      },
      "source": [
        "\n",
        "\n",
        "# 1d\n",
        "np.ones(10)"
      ],
      "execution_count": null,
      "outputs": [
        {
          "output_type": "execute_result",
          "data": {
            "text/plain": [
              "array([1., 1., 1., 1., 1., 1., 1., 1., 1., 1.])"
            ]
          },
          "metadata": {
            "tags": []
          },
          "execution_count": 74
        }
      ]
    },
    {
      "cell_type": "code",
      "metadata": {
        "id": "BLoYgUkdZ3yW",
        "outputId": "162105a8-caa3-4b6c-d033-692dddb5f88b"
      },
      "source": [
        "np.ones((10,2),dtype = \"int32\")"
      ],
      "execution_count": null,
      "outputs": [
        {
          "output_type": "execute_result",
          "data": {
            "text/plain": [
              "array([[1, 1],\n",
              "       [1, 1],\n",
              "       [1, 1],\n",
              "       [1, 1],\n",
              "       [1, 1],\n",
              "       [1, 1],\n",
              "       [1, 1],\n",
              "       [1, 1],\n",
              "       [1, 1],\n",
              "       [1, 1]], dtype=int32)"
            ]
          },
          "metadata": {
            "tags": []
          },
          "execution_count": 76
        }
      ]
    },
    {
      "cell_type": "code",
      "metadata": {
        "id": "-1I5PB9DZ3yb"
      },
      "source": [],
      "execution_count": null,
      "outputs": []
    },
    {
      "cell_type": "markdown",
      "metadata": {
        "id": "vDYmgePuZ3yf"
      },
      "source": [
        "**3. empty arrays**"
      ]
    },
    {
      "cell_type": "code",
      "metadata": {
        "id": "j4x2BSgPZ3yg",
        "outputId": "1a9e7fef-e847-414d-e3a0-ba3a3db5d6ec"
      },
      "source": [
        "\n",
        "\n",
        "\n",
        "# The function empty creates an array whose initial content is random and depends on the state of the memory.\n",
        "# The reason to use empty over zeros (or something similar) is speed - just make sure to fill every element \n",
        "# afterwards!\n",
        "\n",
        "# 1D\n",
        "np.empty(2)"
      ],
      "execution_count": null,
      "outputs": [
        {
          "output_type": "execute_result",
          "data": {
            "text/plain": [
              "array([5.73021895e-300, 6.91515971e-310])"
            ]
          },
          "metadata": {
            "tags": []
          },
          "execution_count": 77
        }
      ]
    },
    {
      "cell_type": "code",
      "metadata": {
        "id": "NhA_5XueZ3yk",
        "outputId": "14045965-ae6a-48c1-ff06-0a0a2d733789"
      },
      "source": [
        "# 2D\n",
        "np.empty((2, 3))\n"
      ],
      "execution_count": null,
      "outputs": [
        {
          "output_type": "execute_result",
          "data": {
            "text/plain": [
              "array([[4.63745813e-310, 0.00000000e+000, 0.00000000e+000],\n",
              "       [0.00000000e+000, 0.00000000e+000, 0.00000000e+000]])"
            ]
          },
          "metadata": {
            "tags": []
          },
          "execution_count": 10
        }
      ]
    },
    {
      "cell_type": "code",
      "metadata": {
        "id": "LXNprN9VZ3yn"
      },
      "source": [],
      "execution_count": null,
      "outputs": []
    },
    {
      "cell_type": "markdown",
      "metadata": {
        "id": "kxasYMeyZ3yr"
      },
      "source": [
        "**4. creating identity matrix**"
      ]
    },
    {
      "cell_type": "code",
      "metadata": {
        "id": "_nMlXnPaZ3ys",
        "outputId": "8ee3210b-1c23-48eb-c30d-87a1f078c2e7"
      },
      "source": [
        "\n",
        "\n",
        "np.eye(3,dtype = int)"
      ],
      "execution_count": null,
      "outputs": [
        {
          "output_type": "execute_result",
          "data": {
            "text/plain": [
              "array([[1, 0, 0],\n",
              "       [0, 1, 0],\n",
              "       [0, 0, 1]])"
            ]
          },
          "metadata": {
            "tags": []
          },
          "execution_count": 11
        }
      ]
    },
    {
      "cell_type": "code",
      "metadata": {
        "id": "3ojc0vKjZ3y0"
      },
      "source": [],
      "execution_count": null,
      "outputs": []
    },
    {
      "cell_type": "markdown",
      "metadata": {
        "id": "CABuivXbZ3y3"
      },
      "source": [
        "**5. creating an array with a range of elements using arange method:**"
      ]
    },
    {
      "cell_type": "code",
      "metadata": {
        "id": "QiHZHSRTZ3y4",
        "outputId": "c84a8498-d400-45bf-bc64-b4e1dcc9c2b0"
      },
      "source": [
        "np.arange(2,10)"
      ],
      "execution_count": null,
      "outputs": [
        {
          "output_type": "execute_result",
          "data": {
            "text/plain": [
              "array([2, 3, 4, 5, 6, 7, 8, 9])"
            ]
          },
          "metadata": {
            "tags": []
          },
          "execution_count": 12
        }
      ]
    },
    {
      "cell_type": "code",
      "metadata": {
        "id": "ryUwEkIYZ3zA"
      },
      "source": [],
      "execution_count": null,
      "outputs": []
    },
    {
      "cell_type": "markdown",
      "metadata": {
        "id": "pZDan-daZ3zE"
      },
      "source": [
        "**6. You can also use np.linspace() to create an array with values that are spaced linearly in a specified '\n",
        "interval:**"
      ]
    },
    {
      "cell_type": "code",
      "metadata": {
        "id": "Nfk2_uzQZ3zF",
        "outputId": "a1156edd-f528-4cfe-abcf-883368b8ce9c"
      },
      "source": [
        "np.linspace(2,10, num=9,dtype = np.int32)"
      ],
      "execution_count": null,
      "outputs": [
        {
          "output_type": "execute_result",
          "data": {
            "text/plain": [
              "array([ 2,  3,  4,  5,  6,  7,  8,  9, 10], dtype=int32)"
            ]
          },
          "metadata": {
            "tags": []
          },
          "execution_count": 95
        }
      ]
    },
    {
      "cell_type": "code",
      "metadata": {
        "id": "ib8O-a8LZ3zI"
      },
      "source": [],
      "execution_count": null,
      "outputs": []
    },
    {
      "cell_type": "code",
      "metadata": {
        "id": "AhuMu7MuZ3zM"
      },
      "source": [
        "'''\n",
        "Function                                Description\n",
        "-------------------------------------------------------------------------------------------------------------\n",
        "array                                   Convert input data (list, tuple, array, or other sequence type) to an\n",
        "                                        ndarray either by inferring a dtype or explicitly specifying a dtype; \n",
        "                                        copies the input data by default\n",
        "        \n",
        "asarray                                 Convert input to ndarray, but do not copy if the input is already an\n",
        "                                        ndarray\n",
        "    \n",
        "arange                                  Like the built-in range but returns an ndarray instead of a list\n",
        "\n",
        "ones,ones_like                          Produce an array of all 1s with the given shape and dtype; ones_like \n",
        "                                        takes another array and produces a ones array of the same shape and dtype\n",
        "\n",
        "zeros,zeros_like                        Like ones and ones_like but producing arrays of 0s instead\n",
        "\n",
        "empty,empty_like                        Create new arrays by allocating new memory, but do not populate with\n",
        "                                        any values like ones and zeros\n",
        "\n",
        "full                                    Produce an array of the given shape and dtype with all values set to \n",
        "                                        the indicated “fill value”\n",
        "\n",
        "full_like                               full_like takes another array and produces a filled array of the same \n",
        "                                        shape and dtype\n",
        "    \n",
        "eye, identity                           Create a square N × N identity matrix (1s on the diagonal and 0s\n",
        "                                                                               elsewhere)\n",
        "\n",
        "'''"
      ],
      "execution_count": null,
      "outputs": []
    },
    {
      "cell_type": "code",
      "metadata": {
        "id": "FqvOy1WmZ3zQ"
      },
      "source": [],
      "execution_count": null,
      "outputs": []
    },
    {
      "cell_type": "code",
      "metadata": {
        "id": "LpQZBD4bZ3zY"
      },
      "source": [],
      "execution_count": null,
      "outputs": []
    },
    {
      "cell_type": "markdown",
      "metadata": {
        "id": "dg1gEyMyZ3zb"
      },
      "source": [
        "### **DATATYPES OF NDARRAY**"
      ]
    },
    {
      "cell_type": "code",
      "metadata": {
        "id": "Ox9MhGgtZ3zb"
      },
      "source": [
        "'''\n",
        "numpy has its own datatypes derived from original datatypes of python. However you can use basic python data \n",
        "types too.\n",
        "you can learn more about numpy datatypes here: https://numpy.org/devdocs/user/basics.types.html\n",
        "'''"
      ],
      "execution_count": null,
      "outputs": []
    },
    {
      "cell_type": "code",
      "metadata": {
        "id": "JlQYLa74Z3zg"
      },
      "source": [],
      "execution_count": null,
      "outputs": []
    },
    {
      "cell_type": "code",
      "metadata": {
        "id": "thK_rY3MZ3zy"
      },
      "source": [
        "# Specifying your data type\n",
        "\n",
        "# While the default data type is floating point (np.float64), you can explicitly specify which data type you \n",
        "# want using the dtype keyword.\n",
        "x = np.ones(2, dtype=np.int64)"
      ],
      "execution_count": null,
      "outputs": []
    },
    {
      "cell_type": "code",
      "metadata": {
        "id": "RWp02cWUZ3z2",
        "outputId": "f586c205-a155-4944-9821-a94ce14177ca"
      },
      "source": [
        "x"
      ],
      "execution_count": null,
      "outputs": [
        {
          "output_type": "execute_result",
          "data": {
            "text/plain": [
              "array([1, 1])"
            ]
          },
          "metadata": {
            "tags": []
          },
          "execution_count": 89
        }
      ]
    },
    {
      "cell_type": "code",
      "metadata": {
        "id": "7WA-A0V3Z3z8"
      },
      "source": [],
      "execution_count": null,
      "outputs": []
    },
    {
      "cell_type": "markdown",
      "metadata": {
        "id": "bv8TiSYXZ3z_"
      },
      "source": [
        "astype() method:"
      ]
    },
    {
      "cell_type": "code",
      "metadata": {
        "id": "Mgp3vGQdZ30A",
        "outputId": "302c0fb1-a8a5-433f-fc56-7a2db7859dba"
      },
      "source": [
        "# You can explicitly convert or cast an array from one dtype to another using ndarray’s astype method:\n",
        "arr = np.array([1, 2, 3, 4, 5])\n",
        "print(arr.dtype)\n",
        "arr = arr.astype(np.float64)\n",
        "print(arr.dtype)"
      ],
      "execution_count": null,
      "outputs": [
        {
          "output_type": "stream",
          "text": [
            "int64\n",
            "float64\n",
            "[1. 2. 3. 4. 5.]\n"
          ],
          "name": "stdout"
        }
      ]
    },
    {
      "cell_type": "code",
      "metadata": {
        "id": "-rfZFgm-Z30D"
      },
      "source": [],
      "execution_count": null,
      "outputs": []
    },
    {
      "cell_type": "code",
      "metadata": {
        "id": "Uj0q0x7pZ30H"
      },
      "source": [],
      "execution_count": null,
      "outputs": []
    },
    {
      "cell_type": "markdown",
      "metadata": {
        "id": "bTidmVnzZ30I"
      },
      "source": [
        "## PLAYING WITH DIMENSIONS OF AN ARRAY"
      ]
    },
    {
      "cell_type": "code",
      "metadata": {
        "id": "wYMZTiVXZ30J"
      },
      "source": [],
      "execution_count": null,
      "outputs": []
    },
    {
      "cell_type": "markdown",
      "metadata": {
        "id": "dA07oyc5Z30M"
      },
      "source": [
        "### **FLATTENING MULTIDIMENSIONAL ARRAY**"
      ]
    },
    {
      "cell_type": "markdown",
      "metadata": {
        "id": "FACy7VoDZ30M"
      },
      "source": [
        "\n",
        "There are two methods to flatten a multidimensional array:\n",
        "1. flatten()\n",
        "2. ravel()"
      ]
    },
    {
      "cell_type": "markdown",
      "metadata": {
        "id": "kNPxZalCZ30N"
      },
      "source": [
        "**1. flatten()**"
      ]
    },
    {
      "cell_type": "code",
      "metadata": {
        "id": "AgNjJ9aRZ30O",
        "outputId": "b9d158b0-d7b7-4c07-90c1-acd4b483e9a1"
      },
      "source": [
        "'''\n",
        "flatten is a ndarry method with an optional keyword parameter \"order\". order can have the values \"C\", \"F\" and\n",
        "\"A\". The default of order is \"C\". \n",
        "\"C\" means to flatten C style in row-major ordering, i.e. the rightmost index \"changes the fastest\" or in \n",
        "other words: In row-major order, the row index varies the slowest, and \n",
        "the column index the quickest, so that a[0,1] follows [0,0].\n",
        "\n",
        "\"F\" stands for Fortran column-major ordering. \n",
        "\n",
        "\"A\" means preserve the the C/Fortran ordering.\n",
        "'''\n",
        "\n",
        "\n",
        "A = np.array([\n",
        "                  [\n",
        "                   [ 0,  1],\n",
        "                   [ 2,  3],\n",
        "                   [ 4,  5],\n",
        "                   [ 6,  7]\n",
        "                  ],\n",
        "              \n",
        "                  [\n",
        "                   [ 8,  9],\n",
        "                   [10, 11],\n",
        "                   [12, 13],\n",
        "                   [14, 15]\n",
        "                  ],\n",
        "               \n",
        "                  [\n",
        "                   [16, 17],\n",
        "                   [18, 19],\n",
        "                   [20, 21],\n",
        "                   [22, 23]\n",
        "                  ]\n",
        "             ])\n",
        "print(A.shape)\n",
        "print()\n",
        "Flattened_X = A.flatten()\n",
        "print(Flattened_X)\n",
        "print()\n",
        "print(A.flatten(order=\"C\"))\n",
        "print()\n",
        "print(A.flatten(order=\"F\"))\n",
        "print()\n",
        "print(A.flatten(order=\"A\"))\n",
        "\n"
      ],
      "execution_count": null,
      "outputs": [
        {
          "output_type": "stream",
          "text": [
            "(3, 4, 2)\n",
            "\n",
            "[ 0  1  2  3  4  5  6  7  8  9 10 11 12 13 14 15 16 17 18 19 20 21 22 23]\n",
            "\n",
            "[ 0  1  2  3  4  5  6  7  8  9 10 11 12 13 14 15 16 17 18 19 20 21 22 23]\n",
            "\n",
            "[ 0  8 16  2 10 18  4 12 20  6 14 22  1  9 17  3 11 19  5 13 21  7 15 23]\n",
            "\n",
            "[ 0  1  2  3  4  5  6  7  8  9 10 11 12 13 14 15 16 17 18 19 20 21 22 23]\n"
          ],
          "name": "stdout"
        }
      ]
    },
    {
      "cell_type": "code",
      "metadata": {
        "id": "EoSyeJKiZ30S"
      },
      "source": [],
      "execution_count": null,
      "outputs": []
    },
    {
      "cell_type": "markdown",
      "metadata": {
        "id": "AklXiYCDZ30U"
      },
      "source": [
        "**2. ravel()**"
      ]
    },
    {
      "cell_type": "code",
      "metadata": {
        "id": "y5tv1fBJZ30V",
        "outputId": "0bddd946-d078-440e-aebe-ea3c016ea068"
      },
      "source": [
        "'''\n",
        "The order of the elements in the array returned by ravel() is normally \"C-style\".\n",
        "\n",
        "ravel(a, order='C')\n",
        "\n",
        "ravel returns a flattened one-dimensional array. A copy is made only if needed.\n",
        "\n",
        "The optional keyword parameter \"order\" can be 'C','F', 'A', or 'K'\n",
        "\n",
        "'C': C-like order, with the last axis index changing fastest, back to the first axis index changing slowest. \"C\" is the default!\n",
        "\n",
        "'F': Fortran-like index order with the first index changing fastest, and the last index changing slowest.\n",
        "\n",
        "'A': Fortran-like index order if the array \"a\" is Fortran contiguous in memory, C-like order otherwise.\n",
        "\n",
        "'K': read the elements in the order they occur in memory, except for reversing the data when strides are negative.\n",
        "\n",
        "'''\n",
        "\n",
        "print(A.ravel())\n",
        "\n",
        "print(A.ravel(order=\"C\"))\n",
        "\n",
        "print(A.ravel(order=\"F\"))\n",
        "\n",
        "print(A.ravel(order=\"A\"))\n",
        "\n",
        "print(A.ravel(order=\"K\"))\n",
        "\n"
      ],
      "execution_count": null,
      "outputs": [
        {
          "output_type": "stream",
          "text": [
            "[ 0  1  2  3  4  5  6  7  8  9 10 11 12 13 14 15 16 17 18 19 20 21 22 23]\n",
            "[ 0  1  2  3  4  5  6  7  8  9 10 11 12 13 14 15 16 17 18 19 20 21 22 23]\n",
            "[ 0  8 16  2 10 18  4 12 20  6 14 22  1  9 17  3 11 19  5 13 21  7 15 23]\n",
            "[ 0  1  2  3  4  5  6  7  8  9 10 11 12 13 14 15 16 17 18 19 20 21 22 23]\n",
            "[ 0  1  2  3  4  5  6  7  8  9 10 11 12 13 14 15 16 17 18 19 20 21 22 23]\n"
          ],
          "name": "stdout"
        }
      ]
    },
    {
      "cell_type": "code",
      "metadata": {
        "id": "m4yu47fWZ30X"
      },
      "source": [],
      "execution_count": null,
      "outputs": []
    },
    {
      "cell_type": "code",
      "metadata": {
        "id": "To8nCvu0Z30a"
      },
      "source": [],
      "execution_count": null,
      "outputs": []
    },
    {
      "cell_type": "markdown",
      "metadata": {
        "id": "gTU7FC5DZ30c"
      },
      "source": [
        "### **CHANGING THE DIMENSIONS OF THE ARRAY**\n",
        "\n",
        "1. reshape() method\n",
        "2. resize() method"
      ]
    },
    {
      "cell_type": "markdown",
      "metadata": {
        "id": "82zLDeTwZ30e"
      },
      "source": [
        "**1. reshape() method**"
      ]
    },
    {
      "cell_type": "code",
      "metadata": {
        "id": "q3WjGD4WZ30e",
        "outputId": "dabaa51b-7ed9-4f3c-fcb1-287532a3cbff"
      },
      "source": [
        "a = np.ones((2,3),dtype = np.int32)\n",
        "a\n"
      ],
      "execution_count": null,
      "outputs": [
        {
          "output_type": "execute_result",
          "data": {
            "text/plain": [
              "array([[1, 1, 1],\n",
              "       [1, 1, 1]], dtype=int32)"
            ]
          },
          "metadata": {
            "tags": []
          },
          "execution_count": 113
        }
      ]
    },
    {
      "cell_type": "code",
      "metadata": {
        "id": "XmT3nRcuZ30i",
        "outputId": "9c28f28c-98c3-4ffb-97e8-2357df4e1568"
      },
      "source": [
        "a.reshape(3,2)"
      ],
      "execution_count": null,
      "outputs": [
        {
          "output_type": "execute_result",
          "data": {
            "text/plain": [
              "array([[1, 1],\n",
              "       [1, 1],\n",
              "       [1, 1]], dtype=int32)"
            ]
          },
          "metadata": {
            "tags": []
          },
          "execution_count": 114
        }
      ]
    },
    {
      "cell_type": "code",
      "metadata": {
        "id": "3Wp0BVrcZ30l",
        "outputId": "1109f0c1-e15c-4f9a-8288-f1c0070793e8"
      },
      "source": [
        "np.arange(2,11)"
      ],
      "execution_count": null,
      "outputs": [
        {
          "output_type": "execute_result",
          "data": {
            "text/plain": [
              "array([ 2,  3,  4,  5,  6,  7,  8,  9, 10])"
            ]
          },
          "metadata": {
            "tags": []
          },
          "execution_count": 115
        }
      ]
    },
    {
      "cell_type": "code",
      "metadata": {
        "id": "vb0YspTJZ30p",
        "outputId": "2a3d9785-e2f4-4f48-9b39-f3fc48a806fa"
      },
      "source": [
        "np.arange(2,11).reshape(3,3)"
      ],
      "execution_count": null,
      "outputs": [
        {
          "output_type": "execute_result",
          "data": {
            "text/plain": [
              "array([[ 2,  3,  4],\n",
              "       [ 5,  6,  7],\n",
              "       [ 8,  9, 10]])"
            ]
          },
          "metadata": {
            "tags": []
          },
          "execution_count": 116
        }
      ]
    },
    {
      "cell_type": "code",
      "metadata": {
        "id": "qgeNBF8PZ30y",
        "outputId": "85bd8201-1279-45e5-c7da-56d451b77c63"
      },
      "source": [
        "c = np.arange(24).reshape(2,3,4)\n",
        "c"
      ],
      "execution_count": null,
      "outputs": [
        {
          "output_type": "execute_result",
          "data": {
            "text/plain": [
              "array([[[ 0,  1,  2,  3],\n",
              "        [ 4,  5,  6,  7],\n",
              "        [ 8,  9, 10, 11]],\n",
              "\n",
              "       [[12, 13, 14, 15],\n",
              "        [16, 17, 18, 19],\n",
              "        [20, 21, 22, 23]]])"
            ]
          },
          "metadata": {
            "tags": []
          },
          "execution_count": 117
        }
      ]
    },
    {
      "cell_type": "code",
      "metadata": {
        "id": "tB0pU-L2Z302",
        "outputId": "c9c2463f-3cb5-4fa6-9174-a30e57fe0a14"
      },
      "source": [
        "c = np.arange(24)\n",
        "c"
      ],
      "execution_count": null,
      "outputs": [
        {
          "output_type": "execute_result",
          "data": {
            "text/plain": [
              "array([ 0,  1,  2,  3,  4,  5,  6,  7,  8,  9, 10, 11, 12, 13, 14, 15, 16,\n",
              "       17, 18, 19, 20, 21, 22, 23])"
            ]
          },
          "metadata": {
            "tags": []
          },
          "execution_count": 135
        }
      ]
    },
    {
      "cell_type": "code",
      "metadata": {
        "id": "liweXGa7Z305",
        "outputId": "62758326-aaea-47de-c276-f9f385ddfd22"
      },
      "source": [
        "# if one of the arguments to the reshape function is -1, it automatically calculates that argument based on\n",
        "# other arguments\n",
        "\n",
        "c.reshape(6,-1)"
      ],
      "execution_count": null,
      "outputs": [
        {
          "output_type": "execute_result",
          "data": {
            "text/plain": [
              "array([[ 0,  1,  2,  3],\n",
              "       [ 4,  5,  6,  7],\n",
              "       [ 8,  9, 10, 11],\n",
              "       [12, 13, 14, 15],\n",
              "       [16, 17, 18, 19],\n",
              "       [20, 21, 22, 23]])"
            ]
          },
          "metadata": {
            "tags": []
          },
          "execution_count": 139
        }
      ]
    },
    {
      "cell_type": "code",
      "metadata": {
        "id": "sp4993x2Z308"
      },
      "source": [],
      "execution_count": null,
      "outputs": []
    },
    {
      "cell_type": "markdown",
      "metadata": {
        "id": "-KDCwZlTZ30-"
      },
      "source": [
        "**2. resize() method**\n"
      ]
    },
    {
      "cell_type": "code",
      "metadata": {
        "id": "HT4FxqcVZ31A"
      },
      "source": [
        "# reshape returns the a new array with the modified shape whereas resize modifies the array itself"
      ],
      "execution_count": null,
      "outputs": []
    },
    {
      "cell_type": "code",
      "metadata": {
        "id": "k1eCfRyTZ31D",
        "outputId": "78c19186-31cc-418c-a53a-cf5ed1727390"
      },
      "source": [
        "c"
      ],
      "execution_count": null,
      "outputs": [
        {
          "output_type": "execute_result",
          "data": {
            "text/plain": [
              "array([ 0,  1,  2,  3,  4,  5,  6,  7,  8,  9, 10, 11, 12, 13, 14, 15, 16,\n",
              "       17, 18, 19, 20, 21, 22, 23])"
            ]
          },
          "metadata": {
            "tags": []
          },
          "execution_count": 142
        }
      ]
    },
    {
      "cell_type": "code",
      "metadata": {
        "id": "jgbtd8xUZ31G",
        "outputId": "78ba2ba5-3d16-4608-bd2d-dd72d0032009"
      },
      "source": [
        "c.resize(6,4)\n",
        "c"
      ],
      "execution_count": null,
      "outputs": [
        {
          "output_type": "execute_result",
          "data": {
            "text/plain": [
              "array([[ 0,  1,  2,  3],\n",
              "       [ 4,  5,  6,  7],\n",
              "       [ 8,  9, 10, 11],\n",
              "       [12, 13, 14, 15],\n",
              "       [16, 17, 18, 19],\n",
              "       [20, 21, 22, 23]])"
            ]
          },
          "metadata": {
            "tags": []
          },
          "execution_count": 145
        }
      ]
    },
    {
      "cell_type": "code",
      "metadata": {
        "id": "H6oobkgXZ31K"
      },
      "source": [
        "# we cannot use -1 with resize"
      ],
      "execution_count": null,
      "outputs": []
    },
    {
      "cell_type": "code",
      "metadata": {
        "id": "37-t-t8sZ31N"
      },
      "source": [],
      "execution_count": null,
      "outputs": []
    },
    {
      "cell_type": "code",
      "metadata": {
        "id": "lm__kfK9Z31S"
      },
      "source": [],
      "execution_count": null,
      "outputs": []
    },
    {
      "cell_type": "markdown",
      "metadata": {
        "id": "6PNgK-kxZ31W"
      },
      "source": [
        "### **ADDING MORE DIMENSIONS TO EXISTING ARRAYS**"
      ]
    },
    {
      "cell_type": "code",
      "metadata": {
        "id": "to1RRz6lZ31X"
      },
      "source": [
        "'''\n",
        "\n",
        "You can use np.newaxis and np.expand_dims to increase the dimensions of your existing array.\n",
        "\n",
        "Using np.newaxis will increase the dimensions of your array by one dimension when used once. This means that a \n",
        "1D array will become a 2D array, a 2D array will become a 3D array, and so on.\n",
        "\n",
        "'''\n"
      ],
      "execution_count": null,
      "outputs": []
    },
    {
      "cell_type": "code",
      "metadata": {
        "id": "AehtBPltZ31b",
        "outputId": "53633e81-8acc-491c-a0f9-974bea160d62"
      },
      "source": [
        "# for example lets start with the array:\n",
        "\n",
        "a = np.array([1, 2, 3, 4, 5, 6])\n",
        "a.shape\n"
      ],
      "execution_count": null,
      "outputs": [
        {
          "output_type": "execute_result",
          "data": {
            "text/plain": [
              "(6,)"
            ]
          },
          "metadata": {
            "tags": []
          },
          "execution_count": 99
        }
      ]
    },
    {
      "cell_type": "code",
      "metadata": {
        "id": "tBW2k8YGZ31g",
        "outputId": "dc15b51a-1694-45bd-f7c1-83927b58afa1"
      },
      "source": [
        "# You can use np.newaxis to add a new axis:\n",
        "\n",
        "a2 = a[np.newaxis,0:6]\n",
        "a2.shape"
      ],
      "execution_count": null,
      "outputs": [
        {
          "output_type": "execute_result",
          "data": {
            "text/plain": [
              "(1, 6)"
            ]
          },
          "metadata": {
            "tags": []
          },
          "execution_count": 107
        }
      ]
    },
    {
      "cell_type": "code",
      "metadata": {
        "id": "4HX_ty9bZ31l",
        "outputId": "6d7f2910-6f06-4977-f868-b03a92d061a0"
      },
      "source": [
        "# You can explicitly convert a 1D array with either a row vector or a column vector using np.newaxis. \n",
        "# For example, you can convert a 1D array to a row vector by inserting an axis along the first dimension:\n",
        "\n",
        "row_vector = a[np.newaxis, :]\n",
        "row_vector.shape"
      ],
      "execution_count": null,
      "outputs": [
        {
          "output_type": "execute_result",
          "data": {
            "text/plain": [
              "(1, 6)"
            ]
          },
          "metadata": {
            "tags": []
          },
          "execution_count": 108
        }
      ]
    },
    {
      "cell_type": "code",
      "metadata": {
        "id": "0mAUtz8xZ31p",
        "outputId": "8a6d84d6-c1ad-4d33-e7c9-21a65530756b"
      },
      "source": [
        "col_vector = a[:,np.newaxis]\n",
        "col_vector.shape"
      ],
      "execution_count": null,
      "outputs": [
        {
          "output_type": "execute_result",
          "data": {
            "text/plain": [
              "(6, 1)"
            ]
          },
          "metadata": {
            "tags": []
          },
          "execution_count": 110
        }
      ]
    },
    {
      "cell_type": "code",
      "metadata": {
        "id": "ocbZA6OQZ31s"
      },
      "source": [],
      "execution_count": null,
      "outputs": []
    },
    {
      "cell_type": "code",
      "metadata": {
        "id": "AsMhrsepZ31v"
      },
      "source": [
        "# You can also expand an array by inserting a new axis at a specified position with np.expand_dims.\n",
        "# For example, if you start with this array:\n",
        "a = np.array([1, 2, 3, 4, 5, 6])\n"
      ],
      "execution_count": null,
      "outputs": []
    },
    {
      "cell_type": "code",
      "metadata": {
        "id": "eDOXw0qPZ31y",
        "outputId": "0bfe7320-2e9c-4f47-d615-a6e297d6da57"
      },
      "source": [
        "# You can use np.expand_dims to add an axis at index position 1 with:\n",
        "b = np.expand_dims(a, axis=1)\n",
        "b.shape"
      ],
      "execution_count": null,
      "outputs": [
        {
          "output_type": "execute_result",
          "data": {
            "text/plain": [
              "(6, 1)"
            ]
          },
          "metadata": {
            "tags": []
          },
          "execution_count": 111
        }
      ]
    },
    {
      "cell_type": "code",
      "metadata": {
        "id": "sw0D-tgIZ311",
        "outputId": "8d5e96d7-dbac-4121-bac2-cc5e66e9e630"
      },
      "source": [
        "# You can add an axis at index position 0 with:\n",
        "c = np.expand_dims(a, axis=0)\n",
        "c.shape"
      ],
      "execution_count": null,
      "outputs": [
        {
          "output_type": "execute_result",
          "data": {
            "text/plain": [
              "(1, 6)"
            ]
          },
          "metadata": {
            "tags": []
          },
          "execution_count": 112
        }
      ]
    },
    {
      "cell_type": "code",
      "metadata": {
        "id": "-CQoG7ucZ315"
      },
      "source": [],
      "execution_count": null,
      "outputs": []
    },
    {
      "cell_type": "code",
      "metadata": {
        "id": "ucJAcboLZ32C"
      },
      "source": [],
      "execution_count": null,
      "outputs": []
    },
    {
      "cell_type": "markdown",
      "metadata": {
        "id": "qc8iTUuzZ32E"
      },
      "source": [
        "## INDEXING, SLICING, SELECTIONS AND ITERATING OF ARRAYS"
      ]
    },
    {
      "cell_type": "markdown",
      "metadata": {
        "id": "ZcCisnYOZ32F"
      },
      "source": [
        "### **INDEXING AND SLICING**"
      ]
    },
    {
      "cell_type": "code",
      "metadata": {
        "id": "Wcub1ckmZ32G"
      },
      "source": [
        "# The items of an array can be accessed and assigned to the same way as other Python sequences (e.g. lists):\n"
      ],
      "execution_count": null,
      "outputs": []
    },
    {
      "cell_type": "markdown",
      "metadata": {
        "id": "mBTTvjnqZ32I"
      },
      "source": [
        "1d arrays:"
      ]
    },
    {
      "cell_type": "code",
      "metadata": {
        "id": "uhn9wzobZ32I",
        "outputId": "437f0be1-79a8-4596-8463-11a4d452de51"
      },
      "source": [
        "a = np.arange(10)**3\n",
        "a"
      ],
      "execution_count": null,
      "outputs": [
        {
          "output_type": "execute_result",
          "data": {
            "text/plain": [
              "array([  0,   1,   8,  27,  64, 125, 216, 343, 512, 729])"
            ]
          },
          "metadata": {
            "tags": []
          },
          "execution_count": 40
        }
      ]
    },
    {
      "cell_type": "code",
      "metadata": {
        "id": "tClJBwGUZ32Q",
        "outputId": "124fab11-a309-42e4-85f3-e9233c1f1e37"
      },
      "source": [
        "a[3]"
      ],
      "execution_count": null,
      "outputs": [
        {
          "output_type": "execute_result",
          "data": {
            "text/plain": [
              "27"
            ]
          },
          "metadata": {
            "tags": []
          },
          "execution_count": 41
        }
      ]
    },
    {
      "cell_type": "code",
      "metadata": {
        "id": "JSqrZ2B1Z32T",
        "outputId": "eb0d979b-55a2-4b3a-d400-1db3f6efc739"
      },
      "source": [
        "a[:4]"
      ],
      "execution_count": null,
      "outputs": [
        {
          "output_type": "execute_result",
          "data": {
            "text/plain": [
              "array([ 0,  1,  8, 27])"
            ]
          },
          "metadata": {
            "tags": []
          },
          "execution_count": 42
        }
      ]
    },
    {
      "cell_type": "code",
      "metadata": {
        "id": "ynvk3lWQZ32b",
        "outputId": "17f5d0f0-19f5-46b0-ee23-07402998173e"
      },
      "source": [
        "a[::-1]"
      ],
      "execution_count": null,
      "outputs": [
        {
          "output_type": "execute_result",
          "data": {
            "text/plain": [
              "array([729, 512, 343, 216, 125,  64,  27,   8,   1,   0])"
            ]
          },
          "metadata": {
            "tags": []
          },
          "execution_count": 45
        }
      ]
    },
    {
      "cell_type": "code",
      "metadata": {
        "id": "VHhrYEC_Z32g",
        "outputId": "3026235c-ab63-4c25-fd80-ae1e4973f4d6"
      },
      "source": [
        "a[::2]"
      ],
      "execution_count": null,
      "outputs": [
        {
          "output_type": "execute_result",
          "data": {
            "text/plain": [
              "array([  0,   8,  64, 216, 512])"
            ]
          },
          "metadata": {
            "tags": []
          },
          "execution_count": 47
        }
      ]
    },
    {
      "cell_type": "code",
      "metadata": {
        "id": "WQJcDYWlZ32i"
      },
      "source": [],
      "execution_count": null,
      "outputs": []
    },
    {
      "cell_type": "markdown",
      "metadata": {
        "id": "WqbZm9KtZ32k"
      },
      "source": [
        "nd arrays:"
      ]
    },
    {
      "cell_type": "code",
      "metadata": {
        "id": "DgUBaSeuZ32l",
        "outputId": "182246ad-edec-47c4-c01f-e492463f2315"
      },
      "source": [
        " def f(x,y):\n",
        "     return 10*x+y\n",
        "\n",
        "b = np.fromfunction(f,(5,4),dtype=int)\n",
        "b\n"
      ],
      "execution_count": null,
      "outputs": [
        {
          "output_type": "execute_result",
          "data": {
            "text/plain": [
              "array([[ 0,  1,  2,  3],\n",
              "       [10, 11, 12, 13],\n",
              "       [20, 21, 22, 23],\n",
              "       [30, 31, 32, 33],\n",
              "       [40, 41, 42, 43]])"
            ]
          },
          "metadata": {
            "tags": []
          },
          "execution_count": 58
        }
      ]
    },
    {
      "cell_type": "code",
      "metadata": {
        "id": "CrdOY-H-Z32n",
        "outputId": "3eda7a69-7175-45a4-80b8-065ac5cac9c9"
      },
      "source": [
        "b[2,3]"
      ],
      "execution_count": null,
      "outputs": [
        {
          "output_type": "execute_result",
          "data": {
            "text/plain": [
              "23"
            ]
          },
          "metadata": {
            "tags": []
          },
          "execution_count": 59
        }
      ]
    },
    {
      "cell_type": "code",
      "metadata": {
        "id": "82b3ox32Z32q",
        "outputId": "dfbdf657-da9e-4a3c-a68f-f5a421454790"
      },
      "source": [
        "b[0:5, 1]                       # each row in the second column of b"
      ],
      "execution_count": null,
      "outputs": [
        {
          "output_type": "execute_result",
          "data": {
            "text/plain": [
              "array([ 1, 11, 21, 31, 41])"
            ]
          },
          "metadata": {
            "tags": []
          },
          "execution_count": 60
        }
      ]
    },
    {
      "cell_type": "code",
      "metadata": {
        "id": "Ujf433FiZ32s",
        "outputId": "5f029a9e-8f03-40b9-9138-a06d2d3ef8b2"
      },
      "source": [
        "b[ : ,1]                        # equivalent to the previous example"
      ],
      "execution_count": null,
      "outputs": [
        {
          "output_type": "execute_result",
          "data": {
            "text/plain": [
              "array([ 1, 11, 21, 31, 41])"
            ]
          },
          "metadata": {
            "tags": []
          },
          "execution_count": 61
        }
      ]
    },
    {
      "cell_type": "code",
      "metadata": {
        "id": "dmr9zdk1Z32v",
        "outputId": "d6cc02a7-b640-440b-d326-1a3f8f5f8e84"
      },
      "source": [
        "b[1:3, : ]                      # each column in the second and third row of b\n"
      ],
      "execution_count": null,
      "outputs": [
        {
          "output_type": "execute_result",
          "data": {
            "text/plain": [
              "array([[10, 11, 12, 13],\n",
              "       [20, 21, 22, 23]])"
            ]
          },
          "metadata": {
            "tags": []
          },
          "execution_count": 62
        }
      ]
    },
    {
      "cell_type": "code",
      "metadata": {
        "id": "9UOOaqwcZ32y",
        "outputId": "0ff5c6ab-bb43-46c8-a6d5-7536cd417d65"
      },
      "source": [
        "# When fewer indices are provided than the number of axes, the missing indices are considered complete slices:\n",
        "\n",
        "\n",
        "b[-1]                                  # the last row. Equivalent to b[-1,:]\n",
        "\n",
        "\n",
        "# The expression within brackets in b[i] is treated as an i followed by as many instances of : as needed to \n",
        "# represent the remaining axes. "
      ],
      "execution_count": null,
      "outputs": [
        {
          "output_type": "execute_result",
          "data": {
            "text/plain": [
              "array([40, 41, 42, 43])"
            ]
          },
          "metadata": {
            "tags": []
          },
          "execution_count": 64
        }
      ]
    },
    {
      "cell_type": "code",
      "metadata": {
        "id": "LIm5fvwjZ321"
      },
      "source": [
        "'''\n",
        "NumPy also allows you to write this using dots as b[i,...].\n",
        "The dots (...) represent as many colons as needed to produce a complete indexing tuple. For example, if x is an\n",
        "array with 5 axes, then\n",
        "\n",
        "    x[1,2,...] is equivalent to x[1,2,:,:,:],\n",
        "\n",
        "    x[...,3] to x[:,:,:,:,3] and\n",
        "\n",
        "    x[4,...,5,:] to x[4,:,:,5,:].\n",
        "\n",
        "'''\n",
        "\n",
        "c = np.array( [\n",
        "                [\n",
        "                 [  0,  1,  2],               # a 3D array (two stacked 2D arrays)\n",
        "                 [ 10, 12, 13]\n",
        "                ],\n",
        "                f[\n",
        "                 [100,101,102],\n",
        "                 [110,112,113]\n",
        "                ]\n",
        "             ])\n"
      ],
      "execution_count": null,
      "outputs": []
    },
    {
      "cell_type": "code",
      "metadata": {
        "id": "arB14VjzZ33F",
        "outputId": "d20ab0f5-8876-4ca8-ac47-b66c3d7e3e69"
      },
      "source": [
        "c.shape"
      ],
      "execution_count": null,
      "outputs": [
        {
          "output_type": "execute_result",
          "data": {
            "text/plain": [
              "(2, 2, 3)"
            ]
          },
          "metadata": {
            "tags": []
          },
          "execution_count": 65
        }
      ]
    },
    {
      "cell_type": "code",
      "metadata": {
        "id": "4lnnCeBKZ33I",
        "outputId": "ed2742b9-fcae-4c3e-b6e1-d3eb9bb2a81c"
      },
      "source": [
        "print(c[1,...])                          # same as c[1,:,:] or c[1]"
      ],
      "execution_count": null,
      "outputs": [
        {
          "output_type": "stream",
          "text": [
            "[[100 101 102]\n",
            " [110 112 113]]\n"
          ],
          "name": "stdout"
        }
      ]
    },
    {
      "cell_type": "code",
      "metadata": {
        "id": "HoheUjhAZ33N",
        "outputId": "69609ea0-57a1-4338-c046-0cb2a5befd6b"
      },
      "source": [
        "print(c[...,2])                                # same as c[:,:,2]"
      ],
      "execution_count": null,
      "outputs": [
        {
          "output_type": "stream",
          "text": [
            "[[  2  13]\n",
            " [102 113]]\n"
          ],
          "name": "stdout"
        }
      ]
    },
    {
      "cell_type": "code",
      "metadata": {
        "id": "U6N1EEfBZ33T"
      },
      "source": [],
      "execution_count": null,
      "outputs": []
    },
    {
      "cell_type": "code",
      "metadata": {
        "id": "WYqSu4N8Z33W"
      },
      "source": [],
      "execution_count": null,
      "outputs": []
    },
    {
      "cell_type": "code",
      "metadata": {
        "id": "szQFHoUDZ33Y"
      },
      "source": [],
      "execution_count": null,
      "outputs": []
    },
    {
      "cell_type": "markdown",
      "metadata": {
        "id": "fIfAB9gHZ33a"
      },
      "source": [
        "### **ITERATING OVER AN ARRAY**"
      ]
    },
    {
      "cell_type": "code",
      "metadata": {
        "id": "7bp58AOAZ33a",
        "outputId": "13acecaf-014e-46d8-fbc5-21cf4aa3bad8"
      },
      "source": [
        "for row in b:\n",
        "    print(row)"
      ],
      "execution_count": null,
      "outputs": [
        {
          "output_type": "stream",
          "text": [
            "[0 1 2 3]\n",
            "[10 11 12 13]\n",
            "[20 21 22 23]\n",
            "[30 31 32 33]\n",
            "[40 41 42 43]\n"
          ],
          "name": "stdout"
        }
      ]
    },
    {
      "cell_type": "code",
      "metadata": {
        "id": "TWUYEsNQZ33d",
        "outputId": "da84e26e-70dc-483c-dcbb-f9924eb32646"
      },
      "source": [
        "for ele in c.flat:\n",
        "    print(ele)"
      ],
      "execution_count": null,
      "outputs": [
        {
          "output_type": "stream",
          "text": [
            "0\n",
            "1\n",
            "2\n",
            "10\n",
            "12\n",
            "13\n",
            "100\n",
            "101\n",
            "102\n",
            "110\n",
            "112\n",
            "113\n"
          ],
          "name": "stdout"
        }
      ]
    },
    {
      "cell_type": "code",
      "metadata": {
        "id": "L9rIHfgHZ33f"
      },
      "source": [],
      "execution_count": null,
      "outputs": []
    },
    {
      "cell_type": "code",
      "metadata": {
        "id": "m73UY5_jZ33i"
      },
      "source": [],
      "execution_count": null,
      "outputs": []
    },
    {
      "cell_type": "markdown",
      "metadata": {
        "id": "_ISWtr0_Z33k"
      },
      "source": [
        "### **SELECTING FROM AN ARRAY**"
      ]
    },
    {
      "cell_type": "code",
      "metadata": {
        "id": "O-sxPxTVZ33k",
        "outputId": "b6dc975f-bb70-48dd-fdd0-049c437e819c"
      },
      "source": [
        " a = np.array([[1 , 2, 3, 4], [5, 6, 7, 8], [9, 10, 11, 12]])\n",
        "\n",
        "# You can easily print all of the values in the array that are less than 5.\n",
        "print(a[a < 5])"
      ],
      "execution_count": null,
      "outputs": [
        {
          "output_type": "stream",
          "text": [
            "[1 2 3 4]\n"
          ],
          "name": "stdout"
        }
      ]
    },
    {
      "cell_type": "code",
      "metadata": {
        "id": "WsgjMDJuZ33n",
        "outputId": "693821ac-38d4-4027-ecb9-2bcde41fdd50"
      },
      "source": [
        "# You can also select, for example, numbers that are equal to or greater than 5, and use that condition to \n",
        "# index an array.\n",
        "\n",
        "five_up = (a >= 5)\n",
        "print(a[five_up])"
      ],
      "execution_count": null,
      "outputs": [
        {
          "output_type": "stream",
          "text": [
            "[ 5  6  7  8  9 10 11 12]\n"
          ],
          "name": "stdout"
        }
      ]
    },
    {
      "cell_type": "code",
      "metadata": {
        "id": "k96wpXmcZ33p",
        "outputId": "e628004b-5969-4021-dd07-97f6ccd20875"
      },
      "source": [
        "# You can select elements that are divisible by 2:\n",
        "divisible_by_2 = a[a%2==0]\n",
        "print(divisible_by_2)"
      ],
      "execution_count": null,
      "outputs": [
        {
          "output_type": "stream",
          "text": [
            "[ 2  4  6  8 10 12]\n"
          ],
          "name": "stdout"
        }
      ]
    },
    {
      "cell_type": "code",
      "metadata": {
        "id": "CK9uYC6dZ33r",
        "outputId": "c8a739ce-1337-4ae6-8c1f-dd5f19f61593"
      },
      "source": [
        "# Or you can select elements that satisfy two conditions using the & and | operators:\n",
        "c = a[(a > 2) & (a < 11)]\n",
        "print(c)"
      ],
      "execution_count": null,
      "outputs": [
        {
          "output_type": "stream",
          "text": [
            "[ 3  4  5  6  7  8  9 10]\n"
          ],
          "name": "stdout"
        }
      ]
    },
    {
      "cell_type": "code",
      "metadata": {
        "id": "xSNGU4rlZ33t",
        "outputId": "e13b428a-8f05-4018-dba6-53479f9fb94f"
      },
      "source": [
        "# You can also make use of the logical operators & and | in order to return boolean values that specify whether or not the values in an array fulfill a certain condition. This can be useful with arrays that contain names or other categorical values.\n",
        "five_up = (a > 5) | (a == 5)\n",
        "print(five_up)"
      ],
      "execution_count": null,
      "outputs": [
        {
          "output_type": "stream",
          "text": [
            "[[False False False False]\n",
            " [ True  True  True  True]\n",
            " [ True  True  True  True]]\n"
          ],
          "name": "stdout"
        }
      ]
    },
    {
      "cell_type": "code",
      "metadata": {
        "id": "MYs8MOa_Z33w",
        "outputId": "54f5cec1-10a8-4a4e-893d-318fd2f5aa78"
      },
      "source": [
        "# You can use np.nonzero() to print the indices of elements that are, for example, less than 7:\n",
        "b = np.nonzero(a < 7)\n",
        "print(b)\n",
        "\n",
        "#In this example, a tuple of arrays was returned: one for each dimension. The first array represents the row \n",
        "# indices where these values are found, and the second array represents the column indices where the values are\n",
        "# found."
      ],
      "execution_count": null,
      "outputs": [
        {
          "output_type": "stream",
          "text": [
            "(array([0, 0, 0, 0, 1, 1]), array([0, 1, 2, 3, 0, 1]))\n"
          ],
          "name": "stdout"
        }
      ]
    },
    {
      "cell_type": "code",
      "metadata": {
        "id": "jwnhJdF5Z33y",
        "outputId": "54e6b61e-0780-4576-b5b6-6c5b4f2c49b0"
      },
      "source": [
        "# If you want to generate a list of coordinates where the elements exist, you can zip the arrays, iterate over \n",
        "# the list of coordinates, and print them. For example:\n",
        "\n",
        "list_of_coordinates= list(zip(b[0], b[1]))\n",
        "\n",
        "for coord in list_of_coordinates:\n",
        "     print(coord)"
      ],
      "execution_count": null,
      "outputs": [
        {
          "output_type": "stream",
          "text": [
            "(0, 0)\n",
            "(0, 1)\n",
            "(0, 2)\n",
            "(0, 3)\n",
            "(1, 0)\n",
            "(1, 1)\n"
          ],
          "name": "stdout"
        }
      ]
    },
    {
      "cell_type": "code",
      "metadata": {
        "id": "Ef7dKttYZ330"
      },
      "source": [],
      "execution_count": null,
      "outputs": []
    },
    {
      "cell_type": "code",
      "metadata": {
        "id": "NCjW1O5cZ332"
      },
      "source": [],
      "execution_count": null,
      "outputs": []
    },
    {
      "cell_type": "markdown",
      "metadata": {
        "id": "eSrxNX0aZ335"
      },
      "source": [
        "## MULTIDIMENSIONAL INDEX ITERATORS"
      ]
    },
    {
      "cell_type": "markdown",
      "metadata": {
        "id": "uwcT1qVfZ335"
      },
      "source": [
        "numpy.flat and numpy.ndenumerate"
      ]
    },
    {
      "cell_type": "code",
      "metadata": {
        "id": "a-yLBCUYZ335",
        "outputId": "28af25c2-fcd5-42bf-c5f9-793e546f7638"
      },
      "source": [
        "for x in A.flat:\n",
        "    print(x)"
      ],
      "execution_count": null,
      "outputs": [
        {
          "output_type": "stream",
          "text": [
            "0\n",
            "1\n",
            "2\n",
            "3\n",
            "4\n",
            "5\n",
            "6\n",
            "7\n",
            "8\n",
            "9\n",
            "10\n",
            "11\n",
            "12\n",
            "13\n",
            "14\n",
            "15\n",
            "16\n",
            "17\n",
            "18\n",
            "19\n",
            "20\n",
            "21\n",
            "22\n",
            "23\n"
          ],
          "name": "stdout"
        }
      ]
    },
    {
      "cell_type": "code",
      "metadata": {
        "id": "cG67YOV5Z338"
      },
      "source": [],
      "execution_count": null,
      "outputs": []
    },
    {
      "cell_type": "code",
      "metadata": {
        "id": "3gqojEYvZ34D",
        "outputId": "dbab7584-c5d0-49f2-a922-5c2d8925f558"
      },
      "source": [
        " a = np.array([[1, 2], [3, 4]])\n",
        "\n",
        "for index, x in np.ndenumerate(a):\n",
        "\n",
        "    print(index, x)"
      ],
      "execution_count": null,
      "outputs": [
        {
          "output_type": "stream",
          "text": [
            "(0, 0) 1\n",
            "(0, 1) 2\n",
            "(1, 0) 3\n",
            "(1, 1) 4\n"
          ],
          "name": "stdout"
        }
      ]
    },
    {
      "cell_type": "code",
      "metadata": {
        "id": "nlN7VL49Z34J"
      },
      "source": [],
      "execution_count": null,
      "outputs": []
    },
    {
      "cell_type": "markdown",
      "metadata": {
        "id": "4b1G8IssZ34O"
      },
      "source": [
        "## STACKING OVER DIFFERENT ARRAYS "
      ]
    },
    {
      "cell_type": "markdown",
      "metadata": {
        "id": "0XoOBTRLZ34P"
      },
      "source": [
        "**hstack() and hstack()**"
      ]
    },
    {
      "cell_type": "markdown",
      "metadata": {
        "id": "M23Bx5rUZ34P"
      },
      "source": [
        "You can stack two existing arrays, both vertically and horizontally. Let’s say you have two arrays, a1 and a2:\n",
        "However these functions dont add a new dimension on their own"
      ]
    },
    {
      "cell_type": "code",
      "metadata": {
        "id": "19BUnlfwZ34R"
      },
      "source": [
        "a1 = np.array([[1, 1],[2, 2]])\n",
        "\n",
        "a2 = np.array([[3, 3],[4, 4]])"
      ],
      "execution_count": null,
      "outputs": []
    },
    {
      "cell_type": "code",
      "metadata": {
        "id": "bDeejEuxZ34V",
        "outputId": "f37aad70-dea4-4289-8db0-b4a2d06a1638"
      },
      "source": [
        "# You can stack them vertically with vstack:\n",
        "np.vstack((a1, a2))"
      ],
      "execution_count": null,
      "outputs": [
        {
          "output_type": "execute_result",
          "data": {
            "text/plain": [
              "array([[1, 1],\n",
              "       [2, 2],\n",
              "       [3, 3],\n",
              "       [4, 4]])"
            ]
          },
          "metadata": {
            "tags": []
          },
          "execution_count": 25
        }
      ]
    },
    {
      "cell_type": "code",
      "metadata": {
        "id": "RRKLU5mnZ34Y"
      },
      "source": [],
      "execution_count": null,
      "outputs": []
    },
    {
      "cell_type": "code",
      "metadata": {
        "id": "u4W-luFsZ34c",
        "outputId": "a5201151-d9bf-4017-eef4-f139615de824"
      },
      "source": [
        "# Or stack them horizontally with hstack:\n",
        "np.hstack((a1, a2))"
      ],
      "execution_count": null,
      "outputs": [
        {
          "output_type": "execute_result",
          "data": {
            "text/plain": [
              "array([[1, 1, 3, 3],\n",
              "       [2, 2, 4, 4]])"
            ]
          },
          "metadata": {
            "tags": []
          },
          "execution_count": 27
        }
      ]
    },
    {
      "cell_type": "code",
      "metadata": {
        "id": "Zo_hCr1jZ34e"
      },
      "source": [],
      "execution_count": null,
      "outputs": []
    },
    {
      "cell_type": "markdown",
      "metadata": {
        "id": "f9Xt_4HIZ34i"
      },
      "source": [
        "**column_stack() and row_stack()**"
      ]
    },
    {
      "cell_type": "code",
      "metadata": {
        "id": "J83SRjJ5Z34i",
        "outputId": "16e025d5-2072-4fe5-88f7-0078b52fb4b3"
      },
      "source": [
        "# The function column_stack stacks 1D arrays as columns into a 2D array. It is equivalent to hstack only for \n",
        "# 2D arrays:\n",
        "rg = np.random.default_rng(1)  # creates instance of a random no. generator from numpy\n",
        "\n",
        "from numpy import newaxis\n",
        "\n",
        "a = np.floor(10*rg.random((2,2)))\n",
        "b = np.floor(10*rg.random((2,2)))\n",
        "\n",
        "np.column_stack((a,b))     # with 2D arrays"
      ],
      "execution_count": null,
      "outputs": [
        {
          "output_type": "execute_result",
          "data": {
            "text/plain": [
              "array([[5., 9., 3., 4.],\n",
              "       [1., 9., 8., 4.]])"
            ]
          },
          "metadata": {
            "tags": []
          },
          "execution_count": 38
        }
      ]
    },
    {
      "cell_type": "code",
      "metadata": {
        "id": "sVkcpRwpZ34j",
        "outputId": "1ef307b6-f637-4ff3-f06d-7ccb068bdb1f"
      },
      "source": [
        " np.hstack((a,b))           # the result is same as the arrays are 2d arrays"
      ],
      "execution_count": null,
      "outputs": [
        {
          "output_type": "execute_result",
          "data": {
            "text/plain": [
              "array([[5., 9., 3., 4.],\n",
              "       [1., 9., 8., 4.]])"
            ]
          },
          "metadata": {
            "tags": []
          },
          "execution_count": 39
        }
      ]
    },
    {
      "cell_type": "code",
      "metadata": {
        "id": "oI4Agx83Z34m"
      },
      "source": [
        "a = np.array([4.,2.])\n",
        "b = np.array([3.,8.])\n"
      ],
      "execution_count": null,
      "outputs": []
    },
    {
      "cell_type": "code",
      "metadata": {
        "id": "k1epfvkSZ34p",
        "outputId": "05e881a7-0381-4acf-956d-af5bebfb40bd"
      },
      "source": [
        "np.column_stack((a,b))     # returns a 2D array"
      ],
      "execution_count": null,
      "outputs": [
        {
          "output_type": "execute_result",
          "data": {
            "text/plain": [
              "array([[4., 3.],\n",
              "       [2., 8.]])"
            ]
          },
          "metadata": {
            "tags": []
          },
          "execution_count": 41
        }
      ]
    },
    {
      "cell_type": "code",
      "metadata": {
        "id": "ejuH7oyfZ34s",
        "outputId": "7b6f12a0-be70-45d3-8fc4-7fd5951ceacb"
      },
      "source": [
        "np.hstack((a,b))          # returns a 1d array"
      ],
      "execution_count": null,
      "outputs": [
        {
          "output_type": "execute_result",
          "data": {
            "text/plain": [
              "array([4., 2., 3., 8.])"
            ]
          },
          "metadata": {
            "tags": []
          },
          "execution_count": 47
        }
      ]
    },
    {
      "cell_type": "code",
      "metadata": {
        "id": "YqRqw6iYZ34u"
      },
      "source": [],
      "execution_count": null,
      "outputs": []
    },
    {
      "cell_type": "code",
      "metadata": {
        "id": "l8UQq-tRZ34w",
        "outputId": "8db123bf-df14-4a78-b1de-1255a5da313c"
      },
      "source": [
        "a[:,newaxis]   # viewing it as a 2d array by adding a new axis"
      ],
      "execution_count": null,
      "outputs": [
        {
          "output_type": "execute_result",
          "data": {
            "text/plain": [
              "array([[4.],\n",
              "       [2.]])"
            ]
          },
          "metadata": {
            "tags": []
          },
          "execution_count": 44
        }
      ]
    },
    {
      "cell_type": "code",
      "metadata": {
        "id": "E-OWpsN_Z34z",
        "outputId": "efdc329a-ffc7-4084-c34d-a99779e0ed88"
      },
      "source": [
        "np.column_stack((a[:,newaxis],b[:,newaxis]))"
      ],
      "execution_count": null,
      "outputs": [
        {
          "output_type": "execute_result",
          "data": {
            "text/plain": [
              "array([[4., 3.],\n",
              "       [2., 8.]])"
            ]
          },
          "metadata": {
            "tags": []
          },
          "execution_count": 45
        }
      ]
    },
    {
      "cell_type": "code",
      "metadata": {
        "id": "Ai2BHzH_Z348",
        "outputId": "d62a4325-12ed-42c7-969a-d90b8e8a9135"
      },
      "source": [
        "np.hstack((a[:,newaxis],b[:,newaxis]))  # now the result is same as we used 2d arrays"
      ],
      "execution_count": null,
      "outputs": [
        {
          "output_type": "execute_result",
          "data": {
            "text/plain": [
              "array([[4., 3.],\n",
              "       [2., 8.]])"
            ]
          },
          "metadata": {
            "tags": []
          },
          "execution_count": 46
        }
      ]
    },
    {
      "cell_type": "code",
      "metadata": {
        "id": "PtjXDPzAZ349"
      },
      "source": [],
      "execution_count": null,
      "outputs": []
    },
    {
      "cell_type": "code",
      "metadata": {
        "id": "YOgRPwDpZ35A",
        "outputId": "ffd008aa-de41-49d9-e5ab-b7dad4ba0667"
      },
      "source": [
        "# On the other hand,the function row_stack is equivalent to vstack for any input arrays. In fact, \n",
        "# row_stack is an alias for vstack:\n",
        "\n",
        "np.column_stack is np.hstack"
      ],
      "execution_count": null,
      "outputs": [
        {
          "output_type": "execute_result",
          "data": {
            "text/plain": [
              "False"
            ]
          },
          "metadata": {
            "tags": []
          },
          "execution_count": 49
        }
      ]
    },
    {
      "cell_type": "code",
      "metadata": {
        "id": "PF1ogZW0Z35C",
        "outputId": "b403ddde-c762-4500-f13f-b1d3e0df4c2c"
      },
      "source": [
        "np.row_stack is np.vstack"
      ],
      "execution_count": null,
      "outputs": [
        {
          "output_type": "execute_result",
          "data": {
            "text/plain": [
              "True"
            ]
          },
          "metadata": {
            "tags": []
          },
          "execution_count": 52
        }
      ]
    },
    {
      "cell_type": "code",
      "metadata": {
        "id": "is7bK1GXZ35F"
      },
      "source": [],
      "execution_count": null,
      "outputs": []
    },
    {
      "cell_type": "markdown",
      "metadata": {
        "id": "MWqkMfjPZ35I"
      },
      "source": [
        "## CONCATENATING 2 ARRAYS using concatenate()"
      ]
    },
    {
      "cell_type": "code",
      "metadata": {
        "id": "uRBzBDbiZ35J"
      },
      "source": [
        "a = np.array([[1, 2], [3, 4]])\n",
        "b = np.array([[5, 6]])"
      ],
      "execution_count": null,
      "outputs": []
    },
    {
      "cell_type": "code",
      "metadata": {
        "id": "vYZPLvdxZ35M",
        "outputId": "dd4a14b1-f270-45b3-fdb0-fde0e7b7ef63"
      },
      "source": [
        "# stacked as a row\n",
        "print(np.concatenate((a, b), axis=0))\n",
        "\n",
        "# stacked as column\n",
        "print()\n",
        "print(np.concatenate((a, b.T), axis=1))\n",
        "\n",
        "# if axis = None, the arrays are first flattened and then concatenated\n",
        "print()\n",
        "print(np.concatenate((a, b), axis=None))\n"
      ],
      "execution_count": null,
      "outputs": [
        {
          "output_type": "stream",
          "text": [
            "[[1 2]\n",
            " [3 4]\n",
            " [5 6]]\n",
            "\n",
            "[[1 2 5]\n",
            " [3 4 6]]\n",
            "\n",
            "[1 2 3 4 5 6]\n"
          ],
          "name": "stdout"
        }
      ]
    },
    {
      "cell_type": "code",
      "metadata": {
        "id": "-8nO3ITGZ35P"
      },
      "source": [
        "'''\n",
        "In general, for arrays with more than two dimensions, hstack stacks along their second axes, vstack stacks \n",
        "along their first axes, and concatenate allows for an optional arguments giving the number of the axis along \n",
        "which the concatenation should happen.\n",
        "'''"
      ],
      "execution_count": null,
      "outputs": []
    },
    {
      "cell_type": "code",
      "metadata": {
        "id": "YgUjrKEpZ35S"
      },
      "source": [],
      "execution_count": null,
      "outputs": []
    },
    {
      "cell_type": "markdown",
      "metadata": {
        "id": "jbRrj4f5Z35a"
      },
      "source": [
        "## SPLITTING ARRAYS INTO SMALLER ARRAYS"
      ]
    },
    {
      "cell_type": "markdown",
      "metadata": {
        "id": "fBelTEg8Z35b"
      },
      "source": [
        "**hsplit() method**  - always splits column wise irrespective of the dimension"
      ]
    },
    {
      "cell_type": "code",
      "metadata": {
        "id": "K0vWVCtPZ35b"
      },
      "source": [
        "# Using hsplit, you can split an array along its horizontal axis, either by specifying the number of equally \n",
        "# shaped arrays to return, or by specifying the columns after which the division should occur:"
      ],
      "execution_count": null,
      "outputs": []
    },
    {
      "cell_type": "code",
      "metadata": {
        "id": "5Va9Xqy4Z35e",
        "outputId": "e56a749d-f73d-4bc3-d189-3eb124626e9a"
      },
      "source": [
        "a = np.floor(10*rg.random((2,12)))\n",
        "a"
      ],
      "execution_count": null,
      "outputs": [
        {
          "output_type": "execute_result",
          "data": {
            "text/plain": [
              "array([[6., 7., 6., 9., 0., 5., 4., 0., 6., 8., 5., 2.],\n",
              "       [8., 5., 5., 7., 1., 8., 6., 7., 1., 8., 1., 0.]])"
            ]
          },
          "metadata": {
            "tags": []
          },
          "execution_count": 65
        }
      ]
    },
    {
      "cell_type": "code",
      "metadata": {
        "id": "PSIyR1__Z35h",
        "outputId": "fc576457-0fa2-4bf7-e308-7466b670bc6c"
      },
      "source": [
        "# split in 3 equal parts column wise\n",
        "np.hsplit(a,3)"
      ],
      "execution_count": null,
      "outputs": [
        {
          "output_type": "execute_result",
          "data": {
            "text/plain": [
              "[array([[6., 7., 6., 9.],\n",
              "        [8., 5., 5., 7.]]),\n",
              " array([[0., 5., 4., 0.],\n",
              "        [1., 8., 6., 7.]]),\n",
              " array([[6., 8., 5., 2.],\n",
              "        [1., 8., 1., 0.]])]"
            ]
          },
          "metadata": {
            "tags": []
          },
          "execution_count": 66
        }
      ]
    },
    {
      "cell_type": "code",
      "metadata": {
        "id": "tBkt-YJaZ35l",
        "outputId": "ec341cf2-3fb1-4dbe-e42e-4bef6a15a09b"
      },
      "source": [
        "# Split a after the third and the fourth column\n",
        "np.hsplit(a,(3,4))"
      ],
      "execution_count": null,
      "outputs": [
        {
          "output_type": "execute_result",
          "data": {
            "text/plain": [
              "[array([[6., 7., 6.],\n",
              "        [8., 5., 5.]]),\n",
              " array([[9.],\n",
              "        [7.]]),\n",
              " array([[0., 5., 4., 0., 6., 8., 5., 2.],\n",
              "        [1., 8., 6., 7., 1., 8., 1., 0.]])]"
            ]
          },
          "metadata": {
            "tags": []
          },
          "execution_count": 67
        }
      ]
    },
    {
      "cell_type": "code",
      "metadata": {
        "id": "SpmqKx-lZ35o"
      },
      "source": [],
      "execution_count": null,
      "outputs": []
    },
    {
      "cell_type": "markdown",
      "metadata": {
        "id": "JlJ1iX0lZ35t"
      },
      "source": [
        "**vsplit() method** -  - always splits row wise irrespective of the dimension"
      ]
    },
    {
      "cell_type": "code",
      "metadata": {
        "id": "JxwmsZY0Z35v",
        "outputId": "c8b94f9a-f10d-4c15-c8d8-66dd0d403b21"
      },
      "source": [
        "x = np.arange(16.0).reshape(4, 4)\n",
        "x"
      ],
      "execution_count": null,
      "outputs": [
        {
          "output_type": "execute_result",
          "data": {
            "text/plain": [
              "array([[ 0.,  1.,  2.,  3.],\n",
              "       [ 4.,  5.,  6.,  7.],\n",
              "       [ 8.,  9., 10., 11.],\n",
              "       [12., 13., 14., 15.]])"
            ]
          },
          "metadata": {
            "tags": []
          },
          "execution_count": 68
        }
      ]
    },
    {
      "cell_type": "code",
      "metadata": {
        "id": "L5nq-btKZ351",
        "outputId": "81487bff-36c8-4ced-a8c0-ee8ebdd5111e"
      },
      "source": [
        "np.vsplit(x, 2)"
      ],
      "execution_count": null,
      "outputs": [
        {
          "output_type": "execute_result",
          "data": {
            "text/plain": [
              "[array([[0., 1., 2., 3.],\n",
              "        [4., 5., 6., 7.]]),\n",
              " array([[ 8.,  9., 10., 11.],\n",
              "        [12., 13., 14., 15.]])]"
            ]
          },
          "metadata": {
            "tags": []
          },
          "execution_count": 69
        }
      ]
    },
    {
      "cell_type": "code",
      "metadata": {
        "id": "xIVtnKleZ36R",
        "outputId": "23738629-2643-4c24-d4a0-7b8eaa37c7bf"
      },
      "source": [
        "np.vsplit(x,(3, 6))"
      ],
      "execution_count": null,
      "outputs": [
        {
          "output_type": "execute_result",
          "data": {
            "text/plain": [
              "[array([[ 0.,  1.,  2.,  3.],\n",
              "        [ 4.,  5.,  6.,  7.],\n",
              "        [ 8.,  9., 10., 11.]]),\n",
              " array([[12., 13., 14., 15.]]),\n",
              " array([], shape=(0, 4), dtype=float64)]"
            ]
          },
          "metadata": {
            "tags": []
          },
          "execution_count": 76
        }
      ]
    },
    {
      "cell_type": "code",
      "metadata": {
        "id": "iqUTn5HjZ36V"
      },
      "source": [],
      "execution_count": null,
      "outputs": []
    },
    {
      "cell_type": "markdown",
      "metadata": {
        "id": "oIa7GSnwZ36Y"
      },
      "source": [
        "## COPIES AND VIEWS"
      ]
    },
    {
      "cell_type": "markdown",
      "metadata": {
        "id": "sHjhu37tZ36Z"
      },
      "source": [
        "**1.No Copy at All**"
      ]
    },
    {
      "cell_type": "code",
      "metadata": {
        "id": "uIOrHdglZ36Z",
        "outputId": "8b854ade-a162-411b-f1d0-5a64809f696f"
      },
      "source": [
        "\n",
        "# Simple assignments make no copy of objects or their data.\n",
        "\n",
        "a = np.array([[ 0,  1,  2,  3],\n",
        "              [ 4,  5,  6,  7],\n",
        "              [ 8,  9, 10, 11]])\n",
        "b = a            # no new object is created\n",
        "b is a           # a and b are two names for the same ndarray object\n",
        "True\n"
      ],
      "execution_count": null,
      "outputs": [
        {
          "output_type": "execute_result",
          "data": {
            "text/plain": [
              "True"
            ]
          },
          "metadata": {
            "tags": []
          },
          "execution_count": 77
        }
      ]
    },
    {
      "cell_type": "code",
      "metadata": {
        "id": "DW_XcxevZ36e"
      },
      "source": [],
      "execution_count": null,
      "outputs": []
    },
    {
      "cell_type": "markdown",
      "metadata": {
        "id": "x9N8b2d-Z36i"
      },
      "source": [
        "**2.View or Shallow Copy**"
      ]
    },
    {
      "cell_type": "code",
      "metadata": {
        "id": "wUZLsaFVZ36j",
        "outputId": "09682b74-bc52-4782-9cf2-b54ff395044e"
      },
      "source": [
        "\n",
        "# Different array objects can share the same data. The view method creates a new array object that looks at the\n",
        "# same data.\n",
        "c = a.view()\n",
        "c is a\n"
      ],
      "execution_count": null,
      "outputs": [
        {
          "output_type": "execute_result",
          "data": {
            "text/plain": [
              "False"
            ]
          },
          "metadata": {
            "tags": []
          },
          "execution_count": 78
        }
      ]
    },
    {
      "cell_type": "code",
      "metadata": {
        "id": "UeVQTkmUZ36l",
        "outputId": "6858c0e0-4cef-414a-9b7f-ec5b80123bca"
      },
      "source": [
        "c.base is a                        # c is a view of the data owned by a"
      ],
      "execution_count": null,
      "outputs": [
        {
          "output_type": "execute_result",
          "data": {
            "text/plain": [
              "True"
            ]
          },
          "metadata": {
            "tags": []
          },
          "execution_count": 79
        }
      ]
    },
    {
      "cell_type": "code",
      "metadata": {
        "id": "4r5b3zjvZ36p",
        "outputId": "820080b3-224b-46dc-ce51-c65002015ed7"
      },
      "source": [
        "c.flags.owndata"
      ],
      "execution_count": null,
      "outputs": [
        {
          "output_type": "execute_result",
          "data": {
            "text/plain": [
              "False"
            ]
          },
          "metadata": {
            "tags": []
          },
          "execution_count": 80
        }
      ]
    },
    {
      "cell_type": "code",
      "metadata": {
        "id": "woDM9XyEZ36s",
        "outputId": "228f4ead-4393-4456-e7d7-e1f3d0c9a658"
      },
      "source": [
        "c = c.reshape((2, 6))                      # a's shape doesn't change\n",
        "a.shape"
      ],
      "execution_count": null,
      "outputs": [
        {
          "output_type": "execute_result",
          "data": {
            "text/plain": [
              "(3, 4)"
            ]
          },
          "metadata": {
            "tags": []
          },
          "execution_count": 81
        }
      ]
    },
    {
      "cell_type": "code",
      "metadata": {
        "id": "3T1av2b2Z36v",
        "outputId": "2ea76276-6fda-40cd-891f-9f720754b709"
      },
      "source": [
        "c[0, 4] = 1234                      # a's data changes\n",
        "a"
      ],
      "execution_count": null,
      "outputs": [
        {
          "output_type": "execute_result",
          "data": {
            "text/plain": [
              "array([[   0,    1,    2,    3],\n",
              "       [1234,    5,    6,    7],\n",
              "       [   8,    9,   10,   11]])"
            ]
          },
          "metadata": {
            "tags": []
          },
          "execution_count": 82
        }
      ]
    },
    {
      "cell_type": "code",
      "metadata": {
        "id": "BYkFaNEVZ36x"
      },
      "source": [
        "# slicing an array returns a view of it"
      ],
      "execution_count": null,
      "outputs": []
    },
    {
      "cell_type": "code",
      "metadata": {
        "id": "4UXu6G8sZ361"
      },
      "source": [],
      "execution_count": null,
      "outputs": []
    },
    {
      "cell_type": "markdown",
      "metadata": {
        "id": "PuGDDT5lZ364"
      },
      "source": [
        "**3.Deep Copy**"
      ]
    },
    {
      "cell_type": "code",
      "metadata": {
        "id": "BswvdLQ2Z365",
        "outputId": "6d100cc9-fca1-4843-97a3-1b1ab624e507"
      },
      "source": [
        "# The copy method makes a complete copy of the array and its data.\n",
        "\n",
        "d = a.copy()                          # a new array object with new data is created\n",
        "d is a"
      ],
      "execution_count": null,
      "outputs": [
        {
          "output_type": "execute_result",
          "data": {
            "text/plain": [
              "False"
            ]
          },
          "metadata": {
            "tags": []
          },
          "execution_count": 84
        }
      ]
    },
    {
      "cell_type": "code",
      "metadata": {
        "id": "l3ImduFuZ366",
        "outputId": "08944f3b-cf76-4d98-8bab-f56899af1f37"
      },
      "source": [
        "d.base is a                           # d doesn't share anything with a"
      ],
      "execution_count": null,
      "outputs": [
        {
          "output_type": "execute_result",
          "data": {
            "text/plain": [
              "False"
            ]
          },
          "metadata": {
            "tags": []
          },
          "execution_count": 85
        }
      ]
    },
    {
      "cell_type": "code",
      "metadata": {
        "id": "bOc1enSUZ369",
        "outputId": "092b1f5c-2235-4815-9385-bd511817a9a9"
      },
      "source": [
        "d[0,0] = 9999\n",
        "a"
      ],
      "execution_count": null,
      "outputs": [
        {
          "output_type": "execute_result",
          "data": {
            "text/plain": [
              "array([[   0,    1,    2,    3],\n",
              "       [1234,    5,    6,    7],\n",
              "       [   8,    9,   10,   11]])"
            ]
          },
          "metadata": {
            "tags": []
          },
          "execution_count": 86
        }
      ]
    },
    {
      "cell_type": "code",
      "metadata": {
        "id": "PSGGcuCaZ37D"
      },
      "source": [],
      "execution_count": null,
      "outputs": []
    },
    {
      "cell_type": "markdown",
      "metadata": {
        "id": "gTMNp3mRZ37E"
      },
      "source": [
        "## BASIC OPERATIONS"
      ]
    },
    {
      "cell_type": "markdown",
      "metadata": {
        "id": "pKeSHy_JZ37E"
      },
      "source": [
        "**Arithmetic operators on arrays apply elementwise. A new array is created and filled with the result.**"
      ]
    },
    {
      "cell_type": "code",
      "metadata": {
        "id": "iUcO2fRWZ37E",
        "outputId": "63ea3d13-2706-4bad-e0d0-2bcfead34259"
      },
      "source": [
        "a = np.array( [20,30,40,50] )\n",
        "b = np.arange( 4 )\n",
        "b"
      ],
      "execution_count": null,
      "outputs": [
        {
          "output_type": "execute_result",
          "data": {
            "text/plain": [
              "array([0, 1, 2, 3])"
            ]
          },
          "metadata": {
            "tags": []
          },
          "execution_count": 87
        }
      ]
    },
    {
      "cell_type": "code",
      "metadata": {
        "id": "qetVHw2oZ37G",
        "outputId": "f3669e54-21e8-4e29-cfa6-4f112b8b6cc3"
      },
      "source": [
        "c = a-b\n",
        "c"
      ],
      "execution_count": null,
      "outputs": [
        {
          "output_type": "execute_result",
          "data": {
            "text/plain": [
              "array([20, 29, 38, 47])"
            ]
          },
          "metadata": {
            "tags": []
          },
          "execution_count": 88
        }
      ]
    },
    {
      "cell_type": "code",
      "metadata": {
        "id": "pcDR7ptdZ37J",
        "outputId": "f5b63078-478b-4276-e69b-1190f2f6716e"
      },
      "source": [
        "b**2\n"
      ],
      "execution_count": null,
      "outputs": [
        {
          "output_type": "execute_result",
          "data": {
            "text/plain": [
              "array([0, 1, 4, 9])"
            ]
          },
          "metadata": {
            "tags": []
          },
          "execution_count": 89
        }
      ]
    },
    {
      "cell_type": "code",
      "metadata": {
        "id": "XXcPTOEoZ37L",
        "outputId": "352f8f76-4735-4856-a250-6a5fe902ec4f"
      },
      "source": [
        "10*np.sin(a)\n"
      ],
      "execution_count": null,
      "outputs": [
        {
          "output_type": "execute_result",
          "data": {
            "text/plain": [
              "array([ 9.12945251, -9.88031624,  7.4511316 , -2.62374854])"
            ]
          },
          "metadata": {
            "tags": []
          },
          "execution_count": 93
        }
      ]
    },
    {
      "cell_type": "code",
      "metadata": {
        "id": "EP5THZv5Z37N",
        "outputId": "df15b76a-518f-4cd1-c095-b174f30d9c81"
      },
      "source": [
        "a<35"
      ],
      "execution_count": null,
      "outputs": [
        {
          "output_type": "execute_result",
          "data": {
            "text/plain": [
              "array([ True,  True, False, False])"
            ]
          },
          "metadata": {
            "tags": []
          },
          "execution_count": 91
        }
      ]
    },
    {
      "cell_type": "code",
      "metadata": {
        "id": "dP9t77yuZ37P"
      },
      "source": [],
      "execution_count": null,
      "outputs": []
    },
    {
      "cell_type": "markdown",
      "metadata": {
        "id": "SlCtw23dZ37R"
      },
      "source": [
        "**Unlike in many matrix languages, the product operator * operates elementwise in NumPy arrays. The matrix product can be performed using the @ operator (in python >=3.5) or the dot function or method:**"
      ]
    },
    {
      "cell_type": "code",
      "metadata": {
        "id": "Ecksdl3DZ37S",
        "outputId": "f413bf5c-7aa7-4dae-848d-79c1da5eac42"
      },
      "source": [
        "A = np.array( [[1,1],\n",
        "           [0,1]] )\n",
        "B = np.array( [[2,0],\n",
        "               [3,4]] )\n",
        "A * B                       # elementwise product\n",
        "\n"
      ],
      "execution_count": null,
      "outputs": [
        {
          "output_type": "execute_result",
          "data": {
            "text/plain": [
              "array([[2, 0],\n",
              "       [0, 4]])"
            ]
          },
          "metadata": {
            "tags": []
          },
          "execution_count": 95
        }
      ]
    },
    {
      "cell_type": "code",
      "metadata": {
        "id": "AZwFsJuFZ37U",
        "outputId": "e1ef0179-8ba3-491e-8437-37b67d27f654"
      },
      "source": [
        "A @ B                       # matrix product"
      ],
      "execution_count": null,
      "outputs": [
        {
          "output_type": "execute_result",
          "data": {
            "text/plain": [
              "array([[5, 4],\n",
              "       [3, 4]])"
            ]
          },
          "metadata": {
            "tags": []
          },
          "execution_count": 97
        }
      ]
    },
    {
      "cell_type": "code",
      "metadata": {
        "id": "9mqtTOt_Z37W",
        "outputId": "2a87e935-32e9-4d9a-8cb6-98c3f157056a"
      },
      "source": [
        "A.dot(B)                    # another matrix product"
      ],
      "execution_count": null,
      "outputs": [
        {
          "output_type": "execute_result",
          "data": {
            "text/plain": [
              "array([[5, 4],\n",
              "       [3, 4]])"
            ]
          },
          "metadata": {
            "tags": []
          },
          "execution_count": 96
        }
      ]
    },
    {
      "cell_type": "code",
      "metadata": {
        "id": "pWcgcytmZ37Y"
      },
      "source": [],
      "execution_count": null,
      "outputs": []
    },
    {
      "cell_type": "markdown",
      "metadata": {
        "id": "MJAYGq9fZ37Z"
      },
      "source": [
        "**Some operations, such as += and *=, act in place to modify an existing array rather than create a new one.**"
      ]
    },
    {
      "cell_type": "code",
      "metadata": {
        "id": "zhpiDwRKZ37a",
        "outputId": "a06eea05-8598-4444-8500-c2d49b690ef6"
      },
      "source": [
        "rg = np.random.default_rng(1)     # create instance of default random number generator\n",
        "a = np.ones((2,3), dtype=int)\n",
        "b = rg.random((2,3))\n",
        "a *= 3\n",
        "a\n"
      ],
      "execution_count": null,
      "outputs": [
        {
          "output_type": "execute_result",
          "data": {
            "text/plain": [
              "array([[3, 3, 3],\n",
              "       [3, 3, 3]])"
            ]
          },
          "metadata": {
            "tags": []
          },
          "execution_count": 98
        }
      ]
    },
    {
      "cell_type": "code",
      "metadata": {
        "id": "vpHukW0-Z37c",
        "outputId": "18fcd73c-fa8e-45e8-a8dd-7e0c405b0c17"
      },
      "source": [
        "b += a\n",
        "b\n",
        "\n"
      ],
      "execution_count": null,
      "outputs": [
        {
          "output_type": "execute_result",
          "data": {
            "text/plain": [
              "array([[3.51182162, 3.9504637 , 3.14415961],\n",
              "       [3.94864945, 3.31183145, 3.42332645]])"
            ]
          },
          "metadata": {
            "tags": []
          },
          "execution_count": 99
        }
      ]
    },
    {
      "cell_type": "code",
      "metadata": {
        "id": "ZTZB96hHZ37e",
        "outputId": "2d0d43af-04ef-470c-a0f7-91f7526d0c90"
      },
      "source": [
        "a += b                            # b is not automatically converted to integer type"
      ],
      "execution_count": null,
      "outputs": [
        {
          "output_type": "error",
          "ename": "UFuncTypeError",
          "evalue": "Cannot cast ufunc 'add' output from dtype('float64') to dtype('int64') with casting rule 'same_kind'",
          "traceback": [
            "\u001b[0;31m---------------------------------------------------------------------------\u001b[0m",
            "\u001b[0;31mUFuncTypeError\u001b[0m                            Traceback (most recent call last)",
            "\u001b[0;32m<ipython-input-100-9ad166da7def>\u001b[0m in \u001b[0;36m<module>\u001b[0;34m\u001b[0m\n\u001b[0;32m----> 1\u001b[0;31m \u001b[0ma\u001b[0m \u001b[0;34m+=\u001b[0m \u001b[0mb\u001b[0m                            \u001b[0;31m# b is not automatically converted to integer type\u001b[0m\u001b[0;34m\u001b[0m\u001b[0;34m\u001b[0m\u001b[0m\n\u001b[0m",
            "\u001b[0;31mUFuncTypeError\u001b[0m: Cannot cast ufunc 'add' output from dtype('float64') to dtype('int64') with casting rule 'same_kind'"
          ]
        }
      ]
    },
    {
      "cell_type": "code",
      "metadata": {
        "id": "FQP93yulZ37g"
      },
      "source": [],
      "execution_count": null,
      "outputs": []
    },
    {
      "cell_type": "markdown",
      "metadata": {
        "id": "NtKudvWRZ37h"
      },
      "source": [
        "**When operating with arrays of different types, the type of the resulting array corresponds to the more general or precise one (a behavior known as upcasting).**"
      ]
    },
    {
      "cell_type": "code",
      "metadata": {
        "id": "iwJgwN1MZ37h",
        "outputId": "53bffa5a-2549-4268-904f-09a19d14108e"
      },
      "source": [
        "from numpy import pi\n",
        "a = np.ones(3, dtype=np.int32)\n",
        "b = np.linspace(0,pi,3)\n",
        "print(b)\n",
        "b.dtype.name"
      ],
      "execution_count": null,
      "outputs": [
        {
          "output_type": "stream",
          "text": [
            "[0.         1.57079633 3.14159265]\n"
          ],
          "name": "stdout"
        },
        {
          "output_type": "execute_result",
          "data": {
            "text/plain": [
              "'float64'"
            ]
          },
          "metadata": {
            "tags": []
          },
          "execution_count": 107
        }
      ]
    },
    {
      "cell_type": "code",
      "metadata": {
        "id": "sQ5dmDFSZ37k",
        "outputId": "01e1d39b-306f-45bc-be13-09f094a9fc63"
      },
      "source": [
        "c = a+b\n",
        "print(c)\n",
        "c.dtype.name"
      ],
      "execution_count": null,
      "outputs": [
        {
          "output_type": "stream",
          "text": [
            "[1.         2.57079633 4.14159265]\n"
          ],
          "name": "stdout"
        },
        {
          "output_type": "execute_result",
          "data": {
            "text/plain": [
              "'float64'"
            ]
          },
          "metadata": {
            "tags": []
          },
          "execution_count": 106
        }
      ]
    },
    {
      "cell_type": "code",
      "metadata": {
        "id": "fxDyhE9YZ37m",
        "outputId": "6ce498a6-3814-4efd-d405-87bf24dc7c86"
      },
      "source": [
        "d = np.exp(c*1j)\n",
        "print(d)\n",
        "d.dtype.name\n",
        "'complex128'"
      ],
      "execution_count": null,
      "outputs": [
        {
          "output_type": "stream",
          "text": [
            "[ 0.54030231+0.84147098j -0.84147098+0.54030231j -0.54030231-0.84147098j]\n"
          ],
          "name": "stdout"
        },
        {
          "output_type": "execute_result",
          "data": {
            "text/plain": [
              "'complex128'"
            ]
          },
          "metadata": {
            "tags": []
          },
          "execution_count": 105
        }
      ]
    },
    {
      "cell_type": "code",
      "metadata": {
        "id": "bCVRQVAHZ37o"
      },
      "source": [],
      "execution_count": null,
      "outputs": []
    },
    {
      "cell_type": "markdown",
      "metadata": {
        "id": "ovCzeVGKZ37q"
      },
      "source": [
        "**Many unary operations, such as computing the sum of all the elements in the array, are implemented as methods of the ndarray class.**"
      ]
    },
    {
      "cell_type": "code",
      "metadata": {
        "id": "B6xDg9RzZ37r",
        "outputId": "eb03a86c-6dfb-4e13-d0cc-4247e019766b"
      },
      "source": [
        "a = rg.random((2,3))\n",
        "a"
      ],
      "execution_count": null,
      "outputs": [
        {
          "output_type": "execute_result",
          "data": {
            "text/plain": [
              "array([[0.82770259, 0.40919914, 0.54959369],\n",
              "       [0.02755911, 0.75351311, 0.53814331]])"
            ]
          },
          "metadata": {
            "tags": []
          },
          "execution_count": 108
        }
      ]
    },
    {
      "cell_type": "code",
      "metadata": {
        "id": "yeX-h8hCZ37s",
        "outputId": "98fcb6c5-4285-4fc6-e1e7-765b2a2968bd"
      },
      "source": [
        "a.sum()"
      ],
      "execution_count": null,
      "outputs": [
        {
          "output_type": "execute_result",
          "data": {
            "text/plain": [
              "3.1057109529998157"
            ]
          },
          "metadata": {
            "tags": []
          },
          "execution_count": 109
        }
      ]
    },
    {
      "cell_type": "code",
      "metadata": {
        "id": "nbmcfKrkZ37v",
        "outputId": "d1a26344-cc84-4ae3-ba02-a63542d8364c"
      },
      "source": [
        "a.min()"
      ],
      "execution_count": null,
      "outputs": [
        {
          "output_type": "execute_result",
          "data": {
            "text/plain": [
              "0.027559113243068367"
            ]
          },
          "metadata": {
            "tags": []
          },
          "execution_count": 110
        }
      ]
    },
    {
      "cell_type": "code",
      "metadata": {
        "id": "wfXrREQiZ37x",
        "outputId": "490a5d7a-796d-4ed5-a025-820a20c8b88c"
      },
      "source": [
        "a.max()"
      ],
      "execution_count": null,
      "outputs": [
        {
          "output_type": "execute_result",
          "data": {
            "text/plain": [
              "0.8277025938204418"
            ]
          },
          "metadata": {
            "tags": []
          },
          "execution_count": 112
        }
      ]
    },
    {
      "cell_type": "code",
      "metadata": {
        "id": "TvLktYqFZ37z"
      },
      "source": [],
      "execution_count": null,
      "outputs": []
    },
    {
      "cell_type": "markdown",
      "metadata": {
        "id": "qek_WQVMZ371"
      },
      "source": [
        "**By default, these operations apply to the array as though it were a list of numbers, regardless of its shape. However, by specifying the axis parameter you can apply an operation along the specified axis of an array:**"
      ]
    },
    {
      "cell_type": "code",
      "metadata": {
        "id": "rZN6wcAaZ371",
        "outputId": "d313a9b1-f2dd-465f-b973-438f60590208"
      },
      "source": [
        ">>> b = np.arange(12).reshape(3,4)\n",
        ">>> b"
      ],
      "execution_count": null,
      "outputs": [
        {
          "output_type": "execute_result",
          "data": {
            "text/plain": [
              "array([[ 0,  1,  2,  3],\n",
              "       [ 4,  5,  6,  7],\n",
              "       [ 8,  9, 10, 11]])"
            ]
          },
          "metadata": {
            "tags": []
          },
          "execution_count": 113
        }
      ]
    },
    {
      "cell_type": "code",
      "metadata": {
        "id": "cCjln--pZ373",
        "outputId": "3bb9178b-571f-4472-dcf8-2935e6840db9"
      },
      "source": [
        ">>> b.sum(axis=0)                            # sum of each column"
      ],
      "execution_count": null,
      "outputs": [
        {
          "output_type": "execute_result",
          "data": {
            "text/plain": [
              "array([12, 15, 18, 21])"
            ]
          },
          "metadata": {
            "tags": []
          },
          "execution_count": 114
        }
      ]
    },
    {
      "cell_type": "code",
      "metadata": {
        "id": "lh8ZTpNpZ375",
        "outputId": "ac8dc829-7fbf-47b5-f49f-3652b62b5c53"
      },
      "source": [
        ">>> b.min(axis=1)                            # min of each row"
      ],
      "execution_count": null,
      "outputs": [
        {
          "output_type": "execute_result",
          "data": {
            "text/plain": [
              "array([0, 4, 8])"
            ]
          },
          "metadata": {
            "tags": []
          },
          "execution_count": 115
        }
      ]
    },
    {
      "cell_type": "code",
      "metadata": {
        "id": "nO3Wa5E8Z378",
        "outputId": "62143fd3-055b-4921-9e02-05c1d4873bb1"
      },
      "source": [
        ">>> b.cumsum(axis=1)                         # cumulative sum along each row"
      ],
      "execution_count": null,
      "outputs": [
        {
          "output_type": "execute_result",
          "data": {
            "text/plain": [
              "array([[ 0,  1,  3,  6],\n",
              "       [ 4,  9, 15, 22],\n",
              "       [ 8, 17, 27, 38]])"
            ]
          },
          "metadata": {
            "tags": []
          },
          "execution_count": 116
        }
      ]
    },
    {
      "cell_type": "code",
      "metadata": {
        "id": "rPxCuzQ_Z37-"
      },
      "source": [],
      "execution_count": null,
      "outputs": []
    },
    {
      "cell_type": "code",
      "metadata": {
        "id": "rprpunw1Z37_"
      },
      "source": [
        "'''\n",
        "Sorting an array\n",
        "what is broadcasting and broadcasting rules\n",
        "generating random numbers using np.random\n",
        "\n",
        "\n",
        "'''"
      ],
      "execution_count": null,
      "outputs": []
    }
  ]
}