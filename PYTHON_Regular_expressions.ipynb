{
  "nbformat": 4,
  "nbformat_minor": 0,
  "metadata": {
    "colab": {
      "provenance": [],
      "collapsed_sections": [
        "6OCjaqOYCvKf",
        "DRf-gkb_ha4M",
        "eXztVhfuCz1k",
        "WDq533r9fMYY",
        "-eK4-XhXfTDS",
        "s8A_IaaDfXte",
        "l7GEqWM9ffGT",
        "yBEblgnnghMr"
      ]
    },
    "kernelspec": {
      "name": "python3",
      "display_name": "Python 3"
    }
  },
  "cells": [
    {
      "cell_type": "markdown",
      "metadata": {
        "id": "9maMAP_lB7FY"
      },
      "source": [
        "# Regular Expressions"
      ]
    },
    {
      "cell_type": "markdown",
      "metadata": {
        "id": "SfUPYnPkCQ9F"
      },
      "source": [
        "A regular expression (or RE) specifies a set of strings that matches it; the functions in this module let you check if a particular string matches a given regular expression (or if a given regular expression matches a particular string, which comes down to the same thing).\n",
        "Regular expressions can be concatenated to form new regular expressions; if A and B are both regular expressions,then AB is also a regular expression. In general, if a string p matches A and another string q matches B, the string pq will match AB. This holds unless A or B contain low precedence operations; boundary conditions between A and B; or have numbered group references. Thus, complex expressions can easily be constructed from simpler primitive expressions like the ones described here."
      ]
    },
    {
      "cell_type": "markdown",
      "metadata": {
        "id": "szKSPk08Chhe"
      },
      "source": [
        "***CERTAIN IMPORTANT POINTS***\n",
        "\n",
        "Both patterns and strings to be searched can be Unicode strings (str) as well as 8-bit strings (bytes). \n",
        "However, Unicode strings and 8-bit strings cannot be mixed: that is, you cannot match a Unicode string with a\n",
        "byte pattern or vice-versa; similarly, when asking for a substitution, the replacement string must be of the \n",
        "same type as both the pattern and the search string.\n",
        "\n",
        "Python’s raw string notation for regular expression patterns is used; \n",
        "backslashes are not handled in any special way in a string literal prefixed with 'r'. So r\"\\n\" is a \n",
        "two-character string containing '\\' and 'n', while \"\\n\" is a one-character string containing a newline. \n",
        "Usually patterns will be expressed in Python code using this raw string notation.\n"
      ]
    },
    {
      "cell_type": "markdown",
      "metadata": {
        "id": "6OCjaqOYCvKf"
      },
      "source": [
        "### 1.compile() method and search() method\n",
        "\n",
        "syntax - re.compile(pattern, flags=0)\n",
        "\n",
        "Compile a regular expression pattern into a regular expression object, which can be used for matching using its \n",
        "match(), search() and other methods, described below.\n",
        "\n",
        "The expression’s behaviour can be modified by specifying a flags value. Values can be any of the following \n",
        "variables, combined using bitwise OR (the | operator).\n",
        "\n",
        "\n",
        "example - usa and canadian phone numbers are of the form 445-666-1234"
      ]
    },
    {
      "cell_type": "code",
      "metadata": {
        "id": "4LAatx-6B7Fc",
        "outputId": "8b824da2-d280-4b29-fe49-f3af4dc95ae9"
      },
      "source": [
        "import re\n",
        "message = \"Call me at 445-555-1234 or if not reachable then at 445-555-4354\"\n",
        "expr = re.compile(r\"\\d\\d\\d-\\d\\d\\d-\\d\\d\\d\\d\") # \\d is used for numeric digits\n",
        "mo = expr.search(message) #returns an object called match object\n",
        "print(mo)\n",
        "print(mo.group())\n",
        "\n",
        "# 2. findall(str) method\n",
        "print(expr.findall(message)) #findall method returns all the matches for that RE inform of a list\n"
      ],
      "execution_count": null,
      "outputs": [
        {
          "output_type": "stream",
          "text": [
            "<re.Match object; span=(11, 23), match='445-555-1234'>\n",
            "445-555-1234\n",
            "['445-555-1234', '445-555-4354']\n"
          ],
          "name": "stdout"
        }
      ]
    },
    {
      "cell_type": "code",
      "metadata": {
        "id": "scUMpn7PB7Fe",
        "outputId": "b1094795-ffc4-4e0b-a9ff-0215d62b9679"
      },
      "source": [
        "message = \"Call me at 445-555-1234 or if not reachable then at 445-555-4354\"\n",
        "expr = re.compile(r\"(\\d\\d\\d)-(\\d\\d\\d-\\d\\d\\d\\d)\") # created 2 sep groups inside re\n",
        "mo = expr.search(message) \n",
        "print(mo.group(1)) #printing different groups \n",
        "print(mo.group(2))"
      ],
      "execution_count": null,
      "outputs": [
        {
          "output_type": "stream",
          "text": [
            "445\n",
            "555-1234\n"
          ],
          "name": "stdout"
        }
      ]
    },
    {
      "cell_type": "code",
      "metadata": {
        "id": "EcRJWXsZCydV"
      },
      "source": [],
      "execution_count": null,
      "outputs": []
    },
    {
      "cell_type": "markdown",
      "metadata": {
        "id": "DRf-gkb_ha4M"
      },
      "source": [
        "#### more on compile method"
      ]
    },
    {
      "cell_type": "code",
      "metadata": {
        "id": "TDN9q5g5ha4T"
      },
      "source": [
        "# re.IGNORECASE or re.I extension to the compile method\n",
        "pattern = re.compile(\"\\s+\", re.IGNORECASE)"
      ],
      "execution_count": null,
      "outputs": []
    },
    {
      "cell_type": "code",
      "metadata": {
        "id": "iZHRmTIoha4l"
      },
      "source": [
        "# COMBINING DIFFERENT EXTENSIONS\n",
        "# re.compile method can take only 2 arguments so how do we pass multiple extensions?\n",
        "# By combining different extensions with a bitwise OR (|) operator\n",
        "pattern = re.compile(\"\\s+\", re.IGNORECASE | re.DOTALL | re.VERBOSE)"
      ],
      "execution_count": null,
      "outputs": []
    },
    {
      "cell_type": "code",
      "metadata": {
        "id": "OTKOliCRha40",
        "outputId": "2445a4d5-40ae-4522-d226-deb9cdfe269f"
      },
      "source": [
        "# Match object\n",
        "\n",
        "# You can get methods and attributes of a match object using dir() function.\n",
        "\n",
        "# Some of the commonly used methods and attributes of match objects are:\n",
        "#  1. match.group()\n",
        "\n",
        "# The group() method returns the part of the string where there is a match.\n",
        "\n",
        "\n",
        "import re\n",
        "\n",
        "string = '39801 356, 2102 1111'\n",
        "pattern = '(\\d{3}) (\\d{2})'\n",
        "match = re.search(pattern, string) \n",
        "\n",
        "if match:\n",
        "  print(match.group())\n",
        "else:\n",
        "  print(\"pattern not found\")\n",
        "\n",
        "# 2. match.start() and match.end()\n",
        "\n",
        "# The start() function returns the index of the start of the matched substring. Similarly, end() returns the end \n",
        "# index of the matched substring.\n",
        "print(match.start())\n",
        "print(match.end())\n",
        "\n",
        "# 3. match.span()\n",
        "\n",
        "print(match.span())"
      ],
      "execution_count": null,
      "outputs": [
        {
          "output_type": "stream",
          "text": [
            "801 35\n",
            "2\n",
            "8\n",
            "(2, 8)\n"
          ],
          "name": "stdout"
        }
      ]
    },
    {
      "cell_type": "code",
      "metadata": {
        "id": "LxJzQvP0ha49"
      },
      "source": [],
      "execution_count": null,
      "outputs": []
    },
    {
      "cell_type": "markdown",
      "metadata": {
        "id": "eXztVhfuCz1k"
      },
      "source": [
        "### METACHARACTERS"
      ]
    },
    {
      "cell_type": "code",
      "metadata": {
        "id": "zu2FNPwbB7Ft",
        "outputId": "1c34975e-bcea-4788-9cd6-4be811a56989",
        "colab": {
          "base_uri": "https://localhost:8080/",
          "height": 236
        }
      },
      "source": [
        "#1.\\\n",
        "#what if the number was of the format (415) 123-4567. Here we us \\( and \\) to indicate that () is a part of the pattern\n",
        "\n",
        "message = \"Call me at (445) 555-1234 or if not reachable then at (445) 555-4354\"\n",
        "expr = re.compile(r\"\\(\\d\\d\\d\\) (\\d\\d\\d-\\d\\d\\d\\d)\") # created 2 sep groups inside re\n",
        "mo = expr.search(message) \n",
        "mo.group()"
      ],
      "execution_count": null,
      "outputs": [
        {
          "output_type": "error",
          "ename": "NameError",
          "evalue": "ignored",
          "traceback": [
            "\u001b[0;31m---------------------------------------------------------------------------\u001b[0m",
            "\u001b[0;31mNameError\u001b[0m                                 Traceback (most recent call last)",
            "\u001b[0;32m<ipython-input-1-561fbb61c233>\u001b[0m in \u001b[0;36m<module>\u001b[0;34m()\u001b[0m\n\u001b[1;32m      3\u001b[0m \u001b[0;34m\u001b[0m\u001b[0m\n\u001b[1;32m      4\u001b[0m \u001b[0mmessage\u001b[0m \u001b[0;34m=\u001b[0m \u001b[0;34m\"Call me at (445) 555-1234 or if not reachable then at (445) 555-4354\"\u001b[0m\u001b[0;34m\u001b[0m\u001b[0;34m\u001b[0m\u001b[0m\n\u001b[0;32m----> 5\u001b[0;31m \u001b[0mexpr\u001b[0m \u001b[0;34m=\u001b[0m \u001b[0mre\u001b[0m\u001b[0;34m.\u001b[0m\u001b[0mcompile\u001b[0m\u001b[0;34m(\u001b[0m\u001b[0;34mr\"\\(\\d\\d\\d\\) (\\d\\d\\d-\\d\\d\\d\\d)\"\u001b[0m\u001b[0;34m)\u001b[0m \u001b[0;31m# created 2 sep groups inside re\u001b[0m\u001b[0;34m\u001b[0m\u001b[0;34m\u001b[0m\u001b[0m\n\u001b[0m\u001b[1;32m      6\u001b[0m \u001b[0mmo\u001b[0m \u001b[0;34m=\u001b[0m \u001b[0mexpr\u001b[0m\u001b[0;34m.\u001b[0m\u001b[0msearch\u001b[0m\u001b[0;34m(\u001b[0m\u001b[0mmessage\u001b[0m\u001b[0;34m)\u001b[0m\u001b[0;34m\u001b[0m\u001b[0;34m\u001b[0m\u001b[0m\n\u001b[1;32m      7\u001b[0m \u001b[0mmo\u001b[0m\u001b[0;34m.\u001b[0m\u001b[0mgroup\u001b[0m\u001b[0;34m(\u001b[0m\u001b[0;34m)\u001b[0m\u001b[0;34m\u001b[0m\u001b[0;34m\u001b[0m\u001b[0m\n",
            "\u001b[0;31mNameError\u001b[0m: name 're' is not defined"
          ]
        }
      ]
    },
    {
      "cell_type": "code",
      "metadata": {
        "id": "8p-cGlR1DCEc"
      },
      "source": [],
      "execution_count": null,
      "outputs": []
    },
    {
      "cell_type": "code",
      "metadata": {
        "id": "HE89aDpdfHzS"
      },
      "source": [
        "# 2. | (pipe) character\n",
        "# suppose we want to match words - batman, batmobile,batwoman, batcopter. All of them have bat as a prefix so we can write a re of the following form using \n",
        " "
      ],
      "execution_count": null,
      "outputs": []
    },
    {
      "cell_type": "code",
      "metadata": {
        "id": "Nzf-hQBCg-_Q"
      },
      "source": [],
      "execution_count": null,
      "outputs": []
    },
    {
      "cell_type": "code",
      "metadata": {
        "id": "NHQD81x2B7Fx",
        "outputId": "169b85e8-969d-4fab-bda8-f33ee357e1f1"
      },
      "source": [
        "# What to do when we want to match a certan pattern for certain number of repetitions\n",
        "# Regex has certain special characters which are used for certain specific use\n",
        "\n",
        "# 3. ? character - (0 or 1) time\n",
        "\n",
        "    # for example we want to write a re to match batwoman or batman. we can write re as (batman|batwoman)\n",
        "    \n",
        "    # we can shorten it using ? char\n",
        "\n",
        "batreg = re.compile(r'bat(wo)?man')\n",
        "gen = \"batwoman\"\n",
        "print(batreg.search(gen).group())\n",
        "\n",
        "\n",
        "# 4. * character - 0 or more times\n",
        "\n",
        "\n",
        "batreg = re.compile(r'bat(wo)*man')\n",
        "gen = \"batwowowowoman\"\n",
        "print(batreg.search(gen).group())\n",
        "\n",
        "# 5. + character - 1 or more times\n",
        "\n",
        "\n",
        "batreg = re.compile(r'bat(wo)+man')\n",
        "gen = \"batwowowowoman\"\n",
        "gen2 = \"batman\"\n",
        "print(batreg.search(gen).group())\n",
        "print(batreg.search(gen2))\n",
        "\n",
        "\n",
        "print()\n",
        "# escaping ?, * , + characters\n",
        "regexp = re.compile(r'\\?\\+\\*')\n",
        "msg = \"i learned about ?+* regex methods\"\n",
        "print(regexp.search(msg).group())\n",
        "\n",
        "print()\n",
        "\n",
        "# 6. {} character \n",
        "\n",
        "# matching specific number of repetitions in the group using {} braces\n",
        "regexp = re.compile(r'(ha){3}')\n",
        "msg = 'hahaha'\n",
        "msg2 = 'haha'\n",
        "print(regexp.search(msg))\n",
        "print(regexp.search(msg2))\n",
        "\n",
        "\n",
        "print()\n",
        "regexp = re.compile(r'(ha){3,5}') #atleast 3 and atmost 5\n",
        "msg = 'hahaha'\n",
        "msg2 = 'haha'\n",
        "msg3 = \"hahahaha\"\n",
        "print(regexp.search(msg))\n",
        "print(regexp.search(msg2))\n",
        "print(regexp.search(msg3))\n",
        "\n",
        "# uses same concept as slicing\n",
        "regexp = re.compile(r'(ha){3,}') #atleast 3 and atmost any number"
      ],
      "execution_count": null,
      "outputs": [
        {
          "output_type": "stream",
          "text": [
            "batwoman\n",
            "batwowowowoman\n",
            "batwowowowoman\n",
            "None\n",
            "\n",
            "?+*\n",
            "\n",
            "<re.Match object; span=(0, 6), match='hahaha'>\n",
            "None\n",
            "\n",
            "<re.Match object; span=(0, 6), match='hahaha'>\n",
            "None\n",
            "<re.Match object; span=(0, 8), match='hahahaha'>\n"
          ],
          "name": "stdout"
        }
      ]
    },
    {
      "cell_type": "code",
      "metadata": {
        "id": "lRMc3wluB7Fy",
        "outputId": "78860081-960c-41aa-ec99-77a548b23e68"
      },
      "source": [
        "# in python, RE does greedy matching meaning they match the longest possible string. For example\n",
        "\n",
        "reg = re.compile(r'\\d{3,5}')\n",
        "mo = reg.search('123456789')\n",
        "print(mo.group()) # it could have matched 3 or 4 chars but matched max possible char which was 5\n",
        "\n",
        "# how to do a non greedy match? \n",
        "reg = re.compile(r'\\d{3,5}?') # to do a non greedy match, put a ? (diff from above one) after such an expression\n",
        "mo = reg.search('123456789')\n",
        "print(mo.group()) \n"
      ],
      "execution_count": null,
      "outputs": [
        {
          "output_type": "stream",
          "text": [
            "12345\n",
            "123\n"
          ],
          "name": "stdout"
        }
      ]
    },
    {
      "cell_type": "code",
      "metadata": {
        "id": "wQdo1G89fLiQ"
      },
      "source": [],
      "execution_count": null,
      "outputs": []
    },
    {
      "cell_type": "markdown",
      "metadata": {
        "id": "WDq533r9fMYY"
      },
      "source": [
        "### findall() method"
      ]
    },
    {
      "cell_type": "code",
      "metadata": {
        "id": "C_5fojQJB7F0",
        "outputId": "ea17299f-2d2e-42a8-abca-0c296df6d560"
      },
      "source": [
        "\n",
        "import re\n",
        "message = \"Call me at 445-555-1234 or if not reachable then at 445-555-4354\"\n",
        "expr = re.compile(r\"\\d\\d\\d-\\d\\d\\d-\\d\\d\\d\\d\") # \\d is used for numeric digits\n",
        "\n",
        "# if the RE has 0 or 1 group in it, findall wil return a list of strings\n",
        "print(expr.findall(message)) \n",
        "\n",
        "expr = re.compile(r\"(\\d\\d\\d)-(\\d\\d\\d-\\d\\d\\d\\d)\") # \\d is used for numeric digits\n",
        "\n",
        "# if the RE has 2 or more group in it, findall wil return a list of tuples where each tuple will have orders\n",
        "print(expr.findall(message)) \n",
        "\n"
      ],
      "execution_count": null,
      "outputs": [
        {
          "output_type": "stream",
          "text": [
            "['445-555-1234', '445-555-4354']\n",
            "[('445', '555-1234'), ('445', '555-4354')]\n"
          ],
          "name": "stdout"
        }
      ]
    },
    {
      "cell_type": "code",
      "metadata": {
        "id": "ryIaAKCSfShq"
      },
      "source": [],
      "execution_count": null,
      "outputs": []
    },
    {
      "cell_type": "markdown",
      "metadata": {
        "id": "-eK4-XhXfTDS"
      },
      "source": [
        "### character classes"
      ]
    },
    {
      "cell_type": "code",
      "metadata": {
        "id": "oBoZeoX_B7F2",
        "outputId": "3a14d47d-5645-4682-aff9-fdc4a6597de8"
      },
      "source": [
        "# \\d - any numeric digit from 0 to 9\n",
        "# \\D - any character that is not numeric digit from 0 to 9\n",
        "# \\w - any letter, digit or underscore character \n",
        "# \\W - any character that is not a letter, digit or underscore character \n",
        "# \\s - any space, tab or newline character\n",
        "# \\S - any character that is not a space, tab or newline character\n",
        "\n",
        "# HOW TO MAKE YOUR OWN CHARACTER CLASSES?\n",
        "# ANS - using [] brackets - square brackets specifies a set of characters you wish to match.\n",
        "\n",
        "# for example, we want to have a RE to match vowels, we can either write is as (a|e|i|o|u) or\n",
        "\n",
        "vowelre = re.compile(r'[aeiou]')\n",
        "word = 'hippopotamus'\n",
        "print(vowelre.findall(word))\n",
        "\n",
        "# lets say we want to identify all the lowercase letters\n",
        "sentence = \"THis Is A Mix SenTeNCe\"\n",
        "vowelre = re.compile(r'[a-z]')\n",
        "print(vowelre.findall(sentence))\n",
        "# we can use notation like [a-f] to find a specific set of alphabets also\n",
        "\n",
        "sentence = \"THis Is A Mix SenTeNCe\"\n",
        "vowelre = re.compile(r'[a-zA-Z]') #both capital and lowercase letters\n",
        "print(vowelre.findall(sentence))\n",
        "\n",
        "# now we can combine [] brackets with other special characters\n",
        "sentence = \"robocop eats baby food\"\n",
        "vowelre = re.compile(r'[aeiou]{2}') #meaning 2 vowels should come together\n",
        "print(vowelre.findall(sentence))\n",
        "\n",
        "# NEGATIVE CHARACTER CLASS\n",
        "# by adding a caret (^) symbol, we make  a negative character class. For example\n",
        "\n",
        "vowelre = re.compile(r'[^aeiou]')\n",
        "word = 'hippopotamus'\n",
        "print(vowelre.findall(word)) #prints all the consonants\n"
      ],
      "execution_count": null,
      "outputs": [
        {
          "output_type": "stream",
          "text": [
            "['i', 'o', 'o', 'a', 'u']\n",
            "['i', 's', 's', 'i', 'x', 'e', 'n', 'e', 'e']\n",
            "['T', 'H', 'i', 's', 'I', 's', 'A', 'M', 'i', 'x', 'S', 'e', 'n', 'T', 'e', 'N', 'C', 'e']\n",
            "['ea', 'oo']\n",
            "['h', 'p', 'p', 'p', 't', 'm', 's']\n"
          ],
          "name": "stdout"
        }
      ]
    },
    {
      "cell_type": "code",
      "metadata": {
        "id": "2Vnkz1rWfXbg"
      },
      "source": [],
      "execution_count": null,
      "outputs": []
    },
    {
      "cell_type": "markdown",
      "metadata": {
        "id": "s8A_IaaDfXte"
      },
      "source": [
        "### (^) symbol and ($) symbol\n"
      ]
    },
    {
      "cell_type": "code",
      "metadata": {
        "id": "AYwetFOVB7F4",
        "outputId": "0bac0c5a-2dc0-4395-938a-cb39592510fd"
      },
      "source": [
        "\n",
        "# The caret symbol ^ is used to check if a string starts with a certain character.\n",
        "# The dollar symbol $ is used to check if a string ends with a certain character.\n",
        "\n",
        "msg1 = 'hello my name is vedant'\n",
        "msg2 = 'hello, how are you vedant'\n",
        "msg3 = 'a hello a day.'\n",
        "\n",
        "exreg = re.compile(r'^hello')\n",
        "print(exreg.match(msg1))\n",
        "print(exreg.match(msg2))\n",
        "print(exreg.match(msg3))\n",
        "\n",
        "print()\n",
        "exreg = re.compile(r'vedant$')\n",
        "print(exreg.search(msg1))\n",
        "print(exreg.search(msg2))\n",
        "print(exreg.search(msg3))\n",
        "\n",
        "\n",
        "# regex to search an all digit word\n",
        "print()\n",
        "exreg = re.compile(r'^\\d+$')\n",
        "print(exreg.search('11234'))\n",
        "print(exreg.search('1123a'))"
      ],
      "execution_count": null,
      "outputs": [
        {
          "output_type": "stream",
          "text": [
            "<re.Match object; span=(0, 5), match='hello'>\n",
            "<re.Match object; span=(0, 5), match='hello'>\n",
            "None\n",
            "\n",
            "<re.Match object; span=(17, 23), match='vedant'>\n",
            "<re.Match object; span=(19, 25), match='vedant'>\n",
            "None\n",
            "\n",
            "<re.Match object; span=(0, 5), match='11234'>\n",
            "None\n"
          ],
          "name": "stdout"
        }
      ]
    },
    {
      "cell_type": "code",
      "metadata": {
        "id": "IVJrsY1Nfevj"
      },
      "source": [],
      "execution_count": null,
      "outputs": []
    },
    {
      "cell_type": "markdown",
      "metadata": {
        "id": "l7GEqWM9ffGT"
      },
      "source": [
        "### wildcard character - (.)"
      ]
    },
    {
      "cell_type": "code",
      "metadata": {
        "id": "nigeWhnoB7F5",
        "outputId": "99353416-3d57-4b5c-a754-de9cf03e5a97"
      },
      "source": [
        "# wildcard dot(.) character \n",
        "# stands for any character except newline character (\\n)\n",
        "\n",
        "exreg = re.compile(r'.at')\n",
        "print(exreg.findall(\"the cat in the hat sat on the flat mat.\"))\n",
        "\n",
        "# if you notice the above o/p, flat is not matched as the dot character only looks for a single character\n",
        "exreg = re.compile(r'..at')\n",
        "print(exreg.findall(\"the cat in the hat sat on the flat mat.\"))\n",
        "# the same thing can be written as \n",
        "exreg = re.compile(r'.{1,2}at')\n",
        "print(exreg.findall(\"the cat in the hat sat on the flat mat.\"))"
      ],
      "execution_count": null,
      "outputs": [
        {
          "output_type": "stream",
          "text": [
            "['cat', 'hat', 'sat', 'lat', 'mat']\n",
            "[' cat', ' hat', ' sat', 'flat', ' mat']\n",
            "[' cat', ' hat', ' sat', 'flat', ' mat']\n"
          ],
          "name": "stdout"
        }
      ]
    },
    {
      "cell_type": "code",
      "metadata": {
        "id": "YVrU3Ip0B7F6",
        "outputId": "2317efde-5086-47e8-ffc5-b65001fcf9e9"
      },
      "source": [
        "# dot star wildcard character (.*) \n",
        "# dot means any character and * means 0 or more times so dot star character means any pattern whatsoever\n",
        "\n",
        "# example:\n",
        "\n",
        "str = \"First name: Vedant Last name: Barbhaya\"\n",
        "# how to get the first name and last name of a person from such a string\n",
        "regexp = re.compile(r'First name: (.*) Last name: (.*)')\n",
        "mo = regexp.search(str)\n",
        "print(mo.group(1))\n",
        "print(mo.group(2))"
      ],
      "execution_count": null,
      "outputs": [
        {
          "output_type": "stream",
          "text": [
            "Vedant\n",
            "Barbhaya\n"
          ],
          "name": "stdout"
        }
      ]
    },
    {
      "cell_type": "code",
      "metadata": {
        "id": "cvvqWZOFB7F9",
        "outputId": "b974444f-ea66-4d44-996a-053bd636234b"
      },
      "source": [
        "# .* is a greedy match. .*? is the same implementation of it in a non greedy way\n",
        "#example\n",
        "\n",
        "serve = '<to serve fish> in the dinner>'\n",
        "#non greedy approach\n",
        "regexp = re.compile('<.*?>')\n",
        "print(regexp.findall(serve))\n",
        "\n",
        "#greedy aproach\n",
        "print()\n",
        "regexp = re.compile('<.*>')\n",
        "print(regexp.findall(serve))"
      ],
      "execution_count": null,
      "outputs": [
        {
          "output_type": "stream",
          "text": [
            "['<to serve fish>']\n",
            "\n",
            "['<to serve fish> in the dinner>']\n"
          ],
          "name": "stdout"
        }
      ]
    },
    {
      "cell_type": "code",
      "metadata": {
        "id": "bJTyY7mRB7F_",
        "outputId": "e8b7e251-2e3d-441b-8ad0-d90aa6cea17b"
      },
      "source": [
        "# How to include newline char in the dot method\n",
        "\n",
        "primedir = \"serve the public.\\nHelp the innocent.\\nUphold the law.\"\n",
        "print(primedir)\n",
        "regexp = re.compile(r'.*',re.DOTALL) # we pass one more argument to the regular expression\n",
        "print(regexp.search(primedir))\n",
        "\n",
        "# another imp argument is re.IGNORECASE which as the name suggests, ignores the case of the string"
      ],
      "execution_count": null,
      "outputs": [
        {
          "output_type": "stream",
          "text": [
            "serve the public.\n",
            "Help the innocent.\n",
            "Uphold the law.\n",
            "<re.Match object; span=(0, 52), match='serve the public.\\nHelp the innocent.\\nUphold the>\n"
          ],
          "name": "stdout"
        }
      ]
    },
    {
      "cell_type": "code",
      "metadata": {
        "id": "deIiqdTNgg_G"
      },
      "source": [],
      "execution_count": null,
      "outputs": []
    },
    {
      "cell_type": "markdown",
      "metadata": {
        "id": "yBEblgnnghMr"
      },
      "source": [
        "### sub() method"
      ]
    },
    {
      "cell_type": "code",
      "metadata": {
        "id": "7rDcXZX0B7GB",
        "outputId": "f50a2678-3d77-496a-e012-a32f5d40208c"
      },
      "source": [
        "\n",
        "\n",
        "# this is like a find and substitute method\n",
        "# 2 ways to use to it:\n",
        "# The syntax of re.sub() is:\n",
        "\n",
        "# re.sub(pattern, replace, string)\n",
        "\n",
        "import re\n",
        "\n",
        "# multiline string\n",
        "string = 'abc 12\\\n",
        "de 23 \\n f45 6'\n",
        "\n",
        "# matches all whitespace characters\n",
        "pattern = '\\s+'\n",
        "\n",
        "# empty string\n",
        "replace = ''\n",
        "\n",
        "new_string = re.sub(pattern, replace, string) \n",
        "print(new_string)\n",
        "\n",
        "# can also be used like this\n",
        "\n",
        "pattern = re.compile(\"\\s+\")\n",
        "print(pattern.sub(replace, string))\n",
        "\n",
        "# using \\1, \\2 to select groups to substitute\n",
        "\n",
        "namesRegex = re.compile(r\"Agent (\\w)(\\w*)\")\n",
        "namesRegex.sub(r\"Agent \\1****\",\"Agent alice gave the secret documents to Agent Bob\")"
      ],
      "execution_count": null,
      "outputs": [
        {
          "output_type": "stream",
          "text": [
            "abc12de23f456\n",
            "abc12de23f456\n"
          ],
          "name": "stdout"
        },
        {
          "output_type": "execute_result",
          "data": {
            "text/plain": [
              "'Agent a**** gave the secret documents to Agent B****'"
            ]
          },
          "metadata": {
            "tags": []
          },
          "execution_count": 8
        }
      ]
    }
  ]
}